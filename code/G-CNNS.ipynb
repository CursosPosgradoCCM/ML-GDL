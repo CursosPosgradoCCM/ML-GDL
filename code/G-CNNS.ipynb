{
 "cells": [
  {
   "cell_type": "code",
   "execution_count": 46,
   "id": "bad6536b-fcaa-4b93-b096-970818d2ba39",
   "metadata": {
    "collapsed": true,
    "jupyter": {
     "outputs_hidden": true,
     "source_hidden": true
    },
    "scrolled": true
   },
   "outputs": [
    {
     "name": "stdout",
     "output_type": "stream",
     "text": [
      "Defaulting to user installation because normal site-packages is not writeable\n",
      "Collecting e2cnn\n",
      "  Downloading e2cnn-0.2.3-py3-none-any.whl.metadata (15 kB)\n",
      "Requirement already satisfied: torch in /home/jupyter-user5/.local/lib/python3.7/site-packages (from e2cnn) (1.13.1+cpu)\n",
      "Requirement already satisfied: numpy in /opt/conda/envs/TDA/lib/python3.7/site-packages (from e2cnn) (1.21.6)\n",
      "Requirement already satisfied: scipy in /opt/conda/envs/TDA/lib/python3.7/site-packages (from e2cnn) (1.7.3)\n",
      "Collecting sympy (from e2cnn)\n",
      "  Downloading sympy-1.10.1-py3-none-any.whl.metadata (12 kB)\n",
      "Requirement already satisfied: mpmath>=0.19 in /opt/conda/envs/TDA/lib/python3.7/site-packages (from sympy->e2cnn) (1.2.1)\n",
      "Requirement already satisfied: typing-extensions in /opt/conda/envs/TDA/lib/python3.7/site-packages (from torch->e2cnn) (4.4.0)\n",
      "Downloading e2cnn-0.2.3-py3-none-any.whl (225 kB)\n",
      "\u001b[2K   \u001b[90m━━━━━━━━━━━━━━━━━━━━━━━━━━━━━━━━━━━━━━━━\u001b[0m \u001b[32m225.3/225.3 kB\u001b[0m \u001b[31m1.9 MB/s\u001b[0m eta \u001b[36m0:00:00\u001b[0m00:01\u001b[0m00:01\u001b[0m\n",
      "\u001b[?25hDownloading sympy-1.10.1-py3-none-any.whl (6.4 MB)\n",
      "\u001b[2K   \u001b[90m━━━━━━━━━━━━━━━━━━━━━━━━━━━━━━━━━━━━━━━━\u001b[0m \u001b[32m6.4/6.4 MB\u001b[0m \u001b[31m29.2 MB/s\u001b[0m eta \u001b[36m0:00:00\u001b[0ma \u001b[36m0:00:01\u001b[0m\n",
      "\u001b[?25hInstalling collected packages: sympy, e2cnn\n",
      "\u001b[33m  WARNING: The script isympy is installed in '/home/jupyter-user5/.local/bin' which is not on PATH.\n",
      "  Consider adding this directory to PATH or, if you prefer to suppress this warning, use --no-warn-script-location.\u001b[0m\u001b[33m\n",
      "\u001b[0mSuccessfully installed e2cnn-0.2.3 sympy-1.10.1\n",
      "Note: you may need to restart the kernel to use updated packages.\n"
     ]
    }
   ],
   "source": [
    "pip install e2cnn\n"
   ]
  },
  {
   "cell_type": "code",
   "execution_count": 1,
   "id": "559eb38a-b3c7-40d4-be17-a5f8d1613282",
   "metadata": {
    "collapsed": true,
    "jupyter": {
     "outputs_hidden": true,
     "source_hidden": true
    },
    "scrolled": true
   },
   "outputs": [
    {
     "name": "stdout",
     "output_type": "stream",
     "text": [
      "Defaulting to user installation because normal site-packages is not writeable\n",
      "Collecting torch\n",
      "  Downloading torch-1.13.1-cp37-cp37m-manylinux1_x86_64.whl.metadata (24 kB)\n",
      "Collecting torch-geometric\n",
      "  Downloading torch_geometric-2.3.1.tar.gz (661 kB)\n",
      "\u001b[2K     \u001b[90m━━━━━━━━━━━━━━━━━━━━━━━━━━━━━━━━━━━━━━━\u001b[0m \u001b[32m661.6/661.6 kB\u001b[0m \u001b[31m4.2 MB/s\u001b[0m eta \u001b[36m0:00:00\u001b[0m00:01\u001b[0m00:01\u001b[0m\n",
      "\u001b[?25h  Installing build dependencies ... \u001b[?25ldone\n",
      "\u001b[?25h  Getting requirements to build wheel ... \u001b[?25ldone\n",
      "\u001b[?25h  Installing backend dependencies ... \u001b[?25ldone\n",
      "\u001b[?25h  Preparing metadata (pyproject.toml) ... \u001b[?25ldone\n",
      "\u001b[?25hCollecting torch-sparse\n",
      "  Downloading torch_sparse-0.6.17.tar.gz (209 kB)\n",
      "\u001b[2K     \u001b[90m━━━━━━━━━━━━━━━━━━━━━━━━━━━━━━━━━━━━━━\u001b[0m \u001b[32m209.2/209.2 kB\u001b[0m \u001b[31m34.4 MB/s\u001b[0m eta \u001b[36m0:00:00\u001b[0m\n",
      "\u001b[?25h  Preparing metadata (setup.py) ... \u001b[?25lerror\n",
      "  \u001b[1;31merror\u001b[0m: \u001b[1msubprocess-exited-with-error\u001b[0m\n",
      "  \n",
      "  \u001b[31m×\u001b[0m \u001b[32mpython setup.py egg_info\u001b[0m did not run successfully.\n",
      "  \u001b[31m│\u001b[0m exit code: \u001b[1;36m1\u001b[0m\n",
      "  \u001b[31m╰─>\u001b[0m \u001b[31m[6 lines of output]\u001b[0m\n",
      "  \u001b[31m   \u001b[0m Traceback (most recent call last):\n",
      "  \u001b[31m   \u001b[0m   File \"<string>\", line 36, in <module>\n",
      "  \u001b[31m   \u001b[0m   File \"<pip-setuptools-caller>\", line 34, in <module>\n",
      "  \u001b[31m   \u001b[0m   File \"/tmp/pip-install-wjlimfuq/torch-sparse_b90b9464a89d4a519b46b253303069cd/setup.py\", line 8, in <module>\n",
      "  \u001b[31m   \u001b[0m     import torch\n",
      "  \u001b[31m   \u001b[0m ModuleNotFoundError: No module named 'torch'\n",
      "  \u001b[31m   \u001b[0m \u001b[31m[end of output]\u001b[0m\n",
      "  \n",
      "  \u001b[1;35mnote\u001b[0m: This error originates from a subprocess, and is likely not a problem with pip.\n",
      "\u001b[1;31merror\u001b[0m: \u001b[1mmetadata-generation-failed\u001b[0m\n",
      "\n",
      "\u001b[31m×\u001b[0m Encountered error while generating package metadata.\n",
      "\u001b[31m╰─>\u001b[0m See above for output.\n",
      "\n",
      "\u001b[1;35mnote\u001b[0m: This is an issue with the package mentioned above, not pip.\n",
      "\u001b[1;36mhint\u001b[0m: See above for details.\n",
      "\u001b[?25hNote: you may need to restart the kernel to use updated packages.\n"
     ]
    }
   ],
   "source": [
    "pip install torch torch-geometric torch-sparse torch-scatter\n"
   ]
  },
  {
   "cell_type": "code",
   "execution_count": 2,
   "id": "ccbf694f-e8c1-41ab-98e7-886c3f8eff2c",
   "metadata": {
    "collapsed": true,
    "jupyter": {
     "outputs_hidden": true,
     "source_hidden": true
    },
    "scrolled": true
   },
   "outputs": [
    {
     "name": "stdout",
     "output_type": "stream",
     "text": [
      "Defaulting to user installation because normal site-packages is not writeable\n",
      "Looking in indexes: https://download.pytorch.org/whl/cpu\n",
      "Collecting torch\n",
      "  Downloading https://download.pytorch.org/whl/cpu/torch-1.13.1%2Bcpu-cp37-cp37m-linux_x86_64.whl (199.1 MB)\n",
      "\u001b[2K     \u001b[90m━━━━━━━━━━━━━━━━━━━━━━━━━━━━━━━━━━━━━━\u001b[0m \u001b[32m199.1/199.1 MB\u001b[0m \u001b[31m27.2 MB/s\u001b[0m eta \u001b[36m0:00:00\u001b[0m00:01\u001b[0m00:01\u001b[0m\n",
      "\u001b[?25hCollecting torchvision\n",
      "  Downloading https://download.pytorch.org/whl/cpu/torchvision-0.14.1%2Bcpu-cp37-cp37m-linux_x86_64.whl (16.8 MB)\n",
      "\u001b[2K     \u001b[90m━━━━━━━━━━━━━━━━━━━━━━━━━━━━━━━━━━━━━━━━\u001b[0m \u001b[32m16.8/16.8 MB\u001b[0m \u001b[31m55.4 MB/s\u001b[0m eta \u001b[36m0:00:00\u001b[0m00:01\u001b[0m00:01\u001b[0m\n",
      "\u001b[?25hCollecting torchaudio\n",
      "  Downloading https://download.pytorch.org/whl/cpu/torchaudio-0.13.1%2Bcpu-cp37-cp37m-linux_x86_64.whl (4.0 MB)\n",
      "\u001b[2K     \u001b[90m━━━━━━━━━━━━━━━━━━━━━━━━━━━━━━━━━━━━━━━━\u001b[0m \u001b[32m4.0/4.0 MB\u001b[0m \u001b[31m11.0 MB/s\u001b[0m eta \u001b[36m0:00:00\u001b[0ma \u001b[36m0:00:01\u001b[0m\n",
      "\u001b[?25hRequirement already satisfied: typing-extensions in /opt/conda/envs/TDA/lib/python3.7/site-packages (from torch) (4.4.0)\n",
      "Requirement already satisfied: numpy in /opt/conda/envs/TDA/lib/python3.7/site-packages (from torchvision) (1.21.6)\n",
      "Requirement already satisfied: requests in /opt/conda/envs/TDA/lib/python3.7/site-packages (from torchvision) (2.28.1)\n",
      "Requirement already satisfied: pillow!=8.3.*,>=5.3.0 in /opt/conda/envs/TDA/lib/python3.7/site-packages (from torchvision) (9.4.0)\n",
      "Requirement already satisfied: charset-normalizer<3,>=2 in /opt/conda/envs/TDA/lib/python3.7/site-packages (from requests->torchvision) (2.1.1)\n",
      "Requirement already satisfied: idna<4,>=2.5 in /opt/conda/envs/TDA/lib/python3.7/site-packages (from requests->torchvision) (3.4)\n",
      "Requirement already satisfied: urllib3<1.27,>=1.21.1 in /opt/conda/envs/TDA/lib/python3.7/site-packages (from requests->torchvision) (1.26.11)\n",
      "Requirement already satisfied: certifi>=2017.4.17 in /opt/conda/envs/TDA/lib/python3.7/site-packages (from requests->torchvision) (2024.8.30)\n",
      "Installing collected packages: torch, torchvision, torchaudio\n",
      "\u001b[33m  WARNING: The scripts convert-caffe2-to-onnx, convert-onnx-to-caffe2 and torchrun are installed in '/home/jupyter-user5/.local/bin' which is not on PATH.\n",
      "  Consider adding this directory to PATH or, if you prefer to suppress this warning, use --no-warn-script-location.\u001b[0m\u001b[33m\n",
      "\u001b[0mSuccessfully installed torch-1.13.1+cpu torchaudio-0.13.1+cpu torchvision-0.14.1+cpu\n",
      "Note: you may need to restart the kernel to use updated packages.\n"
     ]
    }
   ],
   "source": [
    "pip install torch torchvision torchaudio --index-url https://download.pytorch.org/whl/cpu\n"
   ]
  },
  {
   "cell_type": "code",
   "execution_count": 1,
   "id": "3bf95f38-f4bb-4d7a-a196-70bf263ca56d",
   "metadata": {
    "collapsed": true,
    "jupyter": {
     "outputs_hidden": true,
     "source_hidden": true
    },
    "scrolled": true
   },
   "outputs": [
    {
     "name": "stdout",
     "output_type": "stream",
     "text": [
      "Defaulting to user installation because normal site-packages is not writeable\n",
      "Requirement already satisfied: pip in /home/jupyter-user5/.local/lib/python3.7/site-packages (24.0)\n",
      "Requirement already satisfied: setuptools in /opt/conda/envs/TDA/lib/python3.7/site-packages (65.6.3)\n",
      "Collecting setuptools\n",
      "  Using cached setuptools-68.0.0-py3-none-any.whl.metadata (6.4 kB)\n",
      "Requirement already satisfied: wheel in /opt/conda/envs/TDA/lib/python3.7/site-packages (0.37.1)\n",
      "Collecting wheel\n",
      "  Using cached wheel-0.42.0-py3-none-any.whl.metadata (2.2 kB)\n",
      "Using cached setuptools-68.0.0-py3-none-any.whl (804 kB)\n",
      "Using cached wheel-0.42.0-py3-none-any.whl (65 kB)\n",
      "Installing collected packages: wheel, setuptools\n",
      "\u001b[33m  WARNING: The script wheel is installed in '/home/jupyter-user5/.local/bin' which is not on PATH.\n",
      "  Consider adding this directory to PATH or, if you prefer to suppress this warning, use --no-warn-script-location.\u001b[0m\u001b[33m\n",
      "\u001b[0mSuccessfully installed setuptools-68.0.0 wheel-0.42.0\n",
      "Note: you may need to restart the kernel to use updated packages.\n"
     ]
    }
   ],
   "source": [
    "pip install --upgrade pip setuptools wheel\n"
   ]
  },
  {
   "cell_type": "code",
   "execution_count": 2,
   "id": "97f8aecf-a0ba-479f-88ab-215279dd6471",
   "metadata": {
    "collapsed": true,
    "jupyter": {
     "outputs_hidden": true
    },
    "scrolled": true
   },
   "outputs": [
    {
     "name": "stdout",
     "output_type": "stream",
     "text": [
      "Defaulting to user installation because normal site-packages is not writeable\n",
      "Collecting torch-scatter\n",
      "  Downloading torch_scatter-2.1.1.tar.gz (107 kB)\n",
      "\u001b[2K     \u001b[90m━━━━━━━━━━━━━━━━━━━━━━━━━━━━━━━━━━━━━\u001b[0m \u001b[32m107.6/107.6 kB\u001b[0m \u001b[31m786.7 kB/s\u001b[0m eta \u001b[36m0:00:00\u001b[0ma \u001b[36m0:00:01\u001b[0m\n",
      "\u001b[?25h  Preparing metadata (setup.py) ... \u001b[?25ldone\n",
      "\u001b[?25hCollecting torch-sparse\n",
      "  Using cached torch_sparse-0.6.17.tar.gz (209 kB)\n",
      "  Preparing metadata (setup.py) ... \u001b[?25ldone\n",
      "\u001b[?25hCollecting torch-cluster\n",
      "  Downloading torch_cluster-1.6.1.tar.gz (53 kB)\n",
      "\u001b[2K     \u001b[90m━━━━━━━━━━━━━━━━━━━━━━━━━━━━━━━━━━━━━━━━\u001b[0m \u001b[32m53.8/53.8 kB\u001b[0m \u001b[31m1.5 MB/s\u001b[0m eta \u001b[36m0:00:00\u001b[0m\n",
      "\u001b[?25h  Preparing metadata (setup.py) ... \u001b[?25ldone\n",
      "\u001b[?25hCollecting torch-spline-conv\n",
      "  Downloading torch_spline_conv-1.2.2.tar.gz (25 kB)\n",
      "  Preparing metadata (setup.py) ... \u001b[?25ldone\n",
      "\u001b[?25hCollecting torch-geometric\n",
      "  Using cached torch_geometric-2.3.1.tar.gz (661 kB)\n",
      "  Installing build dependencies ... \u001b[?25ldone\n",
      "\u001b[?25h  Getting requirements to build wheel ... \u001b[?25ldone\n",
      "\u001b[?25h  Installing backend dependencies ... \u001b[?25ldone\n",
      "\u001b[?25h  Preparing metadata (pyproject.toml) ... \u001b[?25ldone\n",
      "\u001b[?25hRequirement already satisfied: scipy in /opt/conda/envs/TDA/lib/python3.7/site-packages (from torch-sparse) (1.7.3)\n",
      "Requirement already satisfied: tqdm in /home/jupyter-user5/.local/lib/python3.7/site-packages (from torch-geometric) (4.66.5)\n",
      "Requirement already satisfied: numpy in /opt/conda/envs/TDA/lib/python3.7/site-packages (from torch-geometric) (1.21.6)\n",
      "Requirement already satisfied: jinja2 in /opt/conda/envs/TDA/lib/python3.7/site-packages (from torch-geometric) (3.1.2)\n",
      "Requirement already satisfied: requests in /opt/conda/envs/TDA/lib/python3.7/site-packages (from torch-geometric) (2.28.1)\n",
      "Requirement already satisfied: pyparsing in /opt/conda/envs/TDA/lib/python3.7/site-packages (from torch-geometric) (3.0.9)\n",
      "Requirement already satisfied: scikit-learn in /opt/conda/envs/TDA/lib/python3.7/site-packages (from torch-geometric) (1.0.2)\n",
      "Requirement already satisfied: psutil>=5.8.0 in /opt/conda/envs/TDA/lib/python3.7/site-packages (from torch-geometric) (5.9.2)\n",
      "Requirement already satisfied: MarkupSafe>=2.0 in /opt/conda/envs/TDA/lib/python3.7/site-packages (from jinja2->torch-geometric) (2.1.1)\n",
      "Requirement already satisfied: charset-normalizer<3,>=2 in /opt/conda/envs/TDA/lib/python3.7/site-packages (from requests->torch-geometric) (2.1.1)\n",
      "Requirement already satisfied: idna<4,>=2.5 in /opt/conda/envs/TDA/lib/python3.7/site-packages (from requests->torch-geometric) (3.4)\n",
      "Requirement already satisfied: urllib3<1.27,>=1.21.1 in /opt/conda/envs/TDA/lib/python3.7/site-packages (from requests->torch-geometric) (1.26.11)\n",
      "Requirement already satisfied: certifi>=2017.4.17 in /opt/conda/envs/TDA/lib/python3.7/site-packages (from requests->torch-geometric) (2024.8.30)\n",
      "Requirement already satisfied: joblib>=0.11 in /opt/conda/envs/TDA/lib/python3.7/site-packages (from scikit-learn->torch-geometric) (1.2.0)\n",
      "Requirement already satisfied: threadpoolctl>=2.0.0 in /opt/conda/envs/TDA/lib/python3.7/site-packages (from scikit-learn->torch-geometric) (3.1.0)\n",
      "Building wheels for collected packages: torch-scatter, torch-sparse, torch-cluster, torch-spline-conv, torch-geometric\n",
      "  Building wheel for torch-scatter (setup.py) ... \u001b[?25ldone\n",
      "\u001b[?25h  Created wheel for torch-scatter: filename=torch_scatter-2.1.1-cp37-cp37m-linux_x86_64.whl size=485258 sha256=0772506bbf08332579a2e6c385a99b003973bb5f6e63f024cc0ad836754f4a28\n",
      "  Stored in directory: /home/jupyter-user5/.cache/pip/wheels/4f/67/e1/27db5e63a3cda9d1237b50015fa2e7846711d65888ce83ba2f\n",
      "  Building wheel for torch-sparse (setup.py) ... \u001b[?25ldone\n",
      "\u001b[?25h  Created wheel for torch-sparse: filename=torch_sparse-0.6.17-cp37-cp37m-linux_x86_64.whl size=1033449 sha256=1b1beeb615978055c6720e29f836834f036e7986a5c58b4e8e71360821816ffe\n",
      "  Stored in directory: /home/jupyter-user5/.cache/pip/wheels/db/51/fe/3abf5dda2cbc79ece62720bf9ff71a56626ff510bc59d5cfa1\n",
      "  Building wheel for torch-cluster (setup.py) ... \u001b[?25ldone\n",
      "\u001b[?25h  Created wheel for torch-cluster: filename=torch_cluster-1.6.1-cp37-cp37m-linux_x86_64.whl size=699502 sha256=2641dc410d7d366bddd60a503c2a1370cebc65dd38138174baf7eef1391a8478\n",
      "  Stored in directory: /home/jupyter-user5/.cache/pip/wheels/a2/44/33/8651ab2ce799fb175216388316f5bfd5ee5ca7e9728d1191b6\n",
      "  Building wheel for torch-spline-conv (setup.py) ... \u001b[?25ldone\n",
      "\u001b[?25h  Created wheel for torch-spline-conv: filename=torch_spline_conv-1.2.2-cp37-cp37m-linux_x86_64.whl size=198986 sha256=d5c072a1528c396e76730a706ff9e3576c678be0454fc9f86a55b67d87b589d2\n",
      "  Stored in directory: /home/jupyter-user5/.cache/pip/wheels/89/a1/08/0d083f90c923f9e650977718fce0c973cc99a5415102078e24\n",
      "  Building wheel for torch-geometric (pyproject.toml) ... \u001b[?25ldone\n",
      "\u001b[?25h  Created wheel for torch-geometric: filename=torch_geometric-2.3.1-py3-none-any.whl size=910453 sha256=e1dd0036c7b1d7b21c1befd9b79bd3a91299cdb2f585c4fba4de285ab816122f\n",
      "  Stored in directory: /home/jupyter-user5/.cache/pip/wheels/0b/ad/62/8bc3dda54b069f0b7072a64fba0c48f5cdb1572daf2e6ceaa3\n",
      "Successfully built torch-scatter torch-sparse torch-cluster torch-spline-conv torch-geometric\n",
      "Installing collected packages: torch-spline-conv, torch-scatter, torch-sparse, torch-cluster, torch-geometric\n",
      "Successfully installed torch-cluster-1.6.1 torch-geometric-2.3.1 torch-scatter-2.1.1 torch-sparse-0.6.17 torch-spline-conv-1.2.2\n",
      "Note: you may need to restart the kernel to use updated packages.\n"
     ]
    }
   ],
   "source": [
    "pip install torch-scatter torch-sparse torch-cluster torch-spline-conv torch-geometric"
   ]
  },
  {
   "cell_type": "markdown",
   "id": "f8e3663f-8d73-4297-9b93-cec71311711d",
   "metadata": {
    "jupyter": {
     "source_hidden": true
    }
   },
   "source": [
    "# Descripción de Bibliotecas para Aprendizaje Profundo\n",
    "\n",
    "## **1. `torch`**\n",
    "La biblioteca base de PyTorch, utilizada para:\n",
    "- Crear y manejar **tensores** (estructuras multidimensionales optimizadas para GPU).\n",
    "- Realizar cálculos matemáticos en CPU o GPU.\n",
    "- Definir y entrenar modelos de aprendizaje profundo.\n",
    "\n",
    "---\n",
    "\n",
    "## **2. `torch.nn`**\n",
    "Herramientas para construir redes neuronales:\n",
    "- **Capas predefinidas**: `Linear`, `Conv2d`, `LSTM`, etc.\n",
    "- **Funciones de pérdida**: `CrossEntropyLoss`, `MSELoss`.\n",
    "- **Optimizadores** para actualizar pesos durante el entrenamiento.\n",
    "\n",
    "**Ejemplo:**\n",
    "```python\n",
    "layer = nn.Linear(in_features=128, out_features=64)\n",
    "\n",
    "---\n",
    "\n",
    "## **3. `torch.nn.functional` (F)**\n",
    "Proporciona funciones específicas para redes neuronales, como:\n",
    "- Funciones de activación: `F.relu()`.\n",
    "- Operaciones matemáticas directamente sobre tensores.\n",
    "\n",
    "**Ejemplo:**\n",
    "```python\n",
    "output = F.relu(input_tensor)\n",
    "\n",
    "## **4. `torch.utils.data.DataLoader`**\n",
    "Carga y organiza los datos de forma eficiente:\n",
    "- Divide los datos en **minibatches**.\n",
    "- Mezcla los datos (shuffling).\n",
    "- Facilita el manejo de grandes datasets.\n",
    "\n",
    "**Ejemplo:**\n",
    "```python\n",
    "data_loader = DataLoader(dataset, batch_size=32, shuffle=True)\n",
    "\n",
    "## **5. `torchvision.datasets`**\n",
    "Incluye **datasets predefinidos** para tareas de visión por computadora:\n",
    "- MNIST, CIFAR-10, ImageNet.\n",
    "- Descarga y carga sencilla de datasets.\n",
    "\n",
    "**Ejemplo:**\n",
    "```python\n",
    "mnist_dataset = datasets.MNIST(root='./data', train=True, download=True, transform=transforms.ToTensor())\n",
    "\n",
    "## **6. `torchvision.transforms`**\n",
    "Proporciona **transformaciones comunes** para preprocesar imágenes:\n",
    "- Conversión a tensores: `ToTensor`.\n",
    "- Normalización: `Normalize`.\n",
    "- Aumentación de datos: `RandomCrop`, `RandomRotation`.\n",
    "\n",
    "**Ejemplo:**\n",
    "```python\n",
    "transform = transforms.Compose([transforms.ToTensor(), transforms.Normalize((0.5,), (0.5,))])\n",
    "\n"
   ]
  },
  {
   "cell_type": "code",
   "execution_count": null,
   "id": "ca846eec-9bbf-4859-a98a-b4a6ddd8eec1",
   "metadata": {},
   "outputs": [],
   "source": []
  },
  {
   "cell_type": "code",
   "execution_count": 20,
   "id": "711a3fa2-9ccc-4061-bb80-19837d47c4a4",
   "metadata": {},
   "outputs": [],
   "source": [
    "import torch\n",
    "import torch.nn as nn\n",
    "import torch.nn.functional as F\n",
    "from torch.utils.data import DataLoader\n",
    "from torchvision import datasets, transforms\n",
    "import matplotlib.pyplot as plt"
   ]
  },
  {
   "cell_type": "code",
   "execution_count": 21,
   "id": "fd888d93-2e2a-4593-8f6d-78ecbe96d853",
   "metadata": {},
   "outputs": [],
   "source": [
    "# Transformaciones para normalizar las imágenes de MNIST\n",
    "transform = transforms.Compose([\n",
    "    transforms.ToTensor(),\n",
    "    transforms.Normalize((0.5,), (0.5,))  # Normalizar entre -1 y 1\n",
    "])"
   ]
  },
  {
   "cell_type": "code",
   "execution_count": 8,
   "id": "ab9670f6-277d-4904-9d89-f523dde1e824",
   "metadata": {
    "scrolled": true
   },
   "outputs": [
    {
     "name": "stdout",
     "output_type": "stream",
     "text": [
      "Downloading http://yann.lecun.com/exdb/mnist/train-images-idx3-ubyte.gz\n",
      "Failed to download (trying next):\n",
      "HTTP Error 403: Forbidden\n",
      "\n",
      "Downloading https://ossci-datasets.s3.amazonaws.com/mnist/train-images-idx3-ubyte.gz\n",
      "Downloading https://ossci-datasets.s3.amazonaws.com/mnist/train-images-idx3-ubyte.gz to data/MNIST/raw/train-images-idx3-ubyte.gz\n"
     ]
    },
    {
     "data": {
      "application/vnd.jupyter.widget-view+json": {
       "model_id": "1428057ae5074f70a0e2228458c6bef2",
       "version_major": 2,
       "version_minor": 0
      },
      "text/plain": [
       "  0%|          | 0/9912422 [00:00<?, ?it/s]"
      ]
     },
     "metadata": {},
     "output_type": "display_data"
    },
    {
     "name": "stdout",
     "output_type": "stream",
     "text": [
      "Extracting data/MNIST/raw/train-images-idx3-ubyte.gz to data/MNIST/raw\n",
      "\n",
      "Downloading http://yann.lecun.com/exdb/mnist/train-labels-idx1-ubyte.gz\n",
      "Failed to download (trying next):\n",
      "HTTP Error 403: Forbidden\n",
      "\n",
      "Downloading https://ossci-datasets.s3.amazonaws.com/mnist/train-labels-idx1-ubyte.gz\n",
      "Downloading https://ossci-datasets.s3.amazonaws.com/mnist/train-labels-idx1-ubyte.gz to data/MNIST/raw/train-labels-idx1-ubyte.gz\n"
     ]
    },
    {
     "data": {
      "application/vnd.jupyter.widget-view+json": {
       "model_id": "88fee05e2e2848919eda40b9c738359f",
       "version_major": 2,
       "version_minor": 0
      },
      "text/plain": [
       "  0%|          | 0/28881 [00:00<?, ?it/s]"
      ]
     },
     "metadata": {},
     "output_type": "display_data"
    },
    {
     "name": "stdout",
     "output_type": "stream",
     "text": [
      "Extracting data/MNIST/raw/train-labels-idx1-ubyte.gz to data/MNIST/raw\n",
      "\n",
      "Downloading http://yann.lecun.com/exdb/mnist/t10k-images-idx3-ubyte.gz\n",
      "Failed to download (trying next):\n",
      "HTTP Error 403: Forbidden\n",
      "\n",
      "Downloading https://ossci-datasets.s3.amazonaws.com/mnist/t10k-images-idx3-ubyte.gz\n",
      "Downloading https://ossci-datasets.s3.amazonaws.com/mnist/t10k-images-idx3-ubyte.gz to data/MNIST/raw/t10k-images-idx3-ubyte.gz\n"
     ]
    },
    {
     "data": {
      "application/vnd.jupyter.widget-view+json": {
       "model_id": "7564def9781b4f7a9508f36af153cf0d",
       "version_major": 2,
       "version_minor": 0
      },
      "text/plain": [
       "  0%|          | 0/1648877 [00:00<?, ?it/s]"
      ]
     },
     "metadata": {},
     "output_type": "display_data"
    },
    {
     "name": "stdout",
     "output_type": "stream",
     "text": [
      "Extracting data/MNIST/raw/t10k-images-idx3-ubyte.gz to data/MNIST/raw\n",
      "\n",
      "Downloading http://yann.lecun.com/exdb/mnist/t10k-labels-idx1-ubyte.gz\n",
      "Failed to download (trying next):\n",
      "HTTP Error 403: Forbidden\n",
      "\n",
      "Downloading https://ossci-datasets.s3.amazonaws.com/mnist/t10k-labels-idx1-ubyte.gz\n",
      "Downloading https://ossci-datasets.s3.amazonaws.com/mnist/t10k-labels-idx1-ubyte.gz to data/MNIST/raw/t10k-labels-idx1-ubyte.gz\n"
     ]
    },
    {
     "data": {
      "application/vnd.jupyter.widget-view+json": {
       "model_id": "85cab398c6694c23b576648da12b57ec",
       "version_major": 2,
       "version_minor": 0
      },
      "text/plain": [
       "  0%|          | 0/4542 [00:00<?, ?it/s]"
      ]
     },
     "metadata": {},
     "output_type": "display_data"
    },
    {
     "name": "stdout",
     "output_type": "stream",
     "text": [
      "Extracting data/MNIST/raw/t10k-labels-idx1-ubyte.gz to data/MNIST/raw\n",
      "\n"
     ]
    }
   ],
   "source": [
    "mnist = datasets.MNIST(root=\"data\", train=True, transform=transform, download=True)\n"
   ]
  },
  {
   "cell_type": "code",
   "execution_count": 11,
   "id": "35a20a18-68d1-408d-9474-21e060385eba",
   "metadata": {},
   "outputs": [
    {
     "data": {
      "image/png": "[encoded data removed]",
      "text/plain": [
       "<Figure size 640x480 with 1 Axes>"
      ]
     },
     "metadata": {},
     "output_type": "display_data"
    }
   ],
   "source": [
    "image, label = mnist[0]\n",
    "\n",
    "# Convertir la imagen a un formato adecuado para mostrarla (de tensor a numpy array)\n",
    "image = image.numpy().squeeze()  # Remove the channel dimension (1, 28, 28) to (28, 28)\n",
    "\n",
    "# Mostrar la imagen usando matplotlib\n",
    "plt.imshow(image, cmap='gray')\n",
    "plt.title(f'Etiqueta: {label}')\n",
    "plt.axis('off')\n",
    "plt.show()"
   ]
  },
  {
   "cell_type": "code",
   "execution_count": 15,
   "id": "4dd49b30-1854-4736-8d64-c78b1d95c079",
   "metadata": {},
   "outputs": [
    {
     "data": {
      "image/png": "[encoded data removed]",
      "text/plain": [
       "<Figure size 1500x1500 with 10 Axes>"
      ]
     },
     "metadata": {},
     "output_type": "display_data"
    }
   ],
   "source": [
    "def mostrar_lote_de_imagenes(n=10):\n",
    "    fig, axes = plt.subplots(1, n, figsize=(15, 15))\n",
    "    for i in range(n):\n",
    "        image, label = mnist[i]\n",
    "        axes[i].imshow(image.numpy().squeeze(), cmap='gray')\n",
    "        axes[i].set_title(f'Etiqueta: {label}')\n",
    "        axes[i].axis('off')\n",
    "    plt.show()\n",
    "\n",
    "mostrar_lote_de_imagenes(10)\n"
   ]
  },
  {
   "cell_type": "code",
   "execution_count": null,
   "id": "ea4978be-95ea-4f52-8705-6186b2c62c27",
   "metadata": {},
   "outputs": [],
   "source": []
  },
  {
   "cell_type": "code",
   "execution_count": null,
   "id": "bb5cee85-4711-4ea8-80d5-3a282cefbecc",
   "metadata": {},
   "outputs": [],
   "source": []
  },
  {
   "cell_type": "code",
   "execution_count": 22,
   "id": "207877b8-04b2-42fb-9b84-2b682a77e96d",
   "metadata": {},
   "outputs": [
    {
     "data": {
      "image/png": "[encoded data removed]",
      "text/plain": [
       "<Figure size 1200x200 with 6 Axes>"
      ]
     },
     "metadata": {},
     "output_type": "display_data"
    }
   ],
   "source": [
    "# Transformaciones para normalizar las imágenes de MNIST\n",
    "transform = transforms.Compose([\n",
    "    transforms.ToTensor(),\n",
    "    transforms.Normalize((0.5,), (0.5,))  # Normalizar entre -1 y 1\n",
    "])\n",
    "\n",
    "# Cargar los datos de entrenamiento y prueba de MNIST\n",
    "train_dataset = datasets.MNIST(root='./data', train=True, transform=transform, download=True)\n",
    "test_dataset = datasets.MNIST(root='./data', train=False, transform=transform, download=True)\n",
    "\n",
    "# Preparar el DataLoader para iterar sobre los datos en lotes\n",
    "train_loader = DataLoader(train_dataset, batch_size=64, shuffle=True)\n",
    "test_loader = DataLoader(test_dataset, batch_size=64, shuffle=False)\n",
    "\n",
    "# Visualizar algunas imágenes de MNIST\n",
    "examples = enumerate(train_loader)\n",
    "batch_idx, (example_data, example_targets) = next(examples)\n",
    "\n",
    "fig, axes = plt.subplots(1, 6, figsize=(12, 2))\n",
    "for i in range(6):\n",
    "    axes[i].imshow(example_data[i][0], cmap='gray')\n",
    "    axes[i].set_title(f\"Label: {example_targets[i].item()}\")\n",
    "    axes[i].axis('off')\n",
    "plt.show()\n"
   ]
  },
  {
   "cell_type": "markdown",
   "id": "be4b00a6-1bb6-4314-a250-1d54d796dc32",
   "metadata": {},
   "source": [
    "Con esto, cargamos y visualizamos algunas imágenes de MNIST para entender mejor la entrada al modelo. Cada imagen es de 28x28 píxeles en escala de grises."
   ]
  },
  {
   "cell_type": "code",
   "execution_count": 23,
   "id": "38a1fe32-4844-4e73-861c-cdc0dfd1f29b",
   "metadata": {},
   "outputs": [],
   "source": [
    "class LiftingLayer(nn.Module):\n",
    "    def __init__(self):\n",
    "        super(LiftingLayer, self).__init__()\n",
    "\n",
    "    def forward(self, x):\n",
    "        # Crear 4 rotaciones: 0°, 90°, 180°, y 270°\n",
    "        x0 = x\n",
    "        x90 = torch.rot90(x, 1, [2, 3])\n",
    "        x180 = torch.rot90(x, 2, [2, 3])\n",
    "        x270 = torch.rot90(x, 3, [2, 3])\n",
    "        # Concatenar rotaciones en la dimensión de canales\n",
    "        return torch.cat([x0, x90, x180, x270], dim=1)\n",
    "\n",
    "class GroupConv(nn.Module):\n",
    "    def __init__(self, in_channels, out_channels):\n",
    "        super(GroupConv, self).__init__()\n",
    "        self.conv = nn.Conv2d(in_channels, out_channels, kernel_size=3, padding=1)\n",
    "\n",
    "    def forward(self, x):\n",
    "        return self.conv(x)\n",
    "\n",
    "class GroupReLU(nn.Module):\n",
    "    def forward(self, x):\n",
    "        return F.relu(x)\n",
    "\n",
    "class GroupPooling(nn.Module):\n",
    "    def forward(self, x):\n",
    "        return F.max_pool2d(x, kernel_size=2)\n",
    "\n",
    "class FinalPooling(nn.Module):\n",
    "    def forward(self, x):\n",
    "        # Agrupamiento global\n",
    "        return F.adaptive_max_pool2d(x, (1, 1)).view(x.size(0), -1)\n",
    "\n",
    "class GCNClassifier(nn.Module):\n",
    "    def __init__(self):\n",
    "        super(GCNClassifier, self).__init__()\n",
    "        self.lifting = LiftingLayer()\n",
    "        self.group_conv1 = GroupConv(4, 16)\n",
    "        self.group_conv2 = GroupConv(16, 32)\n",
    "        self.group_relu = GroupReLU()\n",
    "        self.group_pooling = GroupPooling()\n",
    "        self.final_pooling = FinalPooling()\n",
    "        self.fc = nn.Linear(32, 10)  # 10 clases para MNIST\n",
    "\n",
    "    def forward(self, x):\n",
    "        x = self.lifting(x)\n",
    "        x = self.group_conv1(x)\n",
    "        x = self.group_relu(x)\n",
    "        x = self.group_pooling(x)\n",
    "        x = self.group_conv2(x)\n",
    "        x = self.group_relu(x)\n",
    "        x = self.group_pooling(x)\n",
    "        x = self.final_pooling(x)\n",
    "        return self.fc(x)\n"
   ]
  },
  {
   "cell_type": "markdown",
   "id": "b9dd5d2d-6cb8-4be0-9978-12bcc333e024",
   "metadata": {},
   "source": [
    "Esta arquitectura toma una imagen, la rota en 4 ángulos y aplica convoluciones sobre esas versiones. Luego, se reduce la dimensionalidad usando pooling, y finalmente una capa totalmente conectada da la salida de la clasificación."
   ]
  },
  {
   "cell_type": "markdown",
   "id": "9bb6cd83-55c2-48fd-ae59-40cee1d6f85f",
   "metadata": {},
   "source": [
    "LiftingLayer: Realiza rotaciones para aumentar la diversidad de las imágenes de entrada.\n",
    "GroupConv: Convolución 2D que aplica filtros a la imagen.\n",
    "GroupReLU: Función de activación que introduce no linealidades.\n",
    "GroupPooling: Reducción de resolución mediante max pooling.\n",
    "FinalPooling: Reducción global de las características a un solo valor por canal.\n",
    "GCNClassifier: La red neuronal que combina todas las capas anteriores para clasificar las imágenes en 10 clases (para MNIST)."
   ]
  },
  {
   "cell_type": "code",
   "execution_count": 24,
   "id": "5253883a-46c9-41ff-bf28-d0a3cd179761",
   "metadata": {},
   "outputs": [
    {
     "name": "stdout",
     "output_type": "stream",
     "text": [
      "Epoch [1/5], Loss: 0.6406\n",
      "Epoch [2/5], Loss: 0.2248\n",
      "Epoch [3/5], Loss: 0.1755\n",
      "Epoch [4/5], Loss: 0.1456\n",
      "Epoch [5/5], Loss: 0.1288\n"
     ]
    }
   ],
   "source": [
    "# Configuración de entrenamiento\n",
    "device = torch.device(\"cuda\" if torch.cuda.is_available() else \"cpu\")\n",
    "model = GCNClassifier().to(device)\n",
    "criterion = nn.CrossEntropyLoss()\n",
    "optimizer = torch.optim.Adam(model.parameters(), lr=0.001)\n",
    "\n",
    "# Entrenamiento del modelo\n",
    "num_epochs = 5\n",
    "for epoch in range(num_epochs):\n",
    "    model.train()\n",
    "    running_loss = 0.0\n",
    "    for images, labels in train_loader:\n",
    "        images, labels = images.to(device), labels.to(device)\n",
    "        \n",
    "        # Adelante y atrás\n",
    "        outputs = model(images)\n",
    "        loss = criterion(outputs, labels)\n",
    "        optimizer.zero_grad()\n",
    "        loss.backward()\n",
    "        optimizer.step()\n",
    "        \n",
    "        running_loss += loss.item()\n",
    "    \n",
    "    print(f\"Epoch [{epoch+1}/{num_epochs}], Loss: {running_loss/len(train_loader):.4f}\")\n"
   ]
  },
  {
   "cell_type": "code",
   "execution_count": 25,
   "id": "f2be1442-036a-4564-b3fe-bb941c359b38",
   "metadata": {},
   "outputs": [
    {
     "name": "stdout",
     "output_type": "stream",
     "text": [
      "Accuracy of the model on the test images: 95.87%\n"
     ]
    }
   ],
   "source": [
    "# Evaluación en el conjunto de prueba\n",
    "model.eval()\n",
    "correct = 0\n",
    "total = 0\n",
    "with torch.no_grad():\n",
    "    for images, labels in test_loader:\n",
    "        images, labels = images.to(device), labels.to(device)\n",
    "        outputs = model(images)\n",
    "        _, predicted = torch.max(outputs, 1)\n",
    "        total += labels.size(0)\n",
    "        correct += (predicted == labels).sum().item()\n",
    "\n",
    "print(f'Accuracy of the model on the test images: {100 * correct / total:.2f}%')\n"
   ]
  },
  {
   "cell_type": "code",
   "execution_count": null,
   "id": "d5178cbc-0018-4df9-b663-a207f977938b",
   "metadata": {},
   "outputs": [],
   "source": []
  },
  {
   "cell_type": "markdown",
   "id": "3d50d968-b82c-4209-80d5-0af1f8972eef",
   "metadata": {},
   "source": [
    "CNN BASICA"
   ]
  },
  {
   "cell_type": "markdown",
   "id": "027edde0-f2f5-4fc1-8f1d-82ad02a149dc",
   "metadata": {},
   "source": []
  },
  {
   "cell_type": "code",
   "execution_count": 27,
   "id": "f2c7cee5-b78e-4285-a09c-1166312f12f6",
   "metadata": {},
   "outputs": [],
   "source": [
    "class BasicCNN(nn.Module):\n",
    "    def __init__(self):\n",
    "        super(BasicCNN, self).__init__()\n",
    "        self.conv1 = nn.Conv2d(1, 16, kernel_size=3, padding=1)\n",
    "        self.conv2 = nn.Conv2d(16, 32, kernel_size=3, padding=1)\n",
    "        self.pool = nn.MaxPool2d(2, 2)\n",
    "        self.fc1 = nn.Linear(32 * 7 * 7, 128)\n",
    "        self.fc2 = nn.Linear(128, 10)  # 10 clases para MNIST\n",
    "\n",
    "    def forward(self, x):\n",
    "        x = self.pool(F.relu(self.conv1(x)))\n",
    "        x = self.pool(F.relu(self.conv2(x)))\n",
    "        x = x.view(-1, 32 * 7 * 7)  # Aplanar\n",
    "        x = F.relu(self.fc1(x))\n",
    "        x = self.fc2(x)\n",
    "        return x\n"
   ]
  },
  {
   "cell_type": "code",
   "execution_count": 28,
   "id": "f98b21e0-1264-44b6-967f-a8298ba30680",
   "metadata": {},
   "outputs": [
    {
     "name": "stdout",
     "output_type": "stream",
     "text": [
      "Epoch [1/5], Loss: 0.2027\n",
      "Epoch [2/5], Loss: 0.0563\n",
      "Epoch [3/5], Loss: 0.0385\n",
      "Epoch [4/5], Loss: 0.0296\n",
      "Epoch [5/5], Loss: 0.0232\n"
     ]
    }
   ],
   "source": [
    "# Configuración de entrenamiento\n",
    "device = torch.device(\"cuda\" if torch.cuda.is_available() else \"cpu\")\n",
    "model = BasicCNN().to(device)\n",
    "criterion = nn.CrossEntropyLoss()\n",
    "optimizer = torch.optim.Adam(model.parameters(), lr=0.001)\n",
    "\n",
    "# Entrenamiento del modelo\n",
    "num_epochs = 5\n",
    "for epoch in range(num_epochs):\n",
    "    model.train()\n",
    "    running_loss = 0.0\n",
    "    for images, labels in train_loader:\n",
    "        images, labels = images.to(device), labels.to(device)\n",
    "        \n",
    "        # Adelante y atrás\n",
    "        outputs = model(images)\n",
    "        loss = criterion(outputs, labels)\n",
    "        optimizer.zero_grad()\n",
    "        loss.backward()\n",
    "        optimizer.step()\n",
    "        \n",
    "        running_loss += loss.item()\n",
    "    \n",
    "    print(f\"Epoch [{epoch+1}/{num_epochs}], Loss: {running_loss/len(train_loader):.4f}\")\n"
   ]
  },
  {
   "cell_type": "code",
   "execution_count": 29,
   "id": "689a7e9f-2c4f-4c90-9932-38f0edf0a748",
   "metadata": {},
   "outputs": [
    {
     "name": "stdout",
     "output_type": "stream",
     "text": [
      "Accuracy of the Basic CNN on the test images: 98.99%\n"
     ]
    }
   ],
   "source": [
    "# Evaluación en el conjunto de prueba\n",
    "model.eval()\n",
    "correct = 0\n",
    "total = 0\n",
    "with torch.no_grad():\n",
    "    for images, labels in test_loader:\n",
    "        images, labels = images.to(device), labels.to(device)\n",
    "        outputs = model(images)\n",
    "        _, predicted = torch.max(outputs, 1)\n",
    "        total += labels.size(0)\n",
    "        correct += (predicted == labels).sum().item()\n",
    "\n",
    "print(f'Accuracy of the Basic CNN on the test images: {100 * correct / total:.2f}%')\n"
   ]
  },
  {
   "cell_type": "code",
   "execution_count": null,
   "id": "81ef1ed6-1cb2-470d-92b9-fd9ba804b49f",
   "metadata": {},
   "outputs": [],
   "source": []
  },
  {
   "cell_type": "code",
   "execution_count": null,
   "id": "f6df6ea9-75db-4c79-aee1-9c076374fad8",
   "metadata": {},
   "outputs": [],
   "source": []
  },
  {
   "cell_type": "code",
   "execution_count": null,
   "id": "a3911a98-3a7c-476c-9c11-6b4903be3541",
   "metadata": {},
   "outputs": [],
   "source": []
  },
  {
   "cell_type": "code",
   "execution_count": 34,
   "id": "3cd7d7e6-3dc2-4cda-9e19-931011be5ab5",
   "metadata": {},
   "outputs": [
    {
     "name": "stdout",
     "output_type": "stream",
     "text": [
      "Archivos en el directorio de entrenamiento:\n",
      "['notumor', 'pituitary', 'meningioma', 'glioma', '.ipynb_checkpoints']\n",
      "\n",
      "Subcarpetas en 'Training':\n",
      "notumor\n",
      "pituitary\n",
      "meningioma\n",
      "glioma\n",
      ".ipynb_checkpoints\n"
     ]
    }
   ],
   "source": [
    "import os\n",
    "\n",
    "print(\"Archivos en el directorio de entrenamiento:\")\n",
    "print(os.listdir(train_dir))\n",
    "\n",
    "print(\"\\nSubcarpetas en 'Training':\")\n",
    "for folder in os.listdir(train_dir):\n",
    "    print(folder)\n"
   ]
  },
  {
   "cell_type": "code",
   "execution_count": 37,
   "id": "7b225f3c-5215-4348-a9b7-8ab359fc6c33",
   "metadata": {},
   "outputs": [
    {
     "name": "stdout",
     "output_type": "stream",
     "text": [
      "Eliminando carpeta: /home/jupyter-user5/Clase-2025-1/data/Training/.ipynb_checkpoints\n"
     ]
    }
   ],
   "source": [
    "# Eliminar .ipynb_checkpoints de los subdirectorios\n",
    "for root, dirs, files in os.walk(train_dir):\n",
    "    for dir_name in dirs:\n",
    "        if dir_name == \".ipynb_checkpoints\":\n",
    "            folder_to_delete = os.path.join(root, dir_name)\n",
    "            print(f\"Eliminando carpeta: {folder_to_delete}\")\n",
    "            os.rmdir(folder_to_delete)\n"
   ]
  },
  {
   "cell_type": "code",
   "execution_count": 38,
   "id": "02af2a92-3019-4cb6-a428-f4cc626a1ea5",
   "metadata": {},
   "outputs": [
    {
     "name": "stdout",
     "output_type": "stream",
     "text": [
      "Clases encontradas: ['glioma', 'meningioma', 'notumor', 'pituitary']\n",
      "Cantidad de imágenes de entrenamiento: 3935\n"
     ]
    }
   ],
   "source": [
    "from torchvision import datasets, transforms\n",
    "\n",
    "# Transformaciones básicas\n",
    "transform = transforms.Compose([\n",
    "    transforms.Resize((128, 128)),\n",
    "    transforms.ToTensor()\n",
    "])\n",
    "\n",
    "# Cargar los datos ignorando `.ipynb_checkpoints`\n",
    "train_data = datasets.ImageFolder(\n",
    "    root=train_dir, \n",
    "    transform=transform,\n",
    "    is_valid_file=lambda x: x.endswith(('.jpg', '.jpeg', '.png'))\n",
    ")\n",
    "\n",
    "print(f\"Clases encontradas: {train_data.classes}\")\n",
    "print(f\"Cantidad de imágenes de entrenamiento: {len(train_data)}\")\n"
   ]
  },
  {
   "cell_type": "code",
   "execution_count": 39,
   "id": "5e1e7c49-7f1b-42dc-b0e1-43d58fa5638a",
   "metadata": {},
   "outputs": [
    {
     "name": "stdout",
     "output_type": "stream",
     "text": [
      "Clases encontradas: ['glioma', 'meningioma', 'notumor', 'pituitary']\n",
      "Número de imágenes en el conjunto de entrenamiento: 3935\n"
     ]
    }
   ],
   "source": [
    "print(f\"Clases encontradas: {train_data.classes}\")\n",
    "print(f\"Número de imágenes en el conjunto de entrenamiento: {len(train_data)}\")\n"
   ]
  },
  {
   "cell_type": "code",
   "execution_count": 1,
   "id": "b4e938cd-02d3-4b3b-bb84-492baa823523",
   "metadata": {},
   "outputs": [
    {
     "name": "stdout",
     "output_type": "stream",
     "text": [
      "Cargando datos de entrenamiento...\n",
      "Cargando datos de prueba...\n",
      "\n",
      "Clases detectadas: ['glioma', 'meningioma', 'notumor', 'pituitary']\n",
      "Tamaño del conjunto de entrenamiento: 3935 imágenes\n",
      "Tamaño del conjunto de prueba: 1311 imágenes\n",
      "\n",
      "Distribución de clases en el conjunto de entrenamiento:\n",
      "Clase 'glioma': 1321 imágenes\n",
      "Clase 'meningioma': 1339 imágenes\n",
      "Clase 'notumor': 795 imágenes\n",
      "Clase 'pituitary': 480 imágenes\n",
      "\n",
      "Distribución de clases en el conjunto de prueba:\n",
      "Clase 'glioma': 300 imágenes\n",
      "Clase 'meningioma': 306 imágenes\n",
      "Clase 'notumor': 405 imágenes\n",
      "Clase 'pituitary': 300 imágenes\n"
     ]
    }
   ],
   "source": [
    "import os\n",
    "from torchvision import datasets, transforms\n",
    "from torch.utils.data import DataLoader\n",
    "\n",
    "# Transformaciones\n",
    "transform = transforms.Compose([\n",
    "    transforms.Resize((128, 128)),\n",
    "    transforms.ToTensor(),\n",
    "    transforms.Normalize(mean=[0.5], std=[0.5])\n",
    "])\n",
    "\n",
    "# Directorios\n",
    "train_dir = '/home/jupyter-user5/Clase-2025-1/data/Training'\n",
    "test_dir = '/home/jupyter-user5/Clase-2025-1/data/Testing'\n",
    "\n",
    "# Primero, eliminar la carpeta .ipynb_checkpoints del directorio Testing\n",
    "checkpoints_dir = os.path.join(test_dir, '.ipynb_checkpoints')\n",
    "if os.path.exists(checkpoints_dir):\n",
    "    print(f\"Eliminando directorio: {checkpoints_dir}\")\n",
    "    import shutil\n",
    "    shutil.rmtree(checkpoints_dir)\n",
    "\n",
    "# Cargar los datos\n",
    "print(\"Cargando datos de entrenamiento...\")\n",
    "train_data = datasets.ImageFolder(root=train_dir, transform=transform)\n",
    "print(\"Cargando datos de prueba...\")\n",
    "test_data = datasets.ImageFolder(root=test_dir, transform=transform)\n",
    "\n",
    "# Crear los dataloaders\n",
    "train_loader = DataLoader(train_data, batch_size=32, shuffle=True)\n",
    "test_loader = DataLoader(test_data, batch_size=32, shuffle=False)\n",
    "\n",
    "# Mostrar información\n",
    "classes = train_data.classes\n",
    "print(f\"\\nClases detectadas: {classes}\")\n",
    "print(f\"Tamaño del conjunto de entrenamiento: {len(train_data)} imágenes\")\n",
    "print(f\"Tamaño del conjunto de prueba: {len(test_data)} imágenes\")\n",
    "\n",
    "# Distribución de clases en el conjunto de entrenamiento\n",
    "print(\"\\nDistribución de clases en el conjunto de entrenamiento:\")\n",
    "for i, clase in enumerate(classes):\n",
    "    count = sum(1 for _, label in train_data if label == i)\n",
    "    print(f\"Clase '{clase}': {count} imágenes\")\n",
    "\n",
    "print(\"\\nDistribución de clases en el conjunto de prueba:\")\n",
    "for i, clase in enumerate(classes):\n",
    "    count = sum(1 for _, label in test_data if label == i)\n",
    "    print(f\"Clase '{clase}': {count} imágenes\")"
   ]
  },
  {
   "cell_type": "code",
   "execution_count": 2,
   "id": "534af7a3-d3f6-4b6d-bfd9-0307f5b4b5f8",
   "metadata": {},
   "outputs": [
    {
     "name": "stdout",
     "output_type": "stream",
     "text": [
      "Entrenando en: cpu\n",
      "Epoch [1/5], Step [10/123], Loss: 1.1425, Accuracy: 43.12%\n",
      "Epoch [1/5], Step [20/123], Loss: 0.8242, Accuracy: 50.47%\n",
      "Epoch [1/5], Step [30/123], Loss: 0.9351, Accuracy: 55.10%\n",
      "Epoch [1/5], Step [40/123], Loss: 0.8170, Accuracy: 58.05%\n",
      "Epoch [1/5], Step [50/123], Loss: 0.7198, Accuracy: 59.12%\n",
      "Epoch [1/5], Step [60/123], Loss: 0.9276, Accuracy: 60.57%\n",
      "Epoch [1/5], Step [70/123], Loss: 0.8482, Accuracy: 61.83%\n",
      "Epoch [1/5], Step [80/123], Loss: 0.5608, Accuracy: 63.67%\n",
      "Epoch [1/5], Step [90/123], Loss: 0.6859, Accuracy: 64.03%\n",
      "Epoch [1/5], Step [100/123], Loss: 0.6223, Accuracy: 64.91%\n",
      "Epoch [1/5], Step [110/123], Loss: 0.4769, Accuracy: 66.02%\n",
      "Epoch [1/5], Step [120/123], Loss: 0.5338, Accuracy: 66.72%\n",
      "\n",
      "Epoch 1 - Loss: 0.7944, Training Accuracy: 66.94%\n",
      "Test Accuracy: 73.00%\n",
      "\n",
      "Epoch [2/5], Step [10/123], Loss: 0.4253, Accuracy: 79.69%\n",
      "Epoch [2/5], Step [20/123], Loss: 0.8160, Accuracy: 78.91%\n",
      "Epoch [2/5], Step [30/123], Loss: 0.6290, Accuracy: 78.02%\n",
      "Epoch [2/5], Step [40/123], Loss: 0.4288, Accuracy: 78.28%\n",
      "Epoch [2/5], Step [50/123], Loss: 0.3148, Accuracy: 78.25%\n",
      "Epoch [2/5], Step [60/123], Loss: 0.3948, Accuracy: 78.54%\n",
      "Epoch [2/5], Step [70/123], Loss: 0.4983, Accuracy: 78.57%\n",
      "Epoch [2/5], Step [80/123], Loss: 0.6086, Accuracy: 79.18%\n",
      "Epoch [2/5], Step [90/123], Loss: 0.6595, Accuracy: 79.34%\n",
      "Epoch [2/5], Step [100/123], Loss: 0.3661, Accuracy: 79.38%\n",
      "Epoch [2/5], Step [110/123], Loss: 0.2792, Accuracy: 79.69%\n",
      "Epoch [2/5], Step [120/123], Loss: 0.5536, Accuracy: 80.10%\n",
      "\n",
      "Epoch 2 - Loss: 0.4889, Training Accuracy: 80.13%\n",
      "Test Accuracy: 77.57%\n",
      "\n",
      "Epoch [3/5], Step [10/123], Loss: 0.3931, Accuracy: 78.12%\n",
      "Epoch [3/5], Step [20/123], Loss: 0.3119, Accuracy: 81.72%\n",
      "Epoch [3/5], Step [30/123], Loss: 0.4146, Accuracy: 81.98%\n",
      "Epoch [3/5], Step [40/123], Loss: 0.5160, Accuracy: 82.19%\n",
      "Epoch [3/5], Step [50/123], Loss: 0.3322, Accuracy: 82.19%\n",
      "Epoch [3/5], Step [60/123], Loss: 0.3252, Accuracy: 83.02%\n",
      "Epoch [3/5], Step [70/123], Loss: 0.1891, Accuracy: 83.75%\n",
      "Epoch [3/5], Step [80/123], Loss: 0.3743, Accuracy: 83.32%\n",
      "Epoch [3/5], Step [90/123], Loss: 0.5307, Accuracy: 83.40%\n",
      "Epoch [3/5], Step [100/123], Loss: 0.5219, Accuracy: 83.16%\n",
      "Epoch [3/5], Step [110/123], Loss: 0.6978, Accuracy: 83.55%\n",
      "Epoch [3/5], Step [120/123], Loss: 0.2573, Accuracy: 83.88%\n",
      "\n",
      "Epoch 3 - Loss: 0.4042, Training Accuracy: 83.94%\n",
      "Test Accuracy: 83.83%\n",
      "\n",
      "Epoch [4/5], Step [10/123], Loss: 0.1723, Accuracy: 87.50%\n",
      "Epoch [4/5], Step [20/123], Loss: 0.1909, Accuracy: 86.88%\n",
      "Epoch [4/5], Step [30/123], Loss: 0.2259, Accuracy: 87.50%\n",
      "Epoch [4/5], Step [40/123], Loss: 0.1963, Accuracy: 88.75%\n",
      "Epoch [4/5], Step [50/123], Loss: 0.2415, Accuracy: 88.69%\n",
      "Epoch [4/5], Step [60/123], Loss: 0.2907, Accuracy: 88.65%\n",
      "Epoch [4/5], Step [70/123], Loss: 0.1481, Accuracy: 88.93%\n",
      "Epoch [4/5], Step [80/123], Loss: 0.2999, Accuracy: 88.79%\n",
      "Epoch [4/5], Step [90/123], Loss: 0.2750, Accuracy: 88.89%\n",
      "Epoch [4/5], Step [100/123], Loss: 0.1551, Accuracy: 88.84%\n",
      "Epoch [4/5], Step [110/123], Loss: 0.2731, Accuracy: 88.78%\n",
      "Epoch [4/5], Step [120/123], Loss: 0.1911, Accuracy: 88.70%\n",
      "\n",
      "Epoch 4 - Loss: 0.2821, Training Accuracy: 88.69%\n",
      "Test Accuracy: 89.47%\n",
      "\n",
      "Epoch [5/5], Step [10/123], Loss: 0.1302, Accuracy: 91.88%\n",
      "Epoch [5/5], Step [20/123], Loss: 0.1663, Accuracy: 91.41%\n",
      "Epoch [5/5], Step [30/123], Loss: 0.1112, Accuracy: 91.98%\n",
      "Epoch [5/5], Step [40/123], Loss: 0.1267, Accuracy: 91.95%\n",
      "Epoch [5/5], Step [50/123], Loss: 0.2263, Accuracy: 91.88%\n",
      "Epoch [5/5], Step [60/123], Loss: 0.1228, Accuracy: 92.03%\n",
      "Epoch [5/5], Step [70/123], Loss: 0.3413, Accuracy: 92.28%\n",
      "Epoch [5/5], Step [80/123], Loss: 0.3297, Accuracy: 92.23%\n",
      "Epoch [5/5], Step [90/123], Loss: 0.1421, Accuracy: 92.26%\n",
      "Epoch [5/5], Step [100/123], Loss: 0.2136, Accuracy: 92.22%\n",
      "Epoch [5/5], Step [110/123], Loss: 0.2242, Accuracy: 92.16%\n",
      "Epoch [5/5], Step [120/123], Loss: 0.2320, Accuracy: 92.21%\n",
      "\n",
      "Epoch 5 - Loss: 0.2100, Training Accuracy: 92.25%\n",
      "Test Accuracy: 90.01%\n",
      "\n"
     ]
    }
   ],
   "source": [
    "import torch\n",
    "import torch.nn as nn\n",
    "import torch.optim as optim\n",
    "\n",
    "# Definir la arquitectura de una CNN básica\n",
    "class SimpleCNN(nn.Module):\n",
    "    def __init__(self):\n",
    "        super(SimpleCNN, self).__init__()\n",
    "        # Cambiar el primer canal de entrada a 3 para imágenes RGB\n",
    "        self.conv1 = nn.Conv2d(3, 32, kernel_size=3, stride=1, padding=1)\n",
    "        self.conv2 = nn.Conv2d(32, 64, kernel_size=3, stride=1, padding=1)\n",
    "        self.pool = nn.MaxPool2d(2, 2)\n",
    "        self.fc1 = nn.Linear(64 * 32 * 32, 128)\n",
    "        self.fc2 = nn.Linear(128, len(classes))\n",
    "        self.relu = nn.ReLU()\n",
    "        self.dropout = nn.Dropout(0.5)\n",
    "    \n",
    "    def forward(self, x):\n",
    "        x = self.pool(self.relu(self.conv1(x)))\n",
    "        x = self.pool(self.relu(self.conv2(x)))\n",
    "        x = x.view(-1, 64 * 32 * 32)  # Aplanar\n",
    "        x = self.dropout(self.relu(self.fc1(x)))\n",
    "        x = self.fc2(x)\n",
    "        return x\n",
    "\n",
    "# Entrenamiento y evaluación\n",
    "def train_and_evaluate(model, train_loader, test_loader, epochs=5):\n",
    "    criterion = nn.CrossEntropyLoss()\n",
    "    optimizer = optim.Adam(model.parameters(), lr=0.001)\n",
    "    device = torch.device('cuda' if torch.cuda.is_available() else 'cpu')\n",
    "    model = model.to(device)\n",
    "    \n",
    "    print(f\"Entrenando en: {device}\")\n",
    "    \n",
    "    for epoch in range(epochs):\n",
    "        model.train()\n",
    "        running_loss = 0.0\n",
    "        correct = 0\n",
    "        total = 0\n",
    "        \n",
    "        # Barra de progreso para el entrenamiento\n",
    "        for i, (inputs, labels) in enumerate(train_loader):\n",
    "            inputs, labels = inputs.to(device), labels.to(device)\n",
    "            optimizer.zero_grad()\n",
    "            outputs = model(inputs)\n",
    "            loss = criterion(outputs, labels)\n",
    "            loss.backward()\n",
    "            optimizer.step()\n",
    "            \n",
    "            running_loss += loss.item()\n",
    "            \n",
    "            # Calcular accuracy durante el entrenamiento\n",
    "            _, predicted = torch.max(outputs.data, 1)\n",
    "            total += labels.size(0)\n",
    "            correct += (predicted == labels).sum().item()\n",
    "            \n",
    "            if (i + 1) % 10 == 0:  # Mostrar cada 10 batches\n",
    "                print(f'Epoch [{epoch+1}/{epochs}], Step [{i+1}/{len(train_loader)}], '\n",
    "                      f'Loss: {loss.item():.4f}, '\n",
    "                      f'Accuracy: {100 * correct/total:.2f}%')\n",
    "        \n",
    "        epoch_loss = running_loss/len(train_loader)\n",
    "        epoch_acc = 100 * correct/total\n",
    "        print(f\"\\nEpoch {epoch+1} - Loss: {epoch_loss:.4f}, Training Accuracy: {epoch_acc:.2f}%\")\n",
    "        \n",
    "        # Evaluación después de cada época\n",
    "        model.eval()\n",
    "        test_correct = 0\n",
    "        test_total = 0\n",
    "        with torch.no_grad():\n",
    "            for inputs, labels in test_loader:\n",
    "                inputs, labels = inputs.to(device), labels.to(device)\n",
    "                outputs = model(inputs)\n",
    "                _, predicted = torch.max(outputs, 1)\n",
    "                test_total += labels.size(0)\n",
    "                test_correct += (predicted == labels).sum().item()\n",
    "        \n",
    "        test_acc = 100 * test_correct / test_total\n",
    "        print(f\"Test Accuracy: {test_acc:.2f}%\\n\")\n",
    "    \n",
    "    return model\n",
    "\n",
    "# Crear y entrenar el modelo\n",
    "cnn_model = SimpleCNN()\n",
    "cnn_model = train_and_evaluate(cnn_model, train_loader, test_loader)"
   ]
  },
  {
   "cell_type": "markdown",
   "id": "fa7eca38-6568-4b86-bfa3-22853b9807e8",
   "metadata": {},
   "source": [
    "Para la G-CNN, usaremos el paquete e2cnn, que permite implementar redes convolucionales que son equivariantes a grupos como rotaciones."
   ]
  },
  {
   "cell_type": "markdown",
   "id": "77cc1d44-9a72-40fd-908f-17e622a32a08",
   "metadata": {},
   "source": [
    "El submódulo **gspaces** permite definir espacios de simetría geométrica (geometric spaces).\n",
    "    * Define las transformaciones que la red manejará como simétricas (rotaciones, reflexiones, traslaciones, etc.).\n",
    "        * Flip2dOnR2: Simetrías que incluyen reflexiones.\n",
    "        * TrivialOnR2: Sin simetrías adicionales, equivalente a una CNN estándar.\n",
    "\n",
    "El submódulo nn define las capas convolucionales equivariantes y otras operaciones que respetan las simetrías del espacio geométrico.\n",
    "    * Funciona junto con gspaces para implementar redes que son invariantes o equivariantes a ciertas transformaciones.\n",
    "        * enn.R2Conv: Realiza convoluciones equivariantes.\n",
    "        * Similar a nn.Conv2d de PyTorch, pero respetando simetrías.\n",
    "        * enn.GatedNonLinearity: Aplicación de no linealidades en espacios equivariantes.\n",
    "        * enn.PointwiseAvgPool: Pooling diseñado para mantener propiedades de simetría"
   ]
  },
  {
   "cell_type": "code",
   "execution_count": 10,
   "id": "4a1d73fb-b264-4850-88a7-14621d436c05",
   "metadata": {},
   "outputs": [
    {
     "name": "stdout",
     "output_type": "stream",
     "text": [
      "Epoch [1/10], Loss: 0.7956\n",
      "Epoch [2/10], Loss: 0.4939\n",
      "Epoch [3/10], Loss: 0.3910\n",
      "Epoch [4/10], Loss: 0.3285\n",
      "Epoch [5/10], Loss: 0.2704\n",
      "Epoch [6/10], Loss: 0.2244\n",
      "Epoch [7/10], Loss: 0.1934\n",
      "Epoch [8/10], Loss: 0.1703\n",
      "Epoch [9/10], Loss: 0.1372\n",
      "Epoch [10/10], Loss: 0.1346\n",
      "Accuracy: 90.62%\n"
     ]
    }
   ],
   "source": [
    "import torch\n",
    "import torch.nn as nn\n",
    "import torchvision.transforms as transforms\n",
    "import torchvision.datasets as datasets\n",
    "from e2cnn import gspaces\n",
    "from e2cnn import nn as enn\n",
    "\n",
    "# 1. Configuración del espacio de simetrías\n",
    "# Grupo de rotaciones discretas C4 (0°, 90°, 180°, 270°)\n",
    "gspace = gspaces.Rot2dOnR2(N=4)\n",
    "\n",
    "# 2. Definición de la G-CNN\n",
    "class GCNN(nn.Module):\n",
    "    def __init__(self):\n",
    "        super(GCNN, self).__init__()\n",
    "        \n",
    "        # Primer capa convolucional G-CNN\n",
    "        self.input_type = enn.FieldType(gspace, [gspace.trivial_repr])\n",
    "        self.conv1 = enn.R2Conv(\n",
    "            in_type=self.input_type,\n",
    "            out_type=enn.FieldType(gspace, 16 * [gspace.regular_repr]),\n",
    "            kernel_size=3,\n",
    "            stride=1,\n",
    "            padding=1\n",
    "        )\n",
    "        self.relu1 = enn.ReLU(self.conv1.out_type)\n",
    "        \n",
    "        # Segunda capa convolucional G-CNN\n",
    "        self.conv2 = enn.R2Conv(\n",
    "            in_type=self.conv1.out_type,\n",
    "            out_type=enn.FieldType(gspace, 32 * [gspace.regular_repr]),\n",
    "            kernel_size=3,\n",
    "            stride=1,\n",
    "            padding=1\n",
    "        )\n",
    "        self.relu2 = enn.ReLU(self.conv2.out_type)\n",
    "        \n",
    "        # Pooling equivariante\n",
    "        self.pool = enn.PointwiseMaxPool(self.conv2.out_type, kernel_size=2, stride=2)\n",
    "        \n",
    "        # Capa totalmente conectada\n",
    "        self.gpool = enn.GroupPooling(self.pool.out_type)  # Reduce al espacio usual\n",
    "        self.fc = nn.Linear(32 * 14 * 14, 4)  # Ajusta tamaño según dimensiones\n",
    "        \n",
    "    def forward(self, x):\n",
    "        x = enn.GeometricTensor(x, self.input_type)\n",
    "        x = self.conv1(x)\n",
    "        x = self.relu1(x)\n",
    "        x = self.conv2(x)\n",
    "        x = self.relu2(x)\n",
    "        x = self.pool(x)\n",
    "        x = self.gpool(x).tensor  # Volver al espacio usual\n",
    "        x = x.view(x.size(0), -1)\n",
    "        x = self.fc(x)\n",
    "        return x\n",
    "\n",
    "# 3. Cargar datos\n",
    "transform = transforms.Compose([\n",
    "    transforms.Resize((28, 28)),\n",
    "    transforms.Grayscale(),  # Convertir a escala de grises si es necesario\n",
    "    transforms.ToTensor(),\n",
    "    transforms.Normalize((0.5,), (0.5,))  # Normalización\n",
    "])\n",
    "# Directorios\n",
    "train_dir = '/home/jupyter-user5/Clase-2025-1/data/Training'\n",
    "test_dir = '/home/jupyter-user5/Clase-2025-1/data/Testing'\n",
    "\n",
    "train_dataset = datasets.ImageFolder(train_dir, transform=transform)\n",
    "test_dataset = datasets.ImageFolder(test_dir, transform=transform)\n",
    "\n",
    "train_loader = torch.utils.data.DataLoader(train_dataset, batch_size=32, shuffle=True)\n",
    "test_loader = torch.utils.data.DataLoader(test_dataset, batch_size=32, shuffle=False)\n",
    "\n",
    "# 4. Entrenamiento\n",
    "device = torch.device(\"cuda\" if torch.cuda.is_available() else \"cpu\")\n",
    "model = GCNN().to(device)\n",
    "criterion = nn.CrossEntropyLoss()\n",
    "optimizer = torch.optim.Adam(model.parameters(), lr=0.001)\n",
    "\n",
    "num_epochs = 10\n",
    "for epoch in range(num_epochs):\n",
    "    model.train()\n",
    "    running_loss = 0.0\n",
    "    for images, labels in train_loader:\n",
    "        images, labels = images.to(device), labels.to(device)\n",
    "        \n",
    "        # Forward y backward\n",
    "        optimizer.zero_grad()\n",
    "        outputs = model(images)\n",
    "        loss = criterion(outputs, labels)\n",
    "        loss.backward()\n",
    "        optimizer.step()\n",
    "        \n",
    "        running_loss += loss.item()\n",
    "    \n",
    "    print(f\"Epoch [{epoch+1}/{num_epochs}], Loss: {running_loss/len(train_loader):.4f}\")\n",
    "\n",
    "# 5. Evaluación\n",
    "model.eval()\n",
    "correct = 0\n",
    "total = 0\n",
    "with torch.no_grad():\n",
    "    for images, labels in test_loader:\n",
    "        images, labels = images.to(device), labels.to(device)\n",
    "        outputs = model(images)\n",
    "        _, predicted = torch.max(outputs.data, 1)\n",
    "        total += labels.size(0)\n",
    "        correct += (predicted == labels).sum().item()\n",
    "\n",
    "print(f\"Accuracy: {100 * correct / total:.2f}%\")\n"
   ]
  },
  {
   "cell_type": "code",
   "execution_count": 15,
   "id": "502bdf06-07a5-4341-b61a-a2ffabe4969f",
   "metadata": {},
   "outputs": [
    {
     "name": "stdout",
     "output_type": "stream",
     "text": [
      "Epoch [1/10], Loss: 0.8234\n",
      "Epoch [2/10], Loss: 0.5221\n",
      "Epoch [3/10], Loss: 0.4618\n",
      "Epoch [4/10], Loss: 0.3602\n",
      "Epoch [5/10], Loss: 0.2945\n",
      "Epoch [6/10], Loss: 0.2589\n",
      "Epoch [7/10], Loss: 0.2371\n",
      "Epoch [8/10], Loss: 0.1937\n",
      "Epoch [9/10], Loss: 0.1695\n",
      "Epoch [10/10], Loss: 0.1465\n",
      "Accuracy: 89.47%\n"
     ]
    }
   ],
   "source": [
    "import torch\n",
    "import torch.nn as nn\n",
    "import torchvision.transforms as transforms\n",
    "import torchvision.datasets as datasets\n",
    "from e2cnn import gspaces\n",
    "from e2cnn import nn as enn\n",
    "\n",
    "# 1. Configuración del espacio de simetrías\n",
    "# Grupo de rotaciones discretas C4 (0°, 90°, 180°, 270°)\n",
    "gspace = gspaces.Rot2dOnR2(N=8)\n",
    "\n",
    "# 2. Definición de la G-CNN\n",
    "class GCNN(nn.Module):\n",
    "    def __init__(self):\n",
    "        super(GCNN, self).__init__()\n",
    "        \n",
    "        # Primer capa convolucional G-CNN\n",
    "        self.input_type = enn.FieldType(gspace, [gspace.trivial_repr])\n",
    "        self.conv1 = enn.R2Conv(\n",
    "            in_type=self.input_type,\n",
    "            out_type=enn.FieldType(gspace, 16 * [gspace.regular_repr]),\n",
    "            kernel_size=3,\n",
    "            stride=1,\n",
    "            padding=1\n",
    "        )\n",
    "        self.relu1 = enn.ReLU(self.conv1.out_type)\n",
    "        \n",
    "        # Segunda capa convolucional G-CNN\n",
    "        self.conv2 = enn.R2Conv(\n",
    "            in_type=self.conv1.out_type,\n",
    "            out_type=enn.FieldType(gspace, 32 * [gspace.regular_repr]),\n",
    "            kernel_size=3,\n",
    "            stride=1,\n",
    "            padding=1\n",
    "        )\n",
    "        self.relu2 = enn.ReLU(self.conv2.out_type)\n",
    "        \n",
    "        # Pooling equivariante\n",
    "        self.pool = enn.PointwiseMaxPool(self.conv2.out_type, kernel_size=2, stride=2)\n",
    "        \n",
    "        # Capa totalmente conectada\n",
    "        self.gpool = enn.GroupPooling(self.pool.out_type)  # Reduce al espacio usual\n",
    "        self.fc = nn.Linear(32 * 14 * 14, 4)  # Ajusta tamaño según dimensiones\n",
    "        \n",
    "    def forward(self, x):\n",
    "        x = enn.GeometricTensor(x, self.input_type)\n",
    "        x = self.conv1(x)\n",
    "        x = self.relu1(x)\n",
    "        x = self.conv2(x)\n",
    "        x = self.relu2(x)\n",
    "        x = self.pool(x)\n",
    "        x = self.gpool(x).tensor  # Volver al espacio usual\n",
    "        x = x.view(x.size(0), -1)\n",
    "        x = self.fc(x)\n",
    "        return x\n",
    "\n",
    "# 3. Cargar datos\n",
    "transform = transforms.Compose([\n",
    "    transforms.Resize((28, 28)),\n",
    "    transforms.Grayscale(),  # Convertir a escala de grises si es necesario\n",
    "    transforms.ToTensor(),\n",
    "    transforms.Normalize((0.5,), (0.5,))  # Normalización\n",
    "])\n",
    "# Directorios\n",
    "train_dir = '/home/jupyter-user5/Clase-2025-1/data/Training'\n",
    "test_dir = '/home/jupyter-user5/Clase-2025-1/data/Testing'\n",
    "\n",
    "train_dataset = datasets.ImageFolder(train_dir, transform=transform)\n",
    "test_dataset = datasets.ImageFolder(test_dir, transform=transform)\n",
    "\n",
    "train_loader = torch.utils.data.DataLoader(train_dataset, batch_size=32, shuffle=True)\n",
    "test_loader = torch.utils.data.DataLoader(test_dataset, batch_size=32, shuffle=False)\n",
    "\n",
    "# 4. Entrenamiento\n",
    "device = torch.device(\"cuda\" if torch.cuda.is_available() else \"cpu\")\n",
    "model = GCNN().to(device)\n",
    "criterion = nn.CrossEntropyLoss()\n",
    "optimizer = torch.optim.Adam(model.parameters(), lr=0.001)\n",
    "\n",
    "num_epochs = 10\n",
    "for epoch in range(num_epochs):\n",
    "    model.train()\n",
    "    running_loss = 0.0\n",
    "    for images, labels in train_loader:\n",
    "        images, labels = images.to(device), labels.to(device)\n",
    "        \n",
    "        # Forward y backward\n",
    "        optimizer.zero_grad()\n",
    "        outputs = model(images)\n",
    "        loss = criterion(outputs, labels)\n",
    "        loss.backward()\n",
    "        optimizer.step()\n",
    "        \n",
    "        running_loss += loss.item()\n",
    "    \n",
    "    print(f\"Epoch [{epoch+1}/{num_epochs}], Loss: {running_loss/len(train_loader):.4f}\")\n",
    "\n",
    "# 5. Evaluación\n",
    "model.eval()\n",
    "correct = 0\n",
    "total = 0\n",
    "with torch.no_grad():\n",
    "    for images, labels in test_loader:\n",
    "        images, labels = images.to(device), labels.to(device)\n",
    "        outputs = model(images)\n",
    "        _, predicted = torch.max(outputs.data, 1)\n",
    "        total += labels.size(0)\n",
    "        correct += (predicted == labels).sum().item()\n",
    "\n",
    "print(f\"Accuracy: {100 * correct / total:.2f}%\")\n"
   ]
  },
  {
   "cell_type": "code",
   "execution_count": 16,
   "id": "3d46cdff-7f3b-437b-9270-6ddc1dbb0011",
   "metadata": {},
   "outputs": [
    {
     "name": "stdout",
     "output_type": "stream",
     "text": [
      "Epoch [1/10], Loss: 0.8039\n",
      "Epoch [2/10], Loss: 0.5119\n",
      "Epoch [3/10], Loss: 0.4317\n",
      "Epoch [4/10], Loss: 0.3450\n",
      "Epoch [5/10], Loss: 0.2983\n",
      "Epoch [6/10], Loss: 0.2707\n",
      "Epoch [7/10], Loss: 0.2185\n",
      "Epoch [8/10], Loss: 0.2083\n",
      "Epoch [9/10], Loss: 0.1808\n",
      "Epoch [10/10], Loss: 0.1500\n",
      "Accuracy: 88.48%\n"
     ]
    }
   ],
   "source": [
    "import torch\n",
    "import torch.nn as nn\n",
    "import torchvision.transforms as transforms\n",
    "import torchvision.datasets as datasets\n",
    "from e2cnn import gspaces\n",
    "from e2cnn import nn as enn\n",
    "\n",
    "# 1. Configuración del espacio de simetrías\n",
    "# Grupo de rotaciones discretas C4 (0°, 90°, 180°, 270°)\n",
    "gspace = gspaces.Rot2dOnR2(N=16)\n",
    "\n",
    "# 2. Definición de la G-CNN\n",
    "class GCNN(nn.Module):\n",
    "    def __init__(self):\n",
    "        super(GCNN, self).__init__()\n",
    "        \n",
    "        # Primer capa convolucional G-CNN\n",
    "        self.input_type = enn.FieldType(gspace, [gspace.trivial_repr])\n",
    "        self.conv1 = enn.R2Conv(\n",
    "            in_type=self.input_type,\n",
    "            out_type=enn.FieldType(gspace, 16 * [gspace.regular_repr]),\n",
    "            kernel_size=3,\n",
    "            stride=1,\n",
    "            padding=1\n",
    "        )\n",
    "        self.relu1 = enn.ReLU(self.conv1.out_type)\n",
    "        \n",
    "        # Segunda capa convolucional G-CNN\n",
    "        self.conv2 = enn.R2Conv(\n",
    "            in_type=self.conv1.out_type,\n",
    "            out_type=enn.FieldType(gspace, 32 * [gspace.regular_repr]),\n",
    "            kernel_size=3,\n",
    "            stride=1,\n",
    "            padding=1\n",
    "        )\n",
    "        self.relu2 = enn.ReLU(self.conv2.out_type)\n",
    "        \n",
    "        # Pooling equivariante\n",
    "        self.pool = enn.PointwiseMaxPool(self.conv2.out_type, kernel_size=2, stride=2)\n",
    "        \n",
    "        # Capa totalmente conectada\n",
    "        self.gpool = enn.GroupPooling(self.pool.out_type)  # Reduce al espacio usual\n",
    "        self.fc = nn.Linear(32 * 14 * 14, 4)  # Ajusta tamaño según dimensiones\n",
    "        \n",
    "    def forward(self, x):\n",
    "        x = enn.GeometricTensor(x, self.input_type)\n",
    "        x = self.conv1(x)\n",
    "        x = self.relu1(x)\n",
    "        x = self.conv2(x)\n",
    "        x = self.relu2(x)\n",
    "        x = self.pool(x)\n",
    "        x = self.gpool(x).tensor  # Volver al espacio usual\n",
    "        x = x.view(x.size(0), -1)\n",
    "        x = self.fc(x)\n",
    "        return x\n",
    "\n",
    "# 3. Cargar datos\n",
    "transform = transforms.Compose([\n",
    "    transforms.Resize((28, 28)),\n",
    "    transforms.Grayscale(),  # Convertir a escala de grises si es necesario\n",
    "    transforms.ToTensor(),\n",
    "    transforms.Normalize((0.5,), (0.5,))  # Normalización\n",
    "])\n",
    "# Directorios\n",
    "train_dir = '/home/jupyter-user5/Clase-2025-1/data/Training'\n",
    "test_dir = '/home/jupyter-user5/Clase-2025-1/data/Testing'\n",
    "\n",
    "train_dataset = datasets.ImageFolder(train_dir, transform=transform)\n",
    "test_dataset = datasets.ImageFolder(test_dir, transform=transform)\n",
    "\n",
    "train_loader = torch.utils.data.DataLoader(train_dataset, batch_size=32, shuffle=True)\n",
    "test_loader = torch.utils.data.DataLoader(test_dataset, batch_size=32, shuffle=False)\n",
    "\n",
    "# 4. Entrenamiento\n",
    "device = torch.device(\"cuda\" if torch.cuda.is_available() else \"cpu\")\n",
    "model = GCNN().to(device)\n",
    "criterion = nn.CrossEntropyLoss()\n",
    "optimizer = torch.optim.Adam(model.parameters(), lr=0.001)\n",
    "\n",
    "num_epochs = 10\n",
    "for epoch in range(num_epochs):\n",
    "    model.train()\n",
    "    running_loss = 0.0\n",
    "    for images, labels in train_loader:\n",
    "        images, labels = images.to(device), labels.to(device)\n",
    "        \n",
    "        # Forward y backward\n",
    "        optimizer.zero_grad()\n",
    "        outputs = model(images)\n",
    "        loss = criterion(outputs, labels)\n",
    "        loss.backward()\n",
    "        optimizer.step()\n",
    "        \n",
    "        running_loss += loss.item()\n",
    "    \n",
    "    print(f\"Epoch [{epoch+1}/{num_epochs}], Loss: {running_loss/len(train_loader):.4f}\")\n",
    "\n",
    "# 5. Evaluación\n",
    "model.eval()\n",
    "correct = 0\n",
    "total = 0\n",
    "with torch.no_grad():\n",
    "    for images, labels in test_loader:\n",
    "        images, labels = images.to(device), labels.to(device)\n",
    "        outputs = model(images)\n",
    "        _, predicted = torch.max(outputs.data, 1)\n",
    "        total += labels.size(0)\n",
    "        correct += (predicted == labels).sum().item()\n",
    "\n",
    "print(f\"Accuracy: {100 * correct / total:.2f}%\")\n"
   ]
  },
  {
   "cell_type": "code",
   "execution_count": 17,
   "id": "25661cf9-c3f1-4050-8093-69507f4b1f48",
   "metadata": {},
   "outputs": [
    {
     "name": "stdout",
     "output_type": "stream",
     "text": [
      "Epoch [1/10], Loss: 0.7770\n",
      "Epoch [2/10], Loss: 0.4856\n",
      "Epoch [3/10], Loss: 0.4021\n",
      "Epoch [4/10], Loss: 0.3537\n",
      "Epoch [5/10], Loss: 0.3014\n",
      "Epoch [6/10], Loss: 0.2540\n",
      "Epoch [7/10], Loss: 0.2167\n",
      "Epoch [8/10], Loss: 0.1898\n",
      "Epoch [9/10], Loss: 0.1687\n",
      "Epoch [10/10], Loss: 0.1344\n",
      "Accuracy: 88.41%\n"
     ]
    }
   ],
   "source": [
    "import torch\n",
    "import torch.nn as nn\n",
    "import torchvision.transforms as transforms\n",
    "import torchvision.datasets as datasets\n",
    "from e2cnn import gspaces\n",
    "from e2cnn import nn as enn\n",
    "\n",
    "# 1. Configuración del espacio de simetrías\n",
    "# Grupo de rotaciones discretas C4 (0°, 90°, 180°, 270°)\n",
    "gspace = gspaces.Rot2dOnR2(N=2)\n",
    "\n",
    "# 2. Definición de la G-CNN\n",
    "class GCNN(nn.Module):\n",
    "    def __init__(self):\n",
    "        super(GCNN, self).__init__()\n",
    "        \n",
    "        # Primer capa convolucional G-CNN\n",
    "        self.input_type = enn.FieldType(gspace, [gspace.trivial_repr])\n",
    "        self.conv1 = enn.R2Conv(\n",
    "            in_type=self.input_type,\n",
    "            out_type=enn.FieldType(gspace, 16 * [gspace.regular_repr]),\n",
    "            kernel_size=3,\n",
    "            stride=1,\n",
    "            padding=1\n",
    "        )\n",
    "        self.relu1 = enn.ReLU(self.conv1.out_type)\n",
    "        \n",
    "        # Segunda capa convolucional G-CNN\n",
    "        self.conv2 = enn.R2Conv(\n",
    "            in_type=self.conv1.out_type,\n",
    "            out_type=enn.FieldType(gspace, 32 * [gspace.regular_repr]),\n",
    "            kernel_size=3,\n",
    "            stride=1,\n",
    "            padding=1\n",
    "        )\n",
    "        self.relu2 = enn.ReLU(self.conv2.out_type)\n",
    "        \n",
    "        # Pooling equivariante\n",
    "        self.pool = enn.PointwiseMaxPool(self.conv2.out_type, kernel_size=2, stride=2)\n",
    "        \n",
    "        # Capa totalmente conectada\n",
    "        self.gpool = enn.GroupPooling(self.pool.out_type)  # Reduce al espacio usual\n",
    "        self.fc = nn.Linear(32 * 14 * 14, 4)  # Ajusta tamaño según dimensiones\n",
    "        \n",
    "    def forward(self, x):\n",
    "        x = enn.GeometricTensor(x, self.input_type)\n",
    "        x = self.conv1(x)\n",
    "        x = self.relu1(x)\n",
    "        x = self.conv2(x)\n",
    "        x = self.relu2(x)\n",
    "        x = self.pool(x)\n",
    "        x = self.gpool(x).tensor  # Volver al espacio usual\n",
    "        x = x.view(x.size(0), -1)\n",
    "        x = self.fc(x)\n",
    "        return x\n",
    "\n",
    "# 3. Cargar datos\n",
    "transform = transforms.Compose([\n",
    "    transforms.Resize((28, 28)),\n",
    "    transforms.Grayscale(),  # Convertir a escala de grises si es necesario\n",
    "    transforms.ToTensor(),\n",
    "    transforms.Normalize((0.5,), (0.5,))  # Normalización\n",
    "])\n",
    "# Directorios\n",
    "train_dir = '/home/jupyter-user5/Clase-2025-1/data/Training'\n",
    "test_dir = '/home/jupyter-user5/Clase-2025-1/data/Testing'\n",
    "\n",
    "train_dataset = datasets.ImageFolder(train_dir, transform=transform)\n",
    "test_dataset = datasets.ImageFolder(test_dir, transform=transform)\n",
    "\n",
    "train_loader = torch.utils.data.DataLoader(train_dataset, batch_size=32, shuffle=True)\n",
    "test_loader = torch.utils.data.DataLoader(test_dataset, batch_size=32, shuffle=False)\n",
    "\n",
    "# 4. Entrenamiento\n",
    "device = torch.device(\"cuda\" if torch.cuda.is_available() else \"cpu\")\n",
    "model = GCNN().to(device)\n",
    "criterion = nn.CrossEntropyLoss()\n",
    "optimizer = torch.optim.Adam(model.parameters(), lr=0.001)\n",
    "\n",
    "num_epochs = 10\n",
    "for epoch in range(num_epochs):\n",
    "    model.train()\n",
    "    running_loss = 0.0\n",
    "    for images, labels in train_loader:\n",
    "        images, labels = images.to(device), labels.to(device)\n",
    "        \n",
    "        # Forward y backward\n",
    "        optimizer.zero_grad()\n",
    "        outputs = model(images)\n",
    "        loss = criterion(outputs, labels)\n",
    "        loss.backward()\n",
    "        optimizer.step()\n",
    "        \n",
    "        running_loss += loss.item()\n",
    "    \n",
    "    print(f\"Epoch [{epoch+1}/{num_epochs}], Loss: {running_loss/len(train_loader):.4f}\")\n",
    "\n",
    "# 5. Evaluación\n",
    "model.eval()\n",
    "correct = 0\n",
    "total = 0\n",
    "with torch.no_grad():\n",
    "    for images, labels in test_loader:\n",
    "        images, labels = images.to(device), labels.to(device)\n",
    "        outputs = model(images)\n",
    "        _, predicted = torch.max(outputs.data, 1)\n",
    "        total += labels.size(0)\n",
    "        correct += (predicted == labels).sum().item()\n",
    "\n",
    "print(f\"Accuracy: {100 * correct / total:.2f}%\")\n"
   ]
  },
  {
   "cell_type": "code",
   "execution_count": null,
   "id": "3d4c5765-0b04-41ee-b806-4524bbf659ce",
   "metadata": {},
   "outputs": [],
   "source": []
  },
  {
   "cell_type": "code",
   "execution_count": null,
   "id": "b7284f27-9293-48f3-a29e-beffbdb196ba",
   "metadata": {},
   "outputs": [],
   "source": []
  },
  {
   "cell_type": "code",
   "execution_count": null,
   "id": "aa56c028-d615-45a9-8982-ff3a5e363a1e",
   "metadata": {},
   "outputs": [],
   "source": []
  },
  {
   "cell_type": "code",
   "execution_count": 19,
   "id": "5cca2d31-9df2-425f-bf18-8b8a4795aef7",
   "metadata": {},
   "outputs": [],
   "source": [
    "#Ejercicio"
   ]
  },
  {
   "cell_type": "code",
   "execution_count": 21,
   "id": "fcc0fe6f-2fc7-484a-9c9e-85808f35e028",
   "metadata": {},
   "outputs": [],
   "source": [
    "#clasificar imágenes de un conjunto de datos que contiene figuras geométricas simples (cuadrados, triángulos y círculos). \n",
    "#La red aprovechará las simetrías de rotación para mejorar su desempeño."
   ]
  },
  {
   "cell_type": "code",
   "execution_count": 22,
   "id": "65d24436-9b01-4cbd-94ac-87d40dbddd7d",
   "metadata": {},
   "outputs": [],
   "source": [
    "#Genera un conjunto de imágenes de figuras geométricas (cuadrados, triángulos y círculos) rotadas en ángulos aleatorios (0°, 90°, 180°, 270°).\n",
    "#Usa una librería como matplotlib para generar las imágenes y torchvision.datasets.ImageFolder para cargar los datos."
   ]
  },
  {
   "cell_type": "code",
   "execution_count": null,
   "id": "24efafcb-41ae-46af-9b3b-3808f3299c76",
   "metadata": {},
   "outputs": [],
   "source": []
  },
  {
   "cell_type": "code",
   "execution_count": 24,
   "id": "30eb94ee-528d-4441-91b2-18b96ce49932",
   "metadata": {
    "jupyter": {
     "source_hidden": true
    }
   },
   "outputs": [],
   "source": [
    "import matplotlib.pyplot as plt\n",
    "import numpy as np\n",
    "import os\n",
    "from PIL import Image\n",
    "from sklearn.model_selection import train_test_split\n",
    "import shutil\n",
    "\n",
    "def generate_shapes(output_dir, num_images=300, img_size=(28, 28)):\n",
    "    shapes = ['circle', 'square', 'triangle']\n",
    "    os.makedirs(output_dir, exist_ok=True)\n",
    "    \n",
    "    for shape in shapes:\n",
    "        shape_dir = os.path.join(output_dir, shape)\n",
    "        os.makedirs(shape_dir, exist_ok=True)\n",
    "        \n",
    "        for i in range(num_images):\n",
    "            fig, ax = plt.subplots(figsize=(1, 1))\n",
    "            ax.set_xlim(0, 1)\n",
    "            ax.set_ylim(0, 1)\n",
    "            ax.axis('off')\n",
    "            \n",
    "            if shape == 'circle':\n",
    "                circle = plt.Circle((0.5, 0.5), 0.3, color='black')\n",
    "                ax.add_patch(circle)\n",
    "            elif shape == 'square':\n",
    "                square = plt.Rectangle((0.2, 0.2), 0.6, 0.6, color='black')\n",
    "                ax.add_patch(square)\n",
    "            elif shape == 'triangle':\n",
    "                triangle = plt.Polygon([[0.5, 0.8], [0.2, 0.2], [0.8, 0.2]], color='black')\n",
    "                ax.add_patch(triangle)\n",
    "            \n",
    "            angle = np.random.choice([0, 90, 180, 270])\n",
    "            plt.savefig('temp.png', bbox_inches='tight', pad_inches=0, dpi=100)\n",
    "            plt.close(fig)\n",
    "            \n",
    "            img = Image.open('temp.png').rotate(angle, expand=True).convert('L')\n",
    "            img = img.resize(img_size)\n",
    "            img.save(os.path.join(shape_dir, f\"{shape}_{i}.png\"))\n",
    "    \n",
    "    os.remove('temp.png')\n",
    "\n",
    "# Generar las imágenes\n",
    "output_dir = \"shapes_dataset\"\n",
    "generate_shapes(output_dir)\n",
    "\n",
    "# Dividir en entrenamiento y prueba\n",
    "train_dir = \"shapes_train\"\n",
    "test_dir = \"shapes_test\"\n",
    "os.makedirs(train_dir, exist_ok=True)\n",
    "os.makedirs(test_dir, exist_ok=True)\n",
    "\n",
    "for shape in os.listdir(output_dir):\n",
    "    shape_dir = os.path.join(output_dir, shape)\n",
    "    files = os.listdir(shape_dir)\n",
    "    train_files, test_files = train_test_split(files, test_size=0.2, random_state=42)\n",
    "    \n",
    "    os.makedirs(os.path.join(train_dir, shape), exist_ok=True)\n",
    "    os.makedirs(os.path.join(test_dir, shape), exist_ok=True)\n",
    "    \n",
    "    for f in train_files:\n",
    "        shutil.move(os.path.join(shape_dir, f), os.path.join(train_dir, shape, f))\n",
    "    for f in test_files:\n",
    "        shutil.move(os.path.join(shape_dir, f), os.path.join(test_dir, shape, f))\n",
    "\n",
    "shutil.rmtree(output_dir)\n"
   ]
  },
  {
   "cell_type": "code",
   "execution_count": null,
   "id": "c3c8f531-e7e1-4682-b924-88faa04dc4a9",
   "metadata": {},
   "outputs": [],
   "source": []
  },
  {
   "cell_type": "code",
   "execution_count": 25,
   "id": "9fe15f99-8f62-4aeb-82a0-77b3ff5dcf25",
   "metadata": {
    "jupyter": {
     "source_hidden": true
    }
   },
   "outputs": [],
   "source": [
    "import torch\n",
    "import torch.nn as nn\n",
    "import torchvision.transforms as transforms\n",
    "import torchvision.datasets as datasets\n",
    "from e2cnn import gspaces\n",
    "from e2cnn import nn as enn\n",
    "\n",
    "# Configuración del espacio de simetrías\n",
    "gspace = gspaces.Rot2dOnR2(N=4)\n",
    "\n",
    "# Definición de la G-CNN\n",
    "class GCNN(nn.Module):\n",
    "    def __init__(self):\n",
    "        super(GCNN, self).__init__()\n",
    "        \n",
    "        self.input_type = enn.FieldType(gspace, [gspace.trivial_repr])\n",
    "        self.conv1 = enn.R2Conv(\n",
    "            in_type=self.input_type,\n",
    "            out_type=enn.FieldType(gspace, 16 * [gspace.regular_repr]),\n",
    "            kernel_size=3, stride=1, padding=1\n",
    "        )\n",
    "        self.relu1 = enn.ReLU(self.conv1.out_type)\n",
    "        self.conv2 = enn.R2Conv(\n",
    "            in_type=self.conv1.out_type,\n",
    "            out_type=enn.FieldType(gspace, 32 * [gspace.regular_repr]),\n",
    "            kernel_size=3, stride=1, padding=1\n",
    "        )\n",
    "        self.relu2 = enn.ReLU(self.conv2.out_type)\n",
    "        self.pool = enn.PointwiseMaxPool(self.conv2.out_type, kernel_size=2, stride=2)\n",
    "        self.gpool = enn.GroupPooling(self.pool.out_type)\n",
    "        self.fc = nn.Linear(32 * 14 * 14, 3)\n",
    "        \n",
    "    def forward(self, x):\n",
    "        x = enn.GeometricTensor(x, self.input_type)\n",
    "        x = self.conv1(x)\n",
    "        x = self.relu1(x)\n",
    "        x = self.conv2(x)\n",
    "        x = self.relu2(x)\n",
    "        x = self.pool(x)\n",
    "        x = self.gpool(x).tensor\n",
    "        x = x.view(x.size(0), -1)\n",
    "        x = self.fc(x)\n",
    "        return x\n"
   ]
  },
  {
   "cell_type": "code",
   "execution_count": 26,
   "id": "b6dbbf5c-0fbe-4cd6-9a8a-f6fddf5e88d7",
   "metadata": {
    "jupyter": {
     "source_hidden": true
    }
   },
   "outputs": [
    {
     "name": "stdout",
     "output_type": "stream",
     "text": [
      "Epoch [1/10], Loss: 0.3114\n",
      "Epoch [2/10], Loss: 0.0001\n",
      "Epoch [3/10], Loss: 0.0000\n",
      "Epoch [4/10], Loss: 0.0000\n",
      "Epoch [5/10], Loss: 0.0000\n",
      "Epoch [6/10], Loss: 0.0000\n",
      "Epoch [7/10], Loss: 0.0000\n",
      "Epoch [8/10], Loss: 0.0000\n",
      "Epoch [9/10], Loss: 0.0000\n",
      "Epoch [10/10], Loss: 0.0000\n"
     ]
    }
   ],
   "source": [
    "# Cargar datos\n",
    "transform = transforms.Compose([\n",
    "    transforms.Resize((28, 28)),\n",
    "    transforms.Grayscale(),\n",
    "    transforms.ToTensor(),\n",
    "    transforms.Normalize((0.5,), (0.5,))\n",
    "])\n",
    "train_dataset = datasets.ImageFolder(train_dir, transform=transform)\n",
    "test_dataset = datasets.ImageFolder(test_dir, transform=transform)\n",
    "\n",
    "train_loader = torch.utils.data.DataLoader(train_dataset, batch_size=32, shuffle=True)\n",
    "test_loader = torch.utils.data.DataLoader(test_dataset, batch_size=32, shuffle=False)\n",
    "\n",
    "# Configuración y entrenamiento\n",
    "device = torch.device(\"cuda\" if torch.cuda.is_available() else \"cpu\")\n",
    "model = GCNN().to(device)\n",
    "criterion = nn.CrossEntropyLoss()\n",
    "optimizer = torch.optim.Adam(model.parameters(), lr=0.001)\n",
    "\n",
    "num_epochs = 10\n",
    "for epoch in range(num_epochs):\n",
    "    model.train()\n",
    "    running_loss = 0.0\n",
    "    for images, labels in train_loader:\n",
    "        images, labels = images.to(device), labels.to(device)\n",
    "        optimizer.zero_grad()\n",
    "        outputs = model(images)\n",
    "        loss = criterion(outputs, labels)\n",
    "        loss.backward()\n",
    "        optimizer.step()\n",
    "        running_loss += loss.item()\n",
    "    print(f\"Epoch [{epoch+1}/{num_epochs}], Loss: {running_loss/len(train_loader):.4f}\")\n"
   ]
  },
  {
   "cell_type": "code",
   "execution_count": 27,
   "id": "c677ee25-bd1b-4158-992c-93a46d001277",
   "metadata": {
    "jupyter": {
     "source_hidden": true
    }
   },
   "outputs": [
    {
     "name": "stdout",
     "output_type": "stream",
     "text": [
      "Accuracy of G-CNN: 100.00%\n"
     ]
    }
   ],
   "source": [
    "model.eval()\n",
    "correct = 0\n",
    "total = 0\n",
    "with torch.no_grad():\n",
    "    for images, labels in test_loader:\n",
    "        images, labels = images.to(device), labels.to(device)\n",
    "        outputs = model(images)\n",
    "        _, predicted = torch.max(outputs.data, 1)\n",
    "        total += labels.size(0)\n",
    "        correct += (predicted == labels).sum().item()\n",
    "\n",
    "print(f\"Accuracy of G-CNN: {100 * correct / total:.2f}%\")\n"
   ]
  },
  {
   "cell_type": "code",
   "execution_count": 29,
   "id": "af9ec5e6-3386-4ab1-9d70-8e5f7aff35f5",
   "metadata": {
    "jupyter": {
     "source_hidden": true
    }
   },
   "outputs": [],
   "source": [
    "class CNN(nn.Module):\n",
    "    def __init__(self):\n",
    "        super(CNN, self).__init__()\n",
    "        self.conv1 = nn.Conv2d(1, 16, kernel_size=3, padding=1)\n",
    "        self.relu1 = nn.ReLU()\n",
    "        self.pool = nn.MaxPool2d(2, 2)\n",
    "        self.fc = nn.Linear(16 * 14 * 14, 3)\n",
    "    \n",
    "    def forward(self, x):\n",
    "        x = self.pool(self.relu1(self.conv1(x)))\n",
    "        x = x.view(x.size(0), -1)\n",
    "        x = self.fc(x)\n",
    "        return x"
   ]
  },
  {
   "cell_type": "code",
   "execution_count": 30,
   "id": "4c5226eb-ac60-4f41-bbb7-573ab3bcd0d0",
   "metadata": {
    "jupyter": {
     "source_hidden": true
    }
   },
   "outputs": [
    {
     "name": "stdout",
     "output_type": "stream",
     "text": [
      "Epoch [1/10], Loss: 0.2992\n",
      "Epoch [2/10], Loss: 0.0003\n",
      "Epoch [3/10], Loss: 0.0000\n",
      "Epoch [4/10], Loss: 0.0000\n",
      "Epoch [5/10], Loss: 0.0000\n",
      "Epoch [6/10], Loss: 0.0000\n",
      "Epoch [7/10], Loss: 0.0000\n",
      "Epoch [8/10], Loss: 0.0000\n",
      "Epoch [9/10], Loss: 0.0000\n",
      "Epoch [10/10], Loss: 0.0000\n"
     ]
    }
   ],
   "source": [
    "# Cargar datos\n",
    "transform = transforms.Compose([\n",
    "    transforms.Resize((28, 28)),\n",
    "    transforms.Grayscale(),\n",
    "    transforms.ToTensor(),\n",
    "    transforms.Normalize((0.5,), (0.5,))\n",
    "])\n",
    "train_dataset = datasets.ImageFolder(train_dir, transform=transform)\n",
    "test_dataset = datasets.ImageFolder(test_dir, transform=transform)\n",
    "\n",
    "train_loader = torch.utils.data.DataLoader(train_dataset, batch_size=32, shuffle=True)\n",
    "test_loader = torch.utils.data.DataLoader(test_dataset, batch_size=32, shuffle=False)\n",
    "\n",
    "# Configuración y entrenamiento\n",
    "device = torch.device(\"cuda\" if torch.cuda.is_available() else \"cpu\")\n",
    "model = GCNN().to(device)\n",
    "criterion = nn.CrossEntropyLoss()\n",
    "optimizer = torch.optim.Adam(model.parameters(), lr=0.001)\n",
    "\n",
    "num_epochs = 10\n",
    "for epoch in range(num_epochs):\n",
    "    model.train()\n",
    "    running_loss = 0.0\n",
    "    for images, labels in train_loader:\n",
    "        images, labels = images.to(device), labels.to(device)\n",
    "        optimizer.zero_grad()\n",
    "        outputs = model(images)\n",
    "        loss = criterion(outputs, labels)\n",
    "        loss.backward()\n",
    "        optimizer.step()\n",
    "        running_loss += loss.item()\n",
    "    print(f\"Epoch [{epoch+1}/{num_epochs}], Loss: {running_loss/len(train_loader):.4f}\")\n"
   ]
  },
  {
   "cell_type": "code",
   "execution_count": 32,
   "id": "27addc7c-ec16-4702-abce-227ac5a93942",
   "metadata": {
    "jupyter": {
     "source_hidden": true
    }
   },
   "outputs": [
    {
     "name": "stdout",
     "output_type": "stream",
     "text": [
      "Accuracy of CNN: 100.00%\n"
     ]
    }
   ],
   "source": [
    "model.eval()\n",
    "correct = 0\n",
    "total = 0\n",
    "with torch.no_grad():\n",
    "    for images, labels in test_loader:\n",
    "        images, labels = images.to(device), labels.to(device)\n",
    "        outputs = model(images)\n",
    "        _, predicted = torch.max(outputs.data, 1)\n",
    "        total += labels.size(0)\n",
    "        correct += (predicted == labels).sum().item()\n",
    "\n",
    "print(f\"Accuracy of CNN: {100 * correct / total:.2f}%\")\n"
   ]
  },
  {
   "cell_type": "code",
   "execution_count": null,
   "id": "fd782b98-5154-4949-a78d-3460628c1a3a",
   "metadata": {},
   "outputs": [],
   "source": []
  },
  {
   "cell_type": "code",
   "execution_count": null,
   "id": "45142d28-25ca-4e17-a546-57f8f430fcef",
   "metadata": {},
   "outputs": [],
   "source": []
  },
  {
   "cell_type": "code",
   "execution_count": null,
   "id": "34c37176-8586-4b2a-99ba-bc7b0e45df08",
   "metadata": {},
   "outputs": [],
   "source": []
  },
  {
   "cell_type": "code",
   "execution_count": 34,
   "id": "3aacfe0e-7659-4851-b647-c70a625b6ec6",
   "metadata": {},
   "outputs": [],
   "source": [
    "#Datos con ruido"
   ]
  },
  {
   "cell_type": "code",
   "execution_count": 35,
   "id": "aa35a139-c9da-4ec5-adb6-a03ad4a8c200",
   "metadata": {
    "jupyter": {
     "source_hidden": true
    }
   },
   "outputs": [],
   "source": [
    "def generate_shapes_with_noise(output_dir, num_images=300, img_size=(28, 28)):\n",
    "    shapes = ['circle', 'square', 'triangle']\n",
    "    os.makedirs(output_dir, exist_ok=True)\n",
    "    \n",
    "    for shape in shapes:\n",
    "        shape_dir = os.path.join(output_dir, shape)\n",
    "        os.makedirs(shape_dir, exist_ok=True)\n",
    "        \n",
    "        for i in range(num_images):\n",
    "            fig, ax = plt.subplots(figsize=(1, 1))\n",
    "            ax.set_xlim(0, 1)\n",
    "            ax.set_ylim(0, 1)\n",
    "            ax.axis('off')\n",
    "            \n",
    "            if shape == 'circle':\n",
    "                circle = plt.Circle((0.5, 0.5), 0.3, color='black')\n",
    "                ax.add_patch(circle)\n",
    "            elif shape == 'square':\n",
    "                square = plt.Rectangle((0.2, 0.2), 0.6, 0.6, color='black')\n",
    "                ax.add_patch(square)\n",
    "            elif shape == 'triangle':\n",
    "                triangle = plt.Polygon([[0.5, 0.8], [0.2, 0.2], [0.8, 0.2]], color='black')\n",
    "                ax.add_patch(triangle)\n",
    "            \n",
    "            angle = np.random.uniform(0, 360)  # Rotación continua\n",
    "            plt.savefig('temp.png', bbox_inches='tight', pad_inches=0, dpi=100)\n",
    "            plt.close(fig)\n",
    "            \n",
    "            img = Image.open('temp.png').rotate(angle, expand=True).convert('L')\n",
    "            img = img.resize(img_size)\n",
    "            \n",
    "            # Añadir ruido gaussiano\n",
    "            img = np.array(img)\n",
    "            noise = np.random.normal(0, 25, img.shape)  # Media=0, Desviación estándar=25\n",
    "            img = np.clip(img + noise, 0, 255).astype(np.uint8)\n",
    "            Image.fromarray(img).save(os.path.join(shape_dir, f\"{shape}_{i}.png\"))\n",
    "    \n",
    "    os.remove('temp.png')\n",
    "\n",
    "# Generar datos\n",
    "output_dir = \"shapes_with_noise\"\n",
    "generate_shapes_with_noise(output_dir)\n",
    "\n",
    "# Dividir los datos en entrenamiento y prueba (igual que antes)\n",
    "train_dir = \"shapes_train_noise\"\n",
    "test_dir = \"shapes_test_noise\"\n",
    "os.makedirs(train_dir, exist_ok=True)\n",
    "os.makedirs(test_dir, exist_ok=True)\n",
    "\n",
    "for shape in os.listdir(output_dir):\n",
    "    shape_dir = os.path.join(output_dir, shape)\n",
    "    files = os.listdir(shape_dir)\n",
    "    train_files, test_files = train_test_split(files, test_size=0.2, random_state=42)\n",
    "    \n",
    "    os.makedirs(os.path.join(train_dir, shape), exist_ok=True)\n",
    "    os.makedirs(os.path.join(test_dir, shape), exist_ok=True)\n",
    "    \n",
    "    for f in train_files:\n",
    "        shutil.move(os.path.join(shape_dir, f), os.path.join(train_dir, shape, f))\n",
    "    for f in test_files:\n",
    "        shutil.move(os.path.join(shape_dir, f), os.path.join(test_dir, shape, f))\n",
    "\n",
    "shutil.rmtree(output_dir)\n"
   ]
  },
  {
   "cell_type": "code",
   "execution_count": 36,
   "id": "089b3324-9ecc-4d13-9f05-cb85aa9e7f2e",
   "metadata": {
    "jupyter": {
     "source_hidden": true
    }
   },
   "outputs": [],
   "source": [
    "# Datos con ruido y rotaciones\n",
    "train_dataset = datasets.ImageFolder(train_dir, transform=transform)\n",
    "test_dataset = datasets.ImageFolder(test_dir, transform=transform)\n",
    "\n",
    "train_loader = torch.utils.data.DataLoader(train_dataset, batch_size=32, shuffle=True)\n",
    "test_loader = torch.utils.data.DataLoader(test_dataset, batch_size=32, shuffle=False)\n",
    "\n",
    "# Entrenar modelos y evaluar\n"
   ]
  },
  {
   "cell_type": "code",
   "execution_count": 37,
   "id": "9d1ad227-46ae-4825-9e72-c8cda07e70fb",
   "metadata": {
    "jupyter": {
     "source_hidden": true
    }
   },
   "outputs": [],
   "source": [
    "import torch\n",
    "import torch.nn as nn\n",
    "import torchvision.transforms as transforms\n",
    "import torchvision.datasets as datasets\n",
    "from e2cnn import gspaces\n",
    "from e2cnn import nn as enn\n",
    "\n",
    "# Configuración del espacio de simetrías\n",
    "gspace = gspaces.Rot2dOnR2(N=4)\n",
    "\n",
    "# Definición de la G-CNN\n",
    "class GCNN(nn.Module):\n",
    "    def __init__(self):\n",
    "        super(GCNN, self).__init__()\n",
    "        \n",
    "        self.input_type = enn.FieldType(gspace, [gspace.trivial_repr])\n",
    "        self.conv1 = enn.R2Conv(\n",
    "            in_type=self.input_type,\n",
    "            out_type=enn.FieldType(gspace, 16 * [gspace.regular_repr]),\n",
    "            kernel_size=3, stride=1, padding=1\n",
    "        )\n",
    "        self.relu1 = enn.ReLU(self.conv1.out_type)\n",
    "        self.conv2 = enn.R2Conv(\n",
    "            in_type=self.conv1.out_type,\n",
    "            out_type=enn.FieldType(gspace, 32 * [gspace.regular_repr]),\n",
    "            kernel_size=3, stride=1, padding=1\n",
    "        )\n",
    "        self.relu2 = enn.ReLU(self.conv2.out_type)\n",
    "        self.pool = enn.PointwiseMaxPool(self.conv2.out_type, kernel_size=2, stride=2)\n",
    "        self.gpool = enn.GroupPooling(self.pool.out_type)\n",
    "        self.fc = nn.Linear(32 * 14 * 14, 3)\n",
    "        \n",
    "    def forward(self, x):\n",
    "        x = enn.GeometricTensor(x, self.input_type)\n",
    "        x = self.conv1(x)\n",
    "        x = self.relu1(x)\n",
    "        x = self.conv2(x)\n",
    "        x = self.relu2(x)\n",
    "        x = self.pool(x)\n",
    "        x = self.gpool(x).tensor\n",
    "        x = x.view(x.size(0), -1)\n",
    "        x = self.fc(x)\n",
    "        return x\n"
   ]
  },
  {
   "cell_type": "code",
   "execution_count": 38,
   "id": "762f79e1-1d2f-4f89-bd51-4fa3feeb966d",
   "metadata": {
    "collapsed": true,
    "jupyter": {
     "outputs_hidden": true,
     "source_hidden": true
    }
   },
   "outputs": [
    {
     "name": "stdout",
     "output_type": "stream",
     "text": [
      "Epoch [1/10], Loss: 1.2558\n",
      "Epoch [2/10], Loss: 0.1347\n",
      "Epoch [3/10], Loss: 0.0198\n",
      "Epoch [4/10], Loss: 0.0065\n",
      "Epoch [5/10], Loss: 0.0040\n",
      "Epoch [6/10], Loss: 0.0028\n",
      "Epoch [7/10], Loss: 0.0022\n",
      "Epoch [8/10], Loss: 0.0017\n",
      "Epoch [9/10], Loss: 0.0014\n",
      "Epoch [10/10], Loss: 0.0011\n"
     ]
    }
   ],
   "source": [
    "# Cargar datos\n",
    "transform = transforms.Compose([\n",
    "    transforms.Resize((28, 28)),\n",
    "    transforms.Grayscale(),\n",
    "    transforms.ToTensor(),\n",
    "    transforms.Normalize((0.5,), (0.5,))\n",
    "])\n",
    "train_dataset = datasets.ImageFolder(train_dir, transform=transform)\n",
    "test_dataset = datasets.ImageFolder(test_dir, transform=transform)\n",
    "\n",
    "train_loader = torch.utils.data.DataLoader(train_dataset, batch_size=32, shuffle=True)\n",
    "test_loader = torch.utils.data.DataLoader(test_dataset, batch_size=32, shuffle=False)\n",
    "\n",
    "# Configuración y entrenamiento\n",
    "device = torch.device(\"cuda\" if torch.cuda.is_available() else \"cpu\")\n",
    "model = GCNN().to(device)\n",
    "criterion = nn.CrossEntropyLoss()\n",
    "optimizer = torch.optim.Adam(model.parameters(), lr=0.001)\n",
    "\n",
    "num_epochs = 10\n",
    "for epoch in range(num_epochs):\n",
    "    model.train()\n",
    "    running_loss = 0.0\n",
    "    for images, labels in train_loader:\n",
    "        images, labels = images.to(device), labels.to(device)\n",
    "        optimizer.zero_grad()\n",
    "        outputs = model(images)\n",
    "        loss = criterion(outputs, labels)\n",
    "        loss.backward()\n",
    "        optimizer.step()\n",
    "        running_loss += loss.item()\n",
    "    print(f\"Epoch [{epoch+1}/{num_epochs}], Loss: {running_loss/len(train_loader):.4f}\")\n"
   ]
  },
  {
   "cell_type": "code",
   "execution_count": 39,
   "id": "c377ef51-93ba-480a-b01c-9c28cfd73213",
   "metadata": {
    "jupyter": {
     "source_hidden": true
    }
   },
   "outputs": [
    {
     "name": "stdout",
     "output_type": "stream",
     "text": [
      "Accuracy of GCNN: 100.00%\n"
     ]
    }
   ],
   "source": [
    "model.eval()\n",
    "correct = 0\n",
    "total = 0\n",
    "with torch.no_grad():\n",
    "    for images, labels in test_loader:\n",
    "        images, labels = images.to(device), labels.to(device)\n",
    "        outputs = model(images)\n",
    "        _, predicted = torch.max(outputs.data, 1)\n",
    "        total += labels.size(0)\n",
    "        correct += (predicted == labels).sum().item()\n",
    "\n",
    "print(f\"Accuracy of GCNN: {100 * correct / total:.2f}%\")\n"
   ]
  },
  {
   "cell_type": "code",
   "execution_count": null,
   "id": "e58434e0-7e86-4292-8a87-6b84a770fb47",
   "metadata": {},
   "outputs": [],
   "source": []
  },
  {
   "cell_type": "code",
   "execution_count": null,
   "id": "47029b6d-fa0e-49a5-bb54-a1345c9be60d",
   "metadata": {},
   "outputs": [],
   "source": []
  },
  {
   "cell_type": "code",
   "execution_count": 40,
   "id": "b6cafc14-93d4-4f5a-8ec9-8cf2d8d5155e",
   "metadata": {
    "jupyter": {
     "source_hidden": true
    }
   },
   "outputs": [],
   "source": [
    "class CNN(nn.Module):\n",
    "    def __init__(self):\n",
    "        super(CNN, self).__init__()\n",
    "        self.conv1 = nn.Conv2d(1, 16, kernel_size=3, padding=1)\n",
    "        self.relu1 = nn.ReLU()\n",
    "        self.pool = nn.MaxPool2d(2, 2)\n",
    "        self.fc = nn.Linear(16 * 14 * 14, 3)\n",
    "    \n",
    "    def forward(self, x):\n",
    "        x = self.pool(self.relu1(self.conv1(x)))\n",
    "        x = x.view(x.size(0), -1)\n",
    "        x = self.fc(x)\n",
    "        return x"
   ]
  },
  {
   "cell_type": "code",
   "execution_count": 41,
   "id": "5ce6bf52-d11e-4104-8f92-e3366aacd091",
   "metadata": {
    "jupyter": {
     "source_hidden": true
    }
   },
   "outputs": [
    {
     "name": "stdout",
     "output_type": "stream",
     "text": [
      "Epoch [1/10], Loss: 0.9011\n",
      "Epoch [2/10], Loss: 0.0942\n",
      "Epoch [3/10], Loss: 0.0160\n",
      "Epoch [4/10], Loss: 0.0049\n",
      "Epoch [5/10], Loss: 0.0026\n",
      "Epoch [6/10], Loss: 0.0020\n",
      "Epoch [7/10], Loss: 0.0017\n",
      "Epoch [8/10], Loss: 0.0014\n",
      "Epoch [9/10], Loss: 0.0011\n",
      "Epoch [10/10], Loss: 0.0010\n"
     ]
    }
   ],
   "source": [
    "# Cargar datos\n",
    "transform = transforms.Compose([\n",
    "    transforms.Resize((28, 28)),\n",
    "    transforms.Grayscale(),\n",
    "    transforms.ToTensor(),\n",
    "    transforms.Normalize((0.5,), (0.5,))\n",
    "])\n",
    "train_dataset = datasets.ImageFolder(train_dir, transform=transform)\n",
    "test_dataset = datasets.ImageFolder(test_dir, transform=transform)\n",
    "\n",
    "train_loader = torch.utils.data.DataLoader(train_dataset, batch_size=32, shuffle=True)\n",
    "test_loader = torch.utils.data.DataLoader(test_dataset, batch_size=32, shuffle=False)\n",
    "\n",
    "# Configuración y entrenamiento\n",
    "device = torch.device(\"cuda\" if torch.cuda.is_available() else \"cpu\")\n",
    "model = GCNN().to(device)\n",
    "criterion = nn.CrossEntropyLoss()\n",
    "optimizer = torch.optim.Adam(model.parameters(), lr=0.001)\n",
    "\n",
    "num_epochs = 10\n",
    "for epoch in range(num_epochs):\n",
    "    model.train()\n",
    "    running_loss = 0.0\n",
    "    for images, labels in train_loader:\n",
    "        images, labels = images.to(device), labels.to(device)\n",
    "        optimizer.zero_grad()\n",
    "        outputs = model(images)\n",
    "        loss = criterion(outputs, labels)\n",
    "        loss.backward()\n",
    "        optimizer.step()\n",
    "        running_loss += loss.item()\n",
    "    print(f\"Epoch [{epoch+1}/{num_epochs}], Loss: {running_loss/len(train_loader):.4f}\")\n"
   ]
  },
  {
   "cell_type": "code",
   "execution_count": 45,
   "id": "f92853c8-62e4-4551-a226-0da60b38fdb2",
   "metadata": {
    "jupyter": {
     "source_hidden": true
    }
   },
   "outputs": [
    {
     "name": "stdout",
     "output_type": "stream",
     "text": [
      "Accuracy of CNN: 100.00%\n"
     ]
    }
   ],
   "source": [
    "model.eval()\n",
    "correct = 0\n",
    "total = 0\n",
    "with torch.no_grad():\n",
    "    for images, labels in test_loader:\n",
    "        images, labels = images.to(device), labels.to(device)\n",
    "        outputs = model(images)\n",
    "        _, predicted = torch.max(outputs.data, 1)\n",
    "        total += labels.size(0)\n",
    "        correct += (predicted == labels).sum().item()\n",
    "\n",
    "print(f\"Accuracy of CNN: {100 * correct / total:.2f}%\")\n"
   ]
  },
  {
   "cell_type": "code",
   "execution_count": null,
   "id": "57cf1091-be93-4c39-bf28-8537d1748422",
   "metadata": {},
   "outputs": [],
   "source": []
  },
  {
   "cell_type": "code",
   "execution_count": 47,
   "id": "1bd2cd43-8e8f-4a6c-8cc1-ee7164390758",
   "metadata": {},
   "outputs": [
    {
     "name": "stdout",
     "output_type": "stream",
     "text": [
      "Files already downloaded and verified\n",
      "Files already downloaded and verified\n",
      "\n",
      "Training CNN...\n",
      "Epoch [1/10], Loss: 1.3597\n",
      "Epoch [2/10], Loss: 1.0233\n",
      "Epoch [3/10], Loss: 0.8902\n",
      "Epoch [4/10], Loss: 0.8059\n",
      "Epoch [5/10], Loss: 0.7392\n",
      "Epoch [6/10], Loss: 0.6799\n",
      "Epoch [7/10], Loss: 0.6282\n",
      "Epoch [8/10], Loss: 0.5853\n",
      "Epoch [9/10], Loss: 0.5427\n",
      "Epoch [10/10], Loss: 0.5034\n",
      "Evaluating CNN...\n",
      "Accuracy: 66.33%\n",
      "\n",
      "Training G-CNN...\n",
      "Epoch [1/10], Loss: 1.4140\n",
      "Epoch [2/10], Loss: 1.0540\n",
      "Epoch [3/10], Loss: 0.9062\n",
      "Epoch [4/10], Loss: 0.8018\n",
      "Epoch [5/10], Loss: 0.7127\n",
      "Epoch [6/10], Loss: 0.6321\n",
      "Epoch [7/10], Loss: 0.5666\n",
      "Epoch [8/10], Loss: 0.5100\n",
      "Epoch [9/10], Loss: 0.4501\n",
      "Epoch [10/10], Loss: 0.4084\n",
      "Evaluating G-CNN...\n",
      "Accuracy: 64.45%\n",
      "\n",
      "Final Results: CNN Accuracy = 66.33%, G-CNN Accuracy = 64.45%\n"
     ]
    }
   ],
   "source": [
    "import torch\n",
    "import torch.nn as nn\n",
    "import torchvision.transforms as transforms\n",
    "import torchvision.datasets as datasets\n",
    "from e2cnn import gspaces\n",
    "from e2cnn import nn as enn\n",
    "\n",
    "# 1. Configuración de datos CIFAR-10\n",
    "transform = transforms.Compose([\n",
    "    transforms.Resize((32, 32)),  # Redimensionar para las G-CNN\n",
    "    transforms.ToTensor(),\n",
    "    transforms.Normalize((0.5,), (0.5,))\n",
    "])\n",
    "\n",
    "train_dataset = datasets.CIFAR10(root='./data', train=True, transform=transform, download=True)\n",
    "test_dataset = datasets.CIFAR10(root='./data', train=False, transform=transform, download=True)\n",
    "\n",
    "train_loader = torch.utils.data.DataLoader(train_dataset, batch_size=64, shuffle=True)\n",
    "test_loader = torch.utils.data.DataLoader(test_dataset, batch_size=64, shuffle=False)\n",
    "\n",
    "# 2. Configuración de la G-CNN\n",
    "gspace = gspaces.Rot2dOnR2(N=8)  # Rotaciones discretas C8 (0°, 45°, 90°, ..., 315°)\n",
    "\n",
    "class GCNN(nn.Module):\n",
    "    def __init__(self):\n",
    "        super(GCNN, self).__init__()\n",
    "        # Entrada con 3 canales (RGB)\n",
    "        self.input_type = enn.FieldType(gspace, 3 * [gspace.trivial_repr])  # 3 canales con representación trivial\n",
    "        self.conv1 = enn.R2Conv(\n",
    "            in_type=self.input_type,\n",
    "            out_type=enn.FieldType(gspace, 16 * [gspace.regular_repr]),\n",
    "            kernel_size=3,\n",
    "            stride=1,\n",
    "            padding=1\n",
    "        )\n",
    "        self.relu1 = enn.ReLU(self.conv1.out_type)\n",
    "        self.conv2 = enn.R2Conv(\n",
    "            in_type=self.conv1.out_type,\n",
    "            out_type=enn.FieldType(gspace, 32 * [gspace.regular_repr]),\n",
    "            kernel_size=3,\n",
    "            stride=1,\n",
    "            padding=1\n",
    "        )\n",
    "        self.relu2 = enn.ReLU(self.conv2.out_type)\n",
    "        self.pool = enn.PointwiseMaxPool(self.conv2.out_type, kernel_size=2, stride=2)\n",
    "        self.gpool = enn.GroupPooling(self.pool.out_type)\n",
    "        self.fc = nn.Linear(32 * 16 * 16, 10)  # 10 clases de CIFAR-10\n",
    "        \n",
    "    def forward(self, x):\n",
    "        # Convertir a GeometricTensor\n",
    "        x = enn.GeometricTensor(x, self.input_type)\n",
    "        x = self.conv1(x)\n",
    "        x = self.relu1(x)\n",
    "        x = self.conv2(x)\n",
    "        x = self.relu2(x)\n",
    "        x = self.pool(x)\n",
    "        x = self.gpool(x).tensor\n",
    "        x = x.view(x.size(0), -1)\n",
    "        x = self.fc(x)\n",
    "        return x\n",
    "\n",
    "\n",
    "# 3. Configuración de una CNN estándar\n",
    "class CNN(nn.Module):\n",
    "    def __init__(self):\n",
    "        super(CNN, self).__init__()\n",
    "        self.conv1 = nn.Conv2d(3, 16, kernel_size=3, stride=1, padding=1)\n",
    "        self.relu1 = nn.ReLU()\n",
    "        self.conv2 = nn.Conv2d(16, 32, kernel_size=3, stride=1, padding=1)\n",
    "        self.relu2 = nn.ReLU()\n",
    "        self.pool = nn.MaxPool2d(kernel_size=2, stride=2)\n",
    "        self.fc = nn.Linear(32 * 16 * 16, 10)\n",
    "        \n",
    "    def forward(self, x):\n",
    "        x = self.conv1(x)\n",
    "        x = self.relu1(x)\n",
    "        x = self.conv2(x)\n",
    "        x = self.relu2(x)\n",
    "        x = self.pool(x)\n",
    "        x = x.view(x.size(0), -1)\n",
    "        x = self.fc(x)\n",
    "        return x\n",
    "\n",
    "# 4. Entrenamiento y evaluación\n",
    "def train_model(model, train_loader, criterion, optimizer, num_epochs=10):\n",
    "    model.train()\n",
    "    for epoch in range(num_epochs):\n",
    "        running_loss = 0.0\n",
    "        for images, labels in train_loader:\n",
    "            images, labels = images.to(device), labels.to(device)\n",
    "            optimizer.zero_grad()\n",
    "            outputs = model(images)\n",
    "            loss = criterion(outputs, labels)\n",
    "            loss.backward()\n",
    "            optimizer.step()\n",
    "            running_loss += loss.item()\n",
    "        print(f\"Epoch [{epoch+1}/{num_epochs}], Loss: {running_loss/len(train_loader):.4f}\")\n",
    "\n",
    "def evaluate_model(model, test_loader):\n",
    "    model.eval()\n",
    "    correct = 0\n",
    "    total = 0\n",
    "    with torch.no_grad():\n",
    "        for images, labels in test_loader:\n",
    "            images, labels = images.to(device), labels.to(device)\n",
    "            outputs = model(images)\n",
    "            _, predicted = torch.max(outputs.data, 1)\n",
    "            total += labels.size(0)\n",
    "            correct += (predicted == labels).sum().item()\n",
    "    accuracy = 100 * correct / total\n",
    "    print(f\"Accuracy: {accuracy:.2f}%\")\n",
    "    return accuracy\n",
    "\n",
    "# 5. Comparación entre CNN estándar y G-CNN\n",
    "device = torch.device(\"cuda\" if torch.cuda.is_available() else \"cpu\")\n",
    "\n",
    "# CNN estándar\n",
    "cnn = CNN().to(device)\n",
    "criterion = nn.CrossEntropyLoss()\n",
    "optimizer = torch.optim.Adam(cnn.parameters(), lr=0.001)\n",
    "print(\"\\nTraining CNN...\")\n",
    "train_model(cnn, train_loader, criterion, optimizer, num_epochs=10)\n",
    "print(\"Evaluating CNN...\")\n",
    "cnn_accuracy = evaluate_model(cnn, test_loader)\n",
    "\n",
    "# G-CNN\n",
    "gcnn = GCNN().to(device)\n",
    "criterion = nn.CrossEntropyLoss()\n",
    "optimizer = torch.optim.Adam(gcnn.parameters(), lr=0.001)\n",
    "print(\"\\nTraining G-CNN...\")\n",
    "train_model(gcnn, train_loader, criterion, optimizer, num_epochs=10)\n",
    "print(\"Evaluating G-CNN...\")\n",
    "gcnn_accuracy = evaluate_model(gcnn, test_loader)\n",
    "\n",
    "# Comparación\n",
    "print(f\"\\nFinal Results: CNN Accuracy = {cnn_accuracy:.2f}%, G-CNN Accuracy = {gcnn_accuracy:.2f}%\")\n"
   ]
  },
  {
   "cell_type": "code",
   "execution_count": null,
   "id": "8c3b71a0-183a-4df6-b80d-add267573a21",
   "metadata": {},
   "outputs": [],
   "source": []
  },
  {
   "cell_type": "code",
   "execution_count": null,
   "id": "8fda5f53-c416-4d8b-99c9-b5412f409919",
   "metadata": {},
   "outputs": [],
   "source": []
  }
 ],
 "metadata": {
  "kernelspec": {
   "display_name": "umap",
   "language": "python",
   "name": "umap"
  },
  "language_info": {
   "codemirror_mode": {
    "name": "ipython",
    "version": 3
   },
   "file_extension": ".py",
   "mimetype": "text/x-python",
   "name": "python",
   "nbconvert_exporter": "python",
   "pygments_lexer": "ipython3",
   "version": "3.9.19"
  }
 },
 "nbformat": 4,
 "nbformat_minor": 5
}
