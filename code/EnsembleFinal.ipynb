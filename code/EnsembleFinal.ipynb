{
 "cells": [
  {
   "cell_type": "markdown",
   "id": "23d870d7-f779-4837-af80-5c2d171601bf",
   "metadata": {},
   "source": [
    "# Hyperparameter Optimization and Ensemble models"
   ]
  },
  {
   "cell_type": "markdown",
   "id": "ad228afe-ce4a-47e6-b048-6ab930430671",
   "metadata": {},
   "source": [
    "En el ámbito del aprendizaje automático, **la optimización de hiperparámetros** y los **métodos de ensamblaje** son dos enfoques fundamentales que permiten mejorar significativamente el rendimiento de los modelos.\n",
    "\n",
    "## Optimización de Hiperparámetros\n",
    "\n",
    "Los modelos de aprendizaje automático dependen de ciertos parámetros que no se aprenden a partir de los datos, conocidos como **hiperparámetros**. Estos controlan aspectos como la estructura del modelo o la forma en que se entrena. La selección adecuada de hiperparámetros puede ser crucial para el rendimiento del modelo. Técnicas como la **búsqueda en cuadrícula** (*Grid Search*), la **búsqueda aleatoria** (*Random Search*) y la más avanzada **optimización bayesiana** se utilizan comúnmente para encontrar las mejores combinaciones de hiperparámetros.\n",
    "\n",
    "## Métodos de Ensamblaje\n",
    "\n",
    "Por otro lado, los **métodos de ensamblaje** se basan en la idea de combinar múltiples modelos para mejorar la precisión y la robustez de las predicciones. Estos métodos aprovechan la diversidad de los modelos individuales para corregir sus errores\n",
    "\n",
    "En este cuaderno, exploraremos ambos conceptos, centrándonos en cómo optimizar los hiperparámetros de los modelos y cómo combinar múltiples modelos para obtener mejores resultados en tareas de predicción.\n"
   ]
  },
  {
   "cell_type": "code",
   "execution_count": null,
   "id": "c460e81b-6f03-47ce-98f0-f27249ae72ed",
   "metadata": {},
   "outputs": [],
   "source": [
    "# Manipulación de datos y visualización\n",
    "import pandas as pd\n",
    "import matplotlib.pyplot as plt\n",
    "\n",
    "# División de datos y preprocesamiento\n",
    "from sklearn.model_selection import train_test_split\n",
    "from sklearn.preprocessing import StandardScaler\n",
    "\n",
    "# Modelos básicos\n",
    "from sklearn.neighbors import KNeighborsClassifier\n",
    "from sklearn.tree import DecisionTreeClassifier\n",
    "from sklearn.svm import SVC\n",
    "from sklearn.linear_model import LogisticRegression\n",
    "from sklearn.naive_bayes import GaussianNB\n",
    "\n",
    "# Métodos de ensamblaje (Ensemble)\n",
    "from sklearn.ensemble import VotingClassifier, StackingClassifier, BaggingClassifier, AdaBoostClassifier\n",
    "\n",
    "# Búsqueda de hiperparámetros\n",
    "from sklearn.model_selection import GridSearchCV, RandomizedSearchCV\n",
    "from skopt import BayesSearchCV\n",
    "\n",
    "# Evaluación de modelos\n",
    "from sklearn.metrics import f1_score\n",
    "\n",
    "# Librería Lazy Predict (para comparación rápida de modelos)\n",
    "from lazypredict.Supervised import LazyClassifier\n"
   ]
  },
  {
   "cell_type": "markdown",
   "id": "56c01e33-5b3d-4039-9db3-2a2ae41e61e8",
   "metadata": {},
   "source": [
    "En esta libreta usaremos el conjunto de datos que se utiliza para la predicción de la **calidad del vino**. Está compuesto por variables basadas en pruebas fisicoquímicas y datos sensoriales.\n",
    "\n",
    "### Variables de entrada (pruebas fisicoquímicas):\n",
    "1. **Fixed acidity** - Acidez fija\n",
    "2. **Volatile acidity** - Acidez volátil\n",
    "3. **Citric acid** - Ácido cítrico\n",
    "4. **Residual sugar** - Azúcar residual\n",
    "5. **Chlorides** - Cloruros\n",
    "6. **Free sulfur dioxide** - Dióxido de azufre libre\n",
    "7. **Total sulfur dioxide** - Dióxido de azufre total\n",
    "8. **Density** - Densidad\n",
    "9. **pH**\n",
    "10. **Sulphates** - Sulfatos\n",
    "11. **Alcohol**\n",
    "\n",
    "### Variable de salida (basada en datos sensoriales):\n",
    "12. **Quality** - Puntaje de calidad del vino (entre 0 y 10)\n",
    "\n",
    "Este conjunto de datos permite construir modelos que predicen la calidad del vino en función de sus características fisicoquímicas.\n"
   ]
  },
  {
   "cell_type": "code",
   "execution_count": null,
   "id": "689fc31d-cbc9-4852-a814-fec55101f154",
   "metadata": {},
   "outputs": [],
   "source": [
    "data = pd.read_csv('data/winequality-red.csv')"
   ]
  },
  {
   "cell_type": "code",
   "execution_count": null,
   "id": "de7665fa-2ae6-4185-9b89-061f1dd9c9fc",
   "metadata": {},
   "outputs": [],
   "source": [
    "data.head()"
   ]
  },
  {
   "cell_type": "code",
   "execution_count": null,
   "id": "99bb6b26-2c1f-400a-88bd-777ec63570cc",
   "metadata": {},
   "outputs": [],
   "source": [
    "data.describe()"
   ]
  },
  {
   "cell_type": "markdown",
   "id": "f0138dba-94b2-41ee-9661-05b5f3e3ea56",
   "metadata": {},
   "source": [
    "Dividimos nuestro set de datos para hacer validación cruzada"
   ]
  },
  {
   "cell_type": "code",
   "execution_count": null,
   "id": "c9548747-2af6-46ce-8683-826768a7dc76",
   "metadata": {},
   "outputs": [],
   "source": [
    "X_train, X_test, y_train, y_test = train_test_split(\n",
    "    data.drop('quality', axis = 1), \n",
    "    data['quality'], \n",
    "    test_size=0.33, \n",
    "    random_state=42\n",
    ")"
   ]
  },
  {
   "cell_type": "markdown",
   "id": "b6a85695-aa09-4f5c-b315-297334bdfbbb",
   "metadata": {},
   "source": [
    "Estandarizamos los datos"
   ]
  },
  {
   "cell_type": "code",
   "execution_count": null,
   "id": "4eaee06c-43a7-4489-adfb-fc8ae67940bb",
   "metadata": {},
   "outputs": [],
   "source": [
    "scaler = StandardScaler()\n",
    "scaler.fit(X_train)\n",
    "X_train = scaler.transform(X_train)\n",
    "X_test = scaler.transform(X_test)"
   ]
  },
  {
   "cell_type": "markdown",
   "id": "74c0fffe-9f46-48a6-b2d6-9c6afddbfbf9",
   "metadata": {},
   "source": [
    "En la siguiente celda, utilizaremos **LazyClassifier** para entrenar varios modelos de clasificación con el conjunto de datos de calidad del vino."
   ]
  },
  {
   "cell_type": "code",
   "execution_count": null,
   "id": "5fc02b56-e7d1-4e43-a457-68aeca608fe3",
   "metadata": {},
   "outputs": [],
   "source": [
    "fast_models = LazyClassifier(verbose=0, ignore_warnings=True, custom_metric=None)\n",
    "models,predictions = fast_models.fit(X_train, X_test, y_train, y_test)\n",
    "\n",
    "models"
   ]
  },
  {
   "cell_type": "markdown",
   "id": "1ab7e59e-e489-4940-a65d-11f1f6a6acee",
   "metadata": {},
   "source": [
    "## Optimización de parámetros"
   ]
  },
  {
   "cell_type": "markdown",
   "id": "4f108a45-202c-45cd-9804-c390e158f2d9",
   "metadata": {},
   "source": [
    "### K-nearest neighbors (Grid Search)"
   ]
  },
  {
   "cell_type": "code",
   "execution_count": null,
   "id": "003b10ea-09ad-4b23-831c-2e7b0782da08",
   "metadata": {},
   "outputs": [],
   "source": [
    "parameters = {'n_neighbors':[2*x+1 for x in range(10)], \n",
    "              'weights':['uniform', 'distance'], \n",
    "              'algorithm':['ball_tree', 'kd_tree', 'brute'], \n",
    "              'metric':['minkowski', 'manhattan', 'euclidean']\n",
    "             }\n",
    "knn = KNeighborsClassifier()\n",
    "grid_search_knn = GridSearchCV(knn, parameters, scoring = 'f1_micro', cv = 5, n_jobs = 2)"
   ]
  },
  {
   "cell_type": "code",
   "execution_count": null,
   "id": "e291fcbe-1214-4afb-b788-afaa1fefa641",
   "metadata": {},
   "outputs": [],
   "source": [
    "grid_search_knn.fit(X_train, y_train)"
   ]
  },
  {
   "cell_type": "code",
   "execution_count": null,
   "id": "e2dba022-b5a8-48ab-a126-fad9dd8671f9",
   "metadata": {},
   "outputs": [],
   "source": [
    "pd.DataFrame(grid_search_knn.cv_results_).head()"
   ]
  },
  {
   "cell_type": "code",
   "execution_count": null,
   "id": "2ac8aa21-d7aa-464f-afb1-7115dda486e5",
   "metadata": {},
   "outputs": [],
   "source": [
    "grid_search_knn.best_params_"
   ]
  },
  {
   "cell_type": "code",
   "execution_count": null,
   "id": "ee49e6be-0e21-4e75-83e5-2ecb67fc5a6e",
   "metadata": {},
   "outputs": [],
   "source": [
    "knn_opt = grid_search_knn.best_estimator_"
   ]
  },
  {
   "cell_type": "code",
   "execution_count": null,
   "id": "a1721709-49d4-4dc5-9bd1-76540c87ecd5",
   "metadata": {},
   "outputs": [],
   "source": [
    "preds = knn_opt.predict(X_test)\n",
    "f1_score(y_test, preds, average='micro')"
   ]
  },
  {
   "cell_type": "markdown",
   "id": "0e71d73d-0913-493f-8ca8-d8366841c3d6",
   "metadata": {},
   "source": [
    "### Decision Tree (Random Search)"
   ]
  },
  {
   "cell_type": "code",
   "execution_count": null,
   "id": "c8d9a17e-191d-4fa1-80ac-cb15467b3be4",
   "metadata": {},
   "outputs": [],
   "source": [
    "param_grid = {\n",
    "    'criterion': ['gini', 'entropy', 'log_loss'],\n",
    "    'max_depth': [x for x in range(5, 15)],\n",
    "    'min_samples_split': [2, 3, 4, 5, 6],\n",
    "    'min_samples_leaf': [1, 2, 3, 4],   \n",
    "    'ccp_alpha': [0, 0.01, 0.1, 0.2],\n",
    "}"
   ]
  },
  {
   "cell_type": "code",
   "execution_count": null,
   "id": "42a75458-8a2f-44bf-a524-662dc70d2253",
   "metadata": {},
   "outputs": [],
   "source": [
    "tree = DecisionTreeClassifier()\n",
    "random_search_tree = RandomizedSearchCV(tree, param_grid, n_iter = 100, scoring = 'f1_micro', cv = 5, n_jobs = 2, random_state=42)"
   ]
  },
  {
   "cell_type": "code",
   "execution_count": null,
   "id": "09d052a4-016e-4192-bb1a-29683e506149",
   "metadata": {},
   "outputs": [],
   "source": [
    "random_search_tree.fit(X_train, y_train)"
   ]
  },
  {
   "cell_type": "code",
   "execution_count": null,
   "id": "c7038ef1-cd86-400b-ab00-6f16965040d5",
   "metadata": {},
   "outputs": [],
   "source": [
    "random_search_tree.best_params_"
   ]
  },
  {
   "cell_type": "code",
   "execution_count": null,
   "id": "8c0bd117-aa2d-4a3e-b44c-351fe6a5ac06",
   "metadata": {},
   "outputs": [],
   "source": [
    "tree_opt = random_search_tree.best_estimator_"
   ]
  },
  {
   "cell_type": "code",
   "execution_count": null,
   "id": "24712b73-520c-421e-9a1f-0ed076e941fa",
   "metadata": {},
   "outputs": [],
   "source": [
    "preds = tree_opt.predict(X_test)\n",
    "f1_score(y_test, preds, average='micro')"
   ]
  },
  {
   "cell_type": "markdown",
   "id": "2c9e3709-7843-4185-9a76-931348db5256",
   "metadata": {},
   "source": [
    "### Support Vector Machine (Bayesian Optimization)"
   ]
  },
  {
   "cell_type": "code",
   "execution_count": null,
   "id": "ac0b026c-fac6-49bf-ac58-2fc2003779c9",
   "metadata": {},
   "outputs": [],
   "source": [
    "bayesian_opt = BayesSearchCV(\n",
    "    SVC(),\n",
    "    {\n",
    "        'C': (1e-3, 1e+3, 'log-uniform'),\n",
    "        'gamma': (1e-3, 1e+1, 'log-uniform'),\n",
    "        'degree': (1, 6),\n",
    "        'kernel': ['poly', 'rbf'], \n",
    "    },\n",
    "    scoring = 'f1_micro',\n",
    "    n_iter=21,\n",
    "    n_points = 3,\n",
    "    cv=5,\n",
    "    n_jobs = 5,\n",
    "    random_state = 42\n",
    "    \n",
    ")"
   ]
  },
  {
   "cell_type": "code",
   "execution_count": null,
   "id": "231c976a-f6ce-4e73-a02c-ec3a15d055c6",
   "metadata": {},
   "outputs": [],
   "source": [
    "bayesian_opt.fit(X_train, y_train)"
   ]
  },
  {
   "cell_type": "code",
   "execution_count": null,
   "id": "3f0284bc-22d3-4838-9bd1-cb62ebef5def",
   "metadata": {},
   "outputs": [],
   "source": [
    "bayesian_opt.best_params_"
   ]
  },
  {
   "cell_type": "code",
   "execution_count": null,
   "id": "059a13a9-5dee-4551-974c-28758540dc0c",
   "metadata": {},
   "outputs": [],
   "source": [
    "svc_opt = bayesian_opt.best_estimator_"
   ]
  },
  {
   "cell_type": "code",
   "execution_count": null,
   "id": "00e21614-1894-42dc-8863-5a1b2f2e7f81",
   "metadata": {},
   "outputs": [],
   "source": [
    "preds = svc_opt.predict(X_test)\n",
    "f1_score(y_test, preds, average='micro')"
   ]
  },
  {
   "cell_type": "code",
   "execution_count": null,
   "id": "809e5631-b1c2-4e3c-a2e5-e418724a6c26",
   "metadata": {},
   "outputs": [],
   "source": []
  },
  {
   "cell_type": "markdown",
   "id": "a3f78beb-5160-4a03-90fd-70ec9032b477",
   "metadata": {},
   "source": [
    "## Ensamble de modelos"
   ]
  },
  {
   "cell_type": "markdown",
   "id": "9780d1cc-1ab6-43ab-8020-1750957d92e8",
   "metadata": {},
   "source": [
    "### Por votación "
   ]
  },
  {
   "cell_type": "code",
   "execution_count": null,
   "id": "0f35b28d-64c5-4877-874d-475adb59b79b",
   "metadata": {},
   "outputs": [],
   "source": [
    "eclf1 = VotingClassifier(estimators=[('knn', knn_opt), ('tree', tree_opt), ('SVC', svc_opt)], voting='hard')"
   ]
  },
  {
   "cell_type": "code",
   "execution_count": null,
   "id": "8f4e20fd-50af-4e85-ac8a-a1ed1f568af3",
   "metadata": {},
   "outputs": [],
   "source": [
    "eclf1.fit(X_train, y_train)"
   ]
  },
  {
   "cell_type": "code",
   "execution_count": null,
   "id": "5bb030f1-d24e-4e6d-87a5-4716f4452368",
   "metadata": {},
   "outputs": [],
   "source": [
    "preds = eclf1.predict(X_test)\n",
    "f1_score(y_test, preds, average='micro')"
   ]
  },
  {
   "cell_type": "code",
   "execution_count": null,
   "id": "245a07f5-4ac0-425d-84ca-2402825207c1",
   "metadata": {},
   "outputs": [],
   "source": []
  },
  {
   "cell_type": "code",
   "execution_count": null,
   "id": "947d8fbd-0bd8-4471-85a4-11bfc2c570b8",
   "metadata": {},
   "outputs": [],
   "source": [
    "svc_proba = SVC(C=19.958517651170755, gamma = 1.1270954208690063, kernel = 'rbf', probability = True)"
   ]
  },
  {
   "cell_type": "code",
   "execution_count": null,
   "id": "9be4c3ea-40be-46a6-9caa-eccc491d8a12",
   "metadata": {},
   "outputs": [],
   "source": [
    "svc_proba.fit(X_train, y_train)"
   ]
  },
  {
   "cell_type": "code",
   "execution_count": null,
   "id": "8e26ce75-7eed-474e-8306-08940340ac53",
   "metadata": {},
   "outputs": [],
   "source": [
    "eclf2 = VotingClassifier(estimators=[('knn', knn_opt), ('tree', tree_opt), ('SVC', svc_proba)], voting='soft')"
   ]
  },
  {
   "cell_type": "code",
   "execution_count": null,
   "id": "91987e41-b43a-44ca-aa9d-e674dd6a90db",
   "metadata": {},
   "outputs": [],
   "source": [
    "eclf2.fit(X_train, y_train)"
   ]
  },
  {
   "cell_type": "code",
   "execution_count": null,
   "id": "1c9b0ce9-912a-4619-9b02-3929c10acba5",
   "metadata": {},
   "outputs": [],
   "source": [
    "preds = eclf2.predict(X_test)\n",
    "f1_score(y_test, preds, average='micro')"
   ]
  },
  {
   "cell_type": "markdown",
   "id": "9b697430-fa23-4947-90de-801f311263d3",
   "metadata": {},
   "source": [
    "### Stacking"
   ]
  },
  {
   "cell_type": "code",
   "execution_count": null,
   "id": "a6f10893-825c-4813-bae8-b62e7da2af44",
   "metadata": {},
   "outputs": [],
   "source": [
    "eclf3 = StackingClassifier(\n",
    "    estimators=[('knn', knn_opt), ('tree', tree_opt), ('SVC', svc_opt)], \n",
    "    final_estimator=SVC(kernel='linear')\n",
    ")"
   ]
  },
  {
   "cell_type": "code",
   "execution_count": null,
   "id": "d59ca7f6-4429-4194-93d3-a03f1c82826e",
   "metadata": {},
   "outputs": [],
   "source": [
    "eclf3.fit(X_train, y_train)"
   ]
  },
  {
   "cell_type": "code",
   "execution_count": null,
   "id": "1883b7f9-f029-42f1-81ae-3d5d62f825a5",
   "metadata": {},
   "outputs": [],
   "source": [
    "preds = eclf3.predict(X_test)\n",
    "f1_score(y_test, preds, average='micro')"
   ]
  },
  {
   "cell_type": "code",
   "execution_count": null,
   "id": "d3e36925-0765-4496-a21e-aefafe1d45b8",
   "metadata": {},
   "outputs": [],
   "source": []
  },
  {
   "cell_type": "markdown",
   "id": "d1bc31a9-0645-4aaf-8a12-2c71288ab388",
   "metadata": {},
   "source": [
    "### Bagging"
   ]
  },
  {
   "cell_type": "code",
   "execution_count": null,
   "id": "6a6ad8a1-ea5f-4aca-b996-adbcad724e0a",
   "metadata": {},
   "outputs": [],
   "source": [
    "eclf4 = BaggingClassifier(base_estimator=svc_opt, n_estimators=30, max_samples = 0.8, random_state=0).fit(X_train, y_train)"
   ]
  },
  {
   "cell_type": "code",
   "execution_count": null,
   "id": "da6090bd-0955-480b-ba43-eecf2cb5c288",
   "metadata": {},
   "outputs": [],
   "source": [
    "preds = eclf4.predict(X_test)\n",
    "f1_score(y_test, preds, average='micro')"
   ]
  },
  {
   "cell_type": "code",
   "execution_count": null,
   "id": "87714975-03bc-43b4-82c9-cf26a6f2e7e2",
   "metadata": {},
   "outputs": [],
   "source": []
  },
  {
   "cell_type": "markdown",
   "id": "2c9fb4d7-551b-4ed7-8b43-5037404fb0a7",
   "metadata": {},
   "source": [
    "## Ejercicio"
   ]
  },
  {
   "cell_type": "code",
   "execution_count": null,
   "id": "ddb6c49d-aa61-4a1a-b788-282e8f70c4f4",
   "metadata": {},
   "outputs": [],
   "source": []
  },
  {
   "cell_type": "code",
   "execution_count": null,
   "id": "c6263dac-fd48-4c3e-9412-661dabe13d3a",
   "metadata": {},
   "outputs": [],
   "source": [
    "taxonomy = pd.read_csv('data/taxonomy_gut.csv', index_col = 0)"
   ]
  },
  {
   "cell_type": "code",
   "execution_count": null,
   "id": "2535836b-8e7b-41e8-9548-9a93eae95f56",
   "metadata": {},
   "outputs": [],
   "source": [
    "taxonomy.T.head()"
   ]
  },
  {
   "cell_type": "code",
   "execution_count": null,
   "id": "a3b3b8c9-a3a1-417c-b338-f2e085a06eee",
   "metadata": {},
   "outputs": [],
   "source": [
    "metadata = pd.read_csv('data/metadata_gut.csv')"
   ]
  },
  {
   "cell_type": "code",
   "execution_count": null,
   "id": "8b1da393-cb94-4e0a-8621-050ee9ff3621",
   "metadata": {},
   "outputs": [],
   "source": [
    "metadata.head()"
   ]
  },
  {
   "cell_type": "code",
   "execution_count": null,
   "id": "9a77b2ae-a33a-4883-b983-6a04d4a1be0a",
   "metadata": {},
   "outputs": [],
   "source": []
  },
  {
   "cell_type": "code",
   "execution_count": null,
   "id": "850062d0-e403-4159-90c2-8e1a782c1f6b",
   "metadata": {},
   "outputs": [],
   "source": [
    "resistance = pd.read_csv('data/ResistanceCiprofloxacinLoose.tsv.gz', compression='gzip', sep='\\t')"
   ]
  },
  {
   "cell_type": "code",
   "execution_count": null,
   "id": "ff0a6d32-d021-4a7e-9394-d34cb6517dd3",
   "metadata": {},
   "outputs": [],
   "source": [
    "resistance['phenotype'].unique()"
   ]
  },
  {
   "cell_type": "code",
   "execution_count": null,
   "id": "54cec6f6-4d82-4b86-95b3-93d110fb231b",
   "metadata": {},
   "outputs": [],
   "source": []
  },
  {
   "cell_type": "code",
   "execution_count": null,
   "id": "41b80bc9-87e8-46ba-9ba1-fa1f7e03ed05",
   "metadata": {},
   "outputs": [],
   "source": []
  },
  {
   "cell_type": "code",
   "execution_count": null,
   "id": "3fc68a22-77cf-4892-a98b-293c1f8d73c2",
   "metadata": {},
   "outputs": [],
   "source": []
  }
 ],
 "metadata": {
  "kernelspec": {
   "display_name": "Python 3 (ipykernel)",
   "language": "python",
   "name": "python3"
  },
  "language_info": {
   "codemirror_mode": {
    "name": "ipython",
    "version": 3
   },
   "file_extension": ".py",
   "mimetype": "text/x-python",
   "name": "python",
   "nbconvert_exporter": "python",
   "pygments_lexer": "ipython3",
   "version": "3.10.5"
  }
 },
 "nbformat": 4,
 "nbformat_minor": 5
}
