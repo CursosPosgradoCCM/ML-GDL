{
 "cells": [
  {
   "cell_type": "code",
   "execution_count": 2,
   "id": "0fa88e27-e620-4641-9a91-9869aad76be3",
   "metadata": {},
   "outputs": [
    {
     "name": "stdout",
     "output_type": "stream",
     "text": [
      "Defaulting to user installation because normal site-packages is not writeable\n",
      "Requirement already satisfied: scikit-learn==1.0.2 in /home/jupyter-user6/.local/lib/python3.10/site-packages (1.0.2)\n",
      "Requirement already satisfied: numpy>=1.14.6 in /opt/tljh/user/lib/python3.10/site-packages (from scikit-learn==1.0.2) (1.26.4)\n",
      "Requirement already satisfied: scipy>=1.1.0 in /opt/tljh/user/lib/python3.10/site-packages (from scikit-learn==1.0.2) (1.13.1)\n",
      "Requirement already satisfied: joblib>=0.11 in /opt/tljh/user/lib/python3.10/site-packages (from scikit-learn==1.0.2) (1.4.2)\n",
      "Requirement already satisfied: threadpoolctl>=2.0.0 in /opt/tljh/user/lib/python3.10/site-packages (from scikit-learn==1.0.2) (3.5.0)\n",
      "\n",
      "\u001b[1m[\u001b[0m\u001b[34;49mnotice\u001b[0m\u001b[1;39;49m]\u001b[0m\u001b[39;49m A new release of pip is available: \u001b[0m\u001b[31;49m24.0\u001b[0m\u001b[39;49m -> \u001b[0m\u001b[32;49m24.2\u001b[0m\n",
      "\u001b[1m[\u001b[0m\u001b[34;49mnotice\u001b[0m\u001b[1;39;49m]\u001b[0m\u001b[39;49m To update, run: \u001b[0m\u001b[32;49mpip install --upgrade pip\u001b[0m\n",
      "Note: you may need to restart the kernel to use updated packages.\n"
     ]
    }
   ],
   "source": [
    "pip install scikit-learn==1.0.2"
   ]
  },
  {
   "cell_type": "code",
   "execution_count": 1,
   "id": "c460e81b-6f03-47ce-98f0-f27249ae72ed",
   "metadata": {},
   "outputs": [
    {
     "name": "stderr",
     "output_type": "stream",
     "text": [
      "/home/jupyter-user6/.local/lib/python3.10/site-packages/dask/dataframe/__init__.py:42: FutureWarning: \n",
      "Dask dataframe query planning is disabled because dask-expr is not installed.\n",
      "\n",
      "You can install it with `pip install dask[dataframe]` or `conda install dask`.\n",
      "This will raise in a future version.\n",
      "\n",
      "  warnings.warn(msg, FutureWarning)\n"
     ]
    }
   ],
   "source": [
    "# Manipulación de datos y visualización\n",
    "import pandas as pd\n",
    "import matplotlib.pyplot as plt\n",
    "\n",
    "# División de datos y preprocesamiento\n",
    "from sklearn.model_selection import train_test_split\n",
    "from sklearn.preprocessing import StandardScaler\n",
    "\n",
    "# Modelos básicos\n",
    "from sklearn.neighbors import KNeighborsClassifier\n",
    "from sklearn.tree import DecisionTreeClassifier\n",
    "from sklearn.svm import SVC\n",
    "from sklearn.linear_model import LogisticRegression\n",
    "from sklearn.naive_bayes import GaussianNB\n",
    "\n",
    "# Métodos de ensamblaje (Ensemble)\n",
    "from sklearn.ensemble import VotingClassifier, StackingClassifier, BaggingClassifier, AdaBoostClassifier\n",
    "\n",
    "# Búsqueda de hiperparámetros\n",
    "from sklearn.model_selection import GridSearchCV, RandomizedSearchCV\n",
    "from skopt import BayesSearchCV\n",
    "\n",
    "# Evaluación de modelos\n",
    "from sklearn.metrics import f1_score\n",
    "\n",
    "#Libreria LabelEncoder\n",
    "from sklearn.preprocessing import LabelEncoder\n",
    "\n",
    "# Librería Lazy Predict (para comparación rápida de modelos)\n",
    "from lazypredict.Supervised import LazyClassifier\n",
    "\n",
    "\n"
   ]
  },
  {
   "cell_type": "markdown",
   "id": "56c01e33-5b3d-4039-9db3-2a2ae41e61e8",
   "metadata": {},
   "source": [
    "Se importan los datasets"
   ]
  },
  {
   "cell_type": "code",
   "execution_count": 2,
   "id": "689fc31d-cbc9-4852-a814-fec55101f154",
   "metadata": {},
   "outputs": [],
   "source": [
    "#Ciprofloxacin Loose\n",
    "ResistanceCiprofloxacinLoose= pd.read_csv(\"https://github.com/ccm-bioinfo/Camda24_resistance/raw/refs/heads/main/DataSets/ResistanceCiprofloxacinLoose.tsv.gz\", sep='\\t',dtype={3: str})\n",
    "\n",
    "#Ciprofloxacin Strict\n",
    "ResistanceCiprofloxacinStrict=pd.read_csv(\"https://github.com/ccm-bioinfo/Camda24_resistance/raw/refs/heads/main/DataSets/ResistanceCiprofloxacinStrict.tsv.gz\", sep='\\t',dtype={3: str})\n",
    "\n",
    "#Meropenem Loose\n",
    "ResistanceMeropenemLoose=pd.read_csv(\"https://github.com/ccm-bioinfo/Camda24_resistance/raw/refs/heads/main/DataSets/ResistanceMeropenemLoose.tsv.gz\", sep='\\t',dtype={3: str})\n",
    "\n",
    "#Meropenem Strict\n",
    "ResistanceMeropenemStrict=pd.read_csv(\"https://github.com/ccm-bioinfo/Camda24_resistance/raw/refs/heads/main/DataSets/ResistanceMeropenemStrict.tsv.gz\", sep='\\t',dtype={3: str})"
   ]
  },
  {
   "cell_type": "code",
   "execution_count": 96,
   "id": "99bb6b26-2c1f-400a-88bd-777ec63570cc",
   "metadata": {},
   "outputs": [],
   "source": [
    "# Filtrar datos que faltan en la columna \"phenotype\" (datos que necesitamos predecir)\n",
    "ResistanceCiprofloxacinLoose_to_predict = ResistanceCiprofloxacinLoose[ResistanceCiprofloxacinLoose[\"phenotype\"].isna()]\n",
    "ResistanceCiprofloxacinStrict_to_predict = ResistanceCiprofloxacinStrict[ResistanceCiprofloxacinStrict[\"phenotype\"].isna()]\n",
    "ResistanceMeropenemLoose_to_predict = ResistanceMeropenemLoose[ResistanceMeropenemLoose[\"phenotype\"].isna()]\n",
    "ResistanceMeropenemStrict_to_predict = ResistanceMeropenemStrict[ResistanceMeropenemStrict[\"phenotype\"].isna()]\n",
    "\n",
    "# Filtrar datos válidos (solo los que tienen \"Resistant\" o \"Susceptible\" como valores en \"phenotype\")\n",
    "RCL = ResistanceCiprofloxacinLoose[ResistanceCiprofloxacinLoose[\"phenotype\"].isin([\"Resistant\", \"Susceptible\"])]\n",
    "RCS= ResistanceCiprofloxacinStrict[ResistanceCiprofloxacinStrict[\"phenotype\"].isin([\"Resistant\", \"Susceptible\"])]\n",
    "RML= ResistanceMeropenemLoose[ResistanceMeropenemLoose[\"phenotype\"].isin([\"Resistant\", \"Susceptible\"])]\n",
    "RMS= ResistanceMeropenemStrict[ResistanceMeropenemStrict[\"phenotype\"].isin([\"Resistant\", \"Susceptible\"])]"
   ]
  },
  {
   "cell_type": "markdown",
   "id": "1a8254c8-d420-4131-8b83-42a797283fed",
   "metadata": {},
   "source": [
    "# Ensamblaje para Ciprofloxacin y Meropenem con las tablas RCL y RML "
   ]
  },
  {
   "cell_type": "code",
   "execution_count": 6,
   "id": "fba21dbf-5731-4dff-b5e8-367cf76ec1a8",
   "metadata": {},
   "outputs": [
    {
     "data": {
      "text/html": [
       "<div>\n",
       "<style scoped>\n",
       "    .dataframe tbody tr th:only-of-type {\n",
       "        vertical-align: middle;\n",
       "    }\n",
       "\n",
       "    .dataframe tbody tr th {\n",
       "        vertical-align: top;\n",
       "    }\n",
       "\n",
       "    .dataframe thead th {\n",
       "        text-align: right;\n",
       "    }\n",
       "</style>\n",
       "<table border=\"1\" class=\"dataframe\">\n",
       "  <thead>\n",
       "    <tr style=\"text-align: right;\">\n",
       "      <th></th>\n",
       "      <th>accession</th>\n",
       "      <th>genus</th>\n",
       "      <th>species</th>\n",
       "      <th>phenotype</th>\n",
       "      <th>mic</th>\n",
       "      <th>3000535</th>\n",
       "      <th>3005091</th>\n",
       "      <th>3000833</th>\n",
       "      <th>3003665</th>\n",
       "      <th>3007433</th>\n",
       "      <th>...</th>\n",
       "      <th>3003285-S531G</th>\n",
       "      <th>3007051-I572F</th>\n",
       "      <th>3007051-I837V</th>\n",
       "      <th>3003294-D105E</th>\n",
       "      <th>3003394-S66P</th>\n",
       "      <th>3005106-A352E</th>\n",
       "      <th>3003937-N514H</th>\n",
       "      <th>3003937-L546V</th>\n",
       "      <th>3003304-E540V</th>\n",
       "      <th>3003304-E504V</th>\n",
       "    </tr>\n",
       "  </thead>\n",
       "  <tbody>\n",
       "    <tr>\n",
       "      <th>0</th>\n",
       "      <td>SRR3138666</td>\n",
       "      <td>Campylobacter</td>\n",
       "      <td>jejuni</td>\n",
       "      <td>Susceptible</td>\n",
       "      <td>0.12</td>\n",
       "      <td>19.00</td>\n",
       "      <td>10.00</td>\n",
       "      <td>4.00</td>\n",
       "      <td>3.00</td>\n",
       "      <td>3.00</td>\n",
       "      <td>...</td>\n",
       "      <td>0.00</td>\n",
       "      <td>0.00</td>\n",
       "      <td>0.00</td>\n",
       "      <td>0.00</td>\n",
       "      <td>0.00</td>\n",
       "      <td>0.00</td>\n",
       "      <td>0.00</td>\n",
       "      <td>0.00</td>\n",
       "      <td>0.00</td>\n",
       "      <td>0.00</td>\n",
       "    </tr>\n",
       "    <tr>\n",
       "      <th>1</th>\n",
       "      <td>SRR3138667</td>\n",
       "      <td>Campylobacter</td>\n",
       "      <td>jejuni</td>\n",
       "      <td>Susceptible</td>\n",
       "      <td>0.06</td>\n",
       "      <td>19.00</td>\n",
       "      <td>6.00</td>\n",
       "      <td>7.00</td>\n",
       "      <td>4.00</td>\n",
       "      <td>4.00</td>\n",
       "      <td>...</td>\n",
       "      <td>0.00</td>\n",
       "      <td>0.00</td>\n",
       "      <td>0.00</td>\n",
       "      <td>0.00</td>\n",
       "      <td>0.00</td>\n",
       "      <td>0.00</td>\n",
       "      <td>0.00</td>\n",
       "      <td>0.00</td>\n",
       "      <td>0.00</td>\n",
       "      <td>0.00</td>\n",
       "    </tr>\n",
       "    <tr>\n",
       "      <th>2</th>\n",
       "      <td>SRR3138668</td>\n",
       "      <td>Campylobacter</td>\n",
       "      <td>jejuni</td>\n",
       "      <td>Susceptible</td>\n",
       "      <td>0.06</td>\n",
       "      <td>16.00</td>\n",
       "      <td>7.00</td>\n",
       "      <td>5.00</td>\n",
       "      <td>3.00</td>\n",
       "      <td>3.00</td>\n",
       "      <td>...</td>\n",
       "      <td>0.00</td>\n",
       "      <td>0.00</td>\n",
       "      <td>0.00</td>\n",
       "      <td>0.00</td>\n",
       "      <td>0.00</td>\n",
       "      <td>0.00</td>\n",
       "      <td>0.00</td>\n",
       "      <td>0.00</td>\n",
       "      <td>0.00</td>\n",
       "      <td>0.00</td>\n",
       "    </tr>\n",
       "    <tr>\n",
       "      <th>3</th>\n",
       "      <td>SRR3138669</td>\n",
       "      <td>Campylobacter</td>\n",
       "      <td>jejuni</td>\n",
       "      <td>Susceptible</td>\n",
       "      <td>0.06</td>\n",
       "      <td>16.00</td>\n",
       "      <td>7.00</td>\n",
       "      <td>5.00</td>\n",
       "      <td>3.00</td>\n",
       "      <td>3.00</td>\n",
       "      <td>...</td>\n",
       "      <td>0.00</td>\n",
       "      <td>0.00</td>\n",
       "      <td>0.00</td>\n",
       "      <td>0.00</td>\n",
       "      <td>0.00</td>\n",
       "      <td>0.00</td>\n",
       "      <td>0.00</td>\n",
       "      <td>0.00</td>\n",
       "      <td>0.00</td>\n",
       "      <td>0.00</td>\n",
       "    </tr>\n",
       "    <tr>\n",
       "      <th>4</th>\n",
       "      <td>SRR3138670</td>\n",
       "      <td>Campylobacter</td>\n",
       "      <td>jejuni</td>\n",
       "      <td>Susceptible</td>\n",
       "      <td>0.06</td>\n",
       "      <td>20.00</td>\n",
       "      <td>8.00</td>\n",
       "      <td>6.00</td>\n",
       "      <td>4.00</td>\n",
       "      <td>4.00</td>\n",
       "      <td>...</td>\n",
       "      <td>0.00</td>\n",
       "      <td>0.00</td>\n",
       "      <td>0.00</td>\n",
       "      <td>0.00</td>\n",
       "      <td>0.00</td>\n",
       "      <td>0.00</td>\n",
       "      <td>0.00</td>\n",
       "      <td>0.00</td>\n",
       "      <td>0.00</td>\n",
       "      <td>0.00</td>\n",
       "    </tr>\n",
       "    <tr>\n",
       "      <th>...</th>\n",
       "      <td>...</td>\n",
       "      <td>...</td>\n",
       "      <td>...</td>\n",
       "      <td>...</td>\n",
       "      <td>...</td>\n",
       "      <td>...</td>\n",
       "      <td>...</td>\n",
       "      <td>...</td>\n",
       "      <td>...</td>\n",
       "      <td>...</td>\n",
       "      <td>...</td>\n",
       "      <td>...</td>\n",
       "      <td>...</td>\n",
       "      <td>...</td>\n",
       "      <td>...</td>\n",
       "      <td>...</td>\n",
       "      <td>...</td>\n",
       "      <td>...</td>\n",
       "      <td>...</td>\n",
       "      <td>...</td>\n",
       "      <td>...</td>\n",
       "    </tr>\n",
       "    <tr>\n",
       "      <th>2813</th>\n",
       "      <td>SRR4449966</td>\n",
       "      <td>Salmonella</td>\n",
       "      <td>enterica</td>\n",
       "      <td>Susceptible</td>\n",
       "      <td>0.01</td>\n",
       "      <td>25.00</td>\n",
       "      <td>18.00</td>\n",
       "      <td>30.00</td>\n",
       "      <td>22.00</td>\n",
       "      <td>15.00</td>\n",
       "      <td>...</td>\n",
       "      <td>0.00</td>\n",
       "      <td>0.00</td>\n",
       "      <td>0.00</td>\n",
       "      <td>0.00</td>\n",
       "      <td>0.00</td>\n",
       "      <td>0.00</td>\n",
       "      <td>0.00</td>\n",
       "      <td>0.00</td>\n",
       "      <td>0.00</td>\n",
       "      <td>0.00</td>\n",
       "    </tr>\n",
       "    <tr>\n",
       "      <th>2814</th>\n",
       "      <td>SRR4449967</td>\n",
       "      <td>Salmonella</td>\n",
       "      <td>enterica</td>\n",
       "      <td>Susceptible</td>\n",
       "      <td>0.01</td>\n",
       "      <td>24.00</td>\n",
       "      <td>18.00</td>\n",
       "      <td>29.00</td>\n",
       "      <td>21.00</td>\n",
       "      <td>15.00</td>\n",
       "      <td>...</td>\n",
       "      <td>0.00</td>\n",
       "      <td>0.00</td>\n",
       "      <td>0.00</td>\n",
       "      <td>0.00</td>\n",
       "      <td>0.00</td>\n",
       "      <td>0.00</td>\n",
       "      <td>0.00</td>\n",
       "      <td>0.00</td>\n",
       "      <td>0.00</td>\n",
       "      <td>0.00</td>\n",
       "    </tr>\n",
       "    <tr>\n",
       "      <th>2815</th>\n",
       "      <td>SRR4449972</td>\n",
       "      <td>Salmonella</td>\n",
       "      <td>enterica</td>\n",
       "      <td>Susceptible</td>\n",
       "      <td>0.01</td>\n",
       "      <td>24.00</td>\n",
       "      <td>18.00</td>\n",
       "      <td>28.00</td>\n",
       "      <td>22.00</td>\n",
       "      <td>15.00</td>\n",
       "      <td>...</td>\n",
       "      <td>0.00</td>\n",
       "      <td>0.00</td>\n",
       "      <td>0.00</td>\n",
       "      <td>0.00</td>\n",
       "      <td>0.00</td>\n",
       "      <td>0.00</td>\n",
       "      <td>0.00</td>\n",
       "      <td>0.00</td>\n",
       "      <td>0.00</td>\n",
       "      <td>0.00</td>\n",
       "    </tr>\n",
       "    <tr>\n",
       "      <th>2816</th>\n",
       "      <td>SRR4449973</td>\n",
       "      <td>Salmonella</td>\n",
       "      <td>enterica</td>\n",
       "      <td>Susceptible</td>\n",
       "      <td>0.01</td>\n",
       "      <td>26.00</td>\n",
       "      <td>18.00</td>\n",
       "      <td>29.00</td>\n",
       "      <td>23.00</td>\n",
       "      <td>15.00</td>\n",
       "      <td>...</td>\n",
       "      <td>0.00</td>\n",
       "      <td>0.00</td>\n",
       "      <td>0.00</td>\n",
       "      <td>0.00</td>\n",
       "      <td>0.00</td>\n",
       "      <td>0.00</td>\n",
       "      <td>0.00</td>\n",
       "      <td>0.00</td>\n",
       "      <td>0.00</td>\n",
       "      <td>0.00</td>\n",
       "    </tr>\n",
       "    <tr>\n",
       "      <th>2817</th>\n",
       "      <td>SRR4449974</td>\n",
       "      <td>Salmonella</td>\n",
       "      <td>enterica</td>\n",
       "      <td>Susceptible</td>\n",
       "      <td>0.03</td>\n",
       "      <td>27.00</td>\n",
       "      <td>18.00</td>\n",
       "      <td>27.00</td>\n",
       "      <td>21.00</td>\n",
       "      <td>15.00</td>\n",
       "      <td>...</td>\n",
       "      <td>0.00</td>\n",
       "      <td>0.00</td>\n",
       "      <td>0.00</td>\n",
       "      <td>0.00</td>\n",
       "      <td>0.00</td>\n",
       "      <td>0.00</td>\n",
       "      <td>0.00</td>\n",
       "      <td>0.00</td>\n",
       "      <td>0.00</td>\n",
       "      <td>0.00</td>\n",
       "    </tr>\n",
       "  </tbody>\n",
       "</table>\n",
       "<p>2818 rows × 5570 columns</p>\n",
       "</div>"
      ],
      "text/plain": [
       "       accession          genus   species    phenotype  mic  3000535  3005091  \\\n",
       "0     SRR3138666  Campylobacter    jejuni  Susceptible 0.12    19.00    10.00   \n",
       "1     SRR3138667  Campylobacter    jejuni  Susceptible 0.06    19.00     6.00   \n",
       "2     SRR3138668  Campylobacter    jejuni  Susceptible 0.06    16.00     7.00   \n",
       "3     SRR3138669  Campylobacter    jejuni  Susceptible 0.06    16.00     7.00   \n",
       "4     SRR3138670  Campylobacter    jejuni  Susceptible 0.06    20.00     8.00   \n",
       "...          ...            ...       ...          ...  ...      ...      ...   \n",
       "2813  SRR4449966     Salmonella  enterica  Susceptible 0.01    25.00    18.00   \n",
       "2814  SRR4449967     Salmonella  enterica  Susceptible 0.01    24.00    18.00   \n",
       "2815  SRR4449972     Salmonella  enterica  Susceptible 0.01    24.00    18.00   \n",
       "2816  SRR4449973     Salmonella  enterica  Susceptible 0.01    26.00    18.00   \n",
       "2817  SRR4449974     Salmonella  enterica  Susceptible 0.03    27.00    18.00   \n",
       "\n",
       "      3000833  3003665  3007433  ...  3003285-S531G  3007051-I572F  \\\n",
       "0        4.00     3.00     3.00  ...           0.00           0.00   \n",
       "1        7.00     4.00     4.00  ...           0.00           0.00   \n",
       "2        5.00     3.00     3.00  ...           0.00           0.00   \n",
       "3        5.00     3.00     3.00  ...           0.00           0.00   \n",
       "4        6.00     4.00     4.00  ...           0.00           0.00   \n",
       "...       ...      ...      ...  ...            ...            ...   \n",
       "2813    30.00    22.00    15.00  ...           0.00           0.00   \n",
       "2814    29.00    21.00    15.00  ...           0.00           0.00   \n",
       "2815    28.00    22.00    15.00  ...           0.00           0.00   \n",
       "2816    29.00    23.00    15.00  ...           0.00           0.00   \n",
       "2817    27.00    21.00    15.00  ...           0.00           0.00   \n",
       "\n",
       "      3007051-I837V  3003294-D105E  3003394-S66P  3005106-A352E  \\\n",
       "0              0.00           0.00          0.00           0.00   \n",
       "1              0.00           0.00          0.00           0.00   \n",
       "2              0.00           0.00          0.00           0.00   \n",
       "3              0.00           0.00          0.00           0.00   \n",
       "4              0.00           0.00          0.00           0.00   \n",
       "...             ...            ...           ...            ...   \n",
       "2813           0.00           0.00          0.00           0.00   \n",
       "2814           0.00           0.00          0.00           0.00   \n",
       "2815           0.00           0.00          0.00           0.00   \n",
       "2816           0.00           0.00          0.00           0.00   \n",
       "2817           0.00           0.00          0.00           0.00   \n",
       "\n",
       "      3003937-N514H  3003937-L546V  3003304-E540V  3003304-E504V  \n",
       "0              0.00           0.00           0.00           0.00  \n",
       "1              0.00           0.00           0.00           0.00  \n",
       "2              0.00           0.00           0.00           0.00  \n",
       "3              0.00           0.00           0.00           0.00  \n",
       "4              0.00           0.00           0.00           0.00  \n",
       "...             ...            ...            ...            ...  \n",
       "2813           0.00           0.00           0.00           0.00  \n",
       "2814           0.00           0.00           0.00           0.00  \n",
       "2815           0.00           0.00           0.00           0.00  \n",
       "2816           0.00           0.00           0.00           0.00  \n",
       "2817           0.00           0.00           0.00           0.00  \n",
       "\n",
       "[2818 rows x 5570 columns]"
      ]
     },
     "execution_count": 6,
     "metadata": {},
     "output_type": "execute_result"
    }
   ],
   "source": [
    "RCL"
   ]
  },
  {
   "cell_type": "code",
   "execution_count": 7,
   "id": "57a32cef-ad92-4cf1-9838-8d14d4fb6bc4",
   "metadata": {},
   "outputs": [
    {
     "data": {
      "text/html": [
       "<div>\n",
       "<style scoped>\n",
       "    .dataframe tbody tr th:only-of-type {\n",
       "        vertical-align: middle;\n",
       "    }\n",
       "\n",
       "    .dataframe tbody tr th {\n",
       "        vertical-align: top;\n",
       "    }\n",
       "\n",
       "    .dataframe thead th {\n",
       "        text-align: right;\n",
       "    }\n",
       "</style>\n",
       "<table border=\"1\" class=\"dataframe\">\n",
       "  <thead>\n",
       "    <tr style=\"text-align: right;\">\n",
       "      <th></th>\n",
       "      <th>accession</th>\n",
       "      <th>genus</th>\n",
       "      <th>species</th>\n",
       "      <th>phenotype</th>\n",
       "      <th>mic</th>\n",
       "      <th>3000535</th>\n",
       "      <th>3005091</th>\n",
       "      <th>3000833</th>\n",
       "      <th>3003665</th>\n",
       "      <th>3007433</th>\n",
       "      <th>...</th>\n",
       "      <th>3003285-S531G</th>\n",
       "      <th>3007051-I572F</th>\n",
       "      <th>3007051-I837V</th>\n",
       "      <th>3003294-D105E</th>\n",
       "      <th>3003394-S66P</th>\n",
       "      <th>3005106-A352E</th>\n",
       "      <th>3003937-N514H</th>\n",
       "      <th>3003937-L546V</th>\n",
       "      <th>3003304-E540V</th>\n",
       "      <th>3003304-E504V</th>\n",
       "    </tr>\n",
       "  </thead>\n",
       "  <tbody>\n",
       "    <tr>\n",
       "      <th>0</th>\n",
       "      <td>GCA_002947415</td>\n",
       "      <td>Acinetobacter</td>\n",
       "      <td>baumannii</td>\n",
       "      <td>Resistant</td>\n",
       "      <td>8.00</td>\n",
       "      <td>20.00</td>\n",
       "      <td>7.00</td>\n",
       "      <td>19.00</td>\n",
       "      <td>19.00</td>\n",
       "      <td>16.00</td>\n",
       "      <td>...</td>\n",
       "      <td>0.00</td>\n",
       "      <td>0.00</td>\n",
       "      <td>0.00</td>\n",
       "      <td>0.00</td>\n",
       "      <td>0.00</td>\n",
       "      <td>0.00</td>\n",
       "      <td>0.00</td>\n",
       "      <td>0.00</td>\n",
       "      <td>0.00</td>\n",
       "      <td>0.00</td>\n",
       "    </tr>\n",
       "    <tr>\n",
       "      <th>1</th>\n",
       "      <td>GCA_002947845</td>\n",
       "      <td>Acinetobacter</td>\n",
       "      <td>baumannii</td>\n",
       "      <td>Resistant</td>\n",
       "      <td>8.00</td>\n",
       "      <td>18.00</td>\n",
       "      <td>7.00</td>\n",
       "      <td>18.00</td>\n",
       "      <td>18.00</td>\n",
       "      <td>16.00</td>\n",
       "      <td>...</td>\n",
       "      <td>0.00</td>\n",
       "      <td>0.00</td>\n",
       "      <td>0.00</td>\n",
       "      <td>0.00</td>\n",
       "      <td>0.00</td>\n",
       "      <td>0.00</td>\n",
       "      <td>0.00</td>\n",
       "      <td>0.00</td>\n",
       "      <td>0.00</td>\n",
       "      <td>0.00</td>\n",
       "    </tr>\n",
       "    <tr>\n",
       "      <th>2</th>\n",
       "      <td>GCA_002948925</td>\n",
       "      <td>Acinetobacter</td>\n",
       "      <td>baumannii</td>\n",
       "      <td>Resistant</td>\n",
       "      <td>8.00</td>\n",
       "      <td>19.00</td>\n",
       "      <td>6.00</td>\n",
       "      <td>15.00</td>\n",
       "      <td>18.00</td>\n",
       "      <td>14.00</td>\n",
       "      <td>...</td>\n",
       "      <td>0.00</td>\n",
       "      <td>0.00</td>\n",
       "      <td>0.00</td>\n",
       "      <td>0.00</td>\n",
       "      <td>0.00</td>\n",
       "      <td>0.00</td>\n",
       "      <td>0.00</td>\n",
       "      <td>0.00</td>\n",
       "      <td>0.00</td>\n",
       "      <td>0.00</td>\n",
       "    </tr>\n",
       "    <tr>\n",
       "      <th>3</th>\n",
       "      <td>GCA_002996805</td>\n",
       "      <td>Acinetobacter</td>\n",
       "      <td>baumannii</td>\n",
       "      <td>Resistant</td>\n",
       "      <td>8.00</td>\n",
       "      <td>18.00</td>\n",
       "      <td>7.00</td>\n",
       "      <td>19.00</td>\n",
       "      <td>18.00</td>\n",
       "      <td>15.00</td>\n",
       "      <td>...</td>\n",
       "      <td>0.00</td>\n",
       "      <td>0.00</td>\n",
       "      <td>0.00</td>\n",
       "      <td>0.00</td>\n",
       "      <td>0.00</td>\n",
       "      <td>0.00</td>\n",
       "      <td>0.00</td>\n",
       "      <td>0.00</td>\n",
       "      <td>0.00</td>\n",
       "      <td>0.00</td>\n",
       "    </tr>\n",
       "    <tr>\n",
       "      <th>4</th>\n",
       "      <td>GCA_003006035</td>\n",
       "      <td>Acinetobacter</td>\n",
       "      <td>baumannii</td>\n",
       "      <td>Resistant</td>\n",
       "      <td>8.00</td>\n",
       "      <td>20.00</td>\n",
       "      <td>8.00</td>\n",
       "      <td>17.00</td>\n",
       "      <td>21.00</td>\n",
       "      <td>16.00</td>\n",
       "      <td>...</td>\n",
       "      <td>0.00</td>\n",
       "      <td>0.00</td>\n",
       "      <td>0.00</td>\n",
       "      <td>0.00</td>\n",
       "      <td>0.00</td>\n",
       "      <td>0.00</td>\n",
       "      <td>0.00</td>\n",
       "      <td>0.00</td>\n",
       "      <td>0.00</td>\n",
       "      <td>0.00</td>\n",
       "    </tr>\n",
       "    <tr>\n",
       "      <th>...</th>\n",
       "      <td>...</td>\n",
       "      <td>...</td>\n",
       "      <td>...</td>\n",
       "      <td>...</td>\n",
       "      <td>...</td>\n",
       "      <td>...</td>\n",
       "      <td>...</td>\n",
       "      <td>...</td>\n",
       "      <td>...</td>\n",
       "      <td>...</td>\n",
       "      <td>...</td>\n",
       "      <td>...</td>\n",
       "      <td>...</td>\n",
       "      <td>...</td>\n",
       "      <td>...</td>\n",
       "      <td>...</td>\n",
       "      <td>...</td>\n",
       "      <td>...</td>\n",
       "      <td>...</td>\n",
       "      <td>...</td>\n",
       "      <td>...</td>\n",
       "    </tr>\n",
       "    <tr>\n",
       "      <th>3129</th>\n",
       "      <td>SRR5122327</td>\n",
       "      <td>Pseudomonas</td>\n",
       "      <td>aeruginosa</td>\n",
       "      <td>Resistant</td>\n",
       "      <td>8.00</td>\n",
       "      <td>44.00</td>\n",
       "      <td>20.00</td>\n",
       "      <td>34.00</td>\n",
       "      <td>50.00</td>\n",
       "      <td>30.00</td>\n",
       "      <td>...</td>\n",
       "      <td>0.00</td>\n",
       "      <td>0.00</td>\n",
       "      <td>0.00</td>\n",
       "      <td>0.00</td>\n",
       "      <td>0.00</td>\n",
       "      <td>0.00</td>\n",
       "      <td>0.00</td>\n",
       "      <td>0.00</td>\n",
       "      <td>0.00</td>\n",
       "      <td>0.00</td>\n",
       "    </tr>\n",
       "    <tr>\n",
       "      <th>3130</th>\n",
       "      <td>SRR5122329</td>\n",
       "      <td>Pseudomonas</td>\n",
       "      <td>aeruginosa</td>\n",
       "      <td>Resistant</td>\n",
       "      <td>8.00</td>\n",
       "      <td>42.00</td>\n",
       "      <td>23.00</td>\n",
       "      <td>34.00</td>\n",
       "      <td>48.00</td>\n",
       "      <td>28.00</td>\n",
       "      <td>...</td>\n",
       "      <td>0.00</td>\n",
       "      <td>0.00</td>\n",
       "      <td>0.00</td>\n",
       "      <td>0.00</td>\n",
       "      <td>0.00</td>\n",
       "      <td>0.00</td>\n",
       "      <td>0.00</td>\n",
       "      <td>0.00</td>\n",
       "      <td>0.00</td>\n",
       "      <td>0.00</td>\n",
       "    </tr>\n",
       "    <tr>\n",
       "      <th>3131</th>\n",
       "      <td>SRR5122330</td>\n",
       "      <td>Pseudomonas</td>\n",
       "      <td>aeruginosa</td>\n",
       "      <td>Resistant</td>\n",
       "      <td>8.00</td>\n",
       "      <td>47.00</td>\n",
       "      <td>24.00</td>\n",
       "      <td>34.00</td>\n",
       "      <td>50.00</td>\n",
       "      <td>30.00</td>\n",
       "      <td>...</td>\n",
       "      <td>0.00</td>\n",
       "      <td>0.00</td>\n",
       "      <td>0.00</td>\n",
       "      <td>0.00</td>\n",
       "      <td>0.00</td>\n",
       "      <td>0.00</td>\n",
       "      <td>0.00</td>\n",
       "      <td>0.00</td>\n",
       "      <td>0.00</td>\n",
       "      <td>0.00</td>\n",
       "    </tr>\n",
       "    <tr>\n",
       "      <th>3132</th>\n",
       "      <td>SRR5122331</td>\n",
       "      <td>Pseudomonas</td>\n",
       "      <td>aeruginosa</td>\n",
       "      <td>Resistant</td>\n",
       "      <td>8.00</td>\n",
       "      <td>43.00</td>\n",
       "      <td>25.00</td>\n",
       "      <td>35.00</td>\n",
       "      <td>47.00</td>\n",
       "      <td>29.00</td>\n",
       "      <td>...</td>\n",
       "      <td>0.00</td>\n",
       "      <td>0.00</td>\n",
       "      <td>0.00</td>\n",
       "      <td>0.00</td>\n",
       "      <td>0.00</td>\n",
       "      <td>0.00</td>\n",
       "      <td>0.00</td>\n",
       "      <td>0.00</td>\n",
       "      <td>0.00</td>\n",
       "      <td>0.00</td>\n",
       "    </tr>\n",
       "    <tr>\n",
       "      <th>3133</th>\n",
       "      <td>SRR5122332</td>\n",
       "      <td>Pseudomonas</td>\n",
       "      <td>aeruginosa</td>\n",
       "      <td>Resistant</td>\n",
       "      <td>8.00</td>\n",
       "      <td>46.00</td>\n",
       "      <td>23.00</td>\n",
       "      <td>33.00</td>\n",
       "      <td>47.00</td>\n",
       "      <td>29.00</td>\n",
       "      <td>...</td>\n",
       "      <td>0.00</td>\n",
       "      <td>0.00</td>\n",
       "      <td>0.00</td>\n",
       "      <td>0.00</td>\n",
       "      <td>0.00</td>\n",
       "      <td>0.00</td>\n",
       "      <td>0.00</td>\n",
       "      <td>0.00</td>\n",
       "      <td>0.00</td>\n",
       "      <td>0.00</td>\n",
       "    </tr>\n",
       "  </tbody>\n",
       "</table>\n",
       "<p>3134 rows × 5570 columns</p>\n",
       "</div>"
      ],
      "text/plain": [
       "          accession          genus     species  phenotype  mic  3000535  \\\n",
       "0     GCA_002947415  Acinetobacter   baumannii  Resistant 8.00    20.00   \n",
       "1     GCA_002947845  Acinetobacter   baumannii  Resistant 8.00    18.00   \n",
       "2     GCA_002948925  Acinetobacter   baumannii  Resistant 8.00    19.00   \n",
       "3     GCA_002996805  Acinetobacter   baumannii  Resistant 8.00    18.00   \n",
       "4     GCA_003006035  Acinetobacter   baumannii  Resistant 8.00    20.00   \n",
       "...             ...            ...         ...        ...  ...      ...   \n",
       "3129     SRR5122327    Pseudomonas  aeruginosa  Resistant 8.00    44.00   \n",
       "3130     SRR5122329    Pseudomonas  aeruginosa  Resistant 8.00    42.00   \n",
       "3131     SRR5122330    Pseudomonas  aeruginosa  Resistant 8.00    47.00   \n",
       "3132     SRR5122331    Pseudomonas  aeruginosa  Resistant 8.00    43.00   \n",
       "3133     SRR5122332    Pseudomonas  aeruginosa  Resistant 8.00    46.00   \n",
       "\n",
       "      3005091  3000833  3003665  3007433  ...  3003285-S531G  3007051-I572F  \\\n",
       "0        7.00    19.00    19.00    16.00  ...           0.00           0.00   \n",
       "1        7.00    18.00    18.00    16.00  ...           0.00           0.00   \n",
       "2        6.00    15.00    18.00    14.00  ...           0.00           0.00   \n",
       "3        7.00    19.00    18.00    15.00  ...           0.00           0.00   \n",
       "4        8.00    17.00    21.00    16.00  ...           0.00           0.00   \n",
       "...       ...      ...      ...      ...  ...            ...            ...   \n",
       "3129    20.00    34.00    50.00    30.00  ...           0.00           0.00   \n",
       "3130    23.00    34.00    48.00    28.00  ...           0.00           0.00   \n",
       "3131    24.00    34.00    50.00    30.00  ...           0.00           0.00   \n",
       "3132    25.00    35.00    47.00    29.00  ...           0.00           0.00   \n",
       "3133    23.00    33.00    47.00    29.00  ...           0.00           0.00   \n",
       "\n",
       "      3007051-I837V  3003294-D105E  3003394-S66P  3005106-A352E  \\\n",
       "0              0.00           0.00          0.00           0.00   \n",
       "1              0.00           0.00          0.00           0.00   \n",
       "2              0.00           0.00          0.00           0.00   \n",
       "3              0.00           0.00          0.00           0.00   \n",
       "4              0.00           0.00          0.00           0.00   \n",
       "...             ...            ...           ...            ...   \n",
       "3129           0.00           0.00          0.00           0.00   \n",
       "3130           0.00           0.00          0.00           0.00   \n",
       "3131           0.00           0.00          0.00           0.00   \n",
       "3132           0.00           0.00          0.00           0.00   \n",
       "3133           0.00           0.00          0.00           0.00   \n",
       "\n",
       "      3003937-N514H  3003937-L546V  3003304-E540V  3003304-E504V  \n",
       "0              0.00           0.00           0.00           0.00  \n",
       "1              0.00           0.00           0.00           0.00  \n",
       "2              0.00           0.00           0.00           0.00  \n",
       "3              0.00           0.00           0.00           0.00  \n",
       "4              0.00           0.00           0.00           0.00  \n",
       "...             ...            ...            ...            ...  \n",
       "3129           0.00           0.00           0.00           0.00  \n",
       "3130           0.00           0.00           0.00           0.00  \n",
       "3131           0.00           0.00           0.00           0.00  \n",
       "3132           0.00           0.00           0.00           0.00  \n",
       "3133           0.00           0.00           0.00           0.00  \n",
       "\n",
       "[3134 rows x 5570 columns]"
      ]
     },
     "execution_count": 7,
     "metadata": {},
     "output_type": "execute_result"
    }
   ],
   "source": [
    "RML"
   ]
  },
  {
   "cell_type": "code",
   "execution_count": 8,
   "id": "1d89cca3-b598-473e-82e6-f69035d8a1ad",
   "metadata": {},
   "outputs": [],
   "source": [
    "def encode_labels(dataframe):\n",
    "    \"\"\"\n",
    "    Encodes the labels in the specified column of the dataframe.\n",
    "    \n",
    "    Parameters:\n",
    "    - dataframe: The input dataframe.\n",
    "    \n",
    "    Returns:\n",
    "    - encoded_labels: The encoded labels.\n",
    "    - label_encoder: The label encoder used for encoding.\n",
    "    \"\"\"\n",
    "    labels = dataframe.iloc[:, 3]\n",
    "    label_encoder = LabelEncoder()\n",
    "    \n",
    "    # Fit and transform the labels\n",
    "    encoded_labels = label_encoder.fit_transform(labels)\n",
    "    \n",
    "    return encoded_labels, label_encoder\n",
    "\n",
    "# Example usage\n",
    "# Assuming DF is your DataFrame\n",
    "#encoded_labels, label_encoder = encode_labels(DF)\n",
    "#print(encoded_labels)"
   ]
  },
  {
   "cell_type": "code",
   "execution_count": 9,
   "id": "f2789827-94c0-4dcd-b10c-5d93e489f666",
   "metadata": {},
   "outputs": [],
   "source": [
    "def custom_train_test_split(dataframe, labels, test_size=0.2, random_state=42):\n",
    "    \"\"\"\n",
    "    Splits the dataframe into training and testing sets.\n",
    "    \n",
    "    Parameters:\n",
    "    - dataframe: The input dataframe.\n",
    "    - labels: The labels to be used for stratification.\n",
    "    - test_size: The proportion of the dataset to include in the test split.\n",
    "    - random_state: Controls the shuffling applied to the data before applying the split.\n",
    "    \n",
    "    Returns:\n",
    "    - X_train, X_test, y_train, y_test: The split datasets.\n",
    "    \"\"\"\n",
    "    stratify_labels = labels\n",
    "    \n",
    "    X_train, X_test, y_train, y_test = train_test_split(\n",
    "        dataframe.iloc[:, 5:],  # Splitting columns from 6 onward\n",
    "        labels,\n",
    "        stratify=stratify_labels,\n",
    "        train_size=1 - test_size,\n",
    "        random_state=random_state,\n",
    "        shuffle=True\n",
    "    )\n",
    "    \n",
    "    return X_train, X_test, y_train, y_test\n",
    "\n",
    "# Example usage:\n",
    "# DF is your dataframe, and encoded_labels are your encoded labels\n",
    "#X_train, X_test, y_train, y_test = custom_train_test_split(DF, encoded_labels)"
   ]
  },
  {
   "cell_type": "markdown",
   "id": "f0138dba-94b2-41ee-9661-05b5f3e3ea56",
   "metadata": {},
   "source": [
    "Dividimos nuestro set de datos para hacer validación cruzada"
   ]
  },
  {
   "cell_type": "code",
   "execution_count": 10,
   "id": "c9548747-2af6-46ce-8683-826768a7dc76",
   "metadata": {},
   "outputs": [],
   "source": [
    "#Ciprofloxacin\n",
    "encoded_labels, label_encoder = encode_labels(RCL)\n",
    "X_train, X_test, y_train, y_test = custom_train_test_split(RCL, encoded_labels)"
   ]
  },
  {
   "cell_type": "code",
   "execution_count": 11,
   "id": "114314ef-1946-4daa-85e1-fb1f2492152b",
   "metadata": {},
   "outputs": [],
   "source": [
    "#Meropenem\n",
    "encoded_labels_M, label_encoder_M = encode_labels(RML)\n",
    "X_train_M, X_test_M, y_train_M, y_test_M = custom_train_test_split(RML, encoded_labels_M)"
   ]
  },
  {
   "cell_type": "markdown",
   "id": "b6a85695-aa09-4f5c-b315-297334bdfbbb",
   "metadata": {},
   "source": [
    "Estandarizamos los datos"
   ]
  },
  {
   "cell_type": "code",
   "execution_count": 12,
   "id": "4eaee06c-43a7-4489-adfb-fc8ae67940bb",
   "metadata": {},
   "outputs": [],
   "source": [
    "#Ciprofloxacin\n",
    "scaler = StandardScaler()\n",
    "scaler.fit(X_train)\n",
    "X_train = scaler.transform(X_train)\n",
    "X_test = scaler.transform(X_test)"
   ]
  },
  {
   "cell_type": "code",
   "execution_count": 13,
   "id": "5d264d49-ea17-4f83-94a6-a59b9dd21911",
   "metadata": {},
   "outputs": [],
   "source": [
    "#Meropenem\n",
    "scaler = StandardScaler()\n",
    "scaler.fit(X_train_M)\n",
    "X_train_M = scaler.transform(X_train_M)\n",
    "X_test_M = scaler.transform(X_test_M)\n"
   ]
  },
  {
   "cell_type": "markdown",
   "id": "74c0fffe-9f46-48a6-b2d6-9c6afddbfbf9",
   "metadata": {},
   "source": [
    "En la siguiente celda, utilizaremos **LazyClassifier** para entrenar varios modelos de clasificación con el conjunto de datos de RCL."
   ]
  },
  {
   "cell_type": "code",
   "execution_count": 14,
   "id": "5fc02b56-e7d1-4e43-a457-68aeca608fe3",
   "metadata": {},
   "outputs": [
    {
     "name": "stderr",
     "output_type": "stream",
     "text": [
      " 97%|█████████▋| 28/29 [03:11<00:06,  6.56s/it]"
     ]
    },
    {
     "name": "stdout",
     "output_type": "stream",
     "text": [
      "[LightGBM] [Info] Number of positive: 2083, number of negative: 171\n",
      "[LightGBM] [Info] Auto-choosing col-wise multi-threading, the overhead of testing was 0.030929 seconds.\n",
      "You can set `force_col_wise=true` to remove the overhead.\n",
      "[LightGBM] [Info] Total Bins 15212\n",
      "[LightGBM] [Info] Number of data points in the train set: 2254, number of used features: 2812\n",
      "[LightGBM] [Info] [binary:BoostFromScore]: pavg=0.924135 -> initscore=2.499901\n",
      "[LightGBM] [Info] Start training from score 2.499901\n",
      "[LightGBM] [Warning] No further splits with positive gain, best gain: -inf\n",
      "[LightGBM] [Warning] No further splits with positive gain, best gain: -inf\n",
      "[LightGBM] [Warning] No further splits with positive gain, best gain: -inf\n",
      "[LightGBM] [Warning] No further splits with positive gain, best gain: -inf\n",
      "[LightGBM] [Warning] No further splits with positive gain, best gain: -inf\n"
     ]
    },
    {
     "name": "stderr",
     "output_type": "stream",
     "text": [
      "100%|██████████| 29/29 [03:12<00:00,  6.65s/it]"
     ]
    },
    {
     "name": "stdout",
     "output_type": "stream",
     "text": [
      "[LightGBM] [Warning] No further splits with positive gain, best gain: -inf\n"
     ]
    },
    {
     "name": "stderr",
     "output_type": "stream",
     "text": [
      "\n"
     ]
    },
    {
     "data": {
      "text/html": [
       "<div>\n",
       "<style scoped>\n",
       "    .dataframe tbody tr th:only-of-type {\n",
       "        vertical-align: middle;\n",
       "    }\n",
       "\n",
       "    .dataframe tbody tr th {\n",
       "        vertical-align: top;\n",
       "    }\n",
       "\n",
       "    .dataframe thead th {\n",
       "        text-align: right;\n",
       "    }\n",
       "</style>\n",
       "<table border=\"1\" class=\"dataframe\">\n",
       "  <thead>\n",
       "    <tr style=\"text-align: right;\">\n",
       "      <th></th>\n",
       "      <th>Accuracy</th>\n",
       "      <th>Balanced Accuracy</th>\n",
       "      <th>ROC AUC</th>\n",
       "      <th>F1 Score</th>\n",
       "      <th>Time Taken</th>\n",
       "    </tr>\n",
       "    <tr>\n",
       "      <th>Model</th>\n",
       "      <th></th>\n",
       "      <th></th>\n",
       "      <th></th>\n",
       "      <th></th>\n",
       "      <th></th>\n",
       "    </tr>\n",
       "  </thead>\n",
       "  <tbody>\n",
       "    <tr>\n",
       "      <th>BaggingClassifier</th>\n",
       "      <td>1.00</td>\n",
       "      <td>0.99</td>\n",
       "      <td>0.99</td>\n",
       "      <td>1.00</td>\n",
       "      <td>2.57</td>\n",
       "    </tr>\n",
       "    <tr>\n",
       "      <th>DecisionTreeClassifier</th>\n",
       "      <td>0.99</td>\n",
       "      <td>0.98</td>\n",
       "      <td>0.98</td>\n",
       "      <td>0.99</td>\n",
       "      <td>0.83</td>\n",
       "    </tr>\n",
       "    <tr>\n",
       "      <th>RidgeClassifierCV</th>\n",
       "      <td>0.99</td>\n",
       "      <td>0.98</td>\n",
       "      <td>0.98</td>\n",
       "      <td>0.99</td>\n",
       "      <td>14.53</td>\n",
       "    </tr>\n",
       "    <tr>\n",
       "      <th>LGBMClassifier</th>\n",
       "      <td>0.99</td>\n",
       "      <td>0.97</td>\n",
       "      <td>0.97</td>\n",
       "      <td>0.99</td>\n",
       "      <td>1.35</td>\n",
       "    </tr>\n",
       "    <tr>\n",
       "      <th>AdaBoostClassifier</th>\n",
       "      <td>0.99</td>\n",
       "      <td>0.97</td>\n",
       "      <td>0.97</td>\n",
       "      <td>0.99</td>\n",
       "      <td>5.70</td>\n",
       "    </tr>\n",
       "    <tr>\n",
       "      <th>XGBClassifier</th>\n",
       "      <td>0.99</td>\n",
       "      <td>0.97</td>\n",
       "      <td>0.97</td>\n",
       "      <td>0.99</td>\n",
       "      <td>16.87</td>\n",
       "    </tr>\n",
       "    <tr>\n",
       "      <th>PassiveAggressiveClassifier</th>\n",
       "      <td>0.99</td>\n",
       "      <td>0.97</td>\n",
       "      <td>0.97</td>\n",
       "      <td>0.99</td>\n",
       "      <td>1.13</td>\n",
       "    </tr>\n",
       "    <tr>\n",
       "      <th>LinearSVC</th>\n",
       "      <td>0.99</td>\n",
       "      <td>0.97</td>\n",
       "      <td>0.97</td>\n",
       "      <td>0.99</td>\n",
       "      <td>11.48</td>\n",
       "    </tr>\n",
       "    <tr>\n",
       "      <th>LogisticRegression</th>\n",
       "      <td>0.99</td>\n",
       "      <td>0.96</td>\n",
       "      <td>0.96</td>\n",
       "      <td>0.99</td>\n",
       "      <td>1.69</td>\n",
       "    </tr>\n",
       "    <tr>\n",
       "      <th>Perceptron</th>\n",
       "      <td>0.98</td>\n",
       "      <td>0.96</td>\n",
       "      <td>0.96</td>\n",
       "      <td>0.98</td>\n",
       "      <td>0.78</td>\n",
       "    </tr>\n",
       "    <tr>\n",
       "      <th>SGDClassifier</th>\n",
       "      <td>0.99</td>\n",
       "      <td>0.95</td>\n",
       "      <td>0.95</td>\n",
       "      <td>0.99</td>\n",
       "      <td>0.93</td>\n",
       "    </tr>\n",
       "    <tr>\n",
       "      <th>LinearDiscriminantAnalysis</th>\n",
       "      <td>0.98</td>\n",
       "      <td>0.93</td>\n",
       "      <td>0.93</td>\n",
       "      <td>0.98</td>\n",
       "      <td>65.67</td>\n",
       "    </tr>\n",
       "    <tr>\n",
       "      <th>ExtraTreesClassifier</th>\n",
       "      <td>0.99</td>\n",
       "      <td>0.93</td>\n",
       "      <td>0.93</td>\n",
       "      <td>0.99</td>\n",
       "      <td>1.04</td>\n",
       "    </tr>\n",
       "    <tr>\n",
       "      <th>RandomForestClassifier</th>\n",
       "      <td>0.99</td>\n",
       "      <td>0.92</td>\n",
       "      <td>0.92</td>\n",
       "      <td>0.99</td>\n",
       "      <td>0.98</td>\n",
       "    </tr>\n",
       "    <tr>\n",
       "      <th>ExtraTreeClassifier</th>\n",
       "      <td>0.96</td>\n",
       "      <td>0.89</td>\n",
       "      <td>0.89</td>\n",
       "      <td>0.96</td>\n",
       "      <td>0.47</td>\n",
       "    </tr>\n",
       "    <tr>\n",
       "      <th>KNeighborsClassifier</th>\n",
       "      <td>0.96</td>\n",
       "      <td>0.87</td>\n",
       "      <td>0.87</td>\n",
       "      <td>0.96</td>\n",
       "      <td>0.59</td>\n",
       "    </tr>\n",
       "    <tr>\n",
       "      <th>BernoulliNB</th>\n",
       "      <td>0.84</td>\n",
       "      <td>0.87</td>\n",
       "      <td>0.87</td>\n",
       "      <td>0.87</td>\n",
       "      <td>0.72</td>\n",
       "    </tr>\n",
       "    <tr>\n",
       "      <th>NearestCentroid</th>\n",
       "      <td>0.84</td>\n",
       "      <td>0.87</td>\n",
       "      <td>0.87</td>\n",
       "      <td>0.87</td>\n",
       "      <td>0.58</td>\n",
       "    </tr>\n",
       "    <tr>\n",
       "      <th>SVC</th>\n",
       "      <td>0.98</td>\n",
       "      <td>0.86</td>\n",
       "      <td>0.86</td>\n",
       "      <td>0.98</td>\n",
       "      <td>6.01</td>\n",
       "    </tr>\n",
       "    <tr>\n",
       "      <th>CalibratedClassifierCV</th>\n",
       "      <td>0.96</td>\n",
       "      <td>0.78</td>\n",
       "      <td>0.78</td>\n",
       "      <td>0.96</td>\n",
       "      <td>49.62</td>\n",
       "    </tr>\n",
       "    <tr>\n",
       "      <th>GaussianNB</th>\n",
       "      <td>0.90</td>\n",
       "      <td>0.78</td>\n",
       "      <td>0.78</td>\n",
       "      <td>0.91</td>\n",
       "      <td>0.66</td>\n",
       "    </tr>\n",
       "    <tr>\n",
       "      <th>LabelPropagation</th>\n",
       "      <td>0.16</td>\n",
       "      <td>0.54</td>\n",
       "      <td>0.54</td>\n",
       "      <td>0.16</td>\n",
       "      <td>0.78</td>\n",
       "    </tr>\n",
       "    <tr>\n",
       "      <th>LabelSpreading</th>\n",
       "      <td>0.16</td>\n",
       "      <td>0.54</td>\n",
       "      <td>0.54</td>\n",
       "      <td>0.16</td>\n",
       "      <td>0.85</td>\n",
       "    </tr>\n",
       "    <tr>\n",
       "      <th>DummyClassifier</th>\n",
       "      <td>0.92</td>\n",
       "      <td>0.50</td>\n",
       "      <td>0.50</td>\n",
       "      <td>0.89</td>\n",
       "      <td>0.44</td>\n",
       "    </tr>\n",
       "    <tr>\n",
       "      <th>QuadraticDiscriminantAnalysis</th>\n",
       "      <td>0.08</td>\n",
       "      <td>0.50</td>\n",
       "      <td>0.50</td>\n",
       "      <td>0.01</td>\n",
       "      <td>4.91</td>\n",
       "    </tr>\n",
       "  </tbody>\n",
       "</table>\n",
       "</div>"
      ],
      "text/plain": [
       "                               Accuracy  Balanced Accuracy  ROC AUC  F1 Score  \\\n",
       "Model                                                                           \n",
       "BaggingClassifier                  1.00               0.99     0.99      1.00   \n",
       "DecisionTreeClassifier             0.99               0.98     0.98      0.99   \n",
       "RidgeClassifierCV                  0.99               0.98     0.98      0.99   \n",
       "LGBMClassifier                     0.99               0.97     0.97      0.99   \n",
       "AdaBoostClassifier                 0.99               0.97     0.97      0.99   \n",
       "XGBClassifier                      0.99               0.97     0.97      0.99   \n",
       "PassiveAggressiveClassifier        0.99               0.97     0.97      0.99   \n",
       "LinearSVC                          0.99               0.97     0.97      0.99   \n",
       "LogisticRegression                 0.99               0.96     0.96      0.99   \n",
       "Perceptron                         0.98               0.96     0.96      0.98   \n",
       "SGDClassifier                      0.99               0.95     0.95      0.99   \n",
       "LinearDiscriminantAnalysis         0.98               0.93     0.93      0.98   \n",
       "ExtraTreesClassifier               0.99               0.93     0.93      0.99   \n",
       "RandomForestClassifier             0.99               0.92     0.92      0.99   \n",
       "ExtraTreeClassifier                0.96               0.89     0.89      0.96   \n",
       "KNeighborsClassifier               0.96               0.87     0.87      0.96   \n",
       "BernoulliNB                        0.84               0.87     0.87      0.87   \n",
       "NearestCentroid                    0.84               0.87     0.87      0.87   \n",
       "SVC                                0.98               0.86     0.86      0.98   \n",
       "CalibratedClassifierCV             0.96               0.78     0.78      0.96   \n",
       "GaussianNB                         0.90               0.78     0.78      0.91   \n",
       "LabelPropagation                   0.16               0.54     0.54      0.16   \n",
       "LabelSpreading                     0.16               0.54     0.54      0.16   \n",
       "DummyClassifier                    0.92               0.50     0.50      0.89   \n",
       "QuadraticDiscriminantAnalysis      0.08               0.50     0.50      0.01   \n",
       "\n",
       "                               Time Taken  \n",
       "Model                                      \n",
       "BaggingClassifier                    2.57  \n",
       "DecisionTreeClassifier               0.83  \n",
       "RidgeClassifierCV                   14.53  \n",
       "LGBMClassifier                       1.35  \n",
       "AdaBoostClassifier                   5.70  \n",
       "XGBClassifier                       16.87  \n",
       "PassiveAggressiveClassifier          1.13  \n",
       "LinearSVC                           11.48  \n",
       "LogisticRegression                   1.69  \n",
       "Perceptron                           0.78  \n",
       "SGDClassifier                        0.93  \n",
       "LinearDiscriminantAnalysis          65.67  \n",
       "ExtraTreesClassifier                 1.04  \n",
       "RandomForestClassifier               0.98  \n",
       "ExtraTreeClassifier                  0.47  \n",
       "KNeighborsClassifier                 0.59  \n",
       "BernoulliNB                          0.72  \n",
       "NearestCentroid                      0.58  \n",
       "SVC                                  6.01  \n",
       "CalibratedClassifierCV              49.62  \n",
       "GaussianNB                           0.66  \n",
       "LabelPropagation                     0.78  \n",
       "LabelSpreading                       0.85  \n",
       "DummyClassifier                      0.44  \n",
       "QuadraticDiscriminantAnalysis        4.91  "
      ]
     },
     "execution_count": 14,
     "metadata": {},
     "output_type": "execute_result"
    }
   ],
   "source": [
    "#Ciprofloxacin\n",
    "fast_models = LazyClassifier(verbose=0, ignore_warnings=True, custom_metric=None)\n",
    "models,predictions = fast_models.fit(X_train, X_test, y_train, y_test)\n",
    "models"
   ]
  },
  {
   "cell_type": "code",
   "execution_count": 15,
   "id": "316ca2b0-3d4d-488d-9ae8-7b5331b358bf",
   "metadata": {},
   "outputs": [
    {
     "name": "stdout",
     "output_type": "stream",
     "text": [
      "'tuple' object has no attribute '__name__'\n",
      "Invalid Classifier(s)\n"
     ]
    },
    {
     "name": "stderr",
     "output_type": "stream",
     "text": [
      " 97%|█████████▋| 28/29 [04:48<00:12, 12.74s/it]"
     ]
    },
    {
     "name": "stdout",
     "output_type": "stream",
     "text": [
      "[LightGBM] [Info] Number of positive: 1573, number of negative: 934\n",
      "[LightGBM] [Info] Auto-choosing col-wise multi-threading, the overhead of testing was 0.044524 seconds.\n",
      "You can set `force_col_wise=true` to remove the overhead.\n",
      "[LightGBM] [Info] Total Bins 23095\n",
      "[LightGBM] [Info] Number of data points in the train set: 2507, number of used features: 3615\n",
      "[LightGBM] [Info] [binary:BoostFromScore]: pavg=0.627443 -> initscore=0.521263\n",
      "[LightGBM] [Info] Start training from score 0.521263\n"
     ]
    },
    {
     "name": "stderr",
     "output_type": "stream",
     "text": [
      "100%|██████████| 29/29 [04:50<00:00, 10.02s/it]\n"
     ]
    },
    {
     "data": {
      "text/html": [
       "<div>\n",
       "<style scoped>\n",
       "    .dataframe tbody tr th:only-of-type {\n",
       "        vertical-align: middle;\n",
       "    }\n",
       "\n",
       "    .dataframe tbody tr th {\n",
       "        vertical-align: top;\n",
       "    }\n",
       "\n",
       "    .dataframe thead th {\n",
       "        text-align: right;\n",
       "    }\n",
       "</style>\n",
       "<table border=\"1\" class=\"dataframe\">\n",
       "  <thead>\n",
       "    <tr style=\"text-align: right;\">\n",
       "      <th></th>\n",
       "      <th>Accuracy</th>\n",
       "      <th>Balanced Accuracy</th>\n",
       "      <th>ROC AUC</th>\n",
       "      <th>F1 Score</th>\n",
       "      <th>Time Taken</th>\n",
       "    </tr>\n",
       "    <tr>\n",
       "      <th>Model</th>\n",
       "      <th></th>\n",
       "      <th></th>\n",
       "      <th></th>\n",
       "      <th></th>\n",
       "      <th></th>\n",
       "    </tr>\n",
       "  </thead>\n",
       "  <tbody>\n",
       "    <tr>\n",
       "      <th>LGBMClassifier</th>\n",
       "      <td>0.90</td>\n",
       "      <td>0.88</td>\n",
       "      <td>0.88</td>\n",
       "      <td>0.90</td>\n",
       "      <td>1.77</td>\n",
       "    </tr>\n",
       "    <tr>\n",
       "      <th>XGBClassifier</th>\n",
       "      <td>0.90</td>\n",
       "      <td>0.88</td>\n",
       "      <td>0.88</td>\n",
       "      <td>0.90</td>\n",
       "      <td>30.64</td>\n",
       "    </tr>\n",
       "    <tr>\n",
       "      <th>AdaBoostClassifier</th>\n",
       "      <td>0.88</td>\n",
       "      <td>0.86</td>\n",
       "      <td>0.86</td>\n",
       "      <td>0.88</td>\n",
       "      <td>6.99</td>\n",
       "    </tr>\n",
       "    <tr>\n",
       "      <th>ExtraTreesClassifier</th>\n",
       "      <td>0.87</td>\n",
       "      <td>0.86</td>\n",
       "      <td>0.86</td>\n",
       "      <td>0.87</td>\n",
       "      <td>2.51</td>\n",
       "    </tr>\n",
       "    <tr>\n",
       "      <th>RandomForestClassifier</th>\n",
       "      <td>0.87</td>\n",
       "      <td>0.85</td>\n",
       "      <td>0.85</td>\n",
       "      <td>0.87</td>\n",
       "      <td>2.13</td>\n",
       "    </tr>\n",
       "    <tr>\n",
       "      <th>BaggingClassifier</th>\n",
       "      <td>0.85</td>\n",
       "      <td>0.85</td>\n",
       "      <td>0.85</td>\n",
       "      <td>0.86</td>\n",
       "      <td>11.84</td>\n",
       "    </tr>\n",
       "    <tr>\n",
       "      <th>DecisionTreeClassifier</th>\n",
       "      <td>0.85</td>\n",
       "      <td>0.85</td>\n",
       "      <td>0.85</td>\n",
       "      <td>0.85</td>\n",
       "      <td>2.42</td>\n",
       "    </tr>\n",
       "    <tr>\n",
       "      <th>LogisticRegression</th>\n",
       "      <td>0.85</td>\n",
       "      <td>0.85</td>\n",
       "      <td>0.85</td>\n",
       "      <td>0.85</td>\n",
       "      <td>1.69</td>\n",
       "    </tr>\n",
       "    <tr>\n",
       "      <th>PassiveAggressiveClassifier</th>\n",
       "      <td>0.85</td>\n",
       "      <td>0.84</td>\n",
       "      <td>0.84</td>\n",
       "      <td>0.85</td>\n",
       "      <td>2.09</td>\n",
       "    </tr>\n",
       "    <tr>\n",
       "      <th>Perceptron</th>\n",
       "      <td>0.85</td>\n",
       "      <td>0.84</td>\n",
       "      <td>0.84</td>\n",
       "      <td>0.85</td>\n",
       "      <td>1.21</td>\n",
       "    </tr>\n",
       "    <tr>\n",
       "      <th>LinearSVC</th>\n",
       "      <td>0.84</td>\n",
       "      <td>0.84</td>\n",
       "      <td>0.84</td>\n",
       "      <td>0.84</td>\n",
       "      <td>14.46</td>\n",
       "    </tr>\n",
       "    <tr>\n",
       "      <th>CalibratedClassifierCV</th>\n",
       "      <td>0.85</td>\n",
       "      <td>0.83</td>\n",
       "      <td>0.83</td>\n",
       "      <td>0.85</td>\n",
       "      <td>59.68</td>\n",
       "    </tr>\n",
       "    <tr>\n",
       "      <th>SVC</th>\n",
       "      <td>0.85</td>\n",
       "      <td>0.82</td>\n",
       "      <td>0.82</td>\n",
       "      <td>0.84</td>\n",
       "      <td>20.85</td>\n",
       "    </tr>\n",
       "    <tr>\n",
       "      <th>KNeighborsClassifier</th>\n",
       "      <td>0.84</td>\n",
       "      <td>0.81</td>\n",
       "      <td>0.81</td>\n",
       "      <td>0.84</td>\n",
       "      <td>0.65</td>\n",
       "    </tr>\n",
       "    <tr>\n",
       "      <th>NuSVC</th>\n",
       "      <td>0.84</td>\n",
       "      <td>0.81</td>\n",
       "      <td>0.81</td>\n",
       "      <td>0.84</td>\n",
       "      <td>24.31</td>\n",
       "    </tr>\n",
       "    <tr>\n",
       "      <th>SGDClassifier</th>\n",
       "      <td>0.84</td>\n",
       "      <td>0.81</td>\n",
       "      <td>0.81</td>\n",
       "      <td>0.83</td>\n",
       "      <td>1.22</td>\n",
       "    </tr>\n",
       "    <tr>\n",
       "      <th>RidgeClassifierCV</th>\n",
       "      <td>0.82</td>\n",
       "      <td>0.80</td>\n",
       "      <td>0.80</td>\n",
       "      <td>0.82</td>\n",
       "      <td>17.74</td>\n",
       "    </tr>\n",
       "    <tr>\n",
       "      <th>ExtraTreeClassifier</th>\n",
       "      <td>0.81</td>\n",
       "      <td>0.80</td>\n",
       "      <td>0.80</td>\n",
       "      <td>0.81</td>\n",
       "      <td>0.54</td>\n",
       "    </tr>\n",
       "    <tr>\n",
       "      <th>LinearDiscriminantAnalysis</th>\n",
       "      <td>0.76</td>\n",
       "      <td>0.75</td>\n",
       "      <td>0.75</td>\n",
       "      <td>0.76</td>\n",
       "      <td>78.23</td>\n",
       "    </tr>\n",
       "    <tr>\n",
       "      <th>NearestCentroid</th>\n",
       "      <td>0.67</td>\n",
       "      <td>0.67</td>\n",
       "      <td>0.67</td>\n",
       "      <td>0.68</td>\n",
       "      <td>0.62</td>\n",
       "    </tr>\n",
       "    <tr>\n",
       "      <th>BernoulliNB</th>\n",
       "      <td>0.67</td>\n",
       "      <td>0.67</td>\n",
       "      <td>0.67</td>\n",
       "      <td>0.68</td>\n",
       "      <td>0.77</td>\n",
       "    </tr>\n",
       "    <tr>\n",
       "      <th>QuadraticDiscriminantAnalysis</th>\n",
       "      <td>0.64</td>\n",
       "      <td>0.64</td>\n",
       "      <td>0.64</td>\n",
       "      <td>0.65</td>\n",
       "      <td>4.15</td>\n",
       "    </tr>\n",
       "    <tr>\n",
       "      <th>GaussianNB</th>\n",
       "      <td>0.51</td>\n",
       "      <td>0.58</td>\n",
       "      <td>0.58</td>\n",
       "      <td>0.48</td>\n",
       "      <td>0.75</td>\n",
       "    </tr>\n",
       "    <tr>\n",
       "      <th>LabelSpreading</th>\n",
       "      <td>0.38</td>\n",
       "      <td>0.51</td>\n",
       "      <td>0.51</td>\n",
       "      <td>0.22</td>\n",
       "      <td>0.90</td>\n",
       "    </tr>\n",
       "    <tr>\n",
       "      <th>LabelPropagation</th>\n",
       "      <td>0.38</td>\n",
       "      <td>0.51</td>\n",
       "      <td>0.51</td>\n",
       "      <td>0.22</td>\n",
       "      <td>0.85</td>\n",
       "    </tr>\n",
       "    <tr>\n",
       "      <th>DummyClassifier</th>\n",
       "      <td>0.63</td>\n",
       "      <td>0.50</td>\n",
       "      <td>0.50</td>\n",
       "      <td>0.48</td>\n",
       "      <td>0.49</td>\n",
       "    </tr>\n",
       "  </tbody>\n",
       "</table>\n",
       "</div>"
      ],
      "text/plain": [
       "                               Accuracy  Balanced Accuracy  ROC AUC  F1 Score  \\\n",
       "Model                                                                           \n",
       "LGBMClassifier                     0.90               0.88     0.88      0.90   \n",
       "XGBClassifier                      0.90               0.88     0.88      0.90   \n",
       "AdaBoostClassifier                 0.88               0.86     0.86      0.88   \n",
       "ExtraTreesClassifier               0.87               0.86     0.86      0.87   \n",
       "RandomForestClassifier             0.87               0.85     0.85      0.87   \n",
       "BaggingClassifier                  0.85               0.85     0.85      0.86   \n",
       "DecisionTreeClassifier             0.85               0.85     0.85      0.85   \n",
       "LogisticRegression                 0.85               0.85     0.85      0.85   \n",
       "PassiveAggressiveClassifier        0.85               0.84     0.84      0.85   \n",
       "Perceptron                         0.85               0.84     0.84      0.85   \n",
       "LinearSVC                          0.84               0.84     0.84      0.84   \n",
       "CalibratedClassifierCV             0.85               0.83     0.83      0.85   \n",
       "SVC                                0.85               0.82     0.82      0.84   \n",
       "KNeighborsClassifier               0.84               0.81     0.81      0.84   \n",
       "NuSVC                              0.84               0.81     0.81      0.84   \n",
       "SGDClassifier                      0.84               0.81     0.81      0.83   \n",
       "RidgeClassifierCV                  0.82               0.80     0.80      0.82   \n",
       "ExtraTreeClassifier                0.81               0.80     0.80      0.81   \n",
       "LinearDiscriminantAnalysis         0.76               0.75     0.75      0.76   \n",
       "NearestCentroid                    0.67               0.67     0.67      0.68   \n",
       "BernoulliNB                        0.67               0.67     0.67      0.68   \n",
       "QuadraticDiscriminantAnalysis      0.64               0.64     0.64      0.65   \n",
       "GaussianNB                         0.51               0.58     0.58      0.48   \n",
       "LabelSpreading                     0.38               0.51     0.51      0.22   \n",
       "LabelPropagation                   0.38               0.51     0.51      0.22   \n",
       "DummyClassifier                    0.63               0.50     0.50      0.48   \n",
       "\n",
       "                               Time Taken  \n",
       "Model                                      \n",
       "LGBMClassifier                       1.77  \n",
       "XGBClassifier                       30.64  \n",
       "AdaBoostClassifier                   6.99  \n",
       "ExtraTreesClassifier                 2.51  \n",
       "RandomForestClassifier               2.13  \n",
       "BaggingClassifier                   11.84  \n",
       "DecisionTreeClassifier               2.42  \n",
       "LogisticRegression                   1.69  \n",
       "PassiveAggressiveClassifier          2.09  \n",
       "Perceptron                           1.21  \n",
       "LinearSVC                           14.46  \n",
       "CalibratedClassifierCV              59.68  \n",
       "SVC                                 20.85  \n",
       "KNeighborsClassifier                 0.65  \n",
       "NuSVC                               24.31  \n",
       "SGDClassifier                        1.22  \n",
       "RidgeClassifierCV                   17.74  \n",
       "ExtraTreeClassifier                  0.54  \n",
       "LinearDiscriminantAnalysis          78.23  \n",
       "NearestCentroid                      0.62  \n",
       "BernoulliNB                          0.77  \n",
       "QuadraticDiscriminantAnalysis        4.15  \n",
       "GaussianNB                           0.75  \n",
       "LabelSpreading                       0.90  \n",
       "LabelPropagation                     0.85  \n",
       "DummyClassifier                      0.49  "
      ]
     },
     "execution_count": 15,
     "metadata": {},
     "output_type": "execute_result"
    }
   ],
   "source": [
    "#Meropenem\n",
    "fast_models_M = LazyClassifier(verbose=0, ignore_warnings=True, custom_metric=None)\n",
    "models_M,predictions_M = fast_models.fit(X_train_M, X_test_M, y_train_M, y_test_M)\n",
    "models_M"
   ]
  },
  {
   "cell_type": "markdown",
   "id": "1ab7e59e-e489-4940-a65d-11f1f6a6acee",
   "metadata": {},
   "source": [
    "## Optimización de parámetros"
   ]
  },
  {
   "cell_type": "markdown",
   "id": "4f108a45-202c-45cd-9804-c390e158f2d9",
   "metadata": {},
   "source": [
    "### K-nearest neighbors (Grid Search)"
   ]
  },
  {
   "cell_type": "code",
   "execution_count": 16,
   "id": "12efecd1-9c52-4529-b497-b2125f44f3f2",
   "metadata": {},
   "outputs": [],
   "source": [
    "parameters = {'n_neighbors':[2*x+1 for x in range(10)], \n",
    "              'weights':['uniform', 'distance'], \n",
    "              'algorithm':['ball_tree', 'kd_tree', 'brute'], \n",
    "              'metric':['minkowski', 'manhattan', 'euclidean']\n",
    "             }\n",
    "knn = KNeighborsClassifier()\n",
    "# Optimización para el primer conjunto de datos pertenecientes  a Ciprofloxacin\n",
    "grid_search_knn_1 = GridSearchCV(KNeighborsClassifier(), parameters, scoring='f1_micro', cv=5, n_jobs=-1)\n",
    "grid_search_knn_1.fit(X_train, y_train)\n",
    "best_knn_1 = grid_search_knn_1.best_estimator_"
   ]
  },
  {
   "cell_type": "code",
   "execution_count": 20,
   "id": "f18239fb-33ac-4c60-83a4-3fda93b7b920",
   "metadata": {},
   "outputs": [],
   "source": [
    "# Optimización para el segundo conjunto de datos pertenecientes a Meropenem\n",
    "grid_search_knn_2 = GridSearchCV(KNeighborsClassifier(), parameters, scoring='f1_micro', cv=5, n_jobs=-1)\n",
    "grid_search_knn_2.fit(X_train_M, y_train_M)\n",
    "best_knn_2 = grid_search_knn_2.best_estimator_"
   ]
  },
  {
   "cell_type": "code",
   "execution_count": 17,
   "id": "e291fcbe-1214-4afb-b788-afaa1fefa641",
   "metadata": {},
   "outputs": [
    {
     "data": {
      "text/plain": [
       "GridSearchCV(cv=5, estimator=KNeighborsClassifier(), n_jobs=-1,\n",
       "             param_grid={'algorithm': ['ball_tree', 'kd_tree', 'brute'],\n",
       "                         'metric': ['minkowski', 'manhattan', 'euclidean'],\n",
       "                         'n_neighbors': [1, 3, 5, 7, 9, 11, 13, 15, 17, 19],\n",
       "                         'weights': ['uniform', 'distance']},\n",
       "             scoring='f1_micro')"
      ]
     },
     "execution_count": 17,
     "metadata": {},
     "output_type": "execute_result"
    }
   ],
   "source": [
    "#Ciprofloxacin\n",
    "grid_search_knn_1.fit(X_train, y_train)"
   ]
  },
  {
   "cell_type": "code",
   "execution_count": 21,
   "id": "3560e054-e540-4b80-967b-02f623a154a8",
   "metadata": {},
   "outputs": [
    {
     "data": {
      "text/plain": [
       "GridSearchCV(cv=5, estimator=KNeighborsClassifier(), n_jobs=-1,\n",
       "             param_grid={'algorithm': ['ball_tree', 'kd_tree', 'brute'],\n",
       "                         'metric': ['minkowski', 'manhattan', 'euclidean'],\n",
       "                         'n_neighbors': [1, 3, 5, 7, 9, 11, 13, 15, 17, 19],\n",
       "                         'weights': ['uniform', 'distance']},\n",
       "             scoring='f1_micro')"
      ]
     },
     "execution_count": 21,
     "metadata": {},
     "output_type": "execute_result"
    }
   ],
   "source": [
    "#Meropenem \n",
    "grid_search_knn_2.fit(X_train_M, y_train_M)"
   ]
  },
  {
   "cell_type": "code",
   "execution_count": 22,
   "id": "e2dba022-b5a8-48ab-a126-fad9dd8671f9",
   "metadata": {},
   "outputs": [
    {
     "data": {
      "text/html": [
       "<div>\n",
       "<style scoped>\n",
       "    .dataframe tbody tr th:only-of-type {\n",
       "        vertical-align: middle;\n",
       "    }\n",
       "\n",
       "    .dataframe tbody tr th {\n",
       "        vertical-align: top;\n",
       "    }\n",
       "\n",
       "    .dataframe thead th {\n",
       "        text-align: right;\n",
       "    }\n",
       "</style>\n",
       "<table border=\"1\" class=\"dataframe\">\n",
       "  <thead>\n",
       "    <tr style=\"text-align: right;\">\n",
       "      <th></th>\n",
       "      <th>mean_fit_time</th>\n",
       "      <th>std_fit_time</th>\n",
       "      <th>mean_score_time</th>\n",
       "      <th>std_score_time</th>\n",
       "      <th>param_algorithm</th>\n",
       "      <th>param_metric</th>\n",
       "      <th>param_n_neighbors</th>\n",
       "      <th>param_weights</th>\n",
       "      <th>params</th>\n",
       "      <th>split0_test_score</th>\n",
       "      <th>split1_test_score</th>\n",
       "      <th>split2_test_score</th>\n",
       "      <th>split3_test_score</th>\n",
       "      <th>split4_test_score</th>\n",
       "      <th>mean_test_score</th>\n",
       "      <th>std_test_score</th>\n",
       "      <th>rank_test_score</th>\n",
       "    </tr>\n",
       "  </thead>\n",
       "  <tbody>\n",
       "    <tr>\n",
       "      <th>0</th>\n",
       "      <td>1.47</td>\n",
       "      <td>0.20</td>\n",
       "      <td>19.36</td>\n",
       "      <td>1.75</td>\n",
       "      <td>ball_tree</td>\n",
       "      <td>minkowski</td>\n",
       "      <td>1</td>\n",
       "      <td>uniform</td>\n",
       "      <td>{'algorithm': 'ball_tree', 'metric': 'minkowsk...</td>\n",
       "      <td>0.97</td>\n",
       "      <td>0.98</td>\n",
       "      <td>0.98</td>\n",
       "      <td>0.97</td>\n",
       "      <td>0.97</td>\n",
       "      <td>0.97</td>\n",
       "      <td>0.00</td>\n",
       "      <td>16</td>\n",
       "    </tr>\n",
       "    <tr>\n",
       "      <th>1</th>\n",
       "      <td>1.54</td>\n",
       "      <td>0.19</td>\n",
       "      <td>20.30</td>\n",
       "      <td>1.28</td>\n",
       "      <td>ball_tree</td>\n",
       "      <td>minkowski</td>\n",
       "      <td>1</td>\n",
       "      <td>distance</td>\n",
       "      <td>{'algorithm': 'ball_tree', 'metric': 'minkowsk...</td>\n",
       "      <td>0.97</td>\n",
       "      <td>0.98</td>\n",
       "      <td>0.98</td>\n",
       "      <td>0.97</td>\n",
       "      <td>0.97</td>\n",
       "      <td>0.97</td>\n",
       "      <td>0.00</td>\n",
       "      <td>16</td>\n",
       "    </tr>\n",
       "    <tr>\n",
       "      <th>2</th>\n",
       "      <td>1.52</td>\n",
       "      <td>0.19</td>\n",
       "      <td>19.11</td>\n",
       "      <td>1.51</td>\n",
       "      <td>ball_tree</td>\n",
       "      <td>minkowski</td>\n",
       "      <td>3</td>\n",
       "      <td>uniform</td>\n",
       "      <td>{'algorithm': 'ball_tree', 'metric': 'minkowsk...</td>\n",
       "      <td>0.97</td>\n",
       "      <td>0.97</td>\n",
       "      <td>0.96</td>\n",
       "      <td>0.97</td>\n",
       "      <td>0.98</td>\n",
       "      <td>0.97</td>\n",
       "      <td>0.01</td>\n",
       "      <td>37</td>\n",
       "    </tr>\n",
       "    <tr>\n",
       "      <th>3</th>\n",
       "      <td>1.65</td>\n",
       "      <td>0.13</td>\n",
       "      <td>20.37</td>\n",
       "      <td>0.51</td>\n",
       "      <td>ball_tree</td>\n",
       "      <td>minkowski</td>\n",
       "      <td>3</td>\n",
       "      <td>distance</td>\n",
       "      <td>{'algorithm': 'ball_tree', 'metric': 'minkowsk...</td>\n",
       "      <td>0.97</td>\n",
       "      <td>0.97</td>\n",
       "      <td>0.96</td>\n",
       "      <td>0.97</td>\n",
       "      <td>0.98</td>\n",
       "      <td>0.97</td>\n",
       "      <td>0.01</td>\n",
       "      <td>46</td>\n",
       "    </tr>\n",
       "    <tr>\n",
       "      <th>4</th>\n",
       "      <td>1.73</td>\n",
       "      <td>0.50</td>\n",
       "      <td>19.28</td>\n",
       "      <td>1.67</td>\n",
       "      <td>ball_tree</td>\n",
       "      <td>minkowski</td>\n",
       "      <td>5</td>\n",
       "      <td>uniform</td>\n",
       "      <td>{'algorithm': 'ball_tree', 'metric': 'minkowsk...</td>\n",
       "      <td>0.97</td>\n",
       "      <td>0.96</td>\n",
       "      <td>0.96</td>\n",
       "      <td>0.96</td>\n",
       "      <td>0.98</td>\n",
       "      <td>0.97</td>\n",
       "      <td>0.01</td>\n",
       "      <td>76</td>\n",
       "    </tr>\n",
       "  </tbody>\n",
       "</table>\n",
       "</div>"
      ],
      "text/plain": [
       "   mean_fit_time  std_fit_time  mean_score_time  std_score_time  \\\n",
       "0           1.47          0.20            19.36            1.75   \n",
       "1           1.54          0.19            20.30            1.28   \n",
       "2           1.52          0.19            19.11            1.51   \n",
       "3           1.65          0.13            20.37            0.51   \n",
       "4           1.73          0.50            19.28            1.67   \n",
       "\n",
       "  param_algorithm param_metric param_n_neighbors param_weights  \\\n",
       "0       ball_tree    minkowski                 1       uniform   \n",
       "1       ball_tree    minkowski                 1      distance   \n",
       "2       ball_tree    minkowski                 3       uniform   \n",
       "3       ball_tree    minkowski                 3      distance   \n",
       "4       ball_tree    minkowski                 5       uniform   \n",
       "\n",
       "                                              params  split0_test_score  \\\n",
       "0  {'algorithm': 'ball_tree', 'metric': 'minkowsk...               0.97   \n",
       "1  {'algorithm': 'ball_tree', 'metric': 'minkowsk...               0.97   \n",
       "2  {'algorithm': 'ball_tree', 'metric': 'minkowsk...               0.97   \n",
       "3  {'algorithm': 'ball_tree', 'metric': 'minkowsk...               0.97   \n",
       "4  {'algorithm': 'ball_tree', 'metric': 'minkowsk...               0.97   \n",
       "\n",
       "   split1_test_score  split2_test_score  split3_test_score  split4_test_score  \\\n",
       "0               0.98               0.98               0.97               0.97   \n",
       "1               0.98               0.98               0.97               0.97   \n",
       "2               0.97               0.96               0.97               0.98   \n",
       "3               0.97               0.96               0.97               0.98   \n",
       "4               0.96               0.96               0.96               0.98   \n",
       "\n",
       "   mean_test_score  std_test_score  rank_test_score  \n",
       "0             0.97            0.00               16  \n",
       "1             0.97            0.00               16  \n",
       "2             0.97            0.01               37  \n",
       "3             0.97            0.01               46  \n",
       "4             0.97            0.01               76  "
      ]
     },
     "execution_count": 22,
     "metadata": {},
     "output_type": "execute_result"
    }
   ],
   "source": [
    "pd.DataFrame(grid_search_knn_1.cv_results_).head()"
   ]
  },
  {
   "cell_type": "code",
   "execution_count": 23,
   "id": "6d10dd22-bb86-4670-a969-252ea03d89d5",
   "metadata": {},
   "outputs": [
    {
     "data": {
      "text/html": [
       "<div>\n",
       "<style scoped>\n",
       "    .dataframe tbody tr th:only-of-type {\n",
       "        vertical-align: middle;\n",
       "    }\n",
       "\n",
       "    .dataframe tbody tr th {\n",
       "        vertical-align: top;\n",
       "    }\n",
       "\n",
       "    .dataframe thead th {\n",
       "        text-align: right;\n",
       "    }\n",
       "</style>\n",
       "<table border=\"1\" class=\"dataframe\">\n",
       "  <thead>\n",
       "    <tr style=\"text-align: right;\">\n",
       "      <th></th>\n",
       "      <th>mean_fit_time</th>\n",
       "      <th>std_fit_time</th>\n",
       "      <th>mean_score_time</th>\n",
       "      <th>std_score_time</th>\n",
       "      <th>param_algorithm</th>\n",
       "      <th>param_metric</th>\n",
       "      <th>param_n_neighbors</th>\n",
       "      <th>param_weights</th>\n",
       "      <th>params</th>\n",
       "      <th>split0_test_score</th>\n",
       "      <th>split1_test_score</th>\n",
       "      <th>split2_test_score</th>\n",
       "      <th>split3_test_score</th>\n",
       "      <th>split4_test_score</th>\n",
       "      <th>mean_test_score</th>\n",
       "      <th>std_test_score</th>\n",
       "      <th>rank_test_score</th>\n",
       "    </tr>\n",
       "  </thead>\n",
       "  <tbody>\n",
       "    <tr>\n",
       "      <th>0</th>\n",
       "      <td>1.47</td>\n",
       "      <td>0.20</td>\n",
       "      <td>19.36</td>\n",
       "      <td>1.75</td>\n",
       "      <td>ball_tree</td>\n",
       "      <td>minkowski</td>\n",
       "      <td>1</td>\n",
       "      <td>uniform</td>\n",
       "      <td>{'algorithm': 'ball_tree', 'metric': 'minkowsk...</td>\n",
       "      <td>0.97</td>\n",
       "      <td>0.98</td>\n",
       "      <td>0.98</td>\n",
       "      <td>0.97</td>\n",
       "      <td>0.97</td>\n",
       "      <td>0.97</td>\n",
       "      <td>0.00</td>\n",
       "      <td>16</td>\n",
       "    </tr>\n",
       "    <tr>\n",
       "      <th>1</th>\n",
       "      <td>1.54</td>\n",
       "      <td>0.19</td>\n",
       "      <td>20.30</td>\n",
       "      <td>1.28</td>\n",
       "      <td>ball_tree</td>\n",
       "      <td>minkowski</td>\n",
       "      <td>1</td>\n",
       "      <td>distance</td>\n",
       "      <td>{'algorithm': 'ball_tree', 'metric': 'minkowsk...</td>\n",
       "      <td>0.97</td>\n",
       "      <td>0.98</td>\n",
       "      <td>0.98</td>\n",
       "      <td>0.97</td>\n",
       "      <td>0.97</td>\n",
       "      <td>0.97</td>\n",
       "      <td>0.00</td>\n",
       "      <td>16</td>\n",
       "    </tr>\n",
       "    <tr>\n",
       "      <th>2</th>\n",
       "      <td>1.52</td>\n",
       "      <td>0.19</td>\n",
       "      <td>19.11</td>\n",
       "      <td>1.51</td>\n",
       "      <td>ball_tree</td>\n",
       "      <td>minkowski</td>\n",
       "      <td>3</td>\n",
       "      <td>uniform</td>\n",
       "      <td>{'algorithm': 'ball_tree', 'metric': 'minkowsk...</td>\n",
       "      <td>0.97</td>\n",
       "      <td>0.97</td>\n",
       "      <td>0.96</td>\n",
       "      <td>0.97</td>\n",
       "      <td>0.98</td>\n",
       "      <td>0.97</td>\n",
       "      <td>0.01</td>\n",
       "      <td>37</td>\n",
       "    </tr>\n",
       "    <tr>\n",
       "      <th>3</th>\n",
       "      <td>1.65</td>\n",
       "      <td>0.13</td>\n",
       "      <td>20.37</td>\n",
       "      <td>0.51</td>\n",
       "      <td>ball_tree</td>\n",
       "      <td>minkowski</td>\n",
       "      <td>3</td>\n",
       "      <td>distance</td>\n",
       "      <td>{'algorithm': 'ball_tree', 'metric': 'minkowsk...</td>\n",
       "      <td>0.97</td>\n",
       "      <td>0.97</td>\n",
       "      <td>0.96</td>\n",
       "      <td>0.97</td>\n",
       "      <td>0.98</td>\n",
       "      <td>0.97</td>\n",
       "      <td>0.01</td>\n",
       "      <td>46</td>\n",
       "    </tr>\n",
       "    <tr>\n",
       "      <th>4</th>\n",
       "      <td>1.73</td>\n",
       "      <td>0.50</td>\n",
       "      <td>19.28</td>\n",
       "      <td>1.67</td>\n",
       "      <td>ball_tree</td>\n",
       "      <td>minkowski</td>\n",
       "      <td>5</td>\n",
       "      <td>uniform</td>\n",
       "      <td>{'algorithm': 'ball_tree', 'metric': 'minkowsk...</td>\n",
       "      <td>0.97</td>\n",
       "      <td>0.96</td>\n",
       "      <td>0.96</td>\n",
       "      <td>0.96</td>\n",
       "      <td>0.98</td>\n",
       "      <td>0.97</td>\n",
       "      <td>0.01</td>\n",
       "      <td>76</td>\n",
       "    </tr>\n",
       "  </tbody>\n",
       "</table>\n",
       "</div>"
      ],
      "text/plain": [
       "   mean_fit_time  std_fit_time  mean_score_time  std_score_time  \\\n",
       "0           1.47          0.20            19.36            1.75   \n",
       "1           1.54          0.19            20.30            1.28   \n",
       "2           1.52          0.19            19.11            1.51   \n",
       "3           1.65          0.13            20.37            0.51   \n",
       "4           1.73          0.50            19.28            1.67   \n",
       "\n",
       "  param_algorithm param_metric param_n_neighbors param_weights  \\\n",
       "0       ball_tree    minkowski                 1       uniform   \n",
       "1       ball_tree    minkowski                 1      distance   \n",
       "2       ball_tree    minkowski                 3       uniform   \n",
       "3       ball_tree    minkowski                 3      distance   \n",
       "4       ball_tree    minkowski                 5       uniform   \n",
       "\n",
       "                                              params  split0_test_score  \\\n",
       "0  {'algorithm': 'ball_tree', 'metric': 'minkowsk...               0.97   \n",
       "1  {'algorithm': 'ball_tree', 'metric': 'minkowsk...               0.97   \n",
       "2  {'algorithm': 'ball_tree', 'metric': 'minkowsk...               0.97   \n",
       "3  {'algorithm': 'ball_tree', 'metric': 'minkowsk...               0.97   \n",
       "4  {'algorithm': 'ball_tree', 'metric': 'minkowsk...               0.97   \n",
       "\n",
       "   split1_test_score  split2_test_score  split3_test_score  split4_test_score  \\\n",
       "0               0.98               0.98               0.97               0.97   \n",
       "1               0.98               0.98               0.97               0.97   \n",
       "2               0.97               0.96               0.97               0.98   \n",
       "3               0.97               0.96               0.97               0.98   \n",
       "4               0.96               0.96               0.96               0.98   \n",
       "\n",
       "   mean_test_score  std_test_score  rank_test_score  \n",
       "0             0.97            0.00               16  \n",
       "1             0.97            0.00               16  \n",
       "2             0.97            0.01               37  \n",
       "3             0.97            0.01               46  \n",
       "4             0.97            0.01               76  "
      ]
     },
     "execution_count": 23,
     "metadata": {},
     "output_type": "execute_result"
    }
   ],
   "source": [
    "pd.DataFrame(grid_search_knn_1.cv_results_).head()"
   ]
  },
  {
   "cell_type": "code",
   "execution_count": 24,
   "id": "2ac8aa21-d7aa-464f-afb1-7115dda486e5",
   "metadata": {},
   "outputs": [
    {
     "data": {
      "text/plain": [
       "{'algorithm': 'ball_tree',\n",
       " 'metric': 'manhattan',\n",
       " 'n_neighbors': 7,\n",
       " 'weights': 'distance'}"
      ]
     },
     "execution_count": 24,
     "metadata": {},
     "output_type": "execute_result"
    }
   ],
   "source": [
    "#Mejores parametros para Ciprofloxacin\n",
    "grid_search_knn_1.best_params_"
   ]
  },
  {
   "cell_type": "code",
   "execution_count": 25,
   "id": "fb904860-708b-48c0-a3df-d885102ca52f",
   "metadata": {},
   "outputs": [
    {
     "data": {
      "text/plain": [
       "{'algorithm': 'ball_tree',\n",
       " 'metric': 'manhattan',\n",
       " 'n_neighbors': 3,\n",
       " 'weights': 'distance'}"
      ]
     },
     "execution_count": 25,
     "metadata": {},
     "output_type": "execute_result"
    }
   ],
   "source": [
    "#Mejores parametros para Meropenem\n",
    "grid_search_knn_2.best_params_"
   ]
  },
  {
   "cell_type": "code",
   "execution_count": 31,
   "id": "ee49e6be-0e21-4e75-83e5-2ecb67fc5a6e",
   "metadata": {},
   "outputs": [],
   "source": [
    "#Ciprofloxacin\n",
    "knn_opt_C = grid_search_knn_1.best_estimator_\n",
    "\n",
    "#Meropenem \n",
    "knn_opt_M = grid_search_knn_2.best_estimator_"
   ]
  },
  {
   "cell_type": "code",
   "execution_count": 33,
   "id": "ab75e52a-cd33-4187-93ca-21639c601476",
   "metadata": {},
   "outputs": [
    {
     "data": {
      "text/plain": [
       "0.973404255319149"
      ]
     },
     "execution_count": 33,
     "metadata": {},
     "output_type": "execute_result"
    }
   ],
   "source": [
    "#Predicciones para Ciprofloxacin\n",
    "preds_C = knn_opt_C.predict(X_test)\n",
    "\n",
    "# f1-score en el conjunto de prueba\n",
    "f1_score(y_test, preds_C, average='micro')"
   ]
  },
  {
   "cell_type": "code",
   "execution_count": 45,
   "id": "9f348191-1a02-425e-aa98-6d1eacfbd239",
   "metadata": {},
   "outputs": [
    {
     "name": "stdout",
     "output_type": "stream",
     "text": [
      "Accuracy en conjunto de prueba: 0.9911347517730497\n",
      "Accuracy en conjunto de entrenamiento: 1.0\n"
     ]
    }
   ],
   "source": [
    "from sklearn.metrics import accuracy_score\n",
    "\n",
    "# Calcula el accuracy en el conjunto de prueba\n",
    "accuracy_test = accuracy_score(y_test, preds_C)\n",
    "\n",
    "# Calcula el accuracy en el conjunto de entrenamiento\n",
    "preds_train_C = knn_opt_C.predict(X_train)\n",
    "accuracy_train = accuracy_score(y_train, preds_train_C)\n",
    "\n",
    "print(\"Accuracy en conjunto de prueba:\", accuracy_test)\n",
    "print(\"Accuracy en conjunto de entrenamiento:\", accuracy_train)"
   ]
  },
  {
   "cell_type": "code",
   "execution_count": 35,
   "id": "2f72cf15-0538-4a48-bf61-5bd166279bd3",
   "metadata": {},
   "outputs": [
    {
     "data": {
      "text/plain": [
       "1.0"
      ]
     },
     "execution_count": 35,
     "metadata": {},
     "output_type": "execute_result"
    }
   ],
   "source": [
    "# Predicciones en el conjunto de entrenamiento\n",
    "preds_train_C = knn_opt_C.predict(X_train)\n",
    "\n",
    "# f1-score en el conjunto de entrenamiento\n",
    "f1_score(y_train, preds_train_C, average='micro')"
   ]
  },
  {
   "cell_type": "code",
   "execution_count": 30,
   "id": "4df3c3ce-66b5-4808-88f2-abd52d6b8cad",
   "metadata": {},
   "outputs": [
    {
     "data": {
      "text/plain": [
       "0.8484848484848486"
      ]
     },
     "execution_count": 30,
     "metadata": {},
     "output_type": "execute_result"
    }
   ],
   "source": [
    "#Predicciones para Meropenem\n",
    "preds_M = knn_opt_M.predict(X_test_M)\n",
    "f1_score(y_test_M, preds_M, average='micro')"
   ]
  },
  {
   "cell_type": "code",
   "execution_count": 53,
   "id": "632cdd44-1181-40a0-a9f3-39ca3fa1e810",
   "metadata": {},
   "outputs": [
    {
     "name": "stdout",
     "output_type": "stream",
     "text": [
      "Accuracy en conjunto de prueba: 0.7814992025518341\n",
      "Accuracy en conjunto de entrenamiento: 0.9996011168727563\n"
     ]
    }
   ],
   "source": [
    "# Calcula el accuracy en el conjunto de prueba\n",
    "accuracy_test_M = accuracy_score(y_test_M, preds_M)\n",
    "\n",
    "# Calcula el accuracy en el conjunto de entrenamiento\n",
    "preds_train_M = knn_opt_M.predict(X_train_M)\n",
    "accuracy_train_M = accuracy_score(y_train_M, preds_train_M)\n",
    "\n",
    "print(\"Accuracy en conjunto de prueba:\", accuracy_test_M)\n",
    "print(\"Accuracy en conjunto de entrenamiento:\", accuracy_train_M)"
   ]
  },
  {
   "cell_type": "markdown",
   "id": "0e71d73d-0913-493f-8ca8-d8366841c3d6",
   "metadata": {},
   "source": [
    "### Decision Tree (Random Search)"
   ]
  },
  {
   "cell_type": "code",
   "execution_count": 36,
   "id": "c8d9a17e-191d-4fa1-80ac-cb15467b3be4",
   "metadata": {},
   "outputs": [],
   "source": [
    "param_grid = {\n",
    "    'criterion': ['gini', 'entropy', 'log_loss'],\n",
    "    'max_depth': [x for x in range(5, 15)],\n",
    "    'min_samples_split': [2, 3, 4, 5, 6],\n",
    "    'min_samples_leaf': [1, 2, 3, 4],   \n",
    "    'ccp_alpha': [0, 0.01, 0.1, 0.2],\n",
    "}"
   ]
  },
  {
   "cell_type": "code",
   "execution_count": 37,
   "id": "42a75458-8a2f-44bf-a524-662dc70d2253",
   "metadata": {},
   "outputs": [],
   "source": [
    "tree = DecisionTreeClassifier()\n",
    "#Ciprofloxacin\n",
    "random_search_tree_C= RandomizedSearchCV(tree, param_grid, n_iter = 100, scoring = 'f1_micro', cv = 5, n_jobs = 2, random_state=42)\n",
    "#Meropenem\n",
    "random_search_tree_M= RandomizedSearchCV(tree, param_grid, n_iter = 100, scoring = 'f1_micro', cv = 5, n_jobs = 2, random_state=42)"
   ]
  },
  {
   "cell_type": "code",
   "execution_count": 38,
   "id": "09d052a4-016e-4192-bb1a-29683e506149",
   "metadata": {},
   "outputs": [
    {
     "data": {
      "text/plain": [
       "{'min_samples_split': 4,\n",
       " 'min_samples_leaf': 4,\n",
       " 'max_depth': 6,\n",
       " 'criterion': 'entropy',\n",
       " 'ccp_alpha': 0.2}"
      ]
     },
     "execution_count": 38,
     "metadata": {},
     "output_type": "execute_result"
    }
   ],
   "source": [
    "#Ciprofloxacin\n",
    "random_search_tree_C.fit(X_train, y_train)\n",
    "random_search_tree_C.best_params_"
   ]
  },
  {
   "cell_type": "code",
   "execution_count": 39,
   "id": "b05b11d7-af53-4c05-8982-70f2463471c0",
   "metadata": {},
   "outputs": [
    {
     "data": {
      "text/plain": [
       "{'min_samples_split': 4,\n",
       " 'min_samples_leaf': 4,\n",
       " 'max_depth': 6,\n",
       " 'criterion': 'entropy',\n",
       " 'ccp_alpha': 0.2}"
      ]
     },
     "execution_count": 39,
     "metadata": {},
     "output_type": "execute_result"
    }
   ],
   "source": [
    "#Meropenem\n",
    "random_search_tree_M.fit(X_train_M, y_train_M)\n",
    "random_search_tree_M.best_params_"
   ]
  },
  {
   "cell_type": "code",
   "execution_count": 42,
   "id": "8c0bd117-aa2d-4a3e-b44c-351fe6a5ac06",
   "metadata": {},
   "outputs": [],
   "source": [
    "tree_opt_C = random_search_tree_C.best_estimator_\n",
    "tree_opt_M = random_search_tree_M.best_estimator_"
   ]
  },
  {
   "cell_type": "code",
   "execution_count": 47,
   "id": "24712b73-520c-421e-9a1f-0ed076e941fa",
   "metadata": {},
   "outputs": [
    {
     "name": "stdout",
     "output_type": "stream",
     "text": [
      "f1-score en el conjunto de entrenamiento: 1.0\n",
      "f1-score en el conjunto de prueba: 0.9911347517730497\n"
     ]
    }
   ],
   "source": [
    "#CIPROFLOXACIN\n",
    "preds_t_C = tree_opt_C.predict(X_test)\n",
    "f1_score(y_test, preds_t_C, average='micro')# Predicciones en el conjunto de entrenamiento\n",
    "preds_train_C = knn_opt_C.predict(X_train)\n",
    "\n",
    "# f1-score en el conjunto de entrenamiento\n",
    "f1_train = f1_score(y_train, preds_train_C, average='micro')\n",
    "print(f\"f1-score en el conjunto de entrenamiento: {f1_train}\")\n",
    "\n",
    "# f1-score en el conjunto de prueba\n",
    "f1_test = f1_score(y_test, preds_t_C, average='micro')\n",
    "print(f\"f1-score en el conjunto de prueba: {f1_test}\")"
   ]
  },
  {
   "cell_type": "code",
   "execution_count": 63,
   "id": "76e10574-184b-43a8-a32a-a6764ed13780",
   "metadata": {},
   "outputs": [
    {
     "data": {
      "text/plain": [
       "0.9911347517730497"
      ]
     },
     "execution_count": 63,
     "metadata": {},
     "output_type": "execute_result"
    }
   ],
   "source": [
    "# Calcula el accuracy en el conjunto de prueba\n",
    "accuracy_score(y_test, preds_t_C)"
   ]
  },
  {
   "cell_type": "code",
   "execution_count": 46,
   "id": "1568c04a-f421-452d-841d-1dfd1d8ace3c",
   "metadata": {},
   "outputs": [
    {
     "data": {
      "text/plain": [
       "0.7814992025518342"
      ]
     },
     "execution_count": 46,
     "metadata": {},
     "output_type": "execute_result"
    }
   ],
   "source": [
    "#MEROPENEM\n",
    "preds_t_M = tree_opt_M.predict(X_test_M)\n",
    "f1_score(y_test_M, preds_t_M, average='micro')"
   ]
  },
  {
   "cell_type": "code",
   "execution_count": 65,
   "id": "2ffc0bef-07d9-4293-a185-fbf9ad01cd1b",
   "metadata": {},
   "outputs": [
    {
     "data": {
      "text/plain": [
       "0.7814992025518341"
      ]
     },
     "execution_count": 65,
     "metadata": {},
     "output_type": "execute_result"
    }
   ],
   "source": [
    "# Calcula el accuracy en el conjunto de prueba\n",
    "accuracy_score(y_test_M, preds_t_M)"
   ]
  },
  {
   "cell_type": "markdown",
   "id": "2c9e3709-7843-4185-9a76-931348db5256",
   "metadata": {},
   "source": [
    "### Support Vector Machine (Bayesian Optimization)"
   ]
  },
  {
   "cell_type": "code",
   "execution_count": 50,
   "id": "ac0b026c-fac6-49bf-ac58-2fc2003779c9",
   "metadata": {},
   "outputs": [],
   "source": [
    "bayesian_opt_C = BayesSearchCV(\n",
    "    SVC(),\n",
    "    {\n",
    "        'C': (1e-3, 1e+3, 'log-uniform'),\n",
    "        'gamma': (1e-3, 1e+1, 'log-uniform'),\n",
    "        'degree': (1, 6),\n",
    "        'kernel': ['poly', 'rbf'], \n",
    "    },\n",
    "    scoring = 'f1_micro',\n",
    "    n_iter=21,\n",
    "    n_points = 3,\n",
    "    cv=5,\n",
    "    n_jobs = 5,\n",
    "    random_state = 42\n",
    "    \n",
    ")"
   ]
  },
  {
   "cell_type": "code",
   "execution_count": 51,
   "id": "11637881-6ddc-4cc1-bd10-46c7a19067c4",
   "metadata": {},
   "outputs": [],
   "source": [
    "bayesian_opt_M = BayesSearchCV(\n",
    "    SVC(),\n",
    "    {\n",
    "        'C': (1e-3, 1e+3, 'log-uniform'),\n",
    "        'gamma': (1e-3, 1e+1, 'log-uniform'),\n",
    "        'degree': (1, 6),\n",
    "        'kernel': ['poly', 'rbf'], \n",
    "    },\n",
    "    scoring = 'f1_micro',\n",
    "    n_iter=21,\n",
    "    n_points = 3,\n",
    "    cv=5,\n",
    "    n_jobs = 5,\n",
    "    random_state = 42\n",
    "    \n",
    ")"
   ]
  },
  {
   "cell_type": "code",
   "execution_count": 52,
   "id": "231c976a-f6ce-4e73-a02c-ec3a15d055c6",
   "metadata": {},
   "outputs": [
    {
     "data": {
      "text/plain": [
       "BayesSearchCV(cv=5, estimator=SVC(), n_iter=21, n_jobs=5, n_points=3,\n",
       "              random_state=42, scoring='f1_micro',\n",
       "              search_spaces={'C': (0.001, 1000.0, 'log-uniform'),\n",
       "                             'degree': (1, 6),\n",
       "                             'gamma': (0.001, 10.0, 'log-uniform'),\n",
       "                             'kernel': ['poly', 'rbf']})"
      ]
     },
     "execution_count": 52,
     "metadata": {},
     "output_type": "execute_result"
    }
   ],
   "source": [
    "#Ciprofloxacin\n",
    "bayesian_opt_C.fit(X_train, y_train)\n",
    "#Meropenem\n",
    "bayesian_opt_M.fit(X_train_M, y_train_M)"
   ]
  },
  {
   "cell_type": "code",
   "execution_count": 35,
   "id": "3f0284bc-22d3-4838-9bd1-cb62ebef5def",
   "metadata": {},
   "outputs": [
    {
     "data": {
      "text/plain": [
       "OrderedDict([('C', 153.0267986386334),\n",
       "             ('degree', 1),\n",
       "             ('gamma', 0.0035746551640890665),\n",
       "             ('kernel', 'poly')])"
      ]
     },
     "execution_count": 35,
     "metadata": {},
     "output_type": "execute_result"
    }
   ],
   "source": [
    "#Ciprofloxacin\n",
    "bayesian_opt_C.best_params_"
   ]
  },
  {
   "cell_type": "code",
   "execution_count": 54,
   "id": "b85fc711-65b2-4ae4-b0a5-f37bc20bd929",
   "metadata": {},
   "outputs": [
    {
     "data": {
      "text/plain": [
       "OrderedDict([('C', 0.001),\n",
       "             ('degree', 1),\n",
       "             ('gamma', 0.7100283026277725),\n",
       "             ('kernel', 'poly')])"
      ]
     },
     "execution_count": 54,
     "metadata": {},
     "output_type": "execute_result"
    }
   ],
   "source": [
    "#Meropenem\n",
    "bayesian_opt_M.best_params_"
   ]
  },
  {
   "cell_type": "code",
   "execution_count": 55,
   "id": "059a13a9-5dee-4551-974c-28758540dc0c",
   "metadata": {},
   "outputs": [],
   "source": [
    "svc_opt_C = bayesian_opt_C.best_estimator_\n",
    "svc_opt_M = bayesian_opt_M.best_estimator_"
   ]
  },
  {
   "cell_type": "code",
   "execution_count": 60,
   "id": "00e21614-1894-42dc-8863-5a1b2f2e7f81",
   "metadata": {},
   "outputs": [
    {
     "data": {
      "text/plain": [
       "0.9911347517730497"
      ]
     },
     "execution_count": 60,
     "metadata": {},
     "output_type": "execute_result"
    }
   ],
   "source": [
    "#Predicciones para Ciprofloxacin \n",
    "preds_SVC_C = svc_opt_C.predict(X_test)\n",
    "f1_score(y_test, preds_SVC_C, average='micro')"
   ]
  },
  {
   "cell_type": "code",
   "execution_count": 59,
   "id": "809e5631-b1c2-4e3c-a2e5-e418724a6c26",
   "metadata": {},
   "outputs": [
    {
     "data": {
      "text/plain": [
       "0.8660287081339713"
      ]
     },
     "execution_count": 59,
     "metadata": {},
     "output_type": "execute_result"
    }
   ],
   "source": [
    "#Predicciones para Meropenem\n",
    "preds_SVC_M = svc_opt_M.predict(X_test_M)\n",
    "f1_score(y_test_M, preds_SVC_M, average='micro')"
   ]
  },
  {
   "cell_type": "markdown",
   "id": "a3f78beb-5160-4a03-90fd-70ec9032b477",
   "metadata": {},
   "source": [
    "## Ensamble de modelos"
   ]
  },
  {
   "cell_type": "markdown",
   "id": "9780d1cc-1ab6-43ab-8020-1750957d92e8",
   "metadata": {},
   "source": [
    "### Por votación "
   ]
  },
  {
   "cell_type": "code",
   "execution_count": 66,
   "id": "0f35b28d-64c5-4877-874d-475adb59b79b",
   "metadata": {},
   "outputs": [],
   "source": [
    "eclf1_C= VotingClassifier(estimators=[('knn', knn_opt_C), ('tree', tree_opt_C), ('SVC', svc_opt_C)], voting='hard')\n",
    "eclf1_M= VotingClassifier(estimators=[('knn', knn_opt_M), ('tree', tree_opt_M), ('SVC', svc_opt_M)], voting='hard')"
   ]
  },
  {
   "cell_type": "code",
   "execution_count": 68,
   "id": "8f4e20fd-50af-4e85-ac8a-a1ed1f568af3",
   "metadata": {},
   "outputs": [
    {
     "data": {
      "text/plain": [
       "VotingClassifier(estimators=[('knn',\n",
       "                              KNeighborsClassifier(algorithm='ball_tree',\n",
       "                                                   metric='manhattan',\n",
       "                                                   n_neighbors=7,\n",
       "                                                   weights='distance')),\n",
       "                             ('tree',\n",
       "                              DecisionTreeClassifier(ccp_alpha=0.2,\n",
       "                                                     criterion='entropy',\n",
       "                                                     max_depth=6,\n",
       "                                                     min_samples_leaf=4,\n",
       "                                                     min_samples_split=4)),\n",
       "                             ('SVC',\n",
       "                              SVC(C=153.0267986386334, degree=1,\n",
       "                                  gamma=0.0035746551640890665,\n",
       "                                  kernel='poly'))])"
      ]
     },
     "execution_count": 68,
     "metadata": {},
     "output_type": "execute_result"
    }
   ],
   "source": [
    "eclf1_C.fit(X_train, y_train)"
   ]
  },
  {
   "cell_type": "code",
   "execution_count": 69,
   "id": "5d97a3e8-95a9-48f4-8493-e4d70074e1dc",
   "metadata": {},
   "outputs": [
    {
     "data": {
      "text/plain": [
       "VotingClassifier(estimators=[('knn',\n",
       "                              KNeighborsClassifier(algorithm='ball_tree',\n",
       "                                                   metric='manhattan',\n",
       "                                                   n_neighbors=3,\n",
       "                                                   weights='distance')),\n",
       "                             ('tree',\n",
       "                              DecisionTreeClassifier(ccp_alpha=0.2,\n",
       "                                                     criterion='entropy',\n",
       "                                                     max_depth=6,\n",
       "                                                     min_samples_leaf=4,\n",
       "                                                     min_samples_split=4)),\n",
       "                             ('SVC',\n",
       "                              SVC(C=0.001, degree=1, gamma=0.7100283026277725,\n",
       "                                  kernel='poly'))])"
      ]
     },
     "execution_count": 69,
     "metadata": {},
     "output_type": "execute_result"
    }
   ],
   "source": [
    "eclf1_M.fit(X_train_M, y_train_M)"
   ]
  },
  {
   "cell_type": "code",
   "execution_count": 41,
   "id": "5bb030f1-d24e-4e6d-87a5-4716f4452368",
   "metadata": {},
   "outputs": [
    {
     "data": {
      "text/plain": [
       "0.9929078014184397"
      ]
     },
     "execution_count": 41,
     "metadata": {},
     "output_type": "execute_result"
    }
   ],
   "source": [
    "#Ciprofloxacin\n",
    "preds_E1_C = eclf1_C.predict(X_test)\n",
    "f1_score(y_test, preds_E1_C, average='micro')"
   ]
  },
  {
   "cell_type": "code",
   "execution_count": 71,
   "id": "7400339f-286a-4ab5-8b3a-d81c32ea61ad",
   "metadata": {},
   "outputs": [
    {
     "data": {
      "text/plain": [
       "0.8740031897926634"
      ]
     },
     "execution_count": 71,
     "metadata": {},
     "output_type": "execute_result"
    }
   ],
   "source": [
    "#Meropenem\n",
    "preds_E1_M =  eclf1_M.predict(X_test_M)\n",
    "f1_score(y_test_M, preds_E1_M, average='micro')"
   ]
  },
  {
   "cell_type": "code",
   "execution_count": 72,
   "id": "947d8fbd-0bd8-4471-85a4-11bfc2c570b8",
   "metadata": {},
   "outputs": [],
   "source": [
    "svc_proba_C = SVC(C=19.958517651170755, gamma = 1.1270954208690063, kernel = 'rbf', probability = True)\n",
    "svc_proba_M = SVC(C=19.958517651170755, gamma = 1.1270954208690063, kernel = 'rbf', probability = True)"
   ]
  },
  {
   "cell_type": "code",
   "execution_count": 73,
   "id": "9be4c3ea-40be-46a6-9caa-eccc491d8a12",
   "metadata": {},
   "outputs": [
    {
     "data": {
      "text/plain": [
       "SVC(C=19.958517651170755, gamma=1.1270954208690063, probability=True)"
      ]
     },
     "execution_count": 73,
     "metadata": {},
     "output_type": "execute_result"
    }
   ],
   "source": [
    "#Ciprofloxacin\n",
    "svc_proba_C.fit(X_train, y_train)\n",
    "#Meropenem\n",
    "svc_proba_M.fit(X_train_M, y_train_M)"
   ]
  },
  {
   "cell_type": "code",
   "execution_count": 74,
   "id": "8e26ce75-7eed-474e-8306-08940340ac53",
   "metadata": {},
   "outputs": [],
   "source": [
    "eclf2_C = VotingClassifier(estimators=[('knn', knn_opt_C), ('tree', tree_opt_C), ('SVC', svc_proba_C)], voting='soft')\n",
    "eclf2_M = VotingClassifier(estimators=[('knn', knn_opt_M), ('tree', tree_opt_M), ('SVC', svc_proba_M)], voting='soft')"
   ]
  },
  {
   "cell_type": "code",
   "execution_count": 75,
   "id": "91987e41-b43a-44ca-aa9d-e674dd6a90db",
   "metadata": {},
   "outputs": [
    {
     "data": {
      "text/plain": [
       "VotingClassifier(estimators=[('knn',\n",
       "                              KNeighborsClassifier(algorithm='ball_tree',\n",
       "                                                   metric='manhattan',\n",
       "                                                   n_neighbors=7,\n",
       "                                                   weights='distance')),\n",
       "                             ('tree',\n",
       "                              DecisionTreeClassifier(ccp_alpha=0.2,\n",
       "                                                     criterion='entropy',\n",
       "                                                     max_depth=6,\n",
       "                                                     min_samples_leaf=4,\n",
       "                                                     min_samples_split=4)),\n",
       "                             ('SVC',\n",
       "                              SVC(C=19.958517651170755,\n",
       "                                  gamma=1.1270954208690063,\n",
       "                                  probability=True))],\n",
       "                 voting='soft')"
      ]
     },
     "execution_count": 75,
     "metadata": {},
     "output_type": "execute_result"
    }
   ],
   "source": [
    "eclf2_C.fit(X_train, y_train)"
   ]
  },
  {
   "cell_type": "code",
   "execution_count": 76,
   "id": "de524b76-0093-452b-9dc8-d57294bf8c29",
   "metadata": {},
   "outputs": [
    {
     "data": {
      "text/plain": [
       "VotingClassifier(estimators=[('knn',\n",
       "                              KNeighborsClassifier(algorithm='ball_tree',\n",
       "                                                   metric='manhattan',\n",
       "                                                   n_neighbors=3,\n",
       "                                                   weights='distance')),\n",
       "                             ('tree',\n",
       "                              DecisionTreeClassifier(ccp_alpha=0.2,\n",
       "                                                     criterion='entropy',\n",
       "                                                     max_depth=6,\n",
       "                                                     min_samples_leaf=4,\n",
       "                                                     min_samples_split=4)),\n",
       "                             ('SVC',\n",
       "                              SVC(C=19.958517651170755,\n",
       "                                  gamma=1.1270954208690063,\n",
       "                                  probability=True))],\n",
       "                 voting='soft')"
      ]
     },
     "execution_count": 76,
     "metadata": {},
     "output_type": "execute_result"
    }
   ],
   "source": [
    "eclf2_M.fit(X_train_M, y_train_M)"
   ]
  },
  {
   "cell_type": "code",
   "execution_count": 77,
   "id": "1c9b0ce9-912a-4619-9b02-3929c10acba5",
   "metadata": {},
   "outputs": [
    {
     "data": {
      "text/plain": [
       "0.9822695035460993"
      ]
     },
     "execution_count": 77,
     "metadata": {},
     "output_type": "execute_result"
    }
   ],
   "source": [
    "#CIPROFLOXACIN\n",
    "preds_E2_C = eclf2_C.predict(X_test)\n",
    "f1_score(y_test, preds_E2_C, average='micro')"
   ]
  },
  {
   "cell_type": "code",
   "execution_count": 83,
   "id": "caf69e99-d266-4f91-b251-1d38352cf213",
   "metadata": {},
   "outputs": [
    {
     "data": {
      "text/plain": [
       "0.8484848484848486"
      ]
     },
     "execution_count": 83,
     "metadata": {},
     "output_type": "execute_result"
    }
   ],
   "source": [
    "#MEROPENEM\n",
    "preds_E2_M = eclf2_M.predict(X_test_M)\n",
    "f1_score(y_test_M, preds_E2_M, average='micro')"
   ]
  },
  {
   "cell_type": "markdown",
   "id": "9b697430-fa23-4947-90de-801f311263d3",
   "metadata": {},
   "source": [
    "### Stacking"
   ]
  },
  {
   "cell_type": "code",
   "execution_count": 84,
   "id": "a6f10893-825c-4813-bae8-b62e7da2af44",
   "metadata": {},
   "outputs": [],
   "source": [
    "eclf3_C = StackingClassifier(\n",
    "    estimators=[('knn', knn_opt_C), ('tree', tree_opt_C), ('SVC', svc_opt_C)], \n",
    "    final_estimator=SVC(kernel='linear')\n",
    ")\n",
    "eclf3_M = StackingClassifier(\n",
    "    estimators=[('knn', knn_opt_M), ('tree', tree_opt_M), ('SVC', svc_opt_M)], \n",
    "    final_estimator=SVC(kernel='linear')\n",
    ")"
   ]
  },
  {
   "cell_type": "code",
   "execution_count": 85,
   "id": "d59ca7f6-4429-4194-93d3-a03f1c82826e",
   "metadata": {},
   "outputs": [
    {
     "data": {
      "text/plain": [
       "StackingClassifier(estimators=[('knn',\n",
       "                                KNeighborsClassifier(algorithm='ball_tree',\n",
       "                                                     metric='manhattan',\n",
       "                                                     n_neighbors=7,\n",
       "                                                     weights='distance')),\n",
       "                               ('tree',\n",
       "                                DecisionTreeClassifier(ccp_alpha=0.2,\n",
       "                                                       criterion='entropy',\n",
       "                                                       max_depth=6,\n",
       "                                                       min_samples_leaf=4,\n",
       "                                                       min_samples_split=4)),\n",
       "                               ('SVC',\n",
       "                                SVC(C=153.0267986386334, degree=1,\n",
       "                                    gamma=0.0035746551640890665,\n",
       "                                    kernel='poly'))],\n",
       "                   final_estimator=SVC(kernel='linear'))"
      ]
     },
     "execution_count": 85,
     "metadata": {},
     "output_type": "execute_result"
    }
   ],
   "source": [
    "eclf3_C.fit(X_train, y_train)"
   ]
  },
  {
   "cell_type": "code",
   "execution_count": 86,
   "id": "bc521408-ed63-4678-b45a-004d9480be13",
   "metadata": {},
   "outputs": [
    {
     "data": {
      "text/plain": [
       "StackingClassifier(estimators=[('knn',\n",
       "                                KNeighborsClassifier(algorithm='ball_tree',\n",
       "                                                     metric='manhattan',\n",
       "                                                     n_neighbors=3,\n",
       "                                                     weights='distance')),\n",
       "                               ('tree',\n",
       "                                DecisionTreeClassifier(ccp_alpha=0.2,\n",
       "                                                       criterion='entropy',\n",
       "                                                       max_depth=6,\n",
       "                                                       min_samples_leaf=4,\n",
       "                                                       min_samples_split=4)),\n",
       "                               ('SVC',\n",
       "                                SVC(C=0.001, degree=1, gamma=0.7100283026277725,\n",
       "                                    kernel='poly'))],\n",
       "                   final_estimator=SVC(kernel='linear'))"
      ]
     },
     "execution_count": 86,
     "metadata": {},
     "output_type": "execute_result"
    }
   ],
   "source": [
    "eclf3_M.fit(X_train_M, y_train_M)"
   ]
  },
  {
   "cell_type": "code",
   "execution_count": 87,
   "id": "1883b7f9-f029-42f1-81ae-3d5d62f825a5",
   "metadata": {},
   "outputs": [
    {
     "data": {
      "text/plain": [
       "0.9929078014184397"
      ]
     },
     "execution_count": 87,
     "metadata": {},
     "output_type": "execute_result"
    }
   ],
   "source": [
    "#CIPROFLOXACIN\n",
    "preds_E3_C = eclf3_C.predict(X_test)\n",
    "f1_score(y_test, preds_E3_C, average='micro')"
   ]
  },
  {
   "cell_type": "code",
   "execution_count": 90,
   "id": "a6e161fd-642d-4642-930e-28cc3f23e657",
   "metadata": {},
   "outputs": [
    {
     "name": "stdout",
     "output_type": "stream",
     "text": [
      "Accuracy en conjunto de prueba: 0.9929078014184397\n"
     ]
    }
   ],
   "source": [
    "# Calcula el accuracy en el conjunto de prueba\n",
    "accuracy_test_C = accuracy_score(y_test, preds_E3_C)\n",
    "\n",
    "print(\"Accuracy en conjunto de prueba:\", accuracy_test_C)"
   ]
  },
  {
   "cell_type": "code",
   "execution_count": 88,
   "id": "128bfc9e-79ed-4b94-92b0-6991334fad37",
   "metadata": {},
   "outputs": [
    {
     "data": {
      "text/plain": [
       "0.8692185007974481"
      ]
     },
     "execution_count": 88,
     "metadata": {},
     "output_type": "execute_result"
    }
   ],
   "source": [
    "#MEROPENEM\n",
    "preds_E3_M = eclf3_M.predict(X_test_M)\n",
    "f1_score(y_test_M, preds_E3_M, average='micro')"
   ]
  },
  {
   "cell_type": "code",
   "execution_count": 91,
   "id": "ab5e2221-0f7b-40cd-afe6-55dc008e709f",
   "metadata": {},
   "outputs": [
    {
     "name": "stdout",
     "output_type": "stream",
     "text": [
      "Accuracy en conjunto de prueba: 0.8692185007974481\n"
     ]
    }
   ],
   "source": [
    "# Calcula el accuracy en el conjunto de prueba\n",
    "accuracy_test_M = accuracy_score(y_test_M, preds_E3_M)\n",
    "\n",
    "print(\"Accuracy en conjunto de prueba:\", accuracy_test_M)"
   ]
  },
  {
   "cell_type": "markdown",
   "id": "d1bc31a9-0645-4aaf-8a12-2c71288ab388",
   "metadata": {},
   "source": [
    "### Bagging"
   ]
  },
  {
   "cell_type": "code",
   "execution_count": 92,
   "id": "6a6ad8a1-ea5f-4aca-b996-adbcad724e0a",
   "metadata": {},
   "outputs": [],
   "source": [
    "eclf4_C = BaggingClassifier(base_estimator=svc_opt_C, n_estimators=30, max_samples = 0.8, random_state=0).fit(X_train, y_train)"
   ]
  },
  {
   "cell_type": "code",
   "execution_count": 93,
   "id": "bdad5a1c-ed75-43c7-9feb-d5ec74aac8a9",
   "metadata": {},
   "outputs": [],
   "source": [
    "eclf4_M = BaggingClassifier(base_estimator=svc_opt_M, n_estimators=30, max_samples = 0.8, random_state=0).fit(X_train_M, y_train_M)"
   ]
  },
  {
   "cell_type": "code",
   "execution_count": 94,
   "id": "da6090bd-0955-480b-ba43-eecf2cb5c288",
   "metadata": {},
   "outputs": [
    {
     "data": {
      "text/plain": [
       "0.9929078014184397"
      ]
     },
     "execution_count": 94,
     "metadata": {},
     "output_type": "execute_result"
    }
   ],
   "source": [
    "#CIPROFLOXACIN\n",
    "preds_E4_C = eclf4_C.predict(X_test)\n",
    "f1_score(y_test, preds_E4_C, average='micro')"
   ]
  },
  {
   "cell_type": "code",
   "execution_count": 95,
   "id": "535fc1c9-2ec3-41e3-a57c-07106498ddf9",
   "metadata": {},
   "outputs": [
    {
     "data": {
      "text/plain": [
       "0.8580542264752791"
      ]
     },
     "execution_count": 95,
     "metadata": {},
     "output_type": "execute_result"
    }
   ],
   "source": [
    "#MEROPENEM\n",
    "preds_E4_M = eclf4_M.predict(X_test_M)\n",
    "f1_score(y_test_M, preds_E4_M, average='micro')"
   ]
  },
  {
   "cell_type": "code",
   "execution_count": null,
   "id": "83798484-4c6e-4881-91d1-a1ce8dcc0d9c",
   "metadata": {},
   "outputs": [],
   "source": []
  }
 ],
 "metadata": {
  "kernelspec": {
   "display_name": "Python 3 (ipykernel)",
   "language": "python",
   "name": "python3"
  },
  "language_info": {
   "codemirror_mode": {
    "name": "ipython",
    "version": 3
   },
   "file_extension": ".py",
   "mimetype": "text/x-python",
   "name": "python",
   "nbconvert_exporter": "python",
   "pygments_lexer": "ipython3",
   "version": "3.10.10"
  }
 },
 "nbformat": 4,
 "nbformat_minor": 5
}
