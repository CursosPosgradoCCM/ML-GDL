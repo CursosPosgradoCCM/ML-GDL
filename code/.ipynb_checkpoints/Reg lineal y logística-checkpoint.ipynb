{
 "cells": [
  {
   "cell_type": "markdown",
   "id": "51511888-114b-4002-9c72-f3207086c107",
   "metadata": {},
   "source": [
    "# Regresión lineal y logística en ML"
   ]
  },
  {
   "cell_type": "markdown",
   "id": "43c8dd75-1b9b-4b5d-863f-f5fca6f68004",
   "metadata": {},
   "source": [
    "## Regresión lineal"
   ]
  },
  {
   "cell_type": "code",
   "execution_count": 1,
   "id": "1a1e3f02-683a-43f2-bdb1-ce9c44eda080",
   "metadata": {},
   "outputs": [
    {
     "data": {
      "text/html": [
       "<div>\n",
       "<style scoped>\n",
       "    .dataframe tbody tr th:only-of-type {\n",
       "        vertical-align: middle;\n",
       "    }\n",
       "\n",
       "    .dataframe tbody tr th {\n",
       "        vertical-align: top;\n",
       "    }\n",
       "\n",
       "    .dataframe thead th {\n",
       "        text-align: right;\n",
       "    }\n",
       "</style>\n",
       "<table border=\"1\" class=\"dataframe\">\n",
       "  <thead>\n",
       "    <tr style=\"text-align: right;\">\n",
       "      <th></th>\n",
       "      <th>mean radius</th>\n",
       "      <th>mean texture</th>\n",
       "      <th>mean perimeter</th>\n",
       "      <th>mean area</th>\n",
       "      <th>mean smoothness</th>\n",
       "      <th>mean compactness</th>\n",
       "      <th>mean concavity</th>\n",
       "      <th>mean concave points</th>\n",
       "      <th>mean symmetry</th>\n",
       "      <th>mean fractal dimension</th>\n",
       "      <th>...</th>\n",
       "      <th>worst texture</th>\n",
       "      <th>worst perimeter</th>\n",
       "      <th>worst area</th>\n",
       "      <th>worst smoothness</th>\n",
       "      <th>worst compactness</th>\n",
       "      <th>worst concavity</th>\n",
       "      <th>worst concave points</th>\n",
       "      <th>worst symmetry</th>\n",
       "      <th>worst fractal dimension</th>\n",
       "      <th>target</th>\n",
       "    </tr>\n",
       "  </thead>\n",
       "  <tbody>\n",
       "    <tr>\n",
       "      <th>0</th>\n",
       "      <td>17.99</td>\n",
       "      <td>10.38</td>\n",
       "      <td>122.80</td>\n",
       "      <td>1001.0</td>\n",
       "      <td>0.11840</td>\n",
       "      <td>0.27760</td>\n",
       "      <td>0.3001</td>\n",
       "      <td>0.14710</td>\n",
       "      <td>0.2419</td>\n",
       "      <td>0.07871</td>\n",
       "      <td>...</td>\n",
       "      <td>17.33</td>\n",
       "      <td>184.60</td>\n",
       "      <td>2019.0</td>\n",
       "      <td>0.1622</td>\n",
       "      <td>0.6656</td>\n",
       "      <td>0.7119</td>\n",
       "      <td>0.2654</td>\n",
       "      <td>0.4601</td>\n",
       "      <td>0.11890</td>\n",
       "      <td>0</td>\n",
       "    </tr>\n",
       "    <tr>\n",
       "      <th>1</th>\n",
       "      <td>20.57</td>\n",
       "      <td>17.77</td>\n",
       "      <td>132.90</td>\n",
       "      <td>1326.0</td>\n",
       "      <td>0.08474</td>\n",
       "      <td>0.07864</td>\n",
       "      <td>0.0869</td>\n",
       "      <td>0.07017</td>\n",
       "      <td>0.1812</td>\n",
       "      <td>0.05667</td>\n",
       "      <td>...</td>\n",
       "      <td>23.41</td>\n",
       "      <td>158.80</td>\n",
       "      <td>1956.0</td>\n",
       "      <td>0.1238</td>\n",
       "      <td>0.1866</td>\n",
       "      <td>0.2416</td>\n",
       "      <td>0.1860</td>\n",
       "      <td>0.2750</td>\n",
       "      <td>0.08902</td>\n",
       "      <td>0</td>\n",
       "    </tr>\n",
       "    <tr>\n",
       "      <th>2</th>\n",
       "      <td>19.69</td>\n",
       "      <td>21.25</td>\n",
       "      <td>130.00</td>\n",
       "      <td>1203.0</td>\n",
       "      <td>0.10960</td>\n",
       "      <td>0.15990</td>\n",
       "      <td>0.1974</td>\n",
       "      <td>0.12790</td>\n",
       "      <td>0.2069</td>\n",
       "      <td>0.05999</td>\n",
       "      <td>...</td>\n",
       "      <td>25.53</td>\n",
       "      <td>152.50</td>\n",
       "      <td>1709.0</td>\n",
       "      <td>0.1444</td>\n",
       "      <td>0.4245</td>\n",
       "      <td>0.4504</td>\n",
       "      <td>0.2430</td>\n",
       "      <td>0.3613</td>\n",
       "      <td>0.08758</td>\n",
       "      <td>0</td>\n",
       "    </tr>\n",
       "    <tr>\n",
       "      <th>3</th>\n",
       "      <td>11.42</td>\n",
       "      <td>20.38</td>\n",
       "      <td>77.58</td>\n",
       "      <td>386.1</td>\n",
       "      <td>0.14250</td>\n",
       "      <td>0.28390</td>\n",
       "      <td>0.2414</td>\n",
       "      <td>0.10520</td>\n",
       "      <td>0.2597</td>\n",
       "      <td>0.09744</td>\n",
       "      <td>...</td>\n",
       "      <td>26.50</td>\n",
       "      <td>98.87</td>\n",
       "      <td>567.7</td>\n",
       "      <td>0.2098</td>\n",
       "      <td>0.8663</td>\n",
       "      <td>0.6869</td>\n",
       "      <td>0.2575</td>\n",
       "      <td>0.6638</td>\n",
       "      <td>0.17300</td>\n",
       "      <td>0</td>\n",
       "    </tr>\n",
       "    <tr>\n",
       "      <th>4</th>\n",
       "      <td>20.29</td>\n",
       "      <td>14.34</td>\n",
       "      <td>135.10</td>\n",
       "      <td>1297.0</td>\n",
       "      <td>0.10030</td>\n",
       "      <td>0.13280</td>\n",
       "      <td>0.1980</td>\n",
       "      <td>0.10430</td>\n",
       "      <td>0.1809</td>\n",
       "      <td>0.05883</td>\n",
       "      <td>...</td>\n",
       "      <td>16.67</td>\n",
       "      <td>152.20</td>\n",
       "      <td>1575.0</td>\n",
       "      <td>0.1374</td>\n",
       "      <td>0.2050</td>\n",
       "      <td>0.4000</td>\n",
       "      <td>0.1625</td>\n",
       "      <td>0.2364</td>\n",
       "      <td>0.07678</td>\n",
       "      <td>0</td>\n",
       "    </tr>\n",
       "  </tbody>\n",
       "</table>\n",
       "<p>5 rows × 31 columns</p>\n",
       "</div>"
      ],
      "text/plain": [
       "   mean radius  mean texture  mean perimeter  mean area  mean smoothness  \\\n",
       "0        17.99         10.38          122.80     1001.0          0.11840   \n",
       "1        20.57         17.77          132.90     1326.0          0.08474   \n",
       "2        19.69         21.25          130.00     1203.0          0.10960   \n",
       "3        11.42         20.38           77.58      386.1          0.14250   \n",
       "4        20.29         14.34          135.10     1297.0          0.10030   \n",
       "\n",
       "   mean compactness  mean concavity  mean concave points  mean symmetry  \\\n",
       "0           0.27760          0.3001              0.14710         0.2419   \n",
       "1           0.07864          0.0869              0.07017         0.1812   \n",
       "2           0.15990          0.1974              0.12790         0.2069   \n",
       "3           0.28390          0.2414              0.10520         0.2597   \n",
       "4           0.13280          0.1980              0.10430         0.1809   \n",
       "\n",
       "   mean fractal dimension  ...  worst texture  worst perimeter  worst area  \\\n",
       "0                 0.07871  ...          17.33           184.60      2019.0   \n",
       "1                 0.05667  ...          23.41           158.80      1956.0   \n",
       "2                 0.05999  ...          25.53           152.50      1709.0   \n",
       "3                 0.09744  ...          26.50            98.87       567.7   \n",
       "4                 0.05883  ...          16.67           152.20      1575.0   \n",
       "\n",
       "   worst smoothness  worst compactness  worst concavity  worst concave points  \\\n",
       "0            0.1622             0.6656           0.7119                0.2654   \n",
       "1            0.1238             0.1866           0.2416                0.1860   \n",
       "2            0.1444             0.4245           0.4504                0.2430   \n",
       "3            0.2098             0.8663           0.6869                0.2575   \n",
       "4            0.1374             0.2050           0.4000                0.1625   \n",
       "\n",
       "   worst symmetry  worst fractal dimension  target  \n",
       "0          0.4601                  0.11890       0  \n",
       "1          0.2750                  0.08902       0  \n",
       "2          0.3613                  0.08758       0  \n",
       "3          0.6638                  0.17300       0  \n",
       "4          0.2364                  0.07678       0  \n",
       "\n",
       "[5 rows x 31 columns]"
      ]
     },
     "execution_count": 1,
     "metadata": {},
     "output_type": "execute_result"
    }
   ],
   "source": [
    "# Importing required libraries\n",
    "import pandas as pd\n",
    "import matplotlib.pyplot as plt\n",
    "from sklearn.linear_model import LinearRegression\n",
    "#from sklearn.metrics import metrics\n",
    "from sklearn.model_selection import train_test_split\n",
    "from sklearn.datasets import load_breast_cancer\n",
    "import scipy.stats as stats\n",
    "import statsmodels.api as sm\n",
    "\n",
    "# Read the train and test dataset\n",
    "data = load_breast_cancer()\n",
    "df = pd.DataFrame(data.data, columns=data.feature_names)\n",
    "df['target'] = data.target\n",
    "df.head()"
   ]
  },
  {
   "cell_type": "code",
   "execution_count": 2,
   "id": "27167ca7-d4ec-4a8a-b28c-5408d1f1593b",
   "metadata": {},
   "outputs": [
    {
     "name": "stdout",
     "output_type": "stream",
     "text": [
      "   mean radius  mean symmetry\n",
      "0        17.99         0.2419\n",
      "1        20.57         0.1812\n",
      "2        19.69         0.2069\n",
      "3        11.42         0.2597\n",
      "4        20.29         0.1809\n",
      "(569, 2)\n",
      "   mean radius  target\n",
      "0        17.99       0\n",
      "1        20.57       0\n",
      "2        19.69       0\n",
      "3        11.42       0\n",
      "4        20.29       0\n",
      "(569, 2)\n"
     ]
    }
   ],
   "source": [
    "X = df.drop('target', axis=1)\n",
    "X = X[['mean radius','mean symmetry']]\n",
    "y = df['target']\n",
    "print(X.head())\n",
    "print(X.shape)\n",
    "print(y.head())\n",
    "print(y.shape)\n",
    "\n",
    "# Split the data into training and testing\n",
    "X_train, X_test, y_train, y_test = train_test_split(X, y, test_size=0.2, random_state=42)"
   ]
  },
  {
   "cell_type": "code",
   "execution_count": 3,
   "id": "c2329cfa-fa18-4216-b338-2735423611c9",
   "metadata": {},
   "outputs": [
    {
     "name": "stdout",
     "output_type": "stream",
     "text": [
      "\n",
      "Coefﬁcient of model : [[ 1.00000000e+00 -6.14141360e-16]\n",
      " [-9.31815350e-02 -4.32365252e+00]]\n",
      "\n",
      "Intercept of model [-8.88178420e-15  2.72708211e+00]\n"
     ]
    },
    {
     "data": {
      "text/plain": [
       "[<matplotlib.lines.Line2D at 0x7a430586deb0>,\n",
       " <matplotlib.lines.Line2D at 0x7a430586df70>]"
      ]
     },
     "execution_count": 3,
     "metadata": {},
     "output_type": "execute_result"
    },
    {
     "data": {
      "image/png": "[encoded data removed]",
      "text/plain": [
       "<Figure size 640x480 with 1 Axes>"
      ]
     },
     "metadata": {},
     "output_type": "display_data"
    }
   ],
   "source": [
    "# Create the object of the Linear Regression model\n",
    "Linear_model = LinearRegression()\n",
    "\n",
    "# Fit the model with the training data\n",
    "Linear_model.ﬁt(X_train,y_train)\n",
    "\n",
    "# Coefﬁcients of the trained model\n",
    "print('\\nCoefﬁcient of model :', Linear_model.coef_)\n",
    "\n",
    "# Intercept of the model\n",
    "print('\\nIntercept of model',Linear_model.intercept_)\n",
    "\n",
    "# How good is the ﬁt\n",
    "plt.scatter(X_train, y_train)\n",
    "plt.plot(X_train, Linear_model.predict(X_train), color = 'red')"
   ]
  },
  {
   "cell_type": "code",
   "execution_count": 4,
   "id": "e2606f93-f6f6-4fea-9c9b-8f90d128a63b",
   "metadata": {},
   "outputs": [
    {
     "data": {
      "text/plain": [
       "[<matplotlib.lines.Line2D at 0x7a4305779610>,\n",
       " <matplotlib.lines.Line2D at 0x7a4305779430>]"
      ]
     },
     "execution_count": 4,
     "metadata": {},
     "output_type": "execute_result"
    },
    {
     "data": {
      "image/png": "[encoded data removed]",
      "text/plain": [
       "<Figure size 640x480 with 1 Axes>"
      ]
     },
     "metadata": {},
     "output_type": "display_data"
    }
   ],
   "source": [
    "# Predict the target on the test dataset\n",
    "predict_test = Linear_model.predict(X_test)\n",
    "\n",
    "# Test data and predicted data\n",
    "plt.scatter(X_test, y_test)\n",
    "plt.plot(X_test, Linear_model.predict(X_test), color = 'red')"
   ]
  },
  {
   "cell_type": "code",
   "execution_count": 5,
   "id": "d6c598a2-d453-496d-b10c-2e9b46a90fd5",
   "metadata": {},
   "outputs": [],
   "source": [
    "# Evaluating the Algorithm\n",
    "#print('Mean Absolute Error:', metrics.mean_absolute_error(y_test, y_pred))\n",
    "#print('Mean Squared Error:', metrics.mean_squared_error(y_test, y_pred))\n",
    "#print('Root Mean Squared Error:', np.sqrt(metrics.mean_squared_error (y_test, y_pred)))"
   ]
  },
  {
   "cell_type": "markdown",
   "id": "ec3fe65a-f346-4fe7-8d8c-79e8863291c2",
   "metadata": {},
   "source": [
    "### Diagnostic plots"
   ]
  },
  {
   "cell_type": "code",
   "execution_count": 31,
   "id": "673611ae-2f4d-4282-8548-566d7764a9cc",
   "metadata": {},
   "outputs": [],
   "source": [
    "def linear_regression(X) -> X:\n",
    "    \"\"\"Perform a univariate regression and store results in a new data frame.\n",
    "\n",
    "    Args:\n",
    "        df (DataFrame): orginal data set with x and y.\n",
    "\n",
    "    Returns:\n",
    "        DataFrame: another dataframe with raw data and results.\n",
    "    \"\"\"\n",
    "    mod = sm.OLS(endog=X['mean radius'], exog=X['mean symmetry']).fit()\n",
    "    influence = mod.get_influence()\n",
    "\n",
    "    res = X.copy()\n",
    "    res['resid'] = mod.resid\n",
    "    res['fittedvalues'] = mod.fittedvalues\n",
    "    res['resid_std'] = mod.resid_pearson\n",
    "    res['leverage'] = influence.hat_matrix_diag\n",
    "    return res\n",
    "    "
   ]
  },
  {
   "cell_type": "code",
   "execution_count": 45,
   "id": "6cc8ac65-2fc3-4144-8dad-24ea15113324",
   "metadata": {},
   "outputs": [],
   "source": [
    "modelo = linear_regression(X)"
   ]
  },
  {
   "cell_type": "code",
   "execution_count": 46,
   "id": "428836a0-af16-4e68-9e97-8becfcf5ddd4",
   "metadata": {},
   "outputs": [],
   "source": [
    "def plot_diagnosis(modelo):\n",
    "    fig, axes = plt.subplots(nrows=2, ncols=2)\n",
    "    plt.style.use('ggplot')\n",
    "\n",
    "    # Residual against fitted values.\n",
    "    modelo.plot.scatter(\n",
    "        x='fittedvalues', y='resid', ax=axes[0, 0]\n",
    "    )\n",
    "    axes[0, 0].axhline(y=0, color='grey', linestyle='dashed')\n",
    "    axes[0, 0].set_xlabel('Fitted Values')\n",
    "    axes[0, 0].set_ylabel('Residuals')\n",
    "    axes[0, 0].set_title('Residuals vs Fitted')\n",
    "\n",
    "    # qqplot\n",
    "    sm.qqplot(\n",
    "        modelo['resid'], dist=stats.t, fit=True, line='45',\n",
    "        ax=axes[0, 1], c='#4C72B0'\n",
    "    )\n",
    "    axes[0, 1].set_title('Normal Q-Q')\n",
    "\n",
    "    # The scale-location plot.\n",
    "    modelo.plot.scatter(\n",
    "        x='fittedvalues', y='resid_std', ax=axes[1, 0]\n",
    "    )\n",
    "    axes[1, 0].axhline(y=0, color='grey', linestyle='dashed')\n",
    "    axes[1, 0].set_xlabel('Fitted values')\n",
    "    axes[1, 0].set_ylabel('Sqrt(|standardized residuals|)')\n",
    "    axes[1, 0].set_title('Scale-Location')\n",
    "\n",
    "    # Standardized residuals vs. leverage\n",
    "    modelo.plot.scatter(\n",
    "        x='leverage', y='resid_std', ax=axes[1, 1]\n",
    "    )\n",
    "    axes[1, 1].axhline(y=0, color='grey', linestyle='dashed')\n",
    "    axes[1, 1].set_xlabel('Leverage')\n",
    "    axes[1, 1].set_ylabel('Sqrt(|standardized residuals|)')\n",
    "    axes[1, 1].set_title('Residuals vs Leverage')\n",
    "\n",
    "    plt.tight_layout()\n",
    "    plt.show()"
   ]
  },
  {
   "cell_type": "code",
   "execution_count": 47,
   "id": "be3d64e0-4c62-4e93-91fd-f0393b147b27",
   "metadata": {},
   "outputs": [
    {
     "name": "stdout",
     "output_type": "stream",
     "text": [
      "['Solarize_Light2', '_classic_test_patch', '_mpl-gallery', '_mpl-gallery-nogrid', 'bmh', 'classic', 'dark_background', 'fast', 'fivethirtyeight', 'ggplot', 'grayscale', 'seaborn-v0_8', 'seaborn-v0_8-bright', 'seaborn-v0_8-colorblind', 'seaborn-v0_8-dark', 'seaborn-v0_8-dark-palette', 'seaborn-v0_8-darkgrid', 'seaborn-v0_8-deep', 'seaborn-v0_8-muted', 'seaborn-v0_8-notebook', 'seaborn-v0_8-paper', 'seaborn-v0_8-pastel', 'seaborn-v0_8-poster', 'seaborn-v0_8-talk', 'seaborn-v0_8-ticks', 'seaborn-v0_8-white', 'seaborn-v0_8-whitegrid', 'tableau-colorblind10']\n"
     ]
    }
   ],
   "source": [
    "print(plt.style.available)"
   ]
  },
  {
   "cell_type": "code",
   "execution_count": 48,
   "id": "d365c66d-dfa6-4cd9-b48f-abfc4ea3468b",
   "metadata": {},
   "outputs": [
    {
     "name": "stderr",
     "output_type": "stream",
     "text": [
      "/home/jupyter-user9/.local/lib/python3.9/site-packages/statsmodels/graphics/gofplots.py:1043: UserWarning: color is redundantly defined by the 'color' keyword argument and the fmt string \"b\" (-> color=(0.0, 0.0, 1.0, 1)). The keyword argument will take precedence.\n",
      "  ax.plot(x, y, fmt, **plot_style)\n"
     ]
    },
    {
     "data": {
      "image/png": "[encoded data removed]",
      "text/plain": [
       "<Figure size 640x480 with 4 Axes>"
      ]
     },
     "metadata": {},
     "output_type": "display_data"
    }
   ],
   "source": [
    "plot_diagnosis(modelo)"
   ]
  },
  {
   "cell_type": "markdown",
   "id": "98db6851-03d9-427a-8182-f066394721f5",
   "metadata": {},
   "source": [
    "## Regresión logística"
   ]
  },
  {
   "cell_type": "markdown",
   "id": "8da9ed34-9bdf-4b45-b053-5e51ec2ae173",
   "metadata": {},
   "source": [
    "### Training a Binary Classifier"
   ]
  },
  {
   "cell_type": "code",
   "execution_count": 13,
   "id": "b07be5af-6585-4ac5-88af-4bcfaf3d5b4b",
   "metadata": {},
   "outputs": [
    {
     "name": "stdout",
     "output_type": "stream",
     "text": [
      "[[-5.81065904e-01  8.41837140e-01 -1.01297765e+00 -1.04211089e+00]\n",
      " [-8.94308978e-01 -2.07835104e-01 -1.01297765e+00 -1.04211089e+00]\n",
      " [-1.20755205e+00  2.12033793e-01 -1.08231219e+00 -1.04211089e+00]\n",
      " [-1.36417359e+00  2.09934449e-03 -9.43643106e-01 -1.04211089e+00]\n",
      " [-7.37687441e-01  1.05177159e+00 -1.01297765e+00 -1.04211089e+00]\n",
      " [-1.11201292e-01  1.68157493e+00 -8.04974023e-01 -6.86441647e-01]\n",
      " [-1.36417359e+00  6.31902691e-01 -1.01297765e+00 -8.64276271e-01]\n",
      " [-7.37687441e-01  6.31902691e-01 -9.43643106e-01 -1.04211089e+00]\n",
      " [-1.67741667e+00 -4.17769553e-01 -1.01297765e+00 -1.04211089e+00]\n",
      " [-8.94308978e-01  2.09934449e-03 -9.43643106e-01 -1.21994552e+00]\n",
      " [-1.11201292e-01  1.26170604e+00 -9.43643106e-01 -1.04211089e+00]\n",
      " [-1.05093052e+00  6.31902691e-01 -8.74308565e-01 -1.04211089e+00]\n",
      " [-1.05093052e+00 -2.07835104e-01 -1.01297765e+00 -1.21994552e+00]\n",
      " [-1.83403820e+00 -2.07835104e-01 -1.22098127e+00 -1.21994552e+00]\n",
      " [ 5.15284858e-01  1.89150938e+00 -1.15164673e+00 -1.04211089e+00]\n",
      " [ 3.58663321e-01  2.73124718e+00 -9.43643106e-01 -6.86441647e-01]\n",
      " [-1.11201292e-01  1.68157493e+00 -1.08231219e+00 -6.86441647e-01]\n",
      " [-5.81065904e-01  8.41837140e-01 -1.01297765e+00 -8.64276271e-01]\n",
      " [ 3.58663321e-01  1.47164049e+00 -8.04974023e-01 -8.64276271e-01]\n",
      " [-5.81065904e-01  1.47164049e+00 -9.43643106e-01 -8.64276271e-01]\n",
      " [-1.11201292e-01  6.31902691e-01 -8.04974023e-01 -1.04211089e+00]\n",
      " [-5.81065904e-01  1.26170604e+00 -9.43643106e-01 -6.86441647e-01]\n",
      " [-1.36417359e+00  1.05177159e+00 -1.29031581e+00 -1.04211089e+00]\n",
      " [-5.81065904e-01  4.21968242e-01 -8.04974023e-01 -5.08607024e-01]\n",
      " [-1.05093052e+00  6.31902691e-01 -6.66304941e-01 -1.04211089e+00]\n",
      " [-7.37687441e-01 -2.07835104e-01 -8.74308565e-01 -1.04211089e+00]\n",
      " [-7.37687441e-01  6.31902691e-01 -8.74308565e-01 -6.86441647e-01]\n",
      " [-4.24444366e-01  8.41837140e-01 -9.43643106e-01 -1.04211089e+00]\n",
      " [-4.24444366e-01  6.31902691e-01 -1.01297765e+00 -1.04211089e+00]\n",
      " [-1.20755205e+00  2.12033793e-01 -8.74308565e-01 -1.04211089e+00]\n",
      " [-1.05093052e+00  2.09934449e-03 -8.74308565e-01 -1.04211089e+00]\n",
      " [-1.11201292e-01  6.31902691e-01 -9.43643106e-01 -6.86441647e-01]\n",
      " [-4.24444366e-01  2.10144383e+00 -9.43643106e-01 -1.21994552e+00]\n",
      " [ 4.54202458e-02  2.31137828e+00 -1.01297765e+00 -1.04211089e+00]\n",
      " [-8.94308978e-01  2.09934449e-03 -9.43643106e-01 -1.04211089e+00]\n",
      " [-7.37687441e-01  2.12033793e-01 -1.15164673e+00 -1.04211089e+00]\n",
      " [ 4.54202458e-02  8.41837140e-01 -1.08231219e+00 -1.04211089e+00]\n",
      " [-8.94308978e-01  1.05177159e+00 -1.01297765e+00 -1.21994552e+00]\n",
      " [-1.67741667e+00 -2.07835104e-01 -1.08231219e+00 -1.04211089e+00]\n",
      " [-5.81065904e-01  6.31902691e-01 -9.43643106e-01 -1.04211089e+00]\n",
      " [-7.37687441e-01  8.41837140e-01 -1.08231219e+00 -8.64276271e-01]\n",
      " [-1.52079513e+00 -1.67737625e+00 -1.08231219e+00 -8.64276271e-01]\n",
      " [-1.67741667e+00  2.12033793e-01 -1.08231219e+00 -1.04211089e+00]\n",
      " [-7.37687441e-01  8.41837140e-01 -8.74308565e-01 -3.30772400e-01]\n",
      " [-5.81065904e-01  1.47164049e+00 -6.66304941e-01 -6.86441647e-01]\n",
      " [-1.05093052e+00 -2.07835104e-01 -1.01297765e+00 -8.64276271e-01]\n",
      " [-5.81065904e-01  1.47164049e+00 -8.74308565e-01 -1.04211089e+00]\n",
      " [-1.36417359e+00  2.12033793e-01 -1.01297765e+00 -1.04211089e+00]\n",
      " [-2.67822829e-01  1.26170604e+00 -9.43643106e-01 -1.04211089e+00]\n",
      " [-7.37687441e-01  4.21968242e-01 -1.01297765e+00 -1.04211089e+00]\n",
      " [ 2.39474331e+00  2.12033793e-01  1.27506221e+00  1.09190459e+00]\n",
      " [ 1.45501408e+00  2.12033793e-01  1.13639313e+00  1.26973921e+00]\n",
      " [ 2.23812177e+00  2.09934449e-03  1.41373130e+00  1.26973921e+00]\n",
      " [ 4.54202458e-02 -1.67737625e+00  7.89720424e-01  9.14069966e-01]\n",
      " [ 1.61163562e+00 -6.27704002e-01  1.20572767e+00  1.26973921e+00]\n",
      " [ 3.58663321e-01 -6.27704002e-01  1.13639313e+00  9.14069966e-01]\n",
      " [ 1.29839254e+00  4.21968242e-01  1.27506221e+00  1.44757384e+00]\n",
      " [-8.94308978e-01 -1.46744180e+00  3.04378636e-01  3.80566095e-01]\n",
      " [ 1.76825716e+00 -4.17769553e-01  1.20572767e+00  9.14069966e-01]\n",
      " [-4.24444366e-01 -8.37638451e-01  7.20385883e-01  1.09190459e+00]\n",
      " [-7.37687441e-01 -2.30717959e+00  4.43047718e-01  3.80566095e-01]\n",
      " [ 6.71906395e-01 -2.07835104e-01  9.28389507e-01  1.26973921e+00]\n",
      " [ 8.28527933e-01 -1.88731069e+00  7.89720424e-01  3.80566095e-01]\n",
      " [ 9.85149470e-01 -4.17769553e-01  1.27506221e+00  1.09190459e+00]\n",
      " [ 2.02041783e-01 -4.17769553e-01  5.12382260e-01  9.14069966e-01]\n",
      " [ 1.92487869e+00  2.09934449e-03  1.06705859e+00  1.09190459e+00]\n",
      " [ 2.02041783e-01 -2.07835104e-01  1.13639313e+00  1.26973921e+00]\n",
      " [ 5.15284858e-01 -8.37638451e-01  8.59054966e-01  3.80566095e-01]\n",
      " [ 1.14177101e+00 -1.88731069e+00  1.13639313e+00  1.26973921e+00]\n",
      " [ 2.02041783e-01 -1.25750735e+00  7.20385883e-01  5.58400718e-01]\n",
      " [ 6.71906395e-01  2.12033793e-01  1.34439675e+00  1.80324308e+00]\n",
      " [ 9.85149470e-01 -6.27704002e-01  7.89720424e-01  9.14069966e-01]\n",
      " [ 1.29839254e+00 -1.25750735e+00  1.41373130e+00  1.26973921e+00]\n",
      " [ 9.85149470e-01 -6.27704002e-01  1.27506221e+00  7.36235342e-01]\n",
      " [ 1.45501408e+00 -4.17769553e-01  9.97724048e-01  9.14069966e-01]\n",
      " [ 1.76825716e+00 -2.07835104e-01  1.06705859e+00  1.09190459e+00]\n",
      " [ 2.08150023e+00 -6.27704002e-01  1.34439675e+00  1.09190459e+00]\n",
      " [ 1.92487869e+00 -2.07835104e-01  1.48306584e+00  1.62540846e+00]\n",
      " [ 8.28527933e-01 -4.17769553e-01  1.13639313e+00  1.26973921e+00]\n",
      " [ 3.58663321e-01 -1.04757290e+00  4.43047718e-01  3.80566095e-01]\n",
      " [ 4.54202458e-02 -1.46744180e+00  6.51051342e-01  5.58400718e-01]\n",
      " [ 4.54202458e-02 -1.46744180e+00  5.81716801e-01  3.80566095e-01]\n",
      " [ 5.15284858e-01 -8.37638451e-01  7.20385883e-01  7.36235342e-01]\n",
      " [ 8.28527933e-01 -8.37638451e-01  1.55240038e+00  1.44757384e+00]\n",
      " [-1.11201292e-01 -2.07835104e-01  1.13639313e+00  1.26973921e+00]\n",
      " [ 8.28527933e-01  6.31902691e-01  1.13639313e+00  1.44757384e+00]\n",
      " [ 1.92487869e+00  2.09934449e-03  1.27506221e+00  1.26973921e+00]\n",
      " [ 1.29839254e+00 -1.67737625e+00  1.06705859e+00  9.14069966e-01]\n",
      " [ 2.02041783e-01 -2.07835104e-01  8.59054966e-01  9.14069966e-01]\n",
      " [ 4.54202458e-02 -1.25750735e+00  7.89720424e-01  9.14069966e-01]\n",
      " [ 4.54202458e-02 -1.04757290e+00  1.06705859e+00  7.36235342e-01]\n",
      " [ 9.85149470e-01 -2.07835104e-01  1.20572767e+00  1.09190459e+00]\n",
      " [ 5.15284858e-01 -1.04757290e+00  7.89720424e-01  7.36235342e-01]\n",
      " [-7.37687441e-01 -1.67737625e+00  3.04378636e-01  3.80566095e-01]\n",
      " [ 2.02041783e-01 -8.37638451e-01  9.28389507e-01  9.14069966e-01]\n",
      " [ 3.58663321e-01 -2.07835104e-01  9.28389507e-01  7.36235342e-01]\n",
      " [ 3.58663321e-01 -4.17769553e-01  9.28389507e-01  9.14069966e-01]\n",
      " [ 1.14177101e+00 -4.17769553e-01  9.97724048e-01  9.14069966e-01]\n",
      " [-5.81065904e-01 -1.25750735e+00  9.63750123e-02  5.58400718e-01]\n",
      " [ 3.58663321e-01 -6.27704002e-01  8.59054966e-01  9.14069966e-01]]\n",
      "[0 0 0 0 0 0 0 0 0 0 0 0 0 0 0 0 0 0 0 0 0 0 0 0 0 0 0 0 0 0 0 0 0 0 0 0 0\n",
      " 0 0 0 0 0 0 0 0 0 0 0 0 0 1 1 1 1 1 1 1 1 1 1 1 1 1 1 1 1 1 1 1 1 1 1 1 1\n",
      " 1 1 1 1 1 1 1 1 1 1 1 1 1 1 1 1 1 1 1 1 1 1 1 1 1 1]\n"
     ]
    }
   ],
   "source": [
    "# Load libraries\n",
    "from sklearn.linear_model import LogisticRegression, LogisticRegressionCV\n",
    "from sklearn.multiclass import OneVsRestClassifier\n",
    "from sklearn import datasets\n",
    "from sklearn.preprocessing import StandardScaler\n",
    "\n",
    "# Load data with only two classes\n",
    "iris = datasets.load_iris()\n",
    "features = iris.data[:100,:]\n",
    "target = iris.target[:100]\n",
    "\n",
    "# Standardize features\n",
    "scaler = StandardScaler()\n",
    "features_standardized = scaler.fit_transform(features)\n",
    "\n",
    "print(features_standardized)\n",
    "print(target)"
   ]
  },
  {
   "cell_type": "code",
   "execution_count": 14,
   "id": "4d46805d-2cb6-40ab-81ec-3564f52bf6ec",
   "metadata": {},
   "outputs": [
    {
     "name": "stdout",
     "output_type": "stream",
     "text": [
      "Coefﬁcient of model : [[ 0.82618731 -1.15824998  1.52836551  1.53896841]]\n",
      "Intercept of model [0.16638974]\n"
     ]
    }
   ],
   "source": [
    "# Create logistic regression object\n",
    "logistic_regression = LogisticRegression(random_state=0)\n",
    "\n",
    "# Train model\n",
    "model = logistic_regression.fit(features_standardized, target)\n",
    "\n",
    "# Coefﬁcients of the trained model\n",
    "print('Coefﬁcient of model :', model.coef_)\n",
    "\n",
    "# Intercept of the model\n",
    "print('Intercept of model',model.intercept_)"
   ]
  },
  {
   "cell_type": "code",
   "execution_count": 15,
   "id": "48e71c9e-4b0f-4228-99a3-b1bf4c7b2b7e",
   "metadata": {},
   "outputs": [
    {
     "name": "stdout",
     "output_type": "stream",
     "text": [
      "Target on test data [1]\n"
     ]
    },
    {
     "data": {
      "text/plain": [
       "array([[0.17740549, 0.82259451]])"
      ]
     },
     "execution_count": 15,
     "metadata": {},
     "output_type": "execute_result"
    }
   ],
   "source": [
    "# Create new observation\n",
    "new_observation = [[.5, .5, .5, .5]]\n",
    "\n",
    "# Predict class\n",
    "predict_test = model.predict(new_observation)\n",
    "print('Target on test data',predict_test)\n",
    "# our observation was predicted to be class 1\n",
    "\n",
    "# View predicted probabilities\n",
    "model.predict_proba(new_observation)\n",
    "# our observation had a 17.7% chance of being class 0 and an 82.2% chance of being class 1\n",
    "\n",
    "# Accuracy Score on test dataset\n",
    "#accuracy_test = accuracy_score(test_y,predict_test)\n",
    "#print('accuracy_score on test dataset : ', accuracy_test)\n",
    "#print(confusion_matrix(test_y,predict_test))"
   ]
  },
  {
   "cell_type": "markdown",
   "id": "5bf2a20b-e1d2-4dfd-9f0a-f8b61fbbb61b",
   "metadata": {},
   "source": [
    "### Training a Multiclass Classifier: OvR"
   ]
  },
  {
   "cell_type": "code",
   "execution_count": 21,
   "id": "9d86268e-f77f-43d8-ba15-69ab88f972d1",
   "metadata": {},
   "outputs": [
    {
     "name": "stdout",
     "output_type": "stream",
     "text": [
      "Coefﬁcient of model : [[-1.05603354  1.22597119 -1.76482206 -1.62922907]\n",
      " [ 0.13599151 -1.27438121  0.79705947 -0.91626954]\n",
      " [ 0.14017374 -0.51464011  2.48068262  3.14066798]]\n",
      "Intercept of model [-2.4782882  -0.9387282  -3.80186027]\n",
      "Target on test data [2]\n"
     ]
    },
    {
     "name": "stderr",
     "output_type": "stream",
     "text": [
      "/opt/conda/envs/umap/lib/python3.9/site-packages/sklearn/linear_model/_logistic.py:1256: FutureWarning: 'multi_class' was deprecated in version 1.5 and will be removed in 1.7. Use OneVsRestClassifier(LogisticRegression(..)) instead. Leave it to its default value to avoid this warning.\n",
      "  warnings.warn(\n"
     ]
    },
    {
     "data": {
      "text/plain": [
       "array([[0.0387829 , 0.40665354, 0.55456356]])"
      ]
     },
     "execution_count": 21,
     "metadata": {},
     "output_type": "execute_result"
    }
   ],
   "source": [
    "# Load data\n",
    "iris = datasets.load_iris()\n",
    "features = iris.data\n",
    "target = iris.target\n",
    "\n",
    "# Standardize features\n",
    "scaler = StandardScaler()\n",
    "features_standardized = scaler.fit_transform(features)\n",
    "\n",
    "# Create one-vs-rest logistic regression object\n",
    "logistic_regression = LogisticRegression(random_state=0, multi_class=\"ovr\")\n",
    "#OneVsRestClassifier(LogisticRegression(random_state=0))\n",
    "\n",
    "# Train model\n",
    "model = logistic_regression.fit(features_standardized, target)\n",
    "\n",
    "# Coefﬁcients of the trained model\n",
    "print('Coefﬁcient of model :', model.coef_)\n",
    "\n",
    "# Intercept of the model\n",
    "print('Intercept of model',model.intercept_)\n",
    "\n",
    "# Create new observation\n",
    "new_observation = [[.5, .5, .5, .5]]\n",
    "\n",
    "# Predict class\n",
    "predict_test = model.predict(new_observation)\n",
    "print('Target on test data',predict_test)\n",
    "\n",
    "# View predicted probabilities\n",
    "model.predict_proba(new_observation)"
   ]
  },
  {
   "cell_type": "markdown",
   "id": "241b48d0-9ac5-451b-bc81-3d0eeaddde3c",
   "metadata": {},
   "source": [
    "### Training a Multiclass Classifier: Multinomial Logistic Regression"
   ]
  },
  {
   "cell_type": "code",
   "execution_count": 22,
   "id": "77b1522c-d4e5-4d46-857c-85fa4ebe86e0",
   "metadata": {},
   "outputs": [
    {
     "name": "stdout",
     "output_type": "stream",
     "text": [
      "Coefﬁcient of model : [[-1.07659238  1.15977648 -1.92814138 -1.81227307]\n",
      " [ 0.5899243  -0.36263595 -0.36461312 -0.82700241]\n",
      " [ 0.48666809 -0.79714052  2.2927545   2.63927548]]\n",
      "Intercept of model [-0.20463897  2.07455834 -1.86991938]\n",
      "Target on test data [1]\n"
     ]
    },
    {
     "name": "stderr",
     "output_type": "stream",
     "text": [
      "/opt/conda/envs/umap/lib/python3.9/site-packages/sklearn/linear_model/_logistic.py:1247: FutureWarning: 'multi_class' was deprecated in version 1.5 and will be removed in 1.7. From then on, it will always use 'multinomial'. Leave it to its default value to avoid this warning.\n",
      "  warnings.warn(\n"
     ]
    },
    {
     "data": {
      "text/plain": [
       "array([[0.0198333 , 0.74472208, 0.23544462]])"
      ]
     },
     "execution_count": 22,
     "metadata": {},
     "output_type": "execute_result"
    }
   ],
   "source": [
    "# Create one-vs-rest logistic regression object\n",
    "logistic_regression = LogisticRegression(random_state=0, multi_class=\"multinomial\")\n",
    "\n",
    "# Train model\n",
    "model = logistic_regression.fit(features_standardized, target)\n",
    "\n",
    "# Coefﬁcients of the trained model\n",
    "print('Coefﬁcient of model :', model.coef_)\n",
    "\n",
    "# Intercept of the model\n",
    "print('Intercept of model',model.intercept_)\n",
    "\n",
    "# Create new observation\n",
    "new_observation = [[.5, .5, .5, .5]]\n",
    "\n",
    "# Predict class\n",
    "predict_test = model.predict(new_observation)\n",
    "print('Target on test data',predict_test)\n",
    "\n",
    "'''One practical advantage of MLR is that its predicted probabilities using the\n",
    "predict_proba method are more reliable (i.e., better calibrated).'''\n",
    "\n",
    "# View predicted probabilities\n",
    "model.predict_proba(new_observation)"
   ]
  },
  {
   "cell_type": "markdown",
   "id": "4d190e47-0305-48c4-997c-1b35f2cb3ced",
   "metadata": {},
   "source": [
    "### Reducing Variance Through Regularization"
   ]
  },
  {
   "cell_type": "code",
   "execution_count": 23,
   "id": "b3433ae3-e0b7-44bf-9a3e-5dd4a360755d",
   "metadata": {},
   "outputs": [
    {
     "name": "stdout",
     "output_type": "stream",
     "text": [
      "Coefﬁcient of model : [[-1.95545929  2.14492589 -4.27975939 -4.05341762]\n",
      " [ 1.55986398 -0.35630069 -1.98088253 -1.64611994]\n",
      " [ 0.39559531 -1.7886252   6.26064191  5.69953755]]\n",
      "Intercept of model [ 0.16098417  4.90722766 -5.06821183]\n",
      "Target on test data [1]\n"
     ]
    },
    {
     "data": {
      "text/plain": [
       "array([[4.82176926e-04, 9.69649759e-01, 2.98680642e-02]])"
      ]
     },
     "execution_count": 23,
     "metadata": {},
     "output_type": "execute_result"
    }
   ],
   "source": [
    "''' LogisticRegressionCV’s parameter Cs can either accept a range of values for C to search\n",
    "over (if a list of floats is supplied as an argument) or, if supplied an integer, will \n",
    "generate a list of that many candidate values drawn from a logarithmic scale between \n",
    "–10,000 and 10,000.'''\n",
    "\n",
    "# Create decision tree regression object\n",
    "logistic_regression = LogisticRegressionCV(penalty='l2', Cs=10, random_state=0, n_jobs=1)\n",
    "\n",
    "# Train model\n",
    "model = logistic_regression.fit(features_standardized, target)\n",
    "\n",
    "# Coefﬁcients of the trained model\n",
    "print('Coefﬁcient of model :', model.coef_)\n",
    "\n",
    "# Intercept of the model\n",
    "print('Intercept of model',model.intercept_)\n",
    "\n",
    "# Create new observation\n",
    "new_observation = [[.5, .5, .5, .5]]\n",
    "\n",
    "# Predict class\n",
    "predict_test = model.predict(new_observation)\n",
    "print('Target on test data',predict_test)\n",
    "\n",
    "# View predicted probabilities\n",
    "model.predict_proba(new_observation)"
   ]
  },
  {
   "cell_type": "markdown",
   "id": "212fba14-b5f9-4285-8ff5-f423e0b3fbc7",
   "metadata": {},
   "source": [
    "### Training a Classifier on Very Large Data"
   ]
  },
  {
   "cell_type": "code",
   "execution_count": 19,
   "id": "b405a20c-b90e-4503-87de-780901f60ef6",
   "metadata": {},
   "outputs": [
    {
     "name": "stdout",
     "output_type": "stream",
     "text": [
      "Coefﬁcient of model : [[-1.07413073  1.16019168 -1.93068869 -1.81157547]\n",
      " [ 0.58798813 -0.36198267 -0.363547   -0.82635294]\n",
      " [ 0.4861426  -0.79820901  2.29423569  2.63792841]]\n",
      "Intercept of model [-0.20511258  2.07487102 -1.86975844]\n",
      "Target on test data [1]\n"
     ]
    },
    {
     "data": {
      "text/plain": [
       "array([[0.01982892, 0.74492178, 0.23524931]])"
      ]
     },
     "execution_count": 19,
     "metadata": {},
     "output_type": "execute_result"
    }
   ],
   "source": [
    "''' Stochastic average gradient descent allows us to train a model much faster than other \n",
    "solvers when our data is very large. However, it is also very sensitive to feature scaling, \n",
    "so standardizing our features is particularly important. We can set our learning algorithm \n",
    "to use this solver by setting solver=\"sag\".'''\n",
    "\n",
    "# Create logistic regression object\n",
    "logistic_regression = LogisticRegression(random_state=0, solver=\"sag\")\n",
    "\n",
    "# Train model\n",
    "model = logistic_regression.fit(features_standardized, target)\n",
    "\n",
    "# Coefﬁcients of the trained model\n",
    "print('Coefﬁcient of model :', model.coef_)\n",
    "\n",
    "# Intercept of the model\n",
    "print('Intercept of model',model.intercept_)\n",
    "\n",
    "# Create new observation\n",
    "new_observation = [[.5, .5, .5, .5]]\n",
    "\n",
    "# Predict class\n",
    "predict_test = model.predict(new_observation)\n",
    "print('Target on test data',predict_test)\n",
    "\n",
    "# View predicted probabilities\n",
    "model.predict_proba(new_observation)"
   ]
  },
  {
   "cell_type": "markdown",
   "id": "b180f9a4-9484-425e-9322-3ffe5d9a0e23",
   "metadata": {},
   "source": [
    "### Handling Imbalanced Classes"
   ]
  },
  {
   "cell_type": "code",
   "execution_count": 20,
   "id": "a05b0166-ff16-41ea-a813-d2b21a024052",
   "metadata": {},
   "outputs": [
    {
     "name": "stdout",
     "output_type": "stream",
     "text": [
      "Coefﬁcient of model : [[ 0.86392182 -0.80884291  1.63574844  1.33022845]]\n",
      "Intercept of model [4.92770896]\n",
      "Target on test data [1]\n"
     ]
    },
    {
     "data": {
      "text/plain": [
       "array([[0.00159667, 0.99840333]])"
      ]
     },
     "execution_count": 20,
     "metadata": {},
     "output_type": "execute_result"
    }
   ],
   "source": [
    "'''If we have highly imbalanced classes and have not addressed it during preprocessing, \n",
    "we have the option of using the class_weight parameter to weight the classes to make certain \n",
    "we have a balanced mix of each class. Specifically, the balanced argument will automatically \n",
    "weigh classes inversely proportional to their frequency.'''\n",
    "\n",
    "# Load libraries\n",
    "import numpy as np\n",
    "\n",
    "# Make class highly imbalanced by removing first 40 observations\n",
    "features = features[40:,:]\n",
    "target = target[40:]\n",
    "\n",
    "# Create target vector indicating if class 0, otherwise 1\n",
    "target = np.where((target == 0), 0, 1)\n",
    "\n",
    "# Standardize features\n",
    "scaler = StandardScaler()\n",
    "features_standardized = scaler.fit_transform(features)\n",
    "\n",
    "# Create decision tree regression object\n",
    "logistic_regression = LogisticRegression(random_state=0, class_weight=\"balanced\")\n",
    "\n",
    "# Train model\n",
    "model = logistic_regression.fit(features_standardized, target)\n",
    "\n",
    "# Coefﬁcients of the trained model\n",
    "print('Coefﬁcient of model :', model.coef_)\n",
    "\n",
    "# Intercept of the model\n",
    "print('Intercept of model',model.intercept_)\n",
    "\n",
    "# Create new observation\n",
    "new_observation = [[.5, .5, .5, .5]]\n",
    "\n",
    "# Predict class\n",
    "predict_test = model.predict(new_observation)\n",
    "print('Target on test data',predict_test)\n",
    "\n",
    "# View predicted probabilities\n",
    "model.predict_proba(new_observation)"
   ]
  },
  {
   "cell_type": "code",
   "execution_count": null,
   "id": "0e6435b1-9ba8-453e-b154-89ebfb365af9",
   "metadata": {},
   "outputs": [],
   "source": []
  }
 ],
 "metadata": {
  "kernelspec": {
   "display_name": "umap",
   "language": "python",
   "name": "umap"
  },
  "language_info": {
   "codemirror_mode": {
    "name": "ipython",
    "version": 3
   },
   "file_extension": ".py",
   "mimetype": "text/x-python",
   "name": "python",
   "nbconvert_exporter": "python",
   "pygments_lexer": "ipython3",
   "version": "3.9.19"
  }
 },
 "nbformat": 4,
 "nbformat_minor": 5
}
