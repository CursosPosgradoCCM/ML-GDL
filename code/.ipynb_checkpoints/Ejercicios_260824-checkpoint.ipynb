{
 "cells": [
  {
   "cell_type": "markdown",
   "id": "8c37e16e-a990-4a74-aa59-fdf2a7e7253a",
   "metadata": {},
   "source": [
    "# Ejercicio 1: Regresión lineal\n",
    "\n",
    "Ajustar un modelo de regresión lineal simple. Realizarlos tanto a mano y en python."
   ]
  },
  {
   "cell_type": "markdown",
   "id": "b7040cf0-1d80-44d3-b23e-fa6d42b74db0",
   "metadata": {},
   "source": [
    "Supón que tienes un conjunto de datos que relaciona las horas de estudio con las notas obtenidas en un examen. La tabla de datos es la siguiente:"
   ]
  },
  {
   "cell_type": "code",
   "execution_count": 1,
   "id": "2871592e-780a-4331-a833-61880a955045",
   "metadata": {},
   "outputs": [
    {
     "data": {
      "text/html": [
       "<div>\n",
       "<style scoped>\n",
       "    .dataframe tbody tr th:only-of-type {\n",
       "        vertical-align: middle;\n",
       "    }\n",
       "\n",
       "    .dataframe tbody tr th {\n",
       "        vertical-align: top;\n",
       "    }\n",
       "\n",
       "    .dataframe thead th {\n",
       "        text-align: right;\n",
       "    }\n",
       "</style>\n",
       "<table border=\"1\" class=\"dataframe\">\n",
       "  <thead>\n",
       "    <tr style=\"text-align: right;\">\n",
       "      <th></th>\n",
       "      <th>Horas Estudio</th>\n",
       "      <th>Nota</th>\n",
       "    </tr>\n",
       "  </thead>\n",
       "  <tbody>\n",
       "    <tr>\n",
       "      <th>0</th>\n",
       "      <td>1</td>\n",
       "      <td>50</td>\n",
       "    </tr>\n",
       "    <tr>\n",
       "      <th>1</th>\n",
       "      <td>2</td>\n",
       "      <td>53</td>\n",
       "    </tr>\n",
       "    <tr>\n",
       "      <th>2</th>\n",
       "      <td>3</td>\n",
       "      <td>58</td>\n",
       "    </tr>\n",
       "    <tr>\n",
       "      <th>3</th>\n",
       "      <td>4</td>\n",
       "      <td>60</td>\n",
       "    </tr>\n",
       "    <tr>\n",
       "      <th>4</th>\n",
       "      <td>5</td>\n",
       "      <td>63</td>\n",
       "    </tr>\n",
       "    <tr>\n",
       "      <th>5</th>\n",
       "      <td>6</td>\n",
       "      <td>65</td>\n",
       "    </tr>\n",
       "    <tr>\n",
       "      <th>6</th>\n",
       "      <td>7</td>\n",
       "      <td>70</td>\n",
       "    </tr>\n",
       "  </tbody>\n",
       "</table>\n",
       "</div>"
      ],
      "text/plain": [
       "   Horas Estudio  Nota\n",
       "0              1    50\n",
       "1              2    53\n",
       "2              3    58\n",
       "3              4    60\n",
       "4              5    63\n",
       "5              6    65\n",
       "6              7    70"
      ]
     },
     "execution_count": 1,
     "metadata": {},
     "output_type": "execute_result"
    }
   ],
   "source": []
  },
  {
   "cell_type": "markdown",
   "id": "c33d12bc-33db-443e-9f41-63a1249ef551",
   "metadata": {},
   "source": [
    "Queremos ajustar un modelo de regresión lineal simple de la forma:\n",
    "$$Nota = \\beta_0 + \\beta_1 \\cdot Horas \\text{ Estudio} + \\epsilon$$\n",
    "donde:\n",
    "\n",
    "$\\beta_0$ es el término constante.\n",
    "\n",
    "$\\beta_1$ es el coeficiente de Horas Estudio\n",
    "\n",
    "Además, ya sabemos que:\n",
    "\n",
    "$$\\beta_0 = \\bar{y} - \\beta_1 \\bar{x}, $$\n",
    "$$ \\beta_1 = \\frac{\\sum_{i=1}^{n} (x_i - \\bar{x})(y_i - \\bar{y})}{\\sum_{i=1}^{n} (x_i - \\bar{x})^2} = \\frac{S_{xy}}{S_{xx}}$$\n"
   ]
  },
  {
   "cell_type": "markdown",
   "id": "bc887708-026b-4824-9921-ec48713a2c97",
   "metadata": {},
   "source": [
    "# Ejercicio 2: Regresión Múltiple"
   ]
  },
  {
   "cell_type": "markdown",
   "id": "b7ba2af4-653d-450a-88bf-fd2a49037f5d",
   "metadata": {},
   "source": [
    "Analiza la relación entre varias variables independientes y una variable dependiente utilizando regresión múltiple.\n",
    "\n",
    "Supongamos que tienes datos sobre el número de horas estudiadas, el número de días asistidos a clase y la calificación obtenida.\n",
    "\n",
    "| Horas Estudiadas | Días Asistidos | Calificación |\n",
    "|------------------|----------------|--------------|\n",
    "| 1                | 5              | 50           |\n",
    "| 2                | 6              | 55           |\n",
    "| 3                | 7              | 60           |\n",
    "| 4                | 8              | 65           |\n",
    "| 5                | 9              | 70           |\n",
    "\n",
    "\n",
    "1. **Construye el modelo de regresión múltiple** $y = \\beta_0 + \\beta_1 x_1 + \\beta_2 x_2$ donde $y$ es la calificación, $x_1$ es el número de horas estudiadas y $x_2$ es el número de días asistidos.\n",
    "   - Calcula la matriz $X$ de variables independientes y la matriz $y$ de variables dependientes.\n",
    "   - Utiliza la fórmula de los mínimos cuadrados para obtener los coeficientes:\n",
    "\n",
    "     $$\\beta = (X^T X)^{-1} X^T y$$\n",
    "\n",
    "2. **Predice** la calificación para 4 horas de estudio y 8 días asistidos usando la ecuación obtenida.\n"
   ]
  },
  {
   "cell_type": "code",
   "execution_count": 1,
   "id": "79c195c1-70c4-451d-bc54-8c960474c2ee",
   "metadata": {},
   "outputs": [
    {
     "name": "stdout",
     "output_type": "stream",
     "text": [
      "Coeficientes de regresión:\n",
      "const              3.888889\n",
      "Horas Estudio     -5.277778\n",
      "Dias asistidos    10.277778\n",
      "dtype: float64\n",
      "\n",
      "Predicciones para los nuevos datos:\n",
      "0    65.0\n",
      "dtype: float64\n",
      "\n",
      "Resumen del modelo:\n",
      "                            OLS Regression Results                            \n",
      "==============================================================================\n",
      "Dep. Variable:                   Nota   R-squared:                       1.000\n",
      "Model:                            OLS   Adj. R-squared:                  1.000\n",
      "Method:                 Least Squares   F-statistic:                 7.428e+30\n",
      "Date:                Tue, 27 Aug 2024   Prob (F-statistic):           1.09e-46\n",
      "Time:                        14:26:37   Log-Likelihood:                 158.09\n",
      "No. Observations:                   5   AIC:                            -312.2\n",
      "Df Residuals:                       3   BIC:                            -313.0\n",
      "Df Model:                           1                                         \n",
      "Covariance Type:            nonrobust                                         \n",
      "==================================================================================\n",
      "                     coef    std err          t      P>|t|      [0.025      0.975]\n",
      "----------------------------------------------------------------------------------\n",
      "const              3.8889   1.06e-15   3.67e+15      0.000       3.889       3.889\n",
      "Horas Estudio     -5.2778   3.01e-15  -1.75e+15      0.000      -5.278      -5.278\n",
      "Dias asistidos    10.2778   1.26e-15   8.15e+15      0.000      10.278      10.278\n",
      "==============================================================================\n",
      "Omnibus:                          nan   Durbin-Watson:                   1.500\n",
      "Prob(Omnibus):                    nan   Jarque-Bera (JB):                0.839\n",
      "Skew:                          -0.408   Prob(JB):                        0.657\n",
      "Kurtosis:                       1.167   Cond. No.                     8.64e+16\n",
      "==============================================================================\n",
      "\n",
      "Notes:\n",
      "[1] Standard Errors assume that the covariance matrix of the errors is correctly specified.\n",
      "[2] The smallest eigenvalue is 4.19e-32. This might indicate that there are\n",
      "strong multicollinearity problems or that the design matrix is singular.\n"
     ]
    },
    {
     "name": "stderr",
     "output_type": "stream",
     "text": [
      "/home/johanna/anaconda3/lib/python3.9/site-packages/statsmodels/stats/stattools.py:74: ValueWarning: omni_normtest is not valid with less than 8 observations; 5 samples were given.\n",
      "  warn(\"omni_normtest is not valid with less than 8 observations; %i \"\n"
     ]
    }
   ],
   "source": [
    "# Esta libreria hace uso del metodo OLS(Ordinary Least Squares (Mínimos Cuadrados Ordinarios). \n",
    "#Este  método de ajuste se utiliza para estimar los coeficientes de un modelo de regresión lineal.\n",
    "\n",
    "import pandas as pd\n",
    "import statsmodels.api as sm\n",
    "\n",
    "# Datos de ejemplo\n",
    "data = {\n",
    "    'Horas Estudio': [1, 2, 3, 4, 5],\n",
    "    'Dias asistidos': [5, 6, 7, 8, 9],\n",
    "    'Nota': [50, 55, 60, 65, 70]\n",
    "}\n",
    "\n",
    "# Crear DataFrame\n",
    "df = pd.DataFrame(data)\n",
    "\n",
    "# Definir variables independientes (X) y dependientes (y)\n",
    "X = df[['Horas Estudio', 'Dias asistidos']]\n",
    "y = df['Nota']\n",
    "\n",
    "# Agregar constante para el término de intersección\n",
    "X = sm.add_constant(X)\n",
    "\n",
    "# Ajustar el modelo OLS\n",
    "model = sm.OLS(y, X).fit()\n",
    "\n",
    "# Obtener los coeficientes de regresión\n",
    "coefficients = model.params\n",
    "\n",
    "# Imprimir los coeficientes\n",
    "print(\"Coeficientes de regresión:\")\n",
    "print(coefficients)\n",
    "\n",
    "\n",
    "# Hacer la predicción\n",
    "nuevos_datos = pd.DataFrame({\n",
    "    'const': [1],  # Agregar el término constante\n",
    "    'Horas Estudio': [4],\n",
    "    'Dias asistidos': [8]\n",
    "})\n",
    "\n",
    "predicciones = model.predict(nuevos_datos)\n",
    "\n",
    "\n",
    "print(\"\\nPredicciones para los nuevos datos:\")\n",
    "print(predicciones)\n",
    "\n",
    "# Imprimir el resumen del modelo\n",
    "print(\"\\nResumen del modelo:\")\n",
    "print(model.summary())"
   ]
  },
  {
   "cell_type": "markdown",
   "id": "32c4cf3b-30ac-4acd-93cf-fd206491b1fe",
   "metadata": {},
   "source": [
    "# Ejercicio 3: Clusters\n",
    "\n",
    "Carga la base de datos USArrests. Obtén los dendrogramas y compara cuales realizan una mejor agrupación. ¿Cuál es el número óptimo de clusters?\n",
    "\n",
    "- Single linkage agglomerative clustering o método de la liga sencilla o del vecino más cercano.\n",
    "- Complete linkage agglomerative clustering o método de la liga completa o del vecino más lejano.\n",
    "- Average linkage agglomerative clustering o métdod de la liga promedio.\n",
    "- Ward’s minimum variance clustering o método Ward.\n",
    "- kMeans"
   ]
  },
  {
   "cell_type": "code",
   "execution_count": 2,
   "id": "b28195b5-546b-4b68-87eb-a2f113d9582f",
   "metadata": {},
   "outputs": [],
   "source": [
    "# pip install statsmodels"
   ]
  },
  {
   "cell_type": "code",
   "execution_count": 1,
   "id": "3348c388-21a9-4392-80f8-ab2a2d8499f7",
   "metadata": {},
   "outputs": [],
   "source": [
    "import numpy as np\n",
    "import pandas as pd\n",
    "import matplotlib.pyplot as plt\n",
    "import seaborn as sns\n",
    "from statsmodels.datasets import get_rdataset\n",
    "from sklearn.preprocessing import StandardScaler\n",
    "from sklearn.cluster import KMeans\n",
    "from sklearn.metrics import silhouette_score\n",
    "from scipy.cluster.hierarchy import dendrogram, linkage, fcluster, cophenet\n",
    "from scipy.spatial.distance import pdist\n",
    "from scipy.cluster.hierarchy import fcluster\n",
    "from sklearn.metrics import pairwise_distances"
   ]
  },
  {
   "cell_type": "code",
   "execution_count": 3,
   "id": "c1dec8f4-c5c1-49a3-a755-75df654d82b7",
   "metadata": {},
   "outputs": [
    {
     "data": {
      "text/html": [
       "<div>\n",
       "<style scoped>\n",
       "    .dataframe tbody tr th:only-of-type {\n",
       "        vertical-align: middle;\n",
       "    }\n",
       "\n",
       "    .dataframe tbody tr th {\n",
       "        vertical-align: top;\n",
       "    }\n",
       "\n",
       "    .dataframe thead th {\n",
       "        text-align: right;\n",
       "    }\n",
       "</style>\n",
       "<table border=\"1\" class=\"dataframe\">\n",
       "  <thead>\n",
       "    <tr style=\"text-align: right;\">\n",
       "      <th></th>\n",
       "      <th>Murder</th>\n",
       "      <th>Assault</th>\n",
       "      <th>UrbanPop</th>\n",
       "      <th>Rape</th>\n",
       "    </tr>\n",
       "    <tr>\n",
       "      <th>rownames</th>\n",
       "      <th></th>\n",
       "      <th></th>\n",
       "      <th></th>\n",
       "      <th></th>\n",
       "    </tr>\n",
       "  </thead>\n",
       "  <tbody>\n",
       "    <tr>\n",
       "      <th>Alabama</th>\n",
       "      <td>13.2</td>\n",
       "      <td>236</td>\n",
       "      <td>58</td>\n",
       "      <td>21.2</td>\n",
       "    </tr>\n",
       "    <tr>\n",
       "      <th>Alaska</th>\n",
       "      <td>10.0</td>\n",
       "      <td>263</td>\n",
       "      <td>48</td>\n",
       "      <td>44.5</td>\n",
       "    </tr>\n",
       "    <tr>\n",
       "      <th>Arizona</th>\n",
       "      <td>8.1</td>\n",
       "      <td>294</td>\n",
       "      <td>80</td>\n",
       "      <td>31.0</td>\n",
       "    </tr>\n",
       "    <tr>\n",
       "      <th>Arkansas</th>\n",
       "      <td>8.8</td>\n",
       "      <td>190</td>\n",
       "      <td>50</td>\n",
       "      <td>19.5</td>\n",
       "    </tr>\n",
       "    <tr>\n",
       "      <th>California</th>\n",
       "      <td>9.0</td>\n",
       "      <td>276</td>\n",
       "      <td>91</td>\n",
       "      <td>40.6</td>\n",
       "    </tr>\n",
       "  </tbody>\n",
       "</table>\n",
       "</div>"
      ],
      "text/plain": [
       "            Murder  Assault  UrbanPop  Rape\n",
       "rownames                                   \n",
       "Alabama       13.2      236        58  21.2\n",
       "Alaska        10.0      263        48  44.5\n",
       "Arizona        8.1      294        80  31.0\n",
       "Arkansas       8.8      190        50  19.5\n",
       "California     9.0      276        91  40.6"
      ]
     },
     "execution_count": 3,
     "metadata": {},
     "output_type": "execute_result"
    }
   ],
   "source": [
    "# Carga de datos\n",
    "data = get_rdataset('USArrests', package='datasets').data\n",
    "df = data.dropna()  # Elimina filas con valores faltantes\n",
    "df.head()"
   ]
  },
  {
   "cell_type": "code",
   "execution_count": null,
   "id": "6745c69a-1718-4c5a-ac5b-8dcf9774ac4b",
   "metadata": {},
   "outputs": [],
   "source": []
  },
  {
   "cell_type": "markdown",
   "id": "5616c454-5cc5-4978-8f7c-bcc5c254852c",
   "metadata": {},
   "source": [
    "# Ejercicio 4: Clusters\n",
    "\n",
    "Aplicar diferentes técnicas de clusterización jerárquica al conjunto de datos de vino y comparar los resultados.\n"
   ]
  },
  {
   "cell_type": "code",
   "execution_count": 5,
   "id": "ed17b29a-9a5e-46a9-9782-9e1da0b66f14",
   "metadata": {},
   "outputs": [],
   "source": [
    "import numpy as np\n",
    "import pandas as pd\n",
    "import matplotlib.pyplot as plt\n",
    "from sklearn.datasets import load_wine\n",
    "from sklearn.cluster import KMeans\n",
    "from sklearn.preprocessing import StandardScaler\n",
    "from sklearn.decomposition import PCA\n",
    "\n",
    "# Carga de datos\n",
    "data = load_wine()\n",
    "X = data.data\n",
    "feature_names = data.feature_names"
   ]
  },
  {
   "cell_type": "code",
   "execution_count": null,
   "id": "55ed387b-4cfe-4d66-8524-1566b03eaa27",
   "metadata": {},
   "outputs": [],
   "source": []
  },
  {
   "cell_type": "markdown",
   "id": "25e219c0-b5b0-4c9e-91e6-f8cbdafced79",
   "metadata": {},
   "source": [
    "# Ejercicio 5: Naive Bayes"
   ]
  },
  {
   "cell_type": "markdown",
   "id": "8356cb9c-61f6-4320-b165-42eaf48a88f4",
   "metadata": {},
   "source": [
    "Supongamos que eres un investigador que quiere clasificar mensajes de texto como \"spam\" o \"no spam\" basándote en la presencia de ciertas palabras clave. Tienes un conjunto pequeño de datos con 6 mensajes de texto etiquetados como \"spam\" o \"no spam\". Las palabras clave que estás considerando son: **\"oferta\"** y **\"gratis\"**.\n",
    "\n",
    "| Mensaje                              | Contiene \"oferta\" | Contiene \"gratis\" | Etiqueta |\n",
    "|--------------------------------------|-------------------|-------------------|----------|\n",
    "| \"Ofertas especiales hoy\"             | Sí                | No                | Spam     |\n",
    "| \"Llama ahora para obtener tu oferta\" | Sí                | No                | Spam     |\n",
    "| \"Descarga gratis\"                    | No                | Sí                | Spam     |\n",
    "| \"Agenda tu cita gratis\"              | No                | Sí                | No spam  |\n",
    "| \"Ofertas limitadas\"                  | Sí                | No                | No spam  |\n",
    "| \"Envía gratis ahora\"                 | No                | Sí                | No spam  |\n",
    "\n",
    "**Pregunta:** Dado un nuevo mensaje que contiene **\"oferta\"** pero no contiene **\"gratis\"**, ¿es más probable que sea \"spam\" o \"no spam\"? Utiliza Naive Bayes para resolverlo."
   ]
  },
  {
   "cell_type": "markdown",
   "id": "e2ce3830-3c2b-4624-8a37-4488ecaf18d4",
   "metadata": {},
   "source": [
    "# Ejercicio 6: Clasificación de Correo Spam"
   ]
  },
  {
   "cell_type": "markdown",
   "id": "00e0fa0b-aa86-48fb-b9ca-6a5859996a11",
   "metadata": {},
   "source": [
    "_Conjunto de Datos \"20 Newsgroups\"__\n",
    "\n",
    "__Tipo de Datos:__ Este conjunto de datos consiste en un conjunto de mensajes de texto tomados de 20 grupos de noticias diferentes en Usenet, que cubren una variedad de temas. Los mensajes están etiquetados con la categoría correspondiente a su grupo de noticias.\n",
    "\n",
    "__Número de Clases:__ Hay 20 categorías diferentes en el conjunto completo, pero en el ejemplo proporcionado, se limitan a dos categorías relacionadas con deportes: rec.sport.hockey y rec.sport.baseball.\n",
    "\n",
    "Este conjunto de datos se puede ocupar para tareas de clasificación de texto, como experimentos con algoritmos de machine learning para clasificación de documentos, clasificación de texto y análisis de sentimientos.\n",
    "\n",
    "newsgroups.data: Contiene los mensajes de texto reales.\n",
    "\n",
    "newsgroups.target: Contiene los índices numéricos de las categorías a las que pertenecen los mensajes.\n",
    "\n",
    "newsgroups.target_names: Es una lista de los nombres de las categorías, donde cada nombre corresponde al índice en newsgroups.target."
   ]
  },
  {
   "cell_type": "code",
   "execution_count": 10,
   "id": "f5e31c8f-f8bd-4438-be1a-71d3b20a9afa",
   "metadata": {},
   "outputs": [],
   "source": [
    "from sklearn.datasets import fetch_20newsgroups\n",
    "from sklearn.feature_extraction.text import CountVectorizer\n",
    "from sklearn.model_selection import train_test_split\n",
    "from sklearn.naive_bayes import MultinomialNB\n",
    "from sklearn.metrics import accuracy_score, classification_report\n",
    "\n",
    "# Cargar un conjunto de datos de texto\n",
    "categories = ['rec.sport.hockey', 'rec.sport.baseball']\n",
    "newsgroups = fetch_20newsgroups(subset='all', categories=categories)"
   ]
  },
  {
   "cell_type": "code",
   "execution_count": null,
   "id": "92bb9d93-a78a-4a99-bc46-4cefae35dd23",
   "metadata": {},
   "outputs": [],
   "source": [
    "# Ver los primeros 5 mensajes y sus categorías\n",
    "for i in range(5):\n",
    "    print(f\"Mensaje {i+1}:\\n\")\n",
    "    print(newsgroups.data[i])\n",
    "    print(f\"\\nCategoría: {newsgroups.target_names[newsgroups.target[i]]}\")\n",
    "    print(\"-\" * 80)"
   ]
  },
  {
   "cell_type": "code",
   "execution_count": null,
   "id": "c7a4fce9-6aaa-4489-9fdb-bd8ec8ce32b7",
   "metadata": {},
   "outputs": [],
   "source": [
    "# Convertir texto a matriz de conteo de palabras\n",
    "vectorizer = CountVectorizer()\n",
    "X = vectorizer.fit_transform(newsgroups.data)\n",
    "\n",
    "y = newsgroups.target"
   ]
  }
 ],
 "metadata": {
  "kernelspec": {
   "display_name": "Python 3 (ipykernel)",
   "language": "python",
   "name": "python3"
  },
  "language_info": {
   "codemirror_mode": {
    "name": "ipython",
    "version": 3
   },
   "file_extension": ".py",
   "mimetype": "text/x-python",
   "name": "python",
   "nbconvert_exporter": "python",
   "pygments_lexer": "ipython3",
   "version": "3.9.12"
  }
 },
 "nbformat": 4,
 "nbformat_minor": 5
}
