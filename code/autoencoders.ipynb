{
  "cells": [
    {
      "cell_type": "markdown",
      "metadata": {
        "id": "QBd8HU_P1CWa"
      },
      "source": [
        "# AutoEncoders"
      ]
    },
    {
      "cell_type": "markdown",
      "metadata": {
        "id": "IxULxeI65Nq1"
      },
      "source": [
        "## Introduction\n",
        "\n",
        "Explore autoencoders first in numpy, then in keras (you can swithch the backend to pytorch or jax when ready).\n",
        "\n",
        "We look at a PCA, a linear autoencoder, and then a two layer autoencoder in `numpy`.\n",
        "\n",
        "Then a (flexible) AutoEncoder in keras. Then some hyperparameter tuning based on a suitable metric."
      ]
    },
    {
      "cell_type": "markdown",
      "metadata": {
        "id": "Q6AJxA5U7NFY"
      },
      "source": [
        "## Data\n",
        "\n",
        "Example data from [here](https://huggingface.co/datasets/simecek/human_nontata_promoters), more details [here](https://journals.plos.org/plosone/article?id=10.1371/journal.pone.0171410#sec002)\n",
        "\n",
        "It's human nontata promoters toy dataset.\n",
        "\n",
        "https://chatgpt.com/share/67227fc5-2688-8011-bb2e-e9095ce89d41\n",
        "\n"
      ]
    },
    {
      "cell_type": "code",
      "execution_count": null,
      "metadata": {
        "id": "Z_L0AkgeBHV-"
      },
      "outputs": [],
      "source": [
        "import pandas as pd\n",
        "import numpy as np\n",
        "\n",
        "splits = {'train': 'data/train-00000-of-00001-9af6936029261ba1.parquet', 'test': 'data/test-00000-of-00001-5ba65be5fd0fb68f.parquet'}\n",
        "df = pd.read_parquet(\"hf://datasets/simecek/human_nontata_promoters/\" + splits[\"train\"])\n",
        "df = df.rename(columns={\"seq\": \"sequence\"})\n"
      ]
    },
    {
      "cell_type": "code",
      "execution_count": null,
      "metadata": {
        "colab": {
          "base_uri": "https://localhost:8080/",
          "height": 206
        },
        "id": "4YW-OV0fCBSp",
        "outputId": "9f363f01-7191-4993-c9d2-ba1a5fd119c8"
      },
      "outputs": [
        {
          "data": {
            "application/vnd.google.colaboratory.intrinsic+json": {
              "summary": "{\n  \"name\": \"df\",\n  \"rows\": 27097,\n  \"fields\": [\n    {\n      \"column\": \"labels\",\n      \"properties\": {\n        \"dtype\": \"number\",\n        \"std\": 0,\n        \"min\": 0,\n        \"max\": 1,\n        \"num_unique_values\": 2,\n        \"samples\": [\n          1,\n          0\n        ],\n        \"semantic_type\": \"\",\n        \"description\": \"\"\n      }\n    },\n    {\n      \"column\": \"sequence\",\n      \"properties\": {\n        \"dtype\": \"string\",\n        \"num_unique_values\": 27097,\n        \"samples\": [\n          \"TGAGTTATTTTGAGATTTCAGTTTTAACATTTTCTTCTATAATCCATGTGGCTGGGTTTTGGGATCTGGCTAACCCCCGCCATGCCAGTAGCCTGAGGGGCCCAGCCCCACTTGTTGAACAGCCGCTCTCCCCGCCCCACCCACCCTGCCTGCCTGCCCACCCGCCCTGGTCTCTCCAGGAATCATGTTCGTTCAGGAGGAGGCCCTGGCCAGCAGCCTCTCGTCCACTGACAGTCTGACTCCCGAGCACC\",\n          \"ACCTTAGAAGTCTGTGCCCTTACCCATCACAGCCTCATCCTTATCTCCTCCATTCCCTAGGGGACTTAACAGGTGTTGAAATTATTACAGAGAAAGCTGACTCACTCACCAGGAATCTGATCCTGCTGTGGGCTGGCTTGGGTGGAGGTGTTCCTCCCGCCCCCGCACCCATCCTCCTGTTTGAACTCAGGCTGCTGCCTGCTGGGCCTGCCTGCCCTTGGAGCCCTGCTGAGCTCAGCCTGAGGCCTGGC\"\n        ],\n        \"semantic_type\": \"\",\n        \"description\": \"\"\n      }\n    }\n  ]\n}",
              "type": "dataframe",
              "variable_name": "df"
            },
            "text/html": [
              "\n",
              "  <div id=\"df-13a4248d-a0f9-4615-ae00-b7465142c312\" class=\"colab-df-container\">\n",
              "    <div>\n",
              "<style scoped>\n",
              "    .dataframe tbody tr th:only-of-type {\n",
              "        vertical-align: middle;\n",
              "    }\n",
              "\n",
              "    .dataframe tbody tr th {\n",
              "        vertical-align: top;\n",
              "    }\n",
              "\n",
              "    .dataframe thead th {\n",
              "        text-align: right;\n",
              "    }\n",
              "</style>\n",
              "<table border=\"1\" class=\"dataframe\">\n",
              "  <thead>\n",
              "    <tr style=\"text-align: right;\">\n",
              "      <th></th>\n",
              "      <th>labels</th>\n",
              "      <th>sequence</th>\n",
              "    </tr>\n",
              "  </thead>\n",
              "  <tbody>\n",
              "    <tr>\n",
              "      <th>0</th>\n",
              "      <td>0</td>\n",
              "      <td>ACAGATTCAGGATGTCCTGTCGGGGCATGGACCCTGGAAAGCTGCG...</td>\n",
              "    </tr>\n",
              "    <tr>\n",
              "      <th>1</th>\n",
              "      <td>0</td>\n",
              "      <td>ATGATTTTAATACCACATTGGTAGACCTGCAATCCCCCAGAGAAGG...</td>\n",
              "    </tr>\n",
              "    <tr>\n",
              "      <th>2</th>\n",
              "      <td>0</td>\n",
              "      <td>CCCCGGGATGCCCCTAGCCCCTCCCTGTGAGCTGCCTCTCACAGGT...</td>\n",
              "    </tr>\n",
              "    <tr>\n",
              "      <th>3</th>\n",
              "      <td>0</td>\n",
              "      <td>GACCACCAGGGTGAGCTGGGGGTGGGCGGGGCCTGCCTGGCCAGGG...</td>\n",
              "    </tr>\n",
              "    <tr>\n",
              "      <th>4</th>\n",
              "      <td>0</td>\n",
              "      <td>TTTTCCAGAAAATGAGGTGTGGCCAAACATCTTCAGGCTTTTCCTT...</td>\n",
              "    </tr>\n",
              "  </tbody>\n",
              "</table>\n",
              "</div>\n",
              "    <div class=\"colab-df-buttons\">\n",
              "\n",
              "  <div class=\"colab-df-container\">\n",
              "    <button class=\"colab-df-convert\" onclick=\"convertToInteractive('df-13a4248d-a0f9-4615-ae00-b7465142c312')\"\n",
              "            title=\"Convert this dataframe to an interactive table.\"\n",
              "            style=\"display:none;\">\n",
              "\n",
              "  <svg xmlns=\"http://www.w3.org/2000/svg\" height=\"24px\" viewBox=\"0 -960 960 960\">\n",
              "    <path d=\"M120-120v-720h720v720H120Zm60-500h600v-160H180v160Zm220 220h160v-160H400v160Zm0 220h160v-160H400v160ZM180-400h160v-160H180v160Zm440 0h160v-160H620v160ZM180-180h160v-160H180v160Zm440 0h160v-160H620v160Z\"/>\n",
              "  </svg>\n",
              "    </button>\n",
              "\n",
              "  <style>\n",
              "    .colab-df-container {\n",
              "      display:flex;\n",
              "      gap: 12px;\n",
              "    }\n",
              "\n",
              "    .colab-df-convert {\n",
              "      background-color: #E8F0FE;\n",
              "      border: none;\n",
              "      border-radius: 50%;\n",
              "      cursor: pointer;\n",
              "      display: none;\n",
              "      fill: #1967D2;\n",
              "      height: 32px;\n",
              "      padding: 0 0 0 0;\n",
              "      width: 32px;\n",
              "    }\n",
              "\n",
              "    .colab-df-convert:hover {\n",
              "      background-color: #E2EBFA;\n",
              "      box-shadow: 0px 1px 2px rgba(60, 64, 67, 0.3), 0px 1px 3px 1px rgba(60, 64, 67, 0.15);\n",
              "      fill: #174EA6;\n",
              "    }\n",
              "\n",
              "    .colab-df-buttons div {\n",
              "      margin-bottom: 4px;\n",
              "    }\n",
              "\n",
              "    [theme=dark] .colab-df-convert {\n",
              "      background-color: #3B4455;\n",
              "      fill: #D2E3FC;\n",
              "    }\n",
              "\n",
              "    [theme=dark] .colab-df-convert:hover {\n",
              "      background-color: #434B5C;\n",
              "      box-shadow: 0px 1px 3px 1px rgba(0, 0, 0, 0.15);\n",
              "      filter: drop-shadow(0px 1px 2px rgba(0, 0, 0, 0.3));\n",
              "      fill: #FFFFFF;\n",
              "    }\n",
              "  </style>\n",
              "\n",
              "    <script>\n",
              "      const buttonEl =\n",
              "        document.querySelector('#df-13a4248d-a0f9-4615-ae00-b7465142c312 button.colab-df-convert');\n",
              "      buttonEl.style.display =\n",
              "        google.colab.kernel.accessAllowed ? 'block' : 'none';\n",
              "\n",
              "      async function convertToInteractive(key) {\n",
              "        const element = document.querySelector('#df-13a4248d-a0f9-4615-ae00-b7465142c312');\n",
              "        const dataTable =\n",
              "          await google.colab.kernel.invokeFunction('convertToInteractive',\n",
              "                                                    [key], {});\n",
              "        if (!dataTable) return;\n",
              "\n",
              "        const docLinkHtml = 'Like what you see? Visit the ' +\n",
              "          '<a target=\"_blank\" href=https://colab.research.google.com/notebooks/data_table.ipynb>data table notebook</a>'\n",
              "          + ' to learn more about interactive tables.';\n",
              "        element.innerHTML = '';\n",
              "        dataTable['output_type'] = 'display_data';\n",
              "        await google.colab.output.renderOutput(dataTable, element);\n",
              "        const docLink = document.createElement('div');\n",
              "        docLink.innerHTML = docLinkHtml;\n",
              "        element.appendChild(docLink);\n",
              "      }\n",
              "    </script>\n",
              "  </div>\n",
              "\n",
              "\n",
              "<div id=\"df-01371ca9-df49-49f8-869b-a8f7b613b8ef\">\n",
              "  <button class=\"colab-df-quickchart\" onclick=\"quickchart('df-01371ca9-df49-49f8-869b-a8f7b613b8ef')\"\n",
              "            title=\"Suggest charts\"\n",
              "            style=\"display:none;\">\n",
              "\n",
              "<svg xmlns=\"http://www.w3.org/2000/svg\" height=\"24px\"viewBox=\"0 0 24 24\"\n",
              "     width=\"24px\">\n",
              "    <g>\n",
              "        <path d=\"M19 3H5c-1.1 0-2 .9-2 2v14c0 1.1.9 2 2 2h14c1.1 0 2-.9 2-2V5c0-1.1-.9-2-2-2zM9 17H7v-7h2v7zm4 0h-2V7h2v10zm4 0h-2v-4h2v4z\"/>\n",
              "    </g>\n",
              "</svg>\n",
              "  </button>\n",
              "\n",
              "<style>\n",
              "  .colab-df-quickchart {\n",
              "      --bg-color: #E8F0FE;\n",
              "      --fill-color: #1967D2;\n",
              "      --hover-bg-color: #E2EBFA;\n",
              "      --hover-fill-color: #174EA6;\n",
              "      --disabled-fill-color: #AAA;\n",
              "      --disabled-bg-color: #DDD;\n",
              "  }\n",
              "\n",
              "  [theme=dark] .colab-df-quickchart {\n",
              "      --bg-color: #3B4455;\n",
              "      --fill-color: #D2E3FC;\n",
              "      --hover-bg-color: #434B5C;\n",
              "      --hover-fill-color: #FFFFFF;\n",
              "      --disabled-bg-color: #3B4455;\n",
              "      --disabled-fill-color: #666;\n",
              "  }\n",
              "\n",
              "  .colab-df-quickchart {\n",
              "    background-color: var(--bg-color);\n",
              "    border: none;\n",
              "    border-radius: 50%;\n",
              "    cursor: pointer;\n",
              "    display: none;\n",
              "    fill: var(--fill-color);\n",
              "    height: 32px;\n",
              "    padding: 0;\n",
              "    width: 32px;\n",
              "  }\n",
              "\n",
              "  .colab-df-quickchart:hover {\n",
              "    background-color: var(--hover-bg-color);\n",
              "    box-shadow: 0 1px 2px rgba(60, 64, 67, 0.3), 0 1px 3px 1px rgba(60, 64, 67, 0.15);\n",
              "    fill: var(--button-hover-fill-color);\n",
              "  }\n",
              "\n",
              "  .colab-df-quickchart-complete:disabled,\n",
              "  .colab-df-quickchart-complete:disabled:hover {\n",
              "    background-color: var(--disabled-bg-color);\n",
              "    fill: var(--disabled-fill-color);\n",
              "    box-shadow: none;\n",
              "  }\n",
              "\n",
              "  .colab-df-spinner {\n",
              "    border: 2px solid var(--fill-color);\n",
              "    border-color: transparent;\n",
              "    border-bottom-color: var(--fill-color);\n",
              "    animation:\n",
              "      spin 1s steps(1) infinite;\n",
              "  }\n",
              "\n",
              "  @keyframes spin {\n",
              "    0% {\n",
              "      border-color: transparent;\n",
              "      border-bottom-color: var(--fill-color);\n",
              "      border-left-color: var(--fill-color);\n",
              "    }\n",
              "    20% {\n",
              "      border-color: transparent;\n",
              "      border-left-color: var(--fill-color);\n",
              "      border-top-color: var(--fill-color);\n",
              "    }\n",
              "    30% {\n",
              "      border-color: transparent;\n",
              "      border-left-color: var(--fill-color);\n",
              "      border-top-color: var(--fill-color);\n",
              "      border-right-color: var(--fill-color);\n",
              "    }\n",
              "    40% {\n",
              "      border-color: transparent;\n",
              "      border-right-color: var(--fill-color);\n",
              "      border-top-color: var(--fill-color);\n",
              "    }\n",
              "    60% {\n",
              "      border-color: transparent;\n",
              "      border-right-color: var(--fill-color);\n",
              "    }\n",
              "    80% {\n",
              "      border-color: transparent;\n",
              "      border-right-color: var(--fill-color);\n",
              "      border-bottom-color: var(--fill-color);\n",
              "    }\n",
              "    90% {\n",
              "      border-color: transparent;\n",
              "      border-bottom-color: var(--fill-color);\n",
              "    }\n",
              "  }\n",
              "</style>\n",
              "\n",
              "  <script>\n",
              "    async function quickchart(key) {\n",
              "      const quickchartButtonEl =\n",
              "        document.querySelector('#' + key + ' button');\n",
              "      quickchartButtonEl.disabled = true;  // To prevent multiple clicks.\n",
              "      quickchartButtonEl.classList.add('colab-df-spinner');\n",
              "      try {\n",
              "        const charts = await google.colab.kernel.invokeFunction(\n",
              "            'suggestCharts', [key], {});\n",
              "      } catch (error) {\n",
              "        console.error('Error during call to suggestCharts:', error);\n",
              "      }\n",
              "      quickchartButtonEl.classList.remove('colab-df-spinner');\n",
              "      quickchartButtonEl.classList.add('colab-df-quickchart-complete');\n",
              "    }\n",
              "    (() => {\n",
              "      let quickchartButtonEl =\n",
              "        document.querySelector('#df-01371ca9-df49-49f8-869b-a8f7b613b8ef button');\n",
              "      quickchartButtonEl.style.display =\n",
              "        google.colab.kernel.accessAllowed ? 'block' : 'none';\n",
              "    })();\n",
              "  </script>\n",
              "</div>\n",
              "\n",
              "    </div>\n",
              "  </div>\n"
            ],
            "text/plain": [
              "   labels                                           sequence\n",
              "0       0  ACAGATTCAGGATGTCCTGTCGGGGCATGGACCCTGGAAAGCTGCG...\n",
              "1       0  ATGATTTTAATACCACATTGGTAGACCTGCAATCCCCCAGAGAAGG...\n",
              "2       0  CCCCGGGATGCCCCTAGCCCCTCCCTGTGAGCTGCCTCTCACAGGT...\n",
              "3       0  GACCACCAGGGTGAGCTGGGGGTGGGCGGGGCCTGCCTGGCCAGGG...\n",
              "4       0  TTTTCCAGAAAATGAGGTGTGGCCAAACATCTTCAGGCTTTTCCTT..."
            ]
          },
          "execution_count": 3,
          "metadata": {},
          "output_type": "execute_result"
        }
      ],
      "source": [
        "df.head()"
      ]
    },
    {
      "cell_type": "code",
      "execution_count": null,
      "metadata": {
        "colab": {
          "base_uri": "https://localhost:8080/"
        },
        "id": "psVkEpqeCwmY",
        "outputId": "6c14fa47-f61d-440e-f937-7540236a18b4"
      },
      "outputs": [
        {
          "name": "stdout",
          "output_type": "stream",
          "text": [
            "count                                                 27097\n",
            "unique                                                27097\n",
            "top       ACAGATTCAGGATGTCCTGTCGGGGCATGGACCCTGGAAAGCTGCG...\n",
            "freq                                                      1\n",
            "Name: sequence, dtype: object\n"
          ]
        }
      ],
      "source": [
        "# Summary statistics\n",
        "print(df['sequence'].describe())"
      ]
    },
    {
      "cell_type": "code",
      "execution_count": null,
      "metadata": {
        "colab": {
          "base_uri": "https://localhost:8080/"
        },
        "id": "6NcyshFUQpWC",
        "outputId": "8e6d1792-3828-4db8-db0c-184d787d1cba"
      },
      "outputs": [
        {
          "name": "stdout",
          "output_type": "stream",
          "text": [
            "Unique characters: {'T', 'G', 'A', 'C'}\n"
          ]
        }
      ],
      "source": [
        "unique_characters = set().union(*df['sequence'])\n",
        "print(f\"Unique characters: {unique_characters}\")"
      ]
    },
    {
      "cell_type": "code",
      "execution_count": null,
      "metadata": {
        "colab": {
          "base_uri": "https://localhost:8080/"
        },
        "id": "0r1er0NSVrEn",
        "outputId": "88899e4d-0c8c-4e07-a2f4-05d245603a30"
      },
      "outputs": [
        {
          "name": "stdout",
          "output_type": "stream",
          "text": [
            "Original sequences: \n",
            " [['A', 'C', 'A', 'G', 'A', 'T', 'T', 'C', 'A', 'G', 'G', 'A', 'T', 'G', 'T', 'C', 'C', 'T', 'G', 'T', 'C', 'G', 'G', 'G', 'G', 'C', 'A', 'T', 'G', 'G', 'A', 'C', 'C', 'C', 'T', 'G', 'G', 'A', 'A', 'A', 'G', 'C', 'T', 'G', 'C', 'G', 'G', 'A', 'C', 'A', 'C', 'C', 'A', 'G', 'G', 'A', 'G', 'G', 'G', 'C', 'A', 'G', 'G', 'C', 'A', 'A', 'G', 'A', 'G', 'A', 'G', 'T', 'C', 'T', 'C', 'A', 'T', 'C', 'T', 'C', 'T', 'T', 'G', 'C', 'T', 'C', 'C', 'C', 'T', 'A', 'G', 'G', 'A', 'G', 'C', 'T', 'A', 'T', 'G', 'A', 'G', 'T', 'T', 'G', 'A', 'G', 'G', 'G', 'C', 'G', 'C', 'C', 'G', 'T', 'C', 'T', 'G', 'A', 'G', 'C', 'A', 'G', 'G', 'A', 'G', 'G', 'G', 'A', 'C', 'G', 'G', 'A', 'C', 'G', 'G', 'G', 'T', 'G', 'C', 'C', 'C', 'A', 'G', 'G', 'G', 'T', 'T', 'T', 'G', 'A', 'G', 'G', 'A', 'A', 'A', 'G', 'A', 'G', 'G', 'G', 'G', 'T', 'G', 'T', 'G', 'G', 'G', 'A', 'A', 'G', 'G', 'A', 'C', 'G', 'C', 'A', 'T', 'G', 'C', 'T', 'A', 'G', 'A', 'A', 'C', 'T', 'T', 'C', 'A', 'G', 'A', 'G', 'C', 'A', 'G', 'T', 'T', 'C', 'A', 'G', 'C', 'A', 'G', 'G', 'T', 'G', 'C', 'A', 'G', 'A', 'A', 'T', 'G', 'G', 'G', 'A', 'G', 'T', 'T', 'A', 'T', 'C', 'A', 'T', 'G', 'G', 'G', 'G', 'A', 'C', 'T', 'G', 'T', 'G', 'G', 'G', 'A', 'G', 'A', 'A', 'G', 'G', 'G', 'G', 'C', 'G', 'G', 'T', 'G', 'G', 'G'], ['A', 'T', 'G', 'A', 'T', 'T', 'T', 'T', 'A', 'A', 'T', 'A', 'C', 'C', 'A', 'C', 'A', 'T', 'T', 'G', 'G', 'T', 'A', 'G', 'A', 'C', 'C', 'T', 'G', 'C', 'A', 'A', 'T', 'C', 'C', 'C', 'C', 'C', 'A', 'G', 'A', 'G', 'A', 'A', 'G', 'G', 'A', 'A', 'C', 'A', 'T', 'C', 'C', 'T', 'G', 'G', 'G', 'A', 'T', 'G', 'T', 'A', 'C', 'T', 'T', 'A', 'G', 'A', 'G', 'A', 'C', 'C', 'T', 'C', 'A', 'G', 'T', 'A', 'A', 'A', 'C', 'C', 'T', 'T', 'A', 'T', 'G', 'T', 'G', 'T', 'C', 'T', 'T', 'T', 'G', 'C', 'T', 'C', 'C', 'C', 'C', 'C', 'A', 'A', 'A', 'T', 'T', 'A', 'A', 'C', 'A', 'G', 'G', 'G', 'A', 'T', 'A', 'G', 'G', 'G', 'T', 'A', 'T', 'T', 'C', 'T', 'C', 'T', 'T', 'T', 'G', 'A', 'A', 'T', 'A', 'G', 'A', 'A', 'A', 'A', 'T', 'A', 'A', 'G', 'G', 'A', 'A', 'A', 'A', 'G', 'A', 'A', 'G', 'G', 'T', 'G', 'T', 'C', 'T', 'G', 'T', 'C', 'T', 'T', 'A', 'C', 'A', 'A', 'C', 'T', 'A', 'A', 'T', 'A', 'A', 'T', 'C', 'A', 'T', 'G', 'A', 'T', 'A', 'G', 'A', 'C', 'A', 'G', 'A', 'G', 'C', 'T', 'G', 'A', 'T', 'G', 'A', 'T', 'A', 'T', 'T', 'C', 'A', 'G', 'C', 'T', 'A', 'G', 'T', 'C', 'T', 'C', 'C', 'A', 'T', 'G', 'C', 'T', 'T', 'G', 'G', 'T', 'C', 'A', 'G', 'T', 'C', 'A', 'T', 'C', 'T', 'G', 'C', 'T', 'T', 'A', 'T', 'T', 'T', 'A', 'C', 'A', 'G', 'C', 'C', 'A', 'G', 'G', 'A', 'C', 'C'], ['C', 'C', 'C', 'C', 'G', 'G', 'G', 'A', 'T', 'G', 'C', 'C', 'C', 'C', 'T', 'A', 'G', 'C', 'C', 'C', 'C', 'T', 'C', 'C', 'C', 'T', 'G', 'T', 'G', 'A', 'G', 'C', 'T', 'G', 'C', 'C', 'T', 'C', 'T', 'C', 'A', 'C', 'A', 'G', 'G', 'T', 'C', 'T', 'G', 'T', 'C', 'T', 'C', 'T', 'G', 'C', 'T', 'T', 'C', 'C', 'C', 'C', 'A', 'G', 'G', 'A', 'C', 'T', 'G', 'G', 'T', 'G', 'G', 'A', 'G', 'G', 'G', 'T', 'C', 'T', 'G', 'C', 'G', 'G', 'A', 'A', 'G', 'C', 'G', 'C', 'C', 'T', 'G', 'C', 'T', 'G', 'C', 'C', 'G', 'G', 'C', 'C', 'T', 'G', 'G', 'T', 'G', 'T', 'G', 'C', 'C', 'T', 'C', 'C', 'C', 'T', 'G', 'G', 'C', 'C', 'C', 'A', 'C', 'G', 'G', 'G', 'C', 'T', 'C', 'A', 'G', 'C', 'C', 'T', 'G', 'C', 'T', 'C', 'C', 'T', 'G', 'G', 'T', 'G', 'G', 'C', 'T', 'G', 'T', 'G', 'G', 'C', 'T', 'G', 'T', 'G', 'G', 'C', 'T', 'G', 'T', 'C', 'T', 'C', 'A', 'G', 'G', 'G', 'T', 'G', 'G', 'G', 'T', 'G', 'G', 'G', 'T', 'G', 'C', 'G', 'A', 'G', 'C', 'T', 'T', 'C', 'C', 'C', 'C', 'C', 'C', 'G', 'G', 'G', 'C', 'G', 'T', 'G', 'A', 'G', 'T', 'G', 'T', 'T', 'G', 'C', 'G', 'T', 'G', 'G', 'C', 'T', 'C', 'C', 'T', 'G', 'T', 'C', 'C', 'A', 'G', 'C', 'A', 'G', 'C', 'G', 'C', 'C', 'A', 'G', 'C', 'T', 'T', 'C', 'C', 'T', 'G', 'G', 'C', 'C', 'T', 'C', 'A', 'T', 'T', 'C', 'C', 'T', 'C', 'G', 'G'], ['G', 'A', 'C', 'C', 'A', 'C', 'C', 'A', 'G', 'G', 'G', 'T', 'G', 'A', 'G', 'C', 'T', 'G', 'G', 'G', 'G', 'G', 'T', 'G', 'G', 'G', 'C', 'G', 'G', 'G', 'G', 'C', 'C', 'T', 'G', 'C', 'C', 'T', 'G', 'G', 'C', 'C', 'A', 'G', 'G', 'G', 'A', 'G', 'T', 'G', 'T', 'G', 'A', 'G', 'G', 'G', 'A', 'C', 'A', 'A', 'G', 'G', 'G', 'C', 'C', 'A', 'C', 'C', 'C', 'C', 'C', 'A', 'G', 'G', 'G', 'C', 'C', 'T', 'G', 'G', 'G', 'A', 'G', 'T', 'G', 'G', 'C', 'C', 'G', 'A', 'G', 'C', 'T', 'G', 'G', 'A', 'T', 'G', 'G', 'C', 'C', 'C', 'C', 'G', 'A', 'C', 'T', 'G', 'A', 'G', 'T', 'A', 'G', 'G', 'G', 'A', 'A', 'C', 'T', 'G', 'A', 'G', 'T', 'A', 'G', 'G', 'G', 'A', 'A', 'C', 'A', 'G', 'A', 'T', 'C', 'T', 'G', 'A', 'G', 'G', 'A', 'C', 'A', 'A', 'G', 'C', 'T', 'C', 'T', 'G', 'G', 'A', 'A', 'T', 'T', 'C', 'C', 'T', 'C', 'A', 'T', 'T', 'G', 'A', 'G', 'A', 'C', 'C', 'A', 'G', 'A', 'G', 'G', 'T', 'G', 'G', 'C', 'G', 'G', 'G', 'T', 'G', 'G', 'G', 'G', 'G', 'T', 'G', 'G', 'C', 'C', 'T', 'G', 'G', 'G', 'G', 'G', 'C', 'T', 'C', 'T', 'G', 'T', 'C', 'T', 'C', 'T', 'G', 'A', 'G', 'A', 'C', 'C', 'T', 'T', 'G', 'G', 'C', 'C', 'T', 'T', 'C', 'T', 'G', 'C', 'C', 'T', 'C', 'C', 'C', 'C', 'C', 'C', 'A', 'G', 'A', 'C', 'T', 'A', 'T', 'G', 'C', 'G', 'G', 'A', 'G', 'G', 'C', 'C', 'C', 'T'], ['T', 'T', 'T', 'T', 'C', 'C', 'A', 'G', 'A', 'A', 'A', 'A', 'T', 'G', 'A', 'G', 'G', 'T', 'G', 'T', 'G', 'G', 'C', 'C', 'A', 'A', 'A', 'C', 'A', 'T', 'C', 'T', 'T', 'C', 'A', 'G', 'G', 'C', 'T', 'T', 'T', 'T', 'C', 'C', 'T', 'T', 'C', 'T', 'T', 'T', 'C', 'C', 'T', 'T', 'T', 'C', 'T', 'C', 'C', 'C', 'G', 'T', 'G', 'G', 'C', 'C', 'T', 'G', 'G', 'G', 'T', 'G', 'G', 'G', 'A', 'G', 'C', 'T', 'G', 'C', 'T', 'C', 'C', 'C', 'C', 'A', 'T', 'G', 'C', 'C', 'T', 'G', 'G', 'G', 'G', 'G', 'C', 'A', 'G', 'G', 'T', 'G', 'C', 'G', 'A', 'G', 'A', 'G', 'C', 'C', 'T', 'G', 'T', 'G', 'C', 'C', 'C', 'C', 'T', 'C', 'C', 'C', 'T', 'G', 'G', 'G', 'G', 'C', 'A', 'G', 'T', 'T', 'T', 'C', 'A', 'C', 'A', 'G', 'C', 'T', 'G', 'T', 'G', 'T', 'C', 'C', 'C', 'T', 'T', 'C', 'C', 'A', 'G', 'G', 'G', 'G', 'G', 'C', 'C', 'T', 'G', 'C', 'C', 'T', 'G', 'T', 'G', 'T', 'T', 'C', 'A', 'C', 'C', 'G', 'T', 'G', 'G', 'C', 'C', 'T', 'C', 'T', 'G', 'C', 'A', 'G', 'C', 'A', 'C', 'C', 'T', 'C', 'T', 'C', 'G', 'C', 'C', 'C', 'C', 'T', 'T', 'A', 'G', 'G', 'G', 'C', 'T', 'C', 'C', 'T', 'G', 'C', 'G', 'C', 'C', 'T', 'C', 'G', 'G', 'G', 'T', 'C', 'C', 'C', 'G', 'G', 'T', 'G', 'C', 'C', 'T', 'C', 'A', 'T', 'T', 'T', 'C', 'T', 'C', 'C', 'C', 'T', 'A', 'A', 'A', 'G', 'C', 'A', 'T', 'T', 'G'], ['A', 'C', 'T', 'A', 'T', 'G', 'G', 'C', 'A', 'A', 'G', 'G', 'A', 'C', 'C', 'T', 'G', 'A', 'T', 'G', 'G', 'A', 'G', 'A', 'A', 'G', 'G', 'T', 'C', 'A', 'A', 'G', 'A', 'G', 'C', 'C', 'C', 'A', 'G', 'A', 'G', 'C', 'T', 'T', 'C', 'A', 'G', 'G', 'C', 'C', 'G', 'A', 'G', 'G', 'C', 'C', 'A', 'A', 'G', 'T', 'A', 'A', 'G', 'T', 'C', 'T', 'C', 'A', 'G', 'G', 'G', 'C', 'A', 'A', 'G', 'G', 'G', 'G', 'T', 'T', 'C', 'A', 'G', 'G', 'G', 'G', 'C', 'T', 'G', 'T', 'G', 'G', 'A', 'A', 'C', 'T', 'G', 'T', 'G', 'G', 'A', 'G', 'A', 'G', 'A', 'A', 'A', 'G', 'A', 'A', 'G', 'G', 'G', 'A', 'A', 'G', 'A', 'T', 'G', 'A', 'G', 'A', 'G', 'G', 'T', 'C', 'C', 'C', 'A', 'C', 'A', 'G', 'A', 'A', 'G', 'T', 'C', 'T', 'G', 'A', 'A', 'C', 'C', 'C', 'A', 'G', 'G', 'G', 'G', 'T', 'G', 'G', 'G', 'G', 'A', 'T', 'T', 'A', 'G', 'G', 'G', 'C', 'A', 'G', 'A', 'T', 'T', 'A', 'G', 'G', 'C', 'T', 'T', 'A', 'A', 'A', 'T', 'T', 'G', 'C', 'A', 'G', 'A', 'G', 'A', 'A', 'A', 'A', 'A', 'G', 'T', 'A', 'T', 'T', 'T', 'C', 'A', 'T', 'C', 'A', 'C', 'C', 'C', 'A', 'A', 'A', 'G', 'A', 'T', 'C', 'C', 'C', 'A', 'C', 'A', 'C', 'G', 'T', 'C', 'T', 'C', 'T', 'T', 'A', 'G', 'A', 'T', 'A', 'G', 'A', 'G', 'A', 'G', 'G', 'A', 'A', 'C', 'A', 'G', 'C', 'A', 'A', 'G', 'A', 'A', 'C', 'T', 'G', 'G', 'G', 'C'], ['G', 'A', 'A', 'C', 'A', 'C', 'T', 'A', 'G', 'A', 'A', 'A', 'C', 'A', 'G', 'A', 'G', 'G', 'G', 'G', 'A', 'C', 'T', 'G', 'T', 'G', 'A', 'C', 'C', 'T', 'G', 'G', 'G', 'G', 'A', 'C', 'T', 'T', 'T', 'T', 'T', 'C', 'T', 'G', 'C', 'A', 'G', 'G', 'A', 'A', 'G', 'A', 'A', 'A', 'A', 'C', 'A', 'G', 'C', 'C', 'C', 'A', 'A', 'A', 'G', 'A', 'T', 'G', 'A', 'G', 'A', 'G', 'T', 'G', 'A', 'T', 'T', 'C', 'G', 'C', 'G', 'T', 'G', 'G', 'G', 'T', 'A', 'C', 'C', 'C', 'G', 'C', 'A', 'A', 'G', 'A', 'G', 'C', 'C', 'A', 'G', 'G', 'T', 'G', 'G', 'G', 'T', 'G', 'C', 'A', 'G', 'G', 'A', 'G', 'C', 'C', 'G', 'G', 'G', 'G', 'T', 'G', 'G', 'A', 'G', 'G', 'A', 'G', 'G', 'T', 'T', 'T', 'G', 'T', 'C', 'A', 'G', 'A', 'A', 'C', 'A', 'G', 'T', 'T', 'A', 'T', 'G', 'A', 'T', 'G', 'C', 'T', 'C', 'A', 'C', 'A', 'G', 'C', 'A', 'T', 'C', 'A', 'C', 'A', 'A', 'A', 'T', 'T', 'G', 'G', 'G', 'G', 'G', 'A', 'C', 'T', 'C', 'A', 'G', 'A', 'G', 'G', 'G', 'T', 'T', 'A', 'G', 'T', 'T', 'C', 'C', 'T', 'A', 'G', 'T', 'A', 'T', 'G', 'A', 'A', 'G', 'G', 'A', 'G', 'A', 'T', 'G', 'G', 'G', 'G', 'T', 'G', 'G', 'C', 'T', 'G', 'G', 'G', 'C', 'G', 'T', 'T', 'A', 'A', 'G', 'T', 'T', 'C', 'C', 'C', 'C', 'G', 'G', 'G', 'A', 'A', 'A', 'T', 'G', 'G', 'C', 'A', 'G', 'A', 'T', 'T', 'A', 'C', 'A', 'T', 'T'], ['T', 'T', 'G', 'G', 'T', 'T', 'G', 'A', 'T', 'G', 'G', 'A', 'C', 'A', 'C', 'T', 'T', 'A', 'G', 'G', 'T', 'T', 'G', 'G', 'T', 'T', 'C', 'C', 'T', 'T', 'A', 'T', 'C', 'T', 'T', 'T', 'G', 'C', 'A', 'A', 'T', 'T', 'G', 'T', 'G', 'A', 'A', 'T', 'T', 'G', 'T', 'G', 'C', 'T', 'G', 'C', 'C', 'T', 'A', 'T', 'A', 'A', 'A', 'C', 'A', 'T', 'G', 'T', 'G', 'T', 'G', 'T', 'G', 'C', 'A', 'T', 'G', 'T', 'A', 'C', 'C', 'T', 'T', 'T', 'T', 'T', 'C', 'A', 'T', 'A', 'T', 'A', 'A', 'T', 'G', 'A', 'C', 'T', 'T', 'T', 'T', 'T', 'T', 'T', 'C', 'C', 'T', 'T', 'T', 'G', 'G', 'G', 'T', 'A', 'G', 'A', 'T', 'A', 'G', 'C', 'C', 'A', 'G', 'T', 'A', 'G', 'T', 'G', 'G', 'A', 'A', 'T', 'T', 'T', 'C', 'T', 'G', 'G', 'A', 'T', 'T', 'G', 'A', 'A', 'T', 'G', 'G', 'T', 'A', 'G', 'A', 'T', 'A', 'G', 'A', 'T', 'G', 'G', 'T', 'A', 'A', 'T', 'C', 'T', 'A', 'C', 'T', 'A', 'C', 'T', 'T', 'T', 'T', 'A', 'G', 'T', 'A', 'T', 'T', 'T', 'T', 'T', 'T', 'T', 'T', 'T', 'T', 'T', 'T', 'T', 'T', 'T', 'T', 'T', 'T', 'G', 'T', 'C', 'T', 'T', 'G', 'A', 'G', 'A', 'C', 'G', 'G', 'A', 'G', 'T', 'C', 'T', 'T', 'G', 'C', 'T', 'C', 'T', 'G', 'T', 'C', 'G', 'C', 'C', 'C', 'A', 'G', 'G', 'C', 'T', 'G', 'G', 'A', 'G', 'G', 'G', 'C', 'A', 'G', 'T', 'G', 'G', 'C', 'G', 'C', 'A', 'A', 'T', 'G', 'T', 'T'], ['C', 'T', 'C', 'T', 'C', 'C', 'C', 'A', 'A', 'C', 'C', 'A', 'G', 'T', 'G', 'T', 'C', 'T', 'T', 'A', 'C', 'T', 'T', 'T', 'C', 'T', 'A', 'A', 'A', 'G', 'A', 'A', 'G', 'G', 'G', 'A', 'A', 'T', 'G', 'T', 'C', 'C', 'A', 'G', 'A', 'G', 'A', 'G', 'T', 'T', 'G', 'G', 'T', 'G', 'A', 'C', 'T', 'T', 'G', 'T', 'T', 'G', 'T', 'G', 'T', 'G', 'T', 'G', 'G', 'A', 'C', 'A', 'C', 'A', 'G', 'A', 'G', 'G', 'T', 'G', 'G', 'G', 'G', 'A', 'A', 'C', 'C', 'A', 'G', 'C', 'C', 'T', 'G', 'G', 'G', 'T', 'G', 'A', 'C', 'C', 'G', 'T', 'T', 'C', 'C', 'T', 'A', 'A', 'C', 'C', 'C', 'A', 'G', 'G', 'G', 'G', 'A', 'T', 'A', 'C', 'T', 'G', 'T', 'T', 'C', 'A', 'G', 'G', 'T', 'G', 'A', 'C', 'A', 'G', 'C', 'T', 'C', 'A', 'T', 'T', 'A', 'A', 'T', 'T', 'G', 'T', 'A', 'G', 'A', 'G', 'T', 'G', 'A', 'T', 'G', 'G', 'G', 'C', 'A', 'A', 'C', 'T', 'C', 'C', 'C', 'G', 'A', 'G', 'C', 'A', 'G', 'C', 'C', 'C', 'A', 'G', 'A', 'A', 'T', 'G', 'C', 'T', 'T', 'G', 'G', 'T', 'T', 'T', 'G', 'C', 'T', 'G', 'G', 'T', 'A', 'C', 'T', 'T', 'G', 'C', 'A', 'G', 'G', 'T', 'T', 'C', 'C', 'C', 'T', 'C', 'T', 'G', 'T', 'G', 'G', 'G', 'A', 'A', 'A', 'G', 'C', 'C', 'C', 'A', 'T', 'C', 'C', 'T', 'G', 'G', 'C', 'T', 'A', 'G', 'C', 'T', 'G', 'T', 'C', 'A', 'C', 'T', 'C', 'T', 'C', 'A', 'G', 'G', 'G', 'G', 'G'], ['T', 'G', 'G', 'G', 'A', 'T', 'T', 'T', 'C', 'A', 'C', 'T', 'G', 'T', 'C', 'C', 'C', 'T', 'A', 'A', 'G', 'A', 'C', 'A', 'G', 'G', 'T', 'A', 'T', 'G', 'C', 'T', 'C', 'G', 'C', 'C', 'T', 'T', 'C', 'A', 'A', 'C', 'T', 'A', 'C', 'A', 'T', 'A', 'T', 'G', 'G', 'A', 'A', 'G', 'A', 'A', 'A', 'G', 'A', 'T', 'T', 'T', 'A', 'C', 'A', 'G', 'A', 'C', 'C', 'A', 'A', 'A', 'G', 'T', 'C', 'T', 'G', 'C', 'T', 'G', 'T', 'T', 'C', 'T', 'T', 'C', 'C', 'C', 'T', 'T', 'T', 'T', 'T', 'C', 'A', 'G', 'A', 'G', 'C', 'A', 'G', 'G', 'A', 'A', 'A', 'T', 'T', 'G', 'A', 'A', 'G', 'C', 'C', 'C', 'C', 'T', 'T', 'C', 'C', 'T', 'C', 'C', 'A', 'G', 'G', 'C', 'C', 'A', 'C', 'T', 'C', 'C', 'C', 'A', 'A', 'C', 'T', 'C', 'C', 'A', 'G', 'G', 'C', 'T', 'A', 'T', 'C', 'C', 'C', 'A', 'G', 'G', 'C', 'T', 'C', 'C', 'C', 'A', 'A', 'A', 'T', 'G', 'C', 'C', 'C', 'A', 'G', 'G', 'A', 'G', 'T', 'T', 'C', 'T', 'G', 'G', 'A', 'G', 'C', 'C', 'A', 'C', 'T', 'A', 'A', 'G', 'C', 'A', 'G', 'G', 'T', 'G', 'C', 'C', 'C', 'A', 'C', 'C', 'C', 'A', 'G', 'C', 'A', 'G', 'A', 'T', 'T', 'C', 'C', 'A', 'T', 'G', 'G', 'G', 'T', 'G', 'C', 'C', 'C', 'A', 'C', 'A', 'A', 'G', 'C', 'A', 'G', 'A', 'C', 'A', 'G', 'A', 'C', 'T', 'T', 'T', 'T', 'C', 'C', 'T', 'T', 'C', 'A', 'G', 'G', 'G', 'G', 'A', 'G', 'A', 'T'], ['T', 'C', 'C', 'T', 'C', 'T', 'T', 'C', 'A', 'T', 'C', 'A', 'T', 'C', 'G', 'T', 'G', 'C', 'C', 'T', 'A', 'T', 'C', 'T', 'T', 'C', 'C', 'T', 'G', 'C', 'T', 'G', 'C', 'T', 'G', 'G', 'A', 'C', 'A', 'A', 'G', 'G', 'T', 'G', 'A', 'T', 'C', 'A', 'G', 'G', 'G', 'G', 'A', 'C', 'G', 'G', 'G', 'G', 'G', 'A', 'A', 'G', 'C', 'C', 'T', 'T', 'G', 'G', 'G', 'G', 'G', 'A', 'C', 'C', 'G', 'C', 'A', 'G', 'A', 'G', 'G', 'A', 'G', 'G', 'C', 'C', 'A', 'C', 'C', 'G', 'C', 'A', 'T', 'A', 'G', 'G', 'C', 'C', 'A', 'G', 'G', 'C', 'A', 'T', 'A', 'T', 'G', 'C', 'A', 'G', 'G', 'G', 'T', 'C', 'T', 'C', 'C', 'A', 'T', 'C', 'T', 'C', 'C', 'C', 'C', 'A', 'G', 'C', 'T', 'C', 'T', 'C', 'G', 'T', 'T', 'G', 'T', 'G', 'G', 'C', 'C', 'T', 'T', 'C', 'T', 'T', 'G', 'G', 'T', 'C', 'C', 'A', 'G', 'C', 'C', 'T', 'G', 'T', 'C', 'C', 'C', 'C', 'A', 'C', 'T', 'G', 'G', 'C', 'T', 'C', 'A', 'C', 'C', 'A', 'A', 'T', 'T', 'C', 'A', 'A', 'T', 'C', 'A', 'T', 'T', 'C', 'C', 'T', 'T', 'C', 'C', 'T', 'T', 'C', 'C', 'T', 'T', 'C', 'C', 'T', 'T', 'C', 'A', 'T', 'T', 'C', 'A', 'G', 'C', 'T', 'G', 'T', 'T', 'C', 'T', 'T', 'G', 'C', 'A', 'G', 'A', 'A', 'T', 'G', 'C', 'A', 'C', 'C', 'T', 'C', 'A', 'C', 'T', 'C', 'C', 'T', 'G', 'A', 'C', 'C', 'C', 'C', 'T', 'C', 'A', 'C', 'C', 'C', 'C', 'T', 'C'], ['G', 'G', 'A', 'T', 'T', 'T', 'C', 'A', 'C', 'A', 'T', 'A', 'C', 'T', 'G', 'C', 'A', 'T', 'C', 'T', 'C', 'C', 'T', 'T', 'C', 'A', 'A', 'C', 'A', 'A', 'G', 'G', 'A', 'T', 'C', 'T', 'G', 'C', 'T', 'G', 'A', 'C', 'C', 'T', 'G', 'C', 'T', 'G', 'G', 'G', 'A', 'T', 'C', 'C', 'A', 'G', 'A', 'G', 'G', 'A', 'G', 'A', 'A', 'T', 'A', 'A', 'G', 'A', 'T', 'G', 'G', 'C', 'C', 'C', 'C', 'T', 'T', 'G', 'C', 'G', 'A', 'A', 'T', 'T', 'T', 'G', 'G', 'G', 'G', 'T', 'G', 'C', 'T', 'G', 'A', 'A', 'T', 'A', 'G', 'C', 'T', 'T', 'G', 'G', 'C', 'G', 'A', 'A', 'T', 'G', 'T', 'C', 'C', 'T', 'C', 'T', 'C', 'A', 'C', 'A', 'G', 'C', 'A', 'C', 'C', 'T', 'C', 'A', 'A', 'C', 'C', 'A', 'A', 'A', 'A', 'A', 'G', 'A', 'C', 'A', 'C', 'C', 'C', 'T', 'G', 'A', 'T', 'G', 'C', 'A', 'G', 'C', 'G', 'C', 'T', 'T', 'G', 'C', 'G', 'C', 'A', 'A', 'T', 'G', 'G', 'G', 'C', 'T', 'T', 'C', 'A', 'G', 'A', 'A', 'T', 'T', 'G', 'T', 'G', 'C', 'C', 'A', 'C', 'A', 'C', 'A', 'C', 'A', 'C', 'C', 'C', 'A', 'G', 'C', 'C', 'C', 'T', 'T', 'C', 'T', 'G', 'G', 'G', 'G', 'A', 'T', 'C', 'A', 'C', 'T', 'G', 'A', 'C', 'C', 'A', 'A', 'C', 'A', 'G', 'G', 'A', 'C', 'A', 'C', 'G', 'T', 'G', 'A', 'G', 'G', 'A', 'G', 'A', 'G', 'A', 'G', 'G', 'G', 'G', 'T', 'G', 'C', 'A', 'G', 'A', 'G', 'G', 'G', 'G', 'C', 'T'], ['G', 'C', 'A', 'G', 'A', 'T', 'G', 'A', 'C', 'T', 'C', 'A', 'T', 'G', 'C', 'C', 'A', 'G', 'G', 'A', 'G', 'A', 'T', 'G', 'T', 'A', 'G', 'G', 'A', 'A', 'T', 'A', 'G', 'A', 'A', 'T', 'T', 'C', 'A', 'G', 'T', 'G', 'T', 'T', 'C', 'T', 'A', 'G', 'T', 'G', 'T', 'T', 'A', 'G', 'G', 'T', 'T', 'A', 'A', 'A', 'G', 'G', 'A', 'A', 'G', 'G', 'A', 'G', 'G', 'G', 'A', 'A', 'G', 'T', 'G', 'T', 'G', 'A', 'T', 'C', 'A', 'T', 'C', 'A', 'T', 'C', 'A', 'T', 'A', 'C', 'A', 'C', 'A', 'C', 'T', 'A', 'A', 'A', 'C', 'A', 'A', 'A', 'A', 'G', 'C', 'A', 'A', 'T', 'T', 'C', 'A', 'T', 'A', 'A', 'A', 'A', 'C', 'T', 'C', 'A', 'A', 'C', 'A', 'T', 'T', 'T', 'T', 'T', 'T', 'T', 'T', 'T', 'T', 'G', 'A', 'G', 'A', 'T', 'G', 'G', 'A', 'G', 'T', 'C', 'T', 'C', 'G', 'C', 'T', 'C', 'A', 'G', 'T', 'C', 'A', 'C', 'C', 'C', 'A', 'G', 'G', 'C', 'T', 'G', 'G', 'A', 'G', 'T', 'G', 'C', 'A', 'G', 'T', 'G', 'G', 'T', 'G', 'C', 'A', 'A', 'T', 'C', 'T', 'C', 'G', 'G', 'C', 'T', 'C', 'A', 'C', 'T', 'G', 'C', 'A', 'A', 'C', 'C', 'T', 'C', 'T', 'G', 'C', 'C', 'C', 'C', 'C', 'G', 'G', 'A', 'T', 'T', 'C', 'A', 'A', 'G', 'C', 'G', 'A', 'T', 'T', 'C', 'T', 'C', 'C', 'T', 'G', 'C', 'C', 'T', 'C', 'A', 'G', 'C', 'C', 'T', 'C', 'C', 'C', 'A', 'A', 'G', 'T', 'A', 'G', 'C', 'T', 'A', 'G', 'G', 'A'], ['T', 'T', 'G', 'G', 'A', 'A', 'G', 'A', 'C', 'G', 'T', 'C', 'A', 'T', 'T', 'T', 'C', 'A', 'A', 'G', 'T', 'G', 'C', 'T', 'C', 'T', 'C', 'C', 'C', 'T', 'C', 'C', 'C', 'A', 'C', 'C', 'C', 'C', 'A', 'C', 'C', 'T', 'C', 'T', 'T', 'G', 'G', 'G', 'G', 'T', 'A', 'A', 'G', 'G', 'C', 'C', 'T', 'T', 'T', 'C', 'C', 'T', 'A', 'A', 'G', 'C', 'T', 'A', 'C', 'C', 'C', 'C', 'T', 'T', 'G', 'G', 'G', 'T', 'C', 'C', 'C', 'T', 'A', 'G', 'C', 'C', 'T', 'A', 'A', 'G', 'A', 'A', 'A', 'C', 'A', 'A', 'G', 'G', 'G', 'G', 'G', 'A', 'T', 'G', 'T', 'C', 'A', 'T', 'C', 'C', 'C', 'T', 'G', 'G', 'T', 'G', 'T', 'A', 'A', 'A', 'G', 'A', 'T', 'G', 'C', 'T', 'G', 'T', 'G', 'C', 'A', 'G', 'G', 'A', 'A', 'G', 'T', 'C', 'A', 'G', 'C', 'A', 'C', 'T', 'C', 'A', 'C', 'G', 'G', 'G', 'A', 'T', 'C', 'C', 'A', 'G', 'G', 'G', 'G', 'A', 'C', 'G', 'C', 'T', 'C', 'C', 'A', 'A', 'G', 'G', 'G', 'G', 'A', 'A', 'T', 'C', 'C', 'C', 'C', 'A', 'G', 'G', 'G', 'C', 'C', 'T', 'G', 'C', 'C', 'A', 'T', 'C', 'C', 'A', 'T', 'C', 'C', 'G', 'G', 'G', 'A', 'A', 'G', 'A', 'G', 'A', 'G', 'C', 'A', 'A', 'A', 'T', 'G', 'C', 'T', 'A', 'C', 'C', 'C', 'A', 'T', 'G', 'A', 'G', 'G', 'A', 'C', 'C', 'T', 'C', 'C', 'T', 'C', 'A', 'C', 'T', 'C', 'C', 'C', 'T', 'T', 'T', 'T', 'T', 'G', 'C', 'T', 'C', 'T', 'T', 'T'], ['T', 'C', 'C', 'T', 'T', 'G', 'T', 'G', 'C', 'A', 'A', 'T', 'T', 'T', 'G', 'T', 'T', 'G', 'A', 'A', 'G', 'A', 'A', 'A', 'C', 'T', 'G', 'G', 'C', 'T', 'C', 'C', 'T', 'G', 'C', 'A', 'G', 'C', 'C', 'T', 'G', 'G', 'A', 'T', 'T', 'T', 'C', 'T', 'C', 'G', 'C', 'T', 'G', 'T', 'G', 'T', 'C', 'T', 'T', 'G', 'G', 'G', 'G', 'G', 'T', 'G', 'C', 'C', 'A', 'C', 'C', 'T', 'C', 'C', 'A', 'T', 'G', 'G', 'T', 'G', 'T', 'C', 'A', 'C', 'C', 'T', 'C', 'C', 'G', 'T', 'G', 'G', 'T', 'G', 'C', 'T', 'G', 'T', 'G', 'A', 'G', 'T', 'G', 'T', 'G', 'T', 'G', 'C', 'T', 'T', 'T', 'G', 'T', 'G', 'T', 'T', 'T', 'C', 'T', 'T', 'G', 'T', 'A', 'A', 'A', 'T', 'T', 'G', 'G', 'T', 'C', 'G', 'T', 'T', 'G', 'G', 'A', 'G', 'C', 'C', 'G', 'A', 'C', 'A', 'T', 'C', 'C', 'C', 'A', 'T', 'T', 'G', 'T', 'C', 'C', 'C', 'A', 'G', 'A', 'G', 'G', 'T', 'T', 'G', 'T', 'C', 'C', 'T', 'G', 'G', 'C', 'T', 'G', 'G', 'C', 'A', 'C', 'T', 'G', 'G', 'C', 'C', 'T', 'A', 'G', 'G', 'T', 'G', 'T', 'A', 'G', 'A', 'T', 'G', 'T', 'C', 'A', 'T', 'C', 'A', 'G', 'C', 'T', 'C', 'A', 'G', 'G', 'G', 'C', 'C', 'C', 'C', 'C', 'T', 'G', 'C', 'T', 'C', 'T', 'A', 'A', 'A', 'G', 'G', 'C', 'C', 'A', 'C', 'T', 'T', 'C', 'T', 'G', 'G', 'T', 'G', 'C', 'T', 'G', 'G', 'T', 'T', 'G', 'C', 'C', 'A', 'C', 'T', 'C', 'A', 'C'], ['G', 'A', 'C', 'G', 'G', 'C', 'C', 'G', 'G', 'G', 'A', 'C', 'G', 'T', 'G', 'G', 'A', 'G', 'G', 'C', 'A', 'C', 'T', 'G', 'T', 'G', 'C', 'C', 'A', 'G', 'G', 'T', 'A', 'T', 'T', 'C', 'T', 'G', 'G', 'C', 'A', 'G', 'G', 'C', 'T', 'T', 'C', 'T', 'C', 'A', 'G', 'G', 'T', 'G', 'A', 'A', 'G', 'C', 'A', 'C', 'A', 'A', 'G', 'C', 'C', 'C', 'A', 'C', 'T', 'G', 'C', 'T', 'G', 'T', 'G', 'G', 'T', 'G', 'G', 'C', 'C', 'A', 'A', 'G', 'A', 'C', 'C', 'T', 'T', 'C', 'A', 'A', 'G', 'G', 'G', 'C', 'C', 'G', 'G', 'G', 'G', 'C', 'A', 'C', 'C', 'C', 'C', 'A', 'A', 'G', 'T', 'A', 'A', 'G', 'C', 'A', 'A', 'G', 'C', 'A', 'C', 'T', 'T', 'T', 'C', 'C', 'T', 'C', 'C', 'T', 'G', 'C', 'T', 'C', 'C', 'T', 'G', 'G', 'T', 'T', 'G', 'T', 'T', 'A', 'A', 'A', 'A', 'G', 'C', 'A', 'T', 'C', 'T', 'G', 'T', 'C', 'C', 'G', 'C', 'T', 'C', 'A', 'G', 'C', 'A', 'G', 'C', 'A', 'G', 'A', 'G', 'G', 'C', 'G', 'G', 'G', 'A', 'G', 'A', 'G', 'G', 'C', 'T', 'T', 'A', 'G', 'A', 'G', 'G', 'G', 'G', 'C', 'C', 'T', 'A', 'G', 'G', 'C', 'A', 'G', 'A', 'T', 'G', 'A', 'C', 'T', 'C', 'A', 'T', 'T', 'T', 'A', 'G', 'T', 'G', 'A', 'A', 'T', 'A', 'G', 'C', 'A', 'G', 'T', 'T', 'C', 'T', 'G', 'C', 'C', 'T', 'G', 'G', 'A', 'G', 'T', 'A', 'T', 'A', 'T', 'G', 'T', 'T', 'G', 'G', 'A', 'G', 'G', 'C', 'T', 'C'], ['T', 'C', 'C', 'T', 'G', 'C', 'C', 'T', 'G', 'G', 'G', 'G', 'C', 'A', 'G', 'C', 'G', 'A', 'G', 'A', 'A', 'C', 'C', 'C', 'T', 'G', 'G', 'A', 'G', 'C', 'G', 'T', 'G', 'A', 'C', 'A', 'C', 'G', 'A', 'G', 'G', 'C', 'A', 'G', 'G', 'A', 'A', 'C', 'T', 'C', 'T', 'T', 'A', 'C', 'A', 'A', 'A', 'C', 'A', 'C', 'A', 'C', 'C', 'C', 'T', 'T', 'C', 'T', 'C', 'A', 'G', 'A', 'G', 'T', 'A', 'G', 'T', 'A', 'G', 'T', 'C', 'A', 'C', 'C', 'T', 'G', 'G', 'C', 'A', 'G', 'G', 'T', 'G', 'G', 'G', 'C', 'T', 'A', 'G', 'A', 'A', 'G', 'G', 'A', 'A', 'A', 'C', 'C', 'A', 'C', 'A', 'G', 'G', 'A', 'A', 'A', 'C', 'G', 'G', 'G', 'A', 'A', 'G', 'C', 'C', 'A', 'G', 'A', 'G', 'A', 'G', 'G', 'G', 'G', 'A', 'T', 'T', 'G', 'A', 'A', 'A', 'C', 'A', 'A', 'G', 'G', 'T', 'G', 'T', 'G', 'C', 'A', 'A', 'G', 'G', 'T', 'G', 'G', 'T', 'G', 'G', 'G', 'G', 'G', 'A', 'G', 'A', 'A', 'A', 'A', 'C', 'C', 'A', 'G', 'G', 'G', 'G', 'G', 'G', 'T', 'G', 'G', 'G', 'G', 'G', 'G', 'G', 'G', 'A', 'C', 'C', 'T', 'G', 'A', 'G', 'A', 'G', 'T', 'G', 'A', 'A', 'G', 'A', 'A', 'A', 'G', 'A', 'G', 'G', 'T', 'G', 'A', 'G', 'T', 'G', 'T', 'G', 'C', 'C', 'T', 'A', 'A', 'C', 'A', 'G', 'A', 'T', 'G', 'G', 'A', 'G', 'C', 'A', 'C', 'T', 'C', 'T', 'G', 'C', 'A', 'A', 'T', 'G', 'G', 'C', 'G', 'T', 'G', 'A', 'A', 'G'], ['A', 'T', 'G', 'T', 'A', 'T', 'T', 'T', 'G', 'T', 'T', 'A', 'A', 'A', 'T', 'G', 'T', 'G', 'G', 'C', 'T', 'A', 'A', 'A', 'T', 'G', 'A', 'A', 'A', 'T', 'T', 'G', 'A', 'G', 'A', 'G', 'G', 'A', 'T', 'A', 'A', 'T', 'G', 'T', 'T', 'T', 'A', 'A', 'A', 'T', 'T', 'T', 'T', 'T', 'A', 'A', 'A', 'C', 'T', 'A', 'A', 'T', 'G', 'A', 'A', 'T', 'T', 'A', 'T', 'T', 'C', 'T', 'A', 'A', 'T', 'G', 'C', 'T', 'A', 'C', 'A', 'G', 'T', 'T', 'A', 'A', 'G', 'T', 'T', 'T', 'A', 'T', 'A', 'G', 'C', 'A', 'T', 'G', 'T', 'A', 'G', 'C', 'C', 'T', 'C', 'T', 'C', 'G', 'T', 'A', 'A', 'T', 'T', 'A', 'A', 'T', 'G', 'G', 'T', 'A', 'A', 'A', 'A', 'T', 'A', 'A', 'T', 'C', 'T', 'A', 'A', 'T', 'T', 'G', 'C', 'A', 'G', 'T', 'T', 'T', 'T', 'T', 'A', 'C', 'A', 'C', 'T', 'A', 'G', 'A', 'A', 'T', 'A', 'A', 'T', 'T', 'T', 'T', 'A', 'A', 'C', 'A', 'C', 'T', 'A', 'T', 'A', 'A', 'A', 'T', 'A', 'A', 'T', 'T', 'T', 'T', 'C', 'T', 'C', 'A', 'A', 'T', 'A', 'G', 'G', 'T', 'T', 'A', 'A', 'A', 'T', 'G', 'T', 'A', 'A', 'A', 'C', 'C', 'T', 'A', 'A', 'A', 'G', 'T', 'G', 'G', 'G', 'T', 'T', 'A', 'C', 'A', 'T', 'G', 'A', 'A', 'G', 'A', 'A', 'A', 'C', 'A', 'G', 'C', 'C', 'A', 'G', 'A', 'C', 'A', 'T', 'C', 'A', 'C', 'T', 'A', 'A', 'C', 'A', 'G', 'T', 'A', 'T', 'G', 'A', 'G', 'A', 'G', 'C', 'T', 'A'], ['T', 'C', 'C', 'A', 'G', 'C', 'C', 'C', 'T', 'C', 'G', 'G', 'G', 'G', 'T', 'G', 'C', 'G', 'G', 'T', 'A', 'G', 'A', 'G', 'T', 'C', 'T', 'A', 'G', 'G', 'G', 'G', 'C', 'T', 'G', 'C', 'A', 'G', 'G', 'C', 'C', 'A', 'G', 'G', 'G', 'A', 'A', 'G', 'G', 'G', 'G', 'G', 'A', 'G', 'G', 'C', 'T', 'C', 'T', 'G', 'G', 'A', 'G', 'C', 'A', 'G', 'T', 'C', 'G', 'G', 'C', 'C', 'T', 'G', 'A', 'G', 'C', 'C', 'T', 'G', 'A', 'T', 'A', 'G', 'A', 'G', 'A', 'G', 'G', 'G', 'G', 'C', 'C', 'T', 'T', 'C', 'T', 'C', 'C', 'A', 'G', 'G', 'T', 'G', 'T', 'C', 'A', 'G', 'G', 'G', 'A', 'C', 'G', 'T', 'G', 'G', 'T', 'A', 'T', 'C', 'T', 'G', 'A', 'A', 'G', 'G', 'C', 'C', 'A', 'T', 'G', 'A', 'C', 'G', 'G', 'T', 'G', 'G', 'A', 'C', 'A', 'G', 'G', 'G', 'A', 'G', 'T', 'T', 'C', 'C', 'C', 'T', 'G', 'A', 'G', 'A', 'T', 'G', 'A', 'A', 'T', 'C', 'T', 'G', 'G', 'A', 'A', 'T', 'C', 'G', 'G', 'T', 'G', 'A', 'C', 'A', 'C', 'C', 'C', 'A', 'T', 'G', 'A', 'C', 'C', 'C', 'T', 'C', 'A', 'C', 'G', 'A', 'C', 'C', 'C', 'T', 'G', 'G', 'A', 'A', 'G', 'G', 'G', 'G', 'G', 'C', 'A', 'A', 'C', 'C', 'T', 'G', 'G', 'A', 'A', 'G', 'C', 'C', 'A', 'A', 'G', 'G', 'T', 'C', 'A', 'C', 'C', 'A', 'T', 'G', 'C', 'T', 'G', 'T', 'G', 'A', 'G', 'T', 'G', 'T', 'C', 'T', 'G', 'C', 'C', 'A', 'G', 'C', 'C', 'G', 'G'], ['A', 'C', 'A', 'G', 'A', 'A', 'G', 'G', 'G', 'T', 'G', 'G', 'G', 'T', 'G', 'G', 'T', 'G', 'G', 'C', 'C', 'T', 'G', 'G', 'A', 'G', 'A', 'A', 'A', 'G', 'A', 'C', 'C', 'T', 'G', 'C', 'T', 'T', 'T', 'G', 'G', 'G', 'T', 'C', 'A', 'G', 'C', 'T', 'T', 'G', 'G', 'G', 'A', 'T', 'G', 'A', 'G', 'A', 'A', 'T', 'G', 'C', 'A', 'T', 'C', 'C', 'T', 'T', 'C', 'A', 'G', 'C', 'C', 'A', 'C', 'T', 'T', 'G', 'G', 'C', 'C', 'A', 'C', 'C', 'A', 'A', 'C', 'A', 'C', 'C', 'C', 'C', 'A', 'G', 'C', 'C', 'C', 'A', 'T', 'C', 'T', 'G', 'C', 'T', 'A', 'G', 'G', 'C', 'A', 'T', 'G', 'T', 'G', 'G', 'A', 'G', 'G', 'G', 'C', 'A', 'G', 'G', 'A', 'C', 'T', 'T', 'T', 'G', 'A', 'C', 'T', 'G', 'G', 'T', 'A', 'T', 'T', 'A', 'G', 'G', 'T', 'T', 'T', 'C', 'T', 'T', 'T', 'T', 'T', 'C', 'T', 'T', 'T', 'T', 'T', 'T', 'T', 'T', 'T', 'G', 'C', 'C', 'C', 'A', 'G', 'T', 'T', 'G', 'T', 'G', 'C', 'C', 'A', 'T', 'G', 'G', 'C', 'A', 'T', 'G', 'A', 'G', 'G', 'T', 'T', 'T', 'C', 'T', 'G', 'A', 'T', 'G', 'C', 'C', 'A', 'G', 'G', 'G', 'C', 'A', 'G', 'G', 'G', 'C', 'T', 'G', 'G', 'C', 'C', 'A', 'G', 'A', 'A', 'C', 'A', 'C', 'C', 'T', 'G', 'C', 'A', 'T', 'T', 'C', 'C', 'A', 'G', 'A', 'G', 'C', 'A', 'C', 'A', 'G', 'C', 'C', 'T', 'G', 'G', 'C', 'A', 'G', 'A', 'A', 'G', 'T', 'G', 'T', 'G', 'G', 'A']]\n",
            "Encoded sequences:\n",
            " [[1 0 0 ... 0 1 0]\n",
            " [1 0 0 ... 1 0 0]\n",
            " [0 1 0 ... 0 1 0]\n",
            " ...\n",
            " [1 0 0 ... 1 0 0]\n",
            " [0 0 0 ... 1 0 0]\n",
            " [0 0 1 ... 0 1 0]]\n",
            "\n",
            "Decoded Sequences:\n",
            " [['A' 'C' 'A' ... 'G' 'G' 'G']\n",
            " ['A' 'T' 'G' ... 'A' 'C' 'C']\n",
            " ['C' 'C' 'C' ... 'C' 'G' 'G']\n",
            " ...\n",
            " ['A' 'T' 'G' ... 'C' 'G' 'C']\n",
            " ['T' 'A' 'T' ... 'C' 'G' 'C']\n",
            " ['G' 'G' 'G' ... 'A' 'G' 'G']]\n",
            "\n",
            "Are the original and decoded sequences equivalent? True\n"
          ]
        }
      ],
      "source": [
        "from sklearn.preprocessing import OneHotEncoder\n",
        "\n",
        "def one_hot_sequence_encoder(sequence_series):\n",
        "    \"\"\"\n",
        "    Creates and returns a OneHotEncoder for DNA sequences.\n",
        "\n",
        "    Parameters:\n",
        "    sequence_series (pd.Series): Series containing DNA sequences.\n",
        "\n",
        "    Returns:\n",
        "    OneHotEncoder: Fitted OneHotEncoder instance for the given sequences.\n",
        "    \"\"\"\n",
        "    # Define fixed categories for each character position\n",
        "    categories = ['A', 'C', 'G', 'T']\n",
        "\n",
        "    # Determine the sequence length (assuming all sequences have the same length)\n",
        "    sequence_length = len(sequence_series.iloc[0])\n",
        "\n",
        "    # Initialize the OneHotEncoder with fixed categories for each position\n",
        "    one_hot_encoder = OneHotEncoder(categories=[categories] * sequence_length,\n",
        "                                    handle_unknown='ignore',\n",
        "                                    dtype=int,\n",
        "                                    sparse_output=False)\n",
        "\n",
        "    # Fit the encoder to the sequences\n",
        "    one_hot_encoder.fit(sequence_series.apply(list).tolist())\n",
        "\n",
        "    return one_hot_encoder\n",
        "\n",
        "\n",
        "encoder = one_hot_sequence_encoder(df['sequence'])\n",
        "\n",
        "# Encode sequences\n",
        "encoded_sequences = encoder.transform(df['sequence'].apply(list).tolist())\n",
        "\n",
        "# Decode sequences\n",
        "decoded_sequences = encoder.inverse_transform(encoded_sequences)\n",
        "\n",
        "# Check equivalence\n",
        "is_equivalent = (decoded_sequences == df['sequence'].apply(list).tolist()).all()\n",
        "\n",
        "print(\"Original sequences: \\n\", df['sequence'].apply(list).tolist()[:20])\n",
        "print(\"Encoded sequences:\\n\", encoded_sequences)\n",
        "print(\"\\nDecoded Sequences:\\n\", decoded_sequences)\n",
        "print(\"\\nAre the original and decoded sequences equivalent?\", is_equivalent)"
      ]
    },
    {
      "cell_type": "code",
      "execution_count": null,
      "metadata": {
        "colab": {
          "base_uri": "https://localhost:8080/"
        },
        "id": "MtVSvG-vEYpC",
        "outputId": "26431b89-148e-45cf-982c-e91199a6b1e1"
      },
      "outputs": [
        {
          "name": "stdout",
          "output_type": "stream",
          "text": [
            "Are all encoded sequences divisible by 4? True\n",
            "Are all sequence lengths equal? True\n",
            "Length of sequences: 251\n"
          ]
        }
      ],
      "source": [
        "# Assuming 'df' and 'encoded_sequences' are already defined as in your provided code\n",
        "\n",
        "# Check if all encoded sequences lengths are divisible by 4 and print out if they are all equal\n",
        "sequence_lengths = [len(seq) for seq in encoded_sequences]\n",
        "\n",
        "all_divisible_by_4 = all(length % 4 == 0 for length in sequence_lengths)\n",
        "print(\"Are all encoded sequences divisible by 4?\", all_divisible_by_4)\n",
        "\n",
        "\n",
        "if all_divisible_by_4:\n",
        "    all_lengths_equal = all(length == sequence_lengths[0] for length in sequence_lengths)\n",
        "    print(\"Are all sequence lengths equal?\", all_lengths_equal)\n",
        "\n",
        "    # Calculate and print the length of the original sequences\n",
        "    if all_lengths_equal:\n",
        "      print(\"Length of sequences:\", sequence_lengths[0] // 4)\n",
        "\n",
        "    # Add a new column to the dataframe with the lengths of the original sequences.\n",
        "    df['sequence_length'] = sequence_lengths[0] // 4\n",
        "\n",
        "#Example of accessing the sequence lengths\n",
        "#print(\"Sequence lengths in df:\", df['sequence_length'])"
      ]
    },
    {
      "cell_type": "code",
      "execution_count": null,
      "metadata": {
        "id": "DclkAGGsGCeX"
      },
      "outputs": [],
      "source": [
        "data = encoded_sequences"
      ]
    },
    {
      "cell_type": "markdown",
      "metadata": {
        "id": "UtLJFlXl035o"
      },
      "source": [
        "## SimplePCA"
      ]
    },
    {
      "cell_type": "code",
      "execution_count": null,
      "metadata": {
        "id": "9yCuZc69GpRJ"
      },
      "outputs": [],
      "source": [
        "class SimplePCA:\n",
        "    def __init__(self, n_components):\n",
        "        \"\"\"\n",
        "        Initialize PCA with the number of principal components.\n",
        "\n",
        "        Parameters:\n",
        "        n_components (int): Number of principal components to keep.\n",
        "        \"\"\"\n",
        "        self.n_components = n_components  # Number of principal components to keep\n",
        "        self.mean = None  # Mean of the input data\n",
        "        self.components = None  # Principal components (eigenvectors)\n",
        "\n",
        "    def fit(self, X):\n",
        "        \"\"\"\n",
        "        Fit the PCA model to the data.\n",
        "\n",
        "        Parameters:\n",
        "        X (np.ndarray): Input data matrix with shape (n_samples, n_features).\n",
        "        \"\"\"\n",
        "        # Step 1: Center the data by subtracting the mean\n",
        "        self.mean = np.mean(X, axis=0)  # Compute the mean of each feature\n",
        "        X_centered = X - self.mean  # Center the data\n",
        "\n",
        "        # Step 2: Compute the covariance matrix\n",
        "        covariance_matrix = np.cov(X_centered, rowvar=False)  # Covariance matrix\n",
        "\n",
        "        # Step 3: Compute the eigenvalues and eigenvectors\n",
        "        eigenvalues, eigenvectors = np.linalg.eigh(covariance_matrix)  # Eigen decomposition using eigh for symmetric matrices\n",
        "\n",
        "        # Step 4: Sort eigenvectors by eigenvalues in descending order\n",
        "        sorted_indices = np.argsort(eigenvalues)[::-1]  # Indices of sorted eigenvalues\n",
        "        self.components = eigenvectors[:, sorted_indices[:self.n_components]]  # Top components\n",
        "\n",
        "    def _encode(self, X):\n",
        "        \"\"\"\n",
        "        Project the data onto the principal components (latent space).\n",
        "\n",
        "        Parameters:\n",
        "        X (np.ndarray): Input data matrix with shape (n_samples, n_features).\n",
        "\n",
        "        Returns:\n",
        "        np.ndarray: Transformed data in the latent space.\n",
        "        \"\"\"\n",
        "        X_centered = X - self.mean  # Center the data\n",
        "        return np.dot(X_centered, self.components)  # Project onto the principal components\n",
        "\n",
        "    def _decode(self, Z):\n",
        "        \"\"\"\n",
        "        Reconstruct the original data from the latent representation.\n",
        "\n",
        "        Parameters:\n",
        "        Z (np.ndarray): Latent representation of the data.\n",
        "\n",
        "        Returns:\n",
        "        np.ndarray: Reconstructed data in the original space.\n",
        "        \"\"\"\n",
        "        return np.dot(Z, self.components.T) + self.mean  # Project back to original space\n",
        "\n",
        "    def transform(self, X):\n",
        "        \"\"\"\n",
        "        Transform the data using the encoder.\n",
        "\n",
        "        Parameters:\n",
        "        X (np.ndarray): Input data matrix with shape (n_samples, n_features).\n",
        "\n",
        "        Returns:\n",
        "        np.ndarray: Transformed data in the latent space.\n",
        "        \"\"\"\n",
        "        return self._encode(X)  # Encode the data to latent space\n",
        "\n",
        "    def fit_transform(self, X):\n",
        "        \"\"\"\n",
        "        Fit the PCA model and transform the data in one step.\n",
        "\n",
        "        Parameters:\n",
        "        X (np.ndarray): Input data matrix with shape (n_samples, n_features).\n",
        "\n",
        "        Returns:\n",
        "        np.ndarray: Transformed data in the latent space.\n",
        "        \"\"\"\n",
        "        self.fit(X)  # Fit the model\n",
        "        return self.transform(X)  # Transform the data"
      ]
    },
    {
      "cell_type": "code",
      "execution_count": null,
      "metadata": {
        "colab": {
          "base_uri": "https://localhost:8080/"
        },
        "id": "73Cc6BoCgsRX",
        "outputId": "65253f8e-7d5e-498d-dd50-9684d077c9a7"
      },
      "outputs": [
        {
          "name": "stdout",
          "output_type": "stream",
          "text": [
            "Original Data Shape: (27097, 1004)\n",
            "Reduced Data Shape: (27097, 2)\n",
            "Reconstructed Data Shape: (27097, 1004)\n",
            "Reconstructed Data:\n",
            " [[0.23405211 0.22989363 0.33168709 ... 0.24791748 0.36568574 0.17303996]\n",
            " [0.28420048 0.192248   0.20963985 ... 0.19645512 0.22256865 0.30349578]\n",
            " [0.1651022  0.34325704 0.30716904 ... 0.33306012 0.34516367 0.16872342]\n",
            " ...\n",
            " [0.21936379 0.26889721 0.28009107 ... 0.2695241  0.3089194  0.21432839]\n",
            " [0.14112689 0.36577753 0.35139902 ... 0.35871977 0.39763348 0.11920528]\n",
            " [0.15470422 0.34608316 0.34802045 ... 0.3425677  0.39240241 0.12752477]]\n"
          ]
        }
      ],
      "source": [
        "    # Create dummy data (e.g., 100 samples, 5 features)\n",
        "    np.random.seed(0)\n",
        "\n",
        "    # Create and fit the PCA model\n",
        "    pca = SimplePCA(n_components=2)  # Reduce to 2 dimensions\n",
        "    reduced_data = pca.fit_transform(data)  # Fit and transform the data\n",
        "\n",
        "    # Reconstruct the original data from the reduced representation\n",
        "    reconstructed_data = pca._decode(reduced_data)\n",
        "\n",
        "    print(\"Original Data Shape:\", data.shape)\n",
        "    print(\"Reduced Data Shape:\", reduced_data.shape)\n",
        "    print(\"Reconstructed Data Shape:\", reconstructed_data.shape)\n",
        "    print(\"Reconstructed Data:\\n\", reconstructed_data)"
      ]
    },
    {
      "cell_type": "markdown",
      "metadata": {
        "id": "fnjUdft6i4Ra"
      },
      "source": [
        "### PCA to Sequence Predictor"
      ]
    },
    {
      "cell_type": "code",
      "execution_count": null,
      "metadata": {
        "id": "4sfWX7-kakmJ"
      },
      "outputs": [],
      "source": [
        "from sklearn.preprocessing import LabelBinarizer\n",
        "\n",
        "def softmax(x):\n",
        "    e_x = np.exp(x - np.max(x, axis=-1, keepdims=True))  # Subtract max for numerical stability\n",
        "    return e_x / np.sum(e_x, axis=-1, keepdims=True)\n",
        "\n",
        "def predict_sequence(reconstructed_data):\n",
        "    # Assuming reconstructed_data is a NumPy array where each row represents a sequence\n",
        "    # and each four columns represent a letter.\n",
        "    num_sequences = reconstructed_data.shape[0]\n",
        "    sequence_length = reconstructed_data.shape[1] // 4  # Calculate the sequence length\n",
        "    predicted_sequences = []\n",
        "\n",
        "    for i in range(num_sequences):\n",
        "        sequence_probs = reconstructed_data[i].reshape(sequence_length, 4)  # Reshape for softmax per letter\n",
        "        # Apply softmax\n",
        "        probabilities = softmax(sequence_probs)\n",
        "        # Get hard predictions (indices of max probability)\n",
        "        hard_predictions = np.argmax(probabilities, axis=1)\n",
        "\n",
        "        # Map indices back to characters\n",
        "        characters = ['A', 'C', 'G', 'T']\n",
        "        predicted_sequence = ''.join(characters[idx] for idx in hard_predictions)\n",
        "        predicted_sequences.append(predicted_sequence)\n",
        "\n",
        "    return predicted_sequences\n",
        "\n",
        "\n"
      ]
    },
    {
      "cell_type": "code",
      "execution_count": null,
      "metadata": {
        "colab": {
          "base_uri": "https://localhost:8080/"
        },
        "id": "i2_u_tpbb4B5",
        "outputId": "24103c48-df1d-4a32-e483-14c375542062"
      },
      "outputs": [
        {
          "data": {
            "text/plain": [
              "['GGGGGGGGGGGGGGGGGGGGGGGGGGGGGGGGGGGGGGGGGGGGGGGGGGGGGGGGGGGGGGGGGGGGGGGGGGGGGGGGGGGGGGGGGGGGGGGGGGGGGGGGGGGGGGGGGGGGGGGGGGGGGGGGGGGGGGGGGGGGGGGGGGGGGGGGGGGGGGGGGGGGGGGGGGGGGGGGGGGGGGGGGGGGGGGGGGGGGGGCAGGGGGGGGGGGGGGGGGGGGGGGGGGGGGGGGGGGGGGGGGGGGGGGGGG',\n",
              " 'TTTTTTTTTTTTTTTTTTTTTTTATTTTTTTTTTTTTTTTTTTTTTTTTTATTTAATTTTATTTTTTTTTTTTTTTTTTTTTTTTTTTTTTTTTTTTTTATTTTTTTTTTTTTTTTTTTTTTATTTTTTTTTTTTTTTTTTTTTTTTTTTTTTTTTTTTTTTTTTTTTTTTTTTTTTTTTTTTTTTTTTTTTTTTTTATTATAATTTTTTTTTTTTTTTTTTTATTTATATTTTTTTTTTTTTTTTTTTTT',\n",
              " 'CCCCCCCCCCCCCCCCCCCCCCCCCCCCCCCCCCCCCCCCCCCCCCCCCCCCCCCCCCCCCCCCCCCCCCCCCCCCCCCCCCCCCCCCCCCCCCCCCCCCCCCCCCCCCCCCCCCCCCCCCCCCCCCCCCCCCCCCCCCCCCCCCCCCCCCCCCCCCCCCCCCCCCCCCCCCCCCCCCCCCCCCCCCCCCCCCCCCCGCCAGGGGCGGCGGCGGGCCGGGGGGGGGGGGGGGGGGGGGGGGGGGGGCGGGG',\n",
              " 'GGGGGGGGGGGGGGGGGGGGGGGGGGGGGGGGGGGGGGGGGGGGGGGGGGGGGGGGGGGGGGGGGGGGGGGGGGGGGGGGGGGGGGGGGGGGGGGGGGGGGGGGGGGGGGGGGGGGGGGGGGGGGGGGGGGGGGGGGGGGGGGGGGGGGGGGGGGGGGGGGGGGGGGGGGGGGGGGGGGGGGGGGGGGGGGGGGGGGGGCAGGGGGGGGGGGGGGGGGGGGGGGGGGGGGGGGGGGGGGGGGGGGGGGGGG',\n",
              " 'CCCCCCCCCCCCCCCCCCCCCCCCCCCCCCCCCCCCCCCCCCCCCCCCCCCCCCCCCCCCCCCCCCCCCCCCCCCCCCCCCCCCCCCCCCCCCCCCCCCCCCCCCCCCCCCCCCCCCCCCCCCCCCCCCCCCCCCCCCCCCCCCCCCCCCCCCCCCCCCCCCCCCCCCCCCCCCCCCCCCCCCCCCCCCCCCCCCCCCCCAGGCCCCCCCCCCCCCCGCCGGGGGCGGGGCCCCCCCCCCCCCCCCCCCCC',\n",
              " 'GGGGGGGGGGGGGGGGGGGGGGGGGGGGGGGGGGGGGGGGGGGGGGGGGGGGGGGGGGGGGGGGGGGGGGGGGGGGGGGGGGGGGGGGGGGGGGGGGGGGGGGGGGGGGGGGGGGGGGGGGGGGGGGGGGGGGGGGGGGGGGGGGGGGGGGGGGGGGGGGGGGGGGGGGGGGGGGGGGGGGGGGGGGGGGGGGGGGGGGCAGGGGGGGGGGGGGGGGGGGGGGGGGGGGGGGGGGGGGGGGGGGGGGGGGG',\n",
              " 'GGGGGGGGGGGGGGGGGGGGGGGGGGGGGGGGGGGGGGGGGGGGGGGGGGGGGGGGGGGGGGGGGGGGGGGGGGGGGGGGGGGGGGGGGGGGGGGGGGGGGGGGGGGGGGGGGGGGGGGGGGGGGGGGGGGGGGGGGGGGGGGGGGGGGGGGGGGGGGGGGGGGGGGGGGGGGGGGGGGGGGGGGGGGGGGGGGGGGGGCAGGGGGGGGGGGGGGGGGGGGGGGGGGGGGGGGGGGGGGGGGGGGGGGGGG',\n",
              " 'TTTTTTTTTTTTTTTTTTTTTTTTTTTTTTTTTTTTTTTTTTTTTTTTTTTTTTTTTTTTATTTTTTTTTTTTTTTTTTTTTTTTTTTTTTTTTTTTTTATTTTTTTTTTTTTTTTTTTTTTTTTTTTTTTTTTTTTTTTTTTTTTTTTTTTTTTTTTTTTTTTTTTTTTTTTTTTTTTTTTTTTTTTTTTTTTTTTATTATATTTTTTTTTTTTTTTTTTTTTTTTTTTTTTTTTTTTTTTTTTTTTTTT',\n",
              " 'GGGGGGGGGGGGGGGGGGGGGGGGGGGGGGGGGGGGGGGGGGGGGGGGGGGGGGGGGGGGGGGGGGGGGGGGGGGGGGGGGGGGGGGGGGGGGGGGGGGGGGGGGGGGGGGGGGGGGGGGGGGGGGGGGGGGGGGGGGGGGGGGGGGGGGGGGGGGGGGGGGGGGGGGGGGGGGGGGGGGGGGGGGGGGGGGGGGGGGGCAGGGGGGGGGGGGGGGGGGGGGGGGGGGGGGGGGGGGGGGGGGGGGGGGGG',\n",
              " 'CCCCCCCCCCTCCCCCCCCCCCCCCCCCCCCCCCCCCCCCCCCCCCCCCCCCCCCCCCCCCCCCCCCCCCCCCCCCCCCCCCCCCCCCCCCCCCCCCCCCCCCCCCCCCCCCCCCCCCCCCCCCCCCCCCCCCCCCCCCCCCCCCCCCCCCCCCCCCCCCCCCCCCCCCCCCCCTCCCCCCCCCCCCCCCCCCCCCCCTCAGTTTCTCCCCCCCCCCCCCCCGGGCCGGGCCCCCCTTCCCCCCCCCCCCC']"
            ]
          },
          "execution_count": 12,
          "metadata": {},
          "output_type": "execute_result"
        }
      ],
      "source": [
        "# Example usage (assuming 'reconstructed_data' is available)\n",
        "# Assuming reconstructed_data is available from previous code execution\n",
        "predicted_seqs = predict_sequence(reconstructed_data)\n",
        "predicted_seqs[:10]"
      ]
    },
    {
      "cell_type": "markdown",
      "metadata": {
        "id": "Ag-kVIOlzhvJ"
      },
      "source": [
        "## Simple Linear AutoEncoder"
      ]
    },
    {
      "cell_type": "code",
      "execution_count": null,
      "metadata": {
        "id": "iwXTNSfkziqj"
      },
      "outputs": [],
      "source": [
        "import numpy as np\n",
        "\n",
        "class SimpleLinearAutoencoder:\n",
        "    def __init__(self, input_dim, latent_dim):\n",
        "        # Initialize the autoencoder with input and latent dimensions\n",
        "        self.input_dim = input_dim  # Dimension of input data\n",
        "        self.latent_dim = latent_dim  # Dimension of latent space (z)\n",
        "\n",
        "        # Weights for the encoder (e) and decoder (d)\n",
        "        self.weights_e = np.random.randn(input_dim, latent_dim) * 0.01  # Encoder weights\n",
        "        self.weights_d = np.random.randn(latent_dim, input_dim) * 0.01  # Decoder weights\n",
        "\n",
        "    def encode(self, X):\n",
        "        # Encode input data to latent space\n",
        "        return np.dot(X, self.weights_e)  # Linear transformation to latent space\n",
        "\n",
        "    def decode(self, z):\n",
        "        # Decode latent space back to original space\n",
        "        return np.dot(z, self.weights_d)  # Linear transformation to reconstruct input\n",
        "\n",
        "    def fit(self, X, epochs=1000, learning_rate=0.01):\n",
        "        # Train the autoencoder using gradient descent\n",
        "        for epoch in range(epochs):\n",
        "            # Encode input data\n",
        "            z = self.encode(X)  # Latent representation\n",
        "\n",
        "            # Decode to reconstruct input\n",
        "            X_hat = self.decode(z)  # Reconstructed input\n",
        "\n",
        "            # Calculate the loss (mean squared error)\n",
        "            loss = np.mean((X - X_hat) ** 2)\n",
        "\n",
        "            # Compute gradients for encoder and decoder weights\n",
        "            d_loss = -2 * (X - X_hat) / X.shape[0]  # Gradient of loss w.r.t reconstruction\n",
        "            grad_d = np.dot(z.T, d_loss)  # Gradient for decoder weights\n",
        "            grad_e = np.dot(X.T, np.dot(d_loss, self.weights_d.T))  # Gradient for encoder weights\n",
        "\n",
        "            # Update weights using gradient descent\n",
        "            self.weights_d -= learning_rate * grad_d  # Update decoder weights\n",
        "            self.weights_e -= learning_rate * grad_e  # Update encoder weights\n",
        "\n",
        "            # Print the loss every 100 epochs\n",
        "            if epoch % 100 == 0:\n",
        "                print(f'Epoch {epoch}, Loss: {loss}')\n",
        "\n",
        "    def predict(self, X):\n",
        "        # Predict using the autoencoder (reconstruct input)\n",
        "        z = self.encode(X)  # Encode input to latent space\n",
        "        return self.decode(z)  # Decode back to original space\n"
      ]
    },
    {
      "cell_type": "code",
      "execution_count": null,
      "metadata": {
        "id": "DIPLWM7Yzlmj"
      },
      "outputs": [],
      "source": [
        "execute_slow_code = False\n",
        "if execute_slow_code:\n",
        "    # Create and train the autoencoder\n",
        "    num_features = data.shape[1]\n",
        "    autoencoder = SimpleLinearAutoencoder(input_dim=num_features, latent_dim=2)\n",
        "    autoencoder.fit(data, epochs=1000, learning_rate=0.01)\n",
        "\n",
        "    # Predict (reconstruct) the input data\n",
        "    reconstructed_data = autoencoder.predict(data)\n",
        "\n",
        "    print(\"Original Data:\\n\", data)\n",
        "    print(\"Reconstructed Data:\\n\", reconstructed_data)"
      ]
    },
    {
      "cell_type": "markdown",
      "metadata": {
        "id": "nuflKwO0jZ6a"
      },
      "source": [
        "## Two Layer AutoEncoder"
      ]
    },
    {
      "cell_type": "code",
      "execution_count": null,
      "metadata": {
        "id": "IUpMjCun2S9X"
      },
      "outputs": [],
      "source": [
        "class TwoLayerAutoencoder:\n",
        "    def __init__(self, input_dim, hidden_dim):\n",
        "        # Initialize the autoencoder with input and hidden layer dimensions\n",
        "        self.input_dim = input_dim  # Dimension of input data\n",
        "        self.hidden_dim = hidden_dim  # Dimension of hidden layer\n",
        "        # Initialize weights and biases for encoder and decoder\n",
        "        self.W1 = np.random.randn(input_dim, hidden_dim) * 0.01  # Weights for encoder\n",
        "        self.b1 = np.zeros((1, hidden_dim))  # Bias for encoder\n",
        "        self.W2 = np.random.randn(hidden_dim, input_dim) * 0.01  # Weights for decoder\n",
        "        self.b2 = np.zeros((1, input_dim))  # Bias for decoder\n",
        "\n",
        "    def _sigmoid(self, x):\n",
        "        \"\"\"Sigmoid activation function.\"\"\"\n",
        "        return 1 / (1 + np.exp(-x))\n",
        "\n",
        "    def _sigmoid_derivative(self, x):\n",
        "        \"\"\"Derivative of the sigmoid function.\"\"\"\n",
        "        return x * (1 - x)\n",
        "\n",
        "    def fit(self, X, epochs=1000, learning_rate=0.01):\n",
        "        # Fit the autoencoder model to the data\n",
        "        for epoch in range(epochs):\n",
        "            # Forward pass (encoding)\n",
        "            hidden = self._sigmoid(np.dot(X, self.W1) + self.b1)  # Hidden layer output (encoder)\n",
        "            # Forward pass (decoding)\n",
        "            output = self._sigmoid(np.dot(hidden, self.W2) + self.b2)  # Reconstructed output (decoder)\n",
        "\n",
        "            # Calculate the reconstruction error\n",
        "            error = output - X  # Difference between output and original input\n",
        "            # Backpropagation\n",
        "            output_gradient = error * self._sigmoid_derivative(output)  # Gradient for output layer\n",
        "\n",
        "            # Update decoder weights and biases\n",
        "            self.W2 -= learning_rate * np.dot(hidden.T, output_gradient)  # Update W2\n",
        "            self.b2 -= learning_rate * np.sum(output_gradient, axis=0, keepdims=True)  # Update b2\n",
        "\n",
        "            # Calculate hidden layer error\n",
        "            hidden_error = np.dot(output_gradient, self.W2.T)  # Backpropagated error to hidden layer\n",
        "            hidden_gradient = hidden_error * self._sigmoid_derivative(hidden)  # Gradient for hidden layer\n",
        "\n",
        "            # Update encoder weights and biases\n",
        "            self.W1 -= learning_rate * np.dot(X.T, hidden_gradient)  # Update W1\n",
        "            self.b1 -= learning_rate * np.sum(hidden_gradient, axis=0, keepdims=True)  # Update b1\n",
        "\n",
        "            # Optional: print the error at intervals\n",
        "            if epoch % 100 == 0:\n",
        "                loss = np.mean(np.square(error))  # Mean squared error\n",
        "                print(f'Epoch {epoch}, Loss: {loss:.4f}')\n",
        "\n",
        "    def predict(self, X):\n",
        "        \"\"\"Reconstruct the input data from the encoded representation.\"\"\"\n",
        "        hidden = self._sigmoid(np.dot(X, self.W1) + self.b1)  # Encode the input\n",
        "        output = self._sigmoid(np.dot(hidden, self.W2) + self.b2)  # Decode the hidden representation\n",
        "        return output  # Return the reconstructed data\n",
        "\n"
      ]
    },
    {
      "cell_type": "code",
      "execution_count": null,
      "metadata": {
        "id": "_-JDCPJT2Tb5"
      },
      "outputs": [],
      "source": [
        "execute_slow_code = False\n",
        "if execute_slow_code:\n",
        "    # Create and fit the autoencoder model\n",
        "    num_features = data.shape[1]\n",
        "    autoencoder = TwoLayerAutoencoder(input_dim=num_features, hidden_dim=3)  # 3-dimensional hidden layer\n",
        "    autoencoder.fit(data, epochs=1000, learning_rate=0.01)  # Fit the model\n",
        "\n",
        "    # Reconstruct the original data using the autoencoder\n",
        "    reconstructed_data = autoencoder.predict(data)\n",
        "\n",
        "    print(\"Original Data Shape:\", data.shape)\n",
        "    print(\"Reconstructed Data Shape:\", reconstructed_data.shape)\n",
        "    print(\"Reconstructed Data:\\n\", reconstructed_data)"
      ]
    },
    {
      "cell_type": "markdown",
      "metadata": {
        "id": "oJ6o3YkklxMS"
      },
      "source": [
        "## Keras AutoEncoder\n",
        "\n",
        "This is a keras based autoencoder. Please change the backend runtime to the best GPU/TPU.\n",
        "\n",
        "You can read more on TPUs [here](https://chatgpt.com/share/67227788-185c-800c-900b-78579167b503)\n",
        "\n",
        "\n",
        "You can read through docs and change the backend to tensorflow, pytorch or jax."
      ]
    },
    {
      "cell_type": "code",
      "execution_count": null,
      "metadata": {
        "id": "nbcF99welzdy"
      },
      "outputs": [],
      "source": [
        "from keras.models import Model\n",
        "from keras.layers import Input, Dense\n",
        "\n",
        "def create_autoencoder(input_dim, encoding_dims):\n",
        "    \"\"\"\n",
        "    Create an autoencoder model with variable hidden layers.\n",
        "\n",
        "    Parameters:\n",
        "    input_dim (int): Dimension of the input data.\n",
        "    encoding_dims (list): List of integers representing the number of neurons in each hidden layer.\n",
        "\n",
        "    Returns:\n",
        "    Model: Compiled autoencoder model.\n",
        "    \"\"\"\n",
        "    # Encoder\n",
        "    input_layer = Input(shape=(input_dim,))\n",
        "    x = input_layer\n",
        "    for dim in encoding_dims:\n",
        "        x = Dense(dim, activation='relu')(x)\n",
        "\n",
        "    # Decoder\n",
        "    for dim in reversed(encoding_dims[:-1]):\n",
        "        x = Dense(dim, activation='relu')(x)\n",
        "    decoded = Dense(input_dim, activation='softmax')(x)\n",
        "\n",
        "    # Autoencoder\n",
        "    autoencoder = Model(input_layer, decoded)\n",
        "\n",
        "    return autoencoder"
      ]
    },
    {
      "cell_type": "markdown",
      "metadata": {
        "id": "pvUiDkw4m6q2"
      },
      "source": [
        "### Example Without Tuning\n"
      ]
    },
    {
      "cell_type": "code",
      "execution_count": null,
      "metadata": {
        "colab": {
          "background_save": true,
          "base_uri": "https://localhost:8080/"
        },
        "id": "v_uhZ-vOsUxP",
        "outputId": "6d0c2e30-00fc-4749-8dc4-a9d9e1b263f2"
      },
      "outputs": [
        {
          "name": "stdout",
          "output_type": "stream",
          "text": [
            "Epoch 1/50\n",
            "\u001b[1m678/678\u001b[0m \u001b[32m━━━━━━━━━━━━━━━━━━━━\u001b[0m\u001b[37m\u001b[0m \u001b[1m11s\u001b[0m 13ms/step - accuracy: 0.7414 - f1_score: 0.8715 - loss: 379726420975045050368.0000 - precision_1: 0.2642 - recall_1: 0.0010 - val_accuracy: 0.7492 - val_f1_score: 0.8896 - val_loss: 7688467033803385208832.0000 - val_precision_1: 0.1804 - val_recall_1: 7.1890e-04\n",
            "Epoch 2/50\n",
            "\u001b[1m678/678\u001b[0m \u001b[32m━━━━━━━━━━━━━━━━━━━━\u001b[0m\u001b[37m\u001b[0m \u001b[1m6s\u001b[0m 9ms/step - accuracy: 0.7493 - f1_score: 0.8713 - loss: 15634427376301678526464.0000 - precision_1: 0.2691 - recall_1: 0.0011 - val_accuracy: 0.7493 - val_f1_score: 0.8896 - val_loss: 35397347315210350755840.0000 - val_precision_1: 0.3201 - val_recall_1: 0.0013\n",
            "Epoch 3/50\n",
            "\u001b[1m678/678\u001b[0m \u001b[32m━━━━━━━━━━━━━━━━━━━━\u001b[0m\u001b[37m\u001b[0m \u001b[1m12s\u001b[0m 11ms/step - accuracy: 0.7493 - f1_score: 0.8727 - loss: 45814736203271729315840.0000 - precision_1: 0.2670 - recall_1: 0.0011 - val_accuracy: 0.7493 - val_f1_score: 0.8896 - val_loss: 60274974951626210541568.0000 - val_precision_1: 0.3373 - val_recall_1: 0.0013\n",
            "Epoch 4/50\n",
            "\u001b[1m678/678\u001b[0m \u001b[32m━━━━━━━━━━━━━━━━━━━━\u001b[0m\u001b[37m\u001b[0m \u001b[1m8s\u001b[0m 12ms/step - accuracy: 0.7493 - f1_score: 0.8747 - loss: 72284647516741446926336.0000 - precision_1: 0.2690 - recall_1: 0.0011 - val_accuracy: 0.7493 - val_f1_score: 0.8896 - val_loss: 91171744554816030900224.0000 - val_precision_1: 0.3072 - val_recall_1: 0.0012\n",
            "Epoch 5/50\n",
            "\u001b[1m674/678\u001b[0m \u001b[32m━━━━━━━━━━━━━━━━━━━\u001b[0m\u001b[37m━\u001b[0m \u001b[1m0s\u001b[0m 8ms/step - accuracy: 0.7493 - f1_score: 0.8741 - loss: 103647418084174174617600.0000 - precision_1: 0.2685 - recall_1: 0.0011Epoch 5: loss = 1.1188014231819552e+23, val_loss = 1.3014580565808776e+23\n",
            "\u001b[1m678/678\u001b[0m \u001b[32m━━━━━━━━━━━━━━━━━━━━\u001b[0m\u001b[37m\u001b[0m \u001b[1m7s\u001b[0m 10ms/step - accuracy: 0.7493 - f1_score: 0.8741 - loss: 103707910434369015119872.0000 - precision_1: 0.2685 - recall_1: 0.0011 - val_accuracy: 0.7494 - val_f1_score: 0.8896 - val_loss: 130145805658087755874304.0000 - val_precision_1: 0.3480 - val_recall_1: 0.0014\n",
            "Epoch 6/50\n",
            "\u001b[1m678/678\u001b[0m \u001b[32m━━━━━━━━━━━━━━━━━━━━\u001b[0m\u001b[37m\u001b[0m \u001b[1m9s\u001b[0m 9ms/step - accuracy: 0.7493 - f1_score: 0.8710 - loss: 139222882764647028490240.0000 - precision_1: 0.2769 - recall_1: 0.0011 - val_accuracy: 0.7493 - val_f1_score: 0.8896 - val_loss: 147502210247612400926720.0000 - val_precision_1: 0.3371 - val_recall_1: 0.0013\n",
            "Epoch 7/50\n",
            "\u001b[1m678/678\u001b[0m \u001b[32m━━━━━━━━━━━━━━━━━━━━\u001b[0m\u001b[37m\u001b[0m \u001b[1m12s\u001b[0m 11ms/step - accuracy: 0.7493 - f1_score: 0.8723 - loss: 180735037509915943895040.0000 - precision_1: 0.2712 - recall_1: 0.0011 - val_accuracy: 0.7492 - val_f1_score: 0.8896 - val_loss: 184086057906251273076736.0000 - val_precision_1: 0.2299 - val_recall_1: 9.1589e-04\n",
            "Epoch 8/50\n",
            "\u001b[1m678/678\u001b[0m \u001b[32m━━━━━━━━━━━━━━━━━━━━\u001b[0m\u001b[37m\u001b[0m \u001b[1m12s\u001b[0m 15ms/step - accuracy: 0.7493 - f1_score: 0.8722 - loss: 225546484306200210964480.0000 - precision_1: 0.2715 - recall_1: 0.0011 - val_accuracy: 0.7493 - val_f1_score: 0.8896 - val_loss: 227746528752967717224448.0000 - val_precision_1: 0.3371 - val_recall_1: 0.0013\n",
            "Epoch 9/50\n",
            "\u001b[1m678/678\u001b[0m \u001b[32m━━━━━━━━━━━━━━━━━━━━\u001b[0m\u001b[37m\u001b[0m \u001b[1m6s\u001b[0m 9ms/step - accuracy: 0.7493 - f1_score: 0.8713 - loss: 277056495116242806374400.0000 - precision_1: 0.2707 - recall_1: 0.0011 - val_accuracy: 0.7493 - val_f1_score: 0.8896 - val_loss: 274939641161792087916544.0000 - val_precision_1: 0.3161 - val_recall_1: 0.0013\n",
            "Epoch 10/50\n",
            "\u001b[1m674/678\u001b[0m \u001b[32m━━━━━━━━━━━━━━━━━━━\u001b[0m\u001b[37m━\u001b[0m \u001b[1m0s\u001b[0m 10ms/step - accuracy: 0.7493 - f1_score: 0.8734 - loss: 335843476247386177667072.0000 - precision_1: 0.2726 - recall_1: 0.0011Epoch 10: loss = 3.7164485949956645e+23, val_loss = 4.505559954216298e+23\n",
            "\u001b[1m678/678\u001b[0m \u001b[32m━━━━━━━━━━━━━━━━━━━━\u001b[0m\u001b[37m\u001b[0m \u001b[1m7s\u001b[0m 11ms/step - accuracy: 0.7493 - f1_score: 0.8734 - loss: 336105837947278273282048.0000 - precision_1: 0.2726 - recall_1: 0.0011 - val_accuracy: 0.7493 - val_f1_score: 0.8896 - val_loss: 450555995421629782949888.0000 - val_precision_1: 0.2956 - val_recall_1: 0.0012\n",
            "Epoch 11/50\n",
            "\u001b[1m678/678\u001b[0m \u001b[32m━━━━━━━━━━━━━━━━━━━━\u001b[0m\u001b[37m\u001b[0m \u001b[1m6s\u001b[0m 9ms/step - accuracy: 0.7493 - f1_score: 0.8717 - loss: 776054018777802570989568.0000 - precision_1: 0.2748 - recall_1: 0.0011 - val_accuracy: 0.7493 - val_f1_score: 0.8896 - val_loss: 2871875874738324660813824.0000 - val_precision_1: 0.3404 - val_recall_1: 0.0014\n",
            "Epoch 12/50\n",
            "\u001b[1m678/678\u001b[0m \u001b[32m━━━━━━━━━━━━━━━━━━━━\u001b[0m\u001b[37m\u001b[0m \u001b[1m9s\u001b[0m 13ms/step - accuracy: 0.7493 - f1_score: 0.8698 - loss: 4359457922100034170519552.0000 - precision_1: 0.2679 - recall_1: 0.0011 - val_accuracy: 0.7492 - val_f1_score: 0.8896 - val_loss: 14557613561884853028257792.0000 - val_precision_1: 0.1875 - val_recall_1: 7.4683e-04\n",
            "Epoch 13/50\n",
            "\u001b[1m678/678\u001b[0m \u001b[32m━━━━━━━━━━━━━━━━━━━━\u001b[0m\u001b[37m\u001b[0m \u001b[1m9s\u001b[0m 10ms/step - accuracy: 0.7492 - f1_score: 0.8726 - loss: 17946567525679944765014016.0000 - precision_1: 0.2379 - recall_1: 9.4636e-04 - val_accuracy: 0.7490 - val_f1_score: 0.8896 - val_loss: 31188253776029111757570048.0000 - val_precision_1: 0.0441 - val_recall_1: 1.7568e-04\n",
            "Epoch 14/50\n",
            "\u001b[1m678/678\u001b[0m \u001b[32m━━━━━━━━━━━━━━━━━━━━\u001b[0m\u001b[37m\u001b[0m \u001b[1m9s\u001b[0m 9ms/step - accuracy: 0.7492 - f1_score: 0.8728 - loss: 29317564847828207700803584.0000 - precision_1: 0.2379 - recall_1: 9.4768e-04 - val_accuracy: 0.7492 - val_f1_score: 0.8896 - val_loss: 33516032269789455580135424.0000 - val_precision_1: 0.2022 - val_recall_1: 8.0563e-04\n",
            "Epoch 15/50\n",
            "\u001b[1m672/678\u001b[0m \u001b[32m━━━━━━━━━━━━━━━━━━━\u001b[0m\u001b[37m━\u001b[0m \u001b[1m0s\u001b[0m 9ms/step - accuracy: 0.7493 - f1_score: 0.8720 - loss: 31440478413591951670509568.0000 - precision_1: 0.2579 - recall_1: 0.0010Epoch 15: loss = 3.201762400126911e+25, val_loss = 3.585093812429128e+25\n",
            "\u001b[1m678/678\u001b[0m \u001b[32m━━━━━━━━━━━━━━━━━━━━\u001b[0m\u001b[37m\u001b[0m \u001b[1m11s\u001b[0m 10ms/step - accuracy: 0.7493 - f1_score: 0.8720 - loss: 31446379065852529513332736.0000 - precision_1: 0.2581 - recall_1: 0.0010 - val_accuracy: 0.7494 - val_f1_score: 0.8896 - val_loss: 35850938124291278930706432.0000 - val_precision_1: 0.4013 - val_recall_1: 0.0016\n",
            "Epoch 16/50\n",
            "\u001b[1m678/678\u001b[0m \u001b[32m━━━━━━━━━━━━━━━━━━━━\u001b[0m\u001b[37m\u001b[0m \u001b[1m11s\u001b[0m 10ms/step - accuracy: 0.7493 - f1_score: 0.8732 - loss: 33606661123423590607224832.0000 - precision_1: 0.3019 - recall_1: 0.0012 - val_accuracy: 0.7493 - val_f1_score: 0.8896 - val_loss: 38193312604299945435987968.0000 - val_precision_1: 0.3057 - val_recall_1: 0.0012\n",
            "Epoch 17/50\n",
            "\u001b[1m678/678\u001b[0m \u001b[32m━━━━━━━━━━━━━━━━━━━━\u001b[0m\u001b[37m\u001b[0m \u001b[1m7s\u001b[0m 10ms/step - accuracy: 0.7493 - f1_score: 0.8723 - loss: 35866601715852867553722368.0000 - precision_1: 0.2739 - recall_1: 0.0011 - val_accuracy: 0.7493 - val_f1_score: 0.8896 - val_loss: 40546127941454331547484160.0000 - val_precision_1: 0.3057 - val_recall_1: 0.0012\n",
            "Epoch 18/50\n",
            "\u001b[1m678/678\u001b[0m \u001b[32m━━━━━━━━━━━━━━━━━━━━\u001b[0m\u001b[37m\u001b[0m \u001b[1m8s\u001b[0m 12ms/step - accuracy: 0.7493 - f1_score: 0.8731 - loss: 37992549771016736744669184.0000 - precision_1: 0.2750 - recall_1: 0.0011 - val_accuracy: 0.7493 - val_f1_score: 0.8896 - val_loss: 42922405231227466994941952.0000 - val_precision_1: 0.3057 - val_recall_1: 0.0012\n",
            "Epoch 19/50\n",
            "\u001b[1m678/678\u001b[0m \u001b[32m━━━━━━━━━━━━━━━━━━━━\u001b[0m\u001b[37m\u001b[0m \u001b[1m10s\u001b[0m 12ms/step - accuracy: 0.7493 - f1_score: 0.8724 - loss: 40165792972142588012265472.0000 - precision_1: 0.2705 - recall_1: 0.0011 - val_accuracy: 0.7493 - val_f1_score: 0.8896 - val_loss: 45298705579430694579339264.0000 - val_precision_1: 0.3057 - val_recall_1: 0.0012\n",
            "Epoch 20/50\n",
            "\u001b[1m673/678\u001b[0m \u001b[32m━━━━━━━━━━━━━━━━━━━\u001b[0m\u001b[37m━\u001b[0m \u001b[1m0s\u001b[0m 8ms/step - accuracy: 0.7493 - f1_score: 0.8683 - loss: 42384807157001331104808960.0000 - precision_1: 0.2690 - recall_1: 0.0011Epoch 20: loss = 4.2919361518455305e+25, val_loss = 4.767530568722512e+25\n",
            "\u001b[1m678/678\u001b[0m \u001b[32m━━━━━━━━━━━━━━━━━━━━\u001b[0m\u001b[37m\u001b[0m \u001b[1m8s\u001b[0m 9ms/step - accuracy: 0.7493 - f1_score: 0.8683 - loss: 42389511076740127040471040.0000 - precision_1: 0.2690 - recall_1: 0.0011 - val_accuracy: 0.7493 - val_f1_score: 0.8896 - val_loss: 47675305687225119943950336.0000 - val_precision_1: 0.3057 - val_recall_1: 0.0012\n",
            "Epoch 21/50\n",
            "\u001b[1m678/678\u001b[0m \u001b[32m━━━━━━━━━━━━━━━━━━━━\u001b[0m\u001b[37m\u001b[0m \u001b[1m8s\u001b[0m 12ms/step - accuracy: 0.7493 - f1_score: 0.8731 - loss: 44561605968047389888479232.0000 - precision_1: 0.2713 - recall_1: 0.0011 - val_accuracy: 0.7493 - val_f1_score: 0.8896 - val_loss: 50051896571647508453785600.0000 - val_precision_1: 0.3057 - val_recall_1: 0.0012\n",
            "Epoch 22/50\n",
            "\u001b[1m678/678\u001b[0m \u001b[32m━━━━━━━━━━━━━━━━━━━━\u001b[0m\u001b[37m\u001b[0m \u001b[1m6s\u001b[0m 9ms/step - accuracy: 0.7493 - f1_score: 0.8701 - loss: 46712321082973223366164480.0000 - precision_1: 0.2673 - recall_1: 0.0011 - val_accuracy: 0.7493 - val_f1_score: 0.8896 - val_loss: 52428473621011841681457152.0000 - val_precision_1: 0.3057 - val_recall_1: 0.0012\n",
            "Epoch 23/50\n",
            "\u001b[1m678/678\u001b[0m \u001b[32m━━━━━━━━━━━━━━━━━━━━\u001b[0m\u001b[37m\u001b[0m \u001b[1m11s\u001b[0m 11ms/step - accuracy: 0.7493 - f1_score: 0.8743 - loss: 48944829061121884995715072.0000 - precision_1: 0.2687 - recall_1: 0.0011 - val_accuracy: 0.7493 - val_f1_score: 0.8896 - val_loss: 54804875426307474668388352.0000 - val_precision_1: 0.3057 - val_recall_1: 0.0012\n",
            "Epoch 24/50\n",
            "\u001b[1m678/678\u001b[0m \u001b[32m━━━━━━━━━━━━━━━━━━━━\u001b[0m\u001b[37m\u001b[0m \u001b[1m8s\u001b[0m 12ms/step - accuracy: 0.7493 - f1_score: 0.8724 - loss: 51196950539906918306021376.0000 - precision_1: 0.2695 - recall_1: 0.0011 - val_accuracy: 0.7493 - val_f1_score: 0.8896 - val_loss: 57180912908407651891675136.0000 - val_precision_1: 0.3057 - val_recall_1: 0.0012\n",
            "Epoch 25/50\n",
            "\u001b[1m677/678\u001b[0m \u001b[32m━━━━━━━━━━━━━━━━━━━\u001b[0m\u001b[37m━\u001b[0m \u001b[1m0s\u001b[0m 8ms/step - accuracy: 0.7493 - f1_score: 0.8755 - loss: 53250603499202910550491136.0000 - precision_1: 0.2722 - recall_1: 0.0011Epoch 25: loss = 5.3891577127218115e+25, val_loss = 5.955760986160846e+25\n",
            "\u001b[1m678/678\u001b[0m \u001b[32m━━━━━━━━━━━━━━━━━━━━\u001b[0m\u001b[37m\u001b[0m \u001b[1m7s\u001b[0m 10ms/step - accuracy: 0.7493 - f1_score: 0.8755 - loss: 53252489678784447352143872.0000 - precision_1: 0.2722 - recall_1: 0.0011 - val_accuracy: 0.7493 - val_f1_score: 0.8896 - val_loss: 59557609861608464231432192.0000 - val_precision_1: 0.3057 - val_recall_1: 0.0012\n",
            "Epoch 26/50\n",
            "\u001b[1m678/678\u001b[0m \u001b[32m━━━━━━━━━━━━━━━━━━━━\u001b[0m\u001b[37m\u001b[0m \u001b[1m8s\u001b[0m 12ms/step - accuracy: 0.7493 - f1_score: 0.8722 - loss: 55542832811290206853398528.0000 - precision_1: 0.2717 - recall_1: 0.0011 - val_accuracy: 0.7493 - val_f1_score: 0.8896 - val_loss: 61934209969402889596043264.0000 - val_precision_1: 0.3057 - val_recall_1: 0.0012\n",
            "Epoch 27/50\n",
            "\u001b[1m678/678\u001b[0m \u001b[32m━━━━━━━━━━━━━━━━━━━━\u001b[0m\u001b[37m\u001b[0m \u001b[1m10s\u001b[0m 12ms/step - accuracy: 0.7493 - f1_score: 0.8732 - loss: 57746591538799992146755584.0000 - precision_1: 0.2702 - recall_1: 0.0011 - val_accuracy: 0.7493 - val_f1_score: 0.8896 - val_loss: 64310413472199730205294592.0000 - val_precision_1: 0.3057 - val_recall_1: 0.0012\n",
            "Epoch 28/50\n",
            "\u001b[1m678/678\u001b[0m \u001b[32m━━━━━━━━━━━━━━━━━━━━\u001b[0m\u001b[37m\u001b[0m \u001b[1m9s\u001b[0m 9ms/step - accuracy: 0.7493 - f1_score: 0.8738 - loss: 59906774445121657051807744.0000 - precision_1: 0.2756 - recall_1: 0.0011 - val_accuracy: 0.7493 - val_f1_score: 0.8896 - val_loss: 66686547799706294403727360.0000 - val_precision_1: 0.3057 - val_recall_1: 0.0012\n",
            "Epoch 29/50\n",
            "\u001b[1m678/678\u001b[0m \u001b[32m━━━━━━━━━━━━━━━━━━━━\u001b[0m\u001b[37m\u001b[0m \u001b[1m8s\u001b[0m 12ms/step - accuracy: 0.7493 - f1_score: 0.8747 - loss: 62138489213275149170638848.0000 - precision_1: 0.2719 - recall_1: 0.0011 - val_accuracy: 0.7493 - val_f1_score: 0.8896 - val_loss: 69063392326859696419897344.0000 - val_precision_1: 0.3057 - val_recall_1: 0.0012\n",
            "Epoch 30/50\n",
            "\u001b[1m675/678\u001b[0m \u001b[32m━━━━━━━━━━━━━━━━━━━\u001b[0m\u001b[37m━\u001b[0m \u001b[1m0s\u001b[0m 8ms/step - accuracy: 0.7493 - f1_score: 0.8717 - loss: 64416113315742085936054272.0000 - precision_1: 0.2710 - recall_1: 0.0011Epoch 30: loss = 6.486026940786285e+25, val_loss = 7.143975262698116e+25\n",
            "\u001b[1m678/678\u001b[0m \u001b[32m━━━━━━━━━━━━━━━━━━━━\u001b[0m\u001b[37m\u001b[0m \u001b[1m9s\u001b[0m 9ms/step - accuracy: 0.7493 - f1_score: 0.8717 - loss: 64418723530028515837607936.0000 - precision_1: 0.2710 - recall_1: 0.0011 - val_accuracy: 0.7493 - val_f1_score: 0.8896 - val_loss: 71439752626981163560337408.0000 - val_precision_1: 0.3057 - val_recall_1: 0.0012\n",
            "Epoch 31/50\n",
            "\u001b[1m678/678\u001b[0m \u001b[32m━━━━━━━━━━━━━━━━━━━━\u001b[0m\u001b[37m\u001b[0m \u001b[1m12s\u001b[0m 13ms/step - accuracy: 0.7493 - f1_score: 0.8715 - loss: 66566353427008021392785408.0000 - precision_1: 0.2667 - recall_1: 0.0011 - val_accuracy: 0.7493 - val_f1_score: 0.8896 - val_loss: 73816371181519662634500096.0000 - val_precision_1: 0.3057 - val_recall_1: 0.0012\n",
            "Epoch 32/50\n",
            "\u001b[1m678/678\u001b[0m \u001b[32m━━━━━━━━━━━━━━━━━━━━\u001b[0m\u001b[37m\u001b[0m \u001b[1m8s\u001b[0m 9ms/step - accuracy: 0.7493 - f1_score: 0.8743 - loss: 68603358199777490766921728.0000 - precision_1: 0.2668 - recall_1: 0.0011 - val_accuracy: 0.7493 - val_f1_score: 0.8896 - val_loss: 76193137310010751385075712.0000 - val_precision_1: 0.3057 - val_recall_1: 0.0012\n",
            "Epoch 33/50\n",
            "\u001b[1m678/678\u001b[0m \u001b[32m━━━━━━━━━━━━━━━━━━━━\u001b[0m\u001b[37m\u001b[0m \u001b[1m11s\u001b[0m 10ms/step - accuracy: 0.7493 - f1_score: 0.8713 - loss: 70986921953459741487267840.0000 - precision_1: 0.2775 - recall_1: 0.0011 - val_accuracy: 0.7493 - val_f1_score: 0.8896 - val_loss: 78569718971061103040135168.0000 - val_precision_1: 0.3057 - val_recall_1: 0.0012\n",
            "Epoch 34/50\n",
            "\u001b[1m678/678\u001b[0m \u001b[32m━━━━━━━━━━━━━━━━━━━━\u001b[0m\u001b[37m\u001b[0m \u001b[1m11s\u001b[0m 12ms/step - accuracy: 0.7493 - f1_score: 0.8747 - loss: 73046542434463578771685376.0000 - precision_1: 0.2677 - recall_1: 0.0011 - val_accuracy: 0.7493 - val_f1_score: 0.8896 - val_loss: 80946415924261915379892224.0000 - val_precision_1: 0.3057 - val_recall_1: 0.0012\n",
            "Epoch 35/50\n",
            "\u001b[1m676/678\u001b[0m \u001b[32m━━━━━━━━━━━━━━━━━━━\u001b[0m\u001b[37m━\u001b[0m \u001b[1m0s\u001b[0m 8ms/step - accuracy: 0.7493 - f1_score: 0.8730 - loss: 75176675594689170817155072.0000 - precision_1: 0.2741 - recall_1: 0.0011Epoch 35: loss = 7.583369327836248e+25, val_loss = 8.332264248548885e+25\n",
            "\u001b[1m678/678\u001b[0m \u001b[32m━━━━━━━━━━━━━━━━━━━━\u001b[0m\u001b[37m\u001b[0m \u001b[1m6s\u001b[0m 9ms/step - accuracy: 0.7493 - f1_score: 0.8730 - loss: 75179580956880780071534592.0000 - precision_1: 0.2741 - recall_1: 0.0011 - val_accuracy: 0.7493 - val_f1_score: 0.8896 - val_loss: 83322642485488848126083072.0000 - val_precision_1: 0.3057 - val_recall_1: 0.0012\n",
            "Epoch 36/50\n",
            "\u001b[1m678/678\u001b[0m \u001b[32m━━━━━━━━━━━━━━━━━━━━\u001b[0m\u001b[37m\u001b[0m \u001b[1m10s\u001b[0m 9ms/step - accuracy: 0.7493 - f1_score: 0.8749 - loss: 77543738735797488343580672.0000 - precision_1: 0.2701 - recall_1: 0.0011 - val_accuracy: 0.7493 - val_f1_score: 0.8896 - val_loss: 85699099631016702241669120.0000 - val_precision_1: 0.3057 - val_recall_1: 0.0012\n",
            "Epoch 37/50\n",
            "\u001b[1m678/678\u001b[0m \u001b[32m━━━━━━━━━━━━━━━━━━━━\u001b[0m\u001b[37m\u001b[0m \u001b[1m12s\u001b[0m 11ms/step - accuracy: 0.7493 - f1_score: 0.8740 - loss: 79716193338614188527845376.0000 - precision_1: 0.2712 - recall_1: 0.0011 - val_accuracy: 0.7493 - val_f1_score: 0.8896 - val_loss: 88075649010264924905013248.0000 - val_precision_1: 0.3057 - val_recall_1: 0.0012\n",
            "Epoch 38/50\n",
            "\u001b[1m678/678\u001b[0m \u001b[32m━━━━━━━━━━━━━━━━━━━━\u001b[0m\u001b[37m\u001b[0m \u001b[1m11s\u001b[0m 12ms/step - accuracy: 0.7493 - f1_score: 0.8742 - loss: 81817923124652286291214336.0000 - precision_1: 0.2728 - recall_1: 0.0011 - val_accuracy: 0.7493 - val_f1_score: 0.8896 - val_loss: 90451783337771489103446016.0000 - val_precision_1: 0.3057 - val_recall_1: 0.0012\n",
            "Epoch 39/50\n",
            "\u001b[1m678/678\u001b[0m \u001b[32m━━━━━━━━━━━━━━━━━━━━\u001b[0m\u001b[37m\u001b[0m \u001b[1m6s\u001b[0m 9ms/step - accuracy: 0.7493 - f1_score: 0.8745 - loss: 83969007174459593959931904.0000 - precision_1: 0.2676 - recall_1: 0.0011 - val_accuracy: 0.7493 - val_f1_score: 0.8896 - val_loss: 92827936112022127011430400.0000 - val_precision_1: 0.3057 - val_recall_1: 0.0012\n",
            "Epoch 40/50\n",
            "\u001b[1m677/678\u001b[0m \u001b[32m━━━━━━━━━━━━━━━━━━━\u001b[0m\u001b[37m━\u001b[0m \u001b[1m0s\u001b[0m 11ms/step - accuracy: 0.7493 - f1_score: 0.8747 - loss: 86319924802817397201305600.0000 - precision_1: 0.2706 - recall_1: 0.0011Epoch 40: loss = 8.680292512627137e+25, val_loss = 9.520441170429405e+25\n",
            "\u001b[1m678/678\u001b[0m \u001b[32m━━━━━━━━━━━━━━━━━━━━\u001b[0m\u001b[37m\u001b[0m \u001b[1m8s\u001b[0m 12ms/step - accuracy: 0.7493 - f1_score: 0.8747 - loss: 86321345202111072836780032.0000 - precision_1: 0.2706 - recall_1: 0.0011 - val_accuracy: 0.7493 - val_f1_score: 0.8896 - val_loss: 95204411704294054836568064.0000 - val_precision_1: 0.3057 - val_recall_1: 0.0012\n",
            "Epoch 41/50\n",
            "\u001b[1m678/678\u001b[0m \u001b[32m━━━━━━━━━━━━━━━━━━━━\u001b[0m\u001b[37m\u001b[0m \u001b[1m6s\u001b[0m 9ms/step - accuracy: 0.7493 - f1_score: 0.8722 - loss: 88382556714791267570024448.0000 - precision_1: 0.2701 - recall_1: 0.0011 - val_accuracy: 0.7493 - val_f1_score: 0.8896 - val_loss: 97581210114587272578859008.0000 - val_precision_1: 0.3057 - val_recall_1: 0.0012\n",
            "Epoch 42/50\n",
            "\u001b[1m678/678\u001b[0m \u001b[32m━━━━━━━━━━━━━━━━━━━━\u001b[0m\u001b[37m\u001b[0m \u001b[1m11s\u001b[0m 10ms/step - accuracy: 0.7493 - f1_score: 0.8702 - loss: 90706237725524238658437120.0000 - precision_1: 0.2680 - recall_1: 0.0011 - val_accuracy: 0.7493 - val_f1_score: 0.8896 - val_loss: 99957787163951605806530560.0000 - val_precision_1: 0.3057 - val_recall_1: 0.0012\n",
            "Epoch 43/50\n",
            "\u001b[1m678/678\u001b[0m \u001b[32m━━━━━━━━━━━━━━━━━━━━\u001b[0m\u001b[37m\u001b[0m \u001b[1m11s\u001b[0m 11ms/step - accuracy: 0.7493 - f1_score: 0.8766 - loss: 92854185828839015703379968.0000 - precision_1: 0.2704 - recall_1: 0.0011 - val_accuracy: 0.7493 - val_f1_score: 0.8896 - val_loss: 102334087512154833390927872.0000 - val_precision_1: 0.3057 - val_recall_1: 0.0012\n",
            "Epoch 44/50\n",
            "\u001b[1m678/678\u001b[0m \u001b[32m━━━━━━━━━━━━━━━━━━━━\u001b[0m\u001b[37m\u001b[0m \u001b[1m7s\u001b[0m 10ms/step - accuracy: 0.7493 - f1_score: 0.8735 - loss: 95105371135362308253941760.0000 - precision_1: 0.2752 - recall_1: 0.0011 - val_accuracy: 0.7493 - val_f1_score: 0.8896 - val_loss: 104710397083730097830100992.0000 - val_precision_1: 0.3057 - val_recall_1: 0.0012\n",
            "Epoch 45/50\n",
            "\u001b[1m678/678\u001b[0m \u001b[32m━━━━━━━━━━━━━━━━━━━━\u001b[0m\u001b[37m\u001b[0m \u001b[1m0s\u001b[0m 11ms/step - accuracy: 0.7493 - f1_score: 0.8717 - loss: 97204232452696944182034432.0000 - precision_1: 0.2697 - recall_1: 0.0011Epoch 45: loss = 9.777478102352474e+25, val_loss = 1.0708667898518925e+26\n",
            "\u001b[1m678/678\u001b[0m \u001b[32m━━━━━━━━━━━━━━━━━━━━\u001b[0m\u001b[37m\u001b[0m \u001b[1m8s\u001b[0m 12ms/step - accuracy: 0.7493 - f1_score: 0.8717 - loss: 97205071779552297966632960.0000 - precision_1: 0.2697 - recall_1: 0.0011 - val_accuracy: 0.7493 - val_f1_score: 0.8896 - val_loss: 107086678985189251704946688.0000 - val_precision_1: 0.3057 - val_recall_1: 0.0012\n",
            "Epoch 46/50\n",
            "\u001b[1m678/678\u001b[0m \u001b[32m━━━━━━━━━━━━━━━━━━━━\u001b[0m\u001b[37m\u001b[0m \u001b[1m6s\u001b[0m 9ms/step - accuracy: 0.7493 - f1_score: 0.8709 - loss: 99513294418751500450791424.0000 - precision_1: 0.2758 - recall_1: 0.0011 - val_accuracy: 0.7493 - val_f1_score: 0.8896 - val_loss: 109463892447224127912148992.0000 - val_precision_1: 0.3057 - val_recall_1: 0.0012\n",
            "Epoch 47/50\n",
            "\u001b[1m678/678\u001b[0m \u001b[32m━━━━━━━━━━━━━━━━━━━━\u001b[0m\u001b[37m\u001b[0m \u001b[1m8s\u001b[0m 12ms/step - accuracy: 0.7493 - f1_score: 0.8740 - loss: 101657654630343940987944960.0000 - precision_1: 0.2683 - recall_1: 0.0011 - val_accuracy: 0.7493 - val_f1_score: 0.8896 - val_loss: 111840054444846802674909184.0000 - val_precision_1: 0.3057 - val_recall_1: 0.0012\n",
            "Epoch 48/50\n",
            "\u001b[1m678/678\u001b[0m \u001b[32m━━━━━━━━━━━━━━━━━━━━\u001b[0m\u001b[37m\u001b[0m \u001b[1m6s\u001b[0m 9ms/step - accuracy: 0.7493 - f1_score: 0.8720 - loss: 103768497107954451269812224.0000 - precision_1: 0.2734 - recall_1: 0.0011 - val_accuracy: 0.7493 - val_f1_score: 0.8896 - val_loss: 114216068868516887761256448.0000 - val_precision_1: 0.3057 - val_recall_1: 0.0012\n",
            "Epoch 49/50\n",
            "\u001b[1m678/678\u001b[0m \u001b[32m━━━━━━━━━━━━━━━━━━━━\u001b[0m\u001b[37m\u001b[0m \u001b[1m11s\u001b[0m 10ms/step - accuracy: 0.7493 - f1_score: 0.8712 - loss: 106055505991468887769612288.0000 - precision_1: 0.2704 - recall_1: 0.0011 - val_accuracy: 0.7493 - val_f1_score: 0.8896 - val_loss: 116593014852762695179960320.0000 - val_precision_1: 0.3057 - val_recall_1: 0.0012\n",
            "Epoch 50/50\n",
            "\u001b[1m675/678\u001b[0m \u001b[32m━━━━━━━━━━━━━━━━━━━\u001b[0m\u001b[37m━\u001b[0m \u001b[1m0s\u001b[0m 11ms/step - accuracy: 0.7493 - f1_score: 0.8712 - loss: 108348454726575058745032704.0000 - precision_1: 0.2683 - recall_1: 0.0011Epoch 50: loss = 1.0874531797857685e+26, val_loss = 1.1896948122166259e+26\n",
            "\u001b[1m678/678\u001b[0m \u001b[32m━━━━━━━━━━━━━━━━━━━━\u001b[0m\u001b[37m\u001b[0m \u001b[1m12s\u001b[0m 12ms/step - accuracy: 0.7493 - f1_score: 0.8713 - loss: 108350797463072419858087936.0000 - precision_1: 0.2683 - recall_1: 0.0011 - val_accuracy: 0.7493 - val_f1_score: 0.8896 - val_loss: 118969481221662586150322176.0000 - val_precision_1: 0.3057 - val_recall_1: 0.0012\n"
          ]
        },
        {
          "data": {
            "text/plain": [
              "<keras.src.callbacks.history.History at 0x784865ea49a0>"
            ]
          },
          "execution_count": 18,
          "metadata": {},
          "output_type": "execute_result"
        }
      ],
      "source": [
        "from keras.optimizers import RMSprop\n",
        "from keras.callbacks import Callback\n",
        "from keras.metrics import Precision, Recall, Accuracy\n",
        "import tensorflow as tf\n",
        "\n",
        "input_dim = data.shape[1]\n",
        "encoding_dims = [128, 64, 32]  # Example hidden layers\n",
        "autoencoder = create_autoencoder(input_dim, encoding_dims)\n",
        "\n",
        "# Initialize the RMSProp optimizer with a learning rate of 0.01\n",
        "rmsprop_optimizer = RMSprop(learning_rate=0.1)\n",
        "\n",
        "# Custom callback to print progress every 5 epochs\n",
        "class PrintProgress(Callback):\n",
        "    def on_epoch_end(self, epoch, logs=None):\n",
        "        if (epoch + 1) % 5 == 0:\n",
        "            print(f\"Epoch {epoch + 1}: loss = {logs['loss']}, val_loss = {logs['val_loss']}\")\n",
        "\n",
        "# Custom metric for F1 score\n",
        "class F1Score(tf.keras.metrics.Metric):\n",
        "    def __init__(self, name='f1_score', **kwargs):\n",
        "        super(F1Score, self).__init__(name=name, **kwargs)\n",
        "        self.precision = Precision()\n",
        "        self.recall = Recall()\n",
        "\n",
        "    def update_state(self, y_true, y_pred, sample_weight=None):\n",
        "        y_true = tf.argmax(y_true, axis=-1)\n",
        "        y_pred = tf.argmax(y_pred, axis=-1)\n",
        "        self.precision.update_state(y_true, y_pred, sample_weight)\n",
        "        self.recall.update_state(y_true, y_pred, sample_weight)\n",
        "\n",
        "    def result(self):\n",
        "        precision = self.precision.result()\n",
        "        recall = self.recall.result()\n",
        "        return 2 * ((precision * recall) / (precision + recall + tf.keras.backend.epsilon()))\n",
        "\n",
        "    def reset_states(self):\n",
        "        self.precision.reset_states()\n",
        "        self.recall.reset_states()\n",
        "\n",
        "# Compile the autoencoder with the custom optimizer and additional metrics\n",
        "autoencoder.compile(optimizer=rmsprop_optimizer, loss='categorical_crossentropy', metrics=[F1Score(), Precision(), Recall(), Accuracy()])\n",
        "\n",
        "# Train the autoencoder with the custom progress callback\n",
        "autoencoder.fit(data, data, epochs=50, batch_size=32, validation_split=0.2, callbacks=[PrintProgress()])"
      ]
    },
    {
      "cell_type": "code",
      "execution_count": null,
      "metadata": {
        "colab": {
          "background_save": true,
          "base_uri": "https://localhost:8080/",
          "height": 736
        },
        "id": "PzC5cFIq0ox9",
        "outputId": "0abf1ef4-3aa2-47a8-fa8b-1480d613dfed"
      },
      "outputs": [
        {
          "name": "stdout",
          "output_type": "stream",
          "text": [
            "\u001b[1m847/847\u001b[0m \u001b[32m━━━━━━━━━━━━━━━━━━━━\u001b[0m\u001b[37m\u001b[0m \u001b[1m2s\u001b[0m 2ms/step\n"
          ]
        },
        {
          "data": {
            "image/png": "[encoded data removed]",
            "text/plain": [
              "<Figure size 1000x800 with 1 Axes>"
            ]
          },
          "metadata": {},
          "output_type": "display_data"
        }
      ],
      "source": [
        "# prompt: Display how the latent space of the autoencoder clusters. You can use the labels from the dataframe to color the clustering.\n",
        "\n",
        "import matplotlib.pyplot as plt\n",
        "\n",
        "# Assuming 'autoencoder' is your trained Keras autoencoder and 'data' is your input data\n",
        "# Get the encoder part of the autoencoder\n",
        "encoder = Model(inputs=autoencoder.input, outputs=autoencoder.layers[-3].output) # Adjusted to get the second-to-last layer\n",
        "\n",
        "# Encode the data to get the latent space representation\n",
        "latent_space = encoder.predict(data)\n",
        "\n",
        "# Assuming 'df' is your DataFrame with labels\n",
        "labels = df['labels'].values # Access labels from your dataframe\n",
        "\n",
        "# Create a scatter plot of the latent space, coloring points by their labels\n",
        "plt.figure(figsize=(10, 8))\n",
        "for label in np.unique(labels):\n",
        "    indices = np.where(labels == label)\n",
        "    plt.scatter(latent_space[indices, 0], latent_space[indices, 1], label=label)\n",
        "\n",
        "plt.xlabel(\"Latent Dimension 1\")\n",
        "plt.ylabel(\"Latent Dimension 2\")\n",
        "plt.title(\"Latent Space Clustering\")\n",
        "plt.legend()\n",
        "plt.show()"
      ]
    },
    {
      "cell_type": "markdown",
      "metadata": {
        "id": "S0g-aknXtq9K"
      },
      "source": [
        "### Hyperparameter Training"
      ]
    },
    {
      "cell_type": "code",
      "execution_count": null,
      "metadata": {
        "colab": {
          "background_save": true,
          "base_uri": "https://localhost:8080/"
        },
        "id": "3m6JZphUtpoN",
        "outputId": "4bdd5818-3c91-4680-ecfc-57ab964130b8"
      },
      "outputs": [
        {
          "name": "stdout",
          "output_type": "stream",
          "text": [
            "\u001b[2K   \u001b[90m━━━━━━━━━━━━━━━━━━━━━━━━━━━━━━━━━━━━━━━━\u001b[0m \u001b[32m362.8/362.8 kB\u001b[0m \u001b[31m6.4 MB/s\u001b[0m eta \u001b[36m0:00:00\u001b[0m\n",
            "\u001b[2K   \u001b[90m━━━━━━━━━━━━━━━━━━━━━━━━━━━━━━━━━━━━━━━━\u001b[0m \u001b[32m233.2/233.2 kB\u001b[0m \u001b[31m11.8 MB/s\u001b[0m eta \u001b[36m0:00:00\u001b[0m\n",
            "\u001b[2K   \u001b[90m━━━━━━━━━━━━━━━━━━━━━━━━━━━━━━━━━━━━━━━━\u001b[0m \u001b[32m78.6/78.6 kB\u001b[0m \u001b[31m4.9 MB/s\u001b[0m eta \u001b[36m0:00:00\u001b[0m\n",
            "\u001b[?25h"
          ]
        }
      ],
      "source": [
        "!pip -q install optuna"
      ]
    },
    {
      "cell_type": "code",
      "execution_count": null,
      "metadata": {
        "id": "GwMp-CneuQej"
      },
      "outputs": [],
      "source": [
        "import optuna\n",
        "from keras.optimizers import RMSprop\n",
        "from keras.callbacks import Callback\n",
        "from keras.metrics import Precision, Recall, Accuracy\n",
        "import tensorflow as tf\n",
        "\n",
        "# Custom callback to print progress every 5 epochs\n",
        "class PrintProgress(Callback):\n",
        "    def on_epoch_end(self, epoch, logs=None):\n",
        "        if (epoch + 1) % 5 == 0:\n",
        "            print(f\"Epoch {epoch + 1}: loss = {logs['loss']}, val_loss = {logs['val_loss']}\")\n",
        "\n",
        "# Custom metric for F1 score\n",
        "class F1Score(tf.keras.metrics.Metric):\n",
        "    def __init__(self, name='f1_score', **kwargs):\n",
        "        super(F1Score, self).__init__(name=name, **kwargs)\n",
        "        self.precision = Precision()\n",
        "        self.recall = Recall()\n",
        "\n",
        "    def update_state(self, y_true, y_pred, sample_weight=None):\n",
        "        y_true = tf.argmax(y_true, axis=-1)\n",
        "        y_pred = tf.argmax(y_pred, axis=-1)\n",
        "        self.precision.update_state(y_true, y_pred, sample_weight)\n",
        "        self.recall.update_state(y_true, y_pred, sample_weight)\n",
        "\n",
        "    def result(self):\n",
        "        precision = self.precision.result()\n",
        "        recall = self.recall.result()\n",
        "        return 2 * ((precision * recall) / (precision + recall + tf.keras.backend.epsilon()))\n",
        "\n",
        "    def reset_states(self):\n",
        "        self.precision.reset_states()\n",
        "        self.recall.reset_states()\n",
        "\n",
        "# Define the objective function for Optuna\n",
        "def objective(trial):\n",
        "    # Suggest hyperparameters\n",
        "    learning_rate = trial.suggest_float('learning_rate', 1e-5, 1e-1, log=True)\n",
        "    num_layers = trial.suggest_int('num_layers', 1, 5)\n",
        "    encoding_dims = [trial.suggest_int(f'n_units_l{i}', 8, 512) for i in range(num_layers)]\n",
        "\n",
        "    # Create the autoencoder model\n",
        "    autoencoder = create_autoencoder(input_dim, encoding_dims)\n",
        "\n",
        "    # Initialize the RMSProp optimizer with the suggested learning rate\n",
        "    rmsprop_optimizer = RMSprop(learning_rate=learning_rate)\n",
        "\n",
        "    # Compile the autoencoder with the custom optimizer and additional metrics\n",
        "    autoencoder.compile(optimizer=rmsprop_optimizer, loss='mse', metrics=[F1Score(), Precision(), Recall(), Accuracy()])\n",
        "\n",
        "    # Train the autoencoder with the custom progress callback\n",
        "    history = autoencoder.fit(data, data, epochs=50, batch_size=32, validation_split=0.2, callbacks=[PrintProgress()], verbose=0)\n",
        "\n",
        "    # Return the validation loss as the objective value\n",
        "    return history.history['val_loss'][-1]\n",
        "\n",
        "# Create an Optuna study and optimize the objective function\n",
        "study = optuna.create_study(direction='minimize')\n",
        "study.optimize(objective, n_trials=50)\n",
        "\n",
        "# Print the best hyperparameters\n",
        "print('Best hyperparameters: ', study.best_params)"
      ]
    },
    {
      "cell_type": "markdown",
      "metadata": {
        "id": "GnaMCX24mpNU"
      },
      "source": [
        "### Check Predictions"
      ]
    },
    {
      "cell_type": "code",
      "execution_count": null,
      "metadata": {
        "id": "o6HaHqFImonQ"
      },
      "outputs": [],
      "source": []
    }
  ],
  "metadata": {
    "accelerator": "GPU",
    "colab": {
      "gpuType": "T4",
      "provenance": []
    },
    "kernelspec": {
      "display_name": "Python 3",
      "name": "python3"
    },
    "language_info": {
      "name": "python"
    }
  },
  "nbformat": 4,
  "nbformat_minor": 0
}