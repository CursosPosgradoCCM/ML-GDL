{
 "cells": [
  {
   "cell_type": "markdown",
   "id": "faddc8b5-32e8-4c01-95c6-b7e9188f2cb0",
   "metadata": {},
   "source": [
    "# Redes Neuronales Convolucionales (CNN by Convolutional Neural Networks)\n",
    "\n",
    "Las CNN fueron introducidas por Yann LeCun a finales de la década de 1980. LeCun y sus colegas desarrollaron la primera CNN, conocida como [LeNet-5](https://www.educative.io/blog/lenet-5#Layers-in-LeNet-architecture), su misión era revolucionar el reconocimiento de caracteres escritos a mano, especialmente en la banca, donde el procesamiento de cheques era una tarea laboriosa. Gracias a LeNet-5, la precisión de la lectura de la escritura a mano aumentó y el número de errores disminuyó. Este gran cambio tuvo un gran impacto en el funcionamiento de los bancos, y los cambió para siempre. La versatilidad de LeNet-5 se extendió a todas las industrias, automatizando tareas desde el reconocimiento de direcciones hasta la digitalización de documentos.\n",
    "\n",
    "<img src=\"images/CNN/yann_pic.jpeg\" alt=\"Yann LeCun\" width=\"250\">\n",
    "\n",
    "El trabajo de LeCun y su equipo innovó el procesamiento de imágenes con la introducción de capas **convolucionales**, capas de **agrupamiento** (pooling) y la **arquitectura jerárquica** de las CNN. Su labor pionera sentó las bases para los sistemas modernos de aprendizaje profundo y reconocimiento de imágenes."
   ]
  },
  {
   "cell_type": "markdown",
   "id": "7b0bae6b-1705-418d-a69f-07caa324abed",
   "metadata": {},
   "source": [
    "## 1. Conceptos básicos (Repaso)\n",
    "\n",
    "### 1.1 Neuronas y capas\n",
    "\n",
    "#### 1.1.1 Neurona\n",
    "Es la unidad básica que recibe entradas, procesa esas entradas y produce una salida. Cada neurona tiene varios componentes:\n",
    "\n",
    "* Entradas: Las neuronas reciben información a través de sus entradas, que pueden ser características de los datos (por ejemplo, píxeles de una imagen o características numéricas en un conjunto de datos).\n",
    "\n",
    "* Pesos: Cada entrada está asociada a un peso, que determina la importancia de esa entrada en la decisión final de la neurona. Un peso alto significa que la entrada tiene una influencia significativa en la salida.\n",
    "\n",
    "* Función de activación: Una vez que se suman todas las entradas ponderadas (con sus respectivos pesos), se aplica una función de activación a la suma. Esta función introduce no linealidad en el modelo y ayuda a la red a aprender relaciones complejas. Algunas funciones de activación comunes son:\n",
    "\n",
    "    * Sigmoide: Produce una salida entre 0 y 1, útil para problemas de clasificación binaria.\n",
    "    * Tanh: Produce una salida entre -1 y 1, centrada en cero.\n",
    "    * ReLU (Rectified Linear Unit): Produce cero para entradas negativas y pasa la entrada sin cambios para entradas positivas, lo que ayuda a evitar el problema del desvanecimiento del gradiente.\n",
    "\n",
    "* Salida: La salida de la neurona es el resultado de aplicar la función de activación a la suma ponderada de las entradas.\n",
    "\n",
    "#### 1.1.2 Capas\n",
    "Las neuronas se organizan en capas dentro de la red neuronal. Las capas comunes son:\n",
    "\n",
    "* Capa de entrada: La primera capa de la red, que recibe los datos de entrada. Cada neurona en esta capa representa una característica de los datos de entrada.\n",
    "\n",
    "* Capas ocultas: Capas intermedias entre la entrada y la salida. Estas capas permiten a la red aprender representaciones complejas de los datos. Cada neurona en una capa oculta toma entradas de la capa anterior y produce salidas para la siguiente capa.\n",
    "\n",
    "* Capa de salida: La última capa de la red, que produce las predicciones finales. En problemas de clasificación, el número de neuronas en esta capa es igual al número de clases posibles.\n",
    "\n",
    "\n",
    "<img src=\"images/CNN/perceptron.png\" alt=\"Conceptos básicos\" width=\"500\">\n",
    "\n",
    "\n",
    "### 1.2 Red de alimentación hacia adelante (feedforward)\n",
    "En una red de alimentación hacia adelante (feedforward), la información fluye en una única dirección: desde la capa de entrada, a través de las capas ocultas, hasta la capa de salida. Este proceso implica los siguientes pasos:\n",
    "\n",
    "* Entrada de datos: Los datos de entrada se presentan a la capa de entrada.\n",
    "\n",
    "* Cálculo en capas ocultas: Las entradas se pasan a las neuronas en la primera capa oculta. Cada neurona calcula su salida mediante la suma ponderada de sus entradas y la aplicación de la función de activación. Esta salida se envía a las neuronas de la siguiente capa.\n",
    "\n",
    "* Repetición: Este proceso se repite a través de todas las capas ocultas. Cada capa procesa la información y la pasa a la siguiente capa.\n",
    "\n",
    "* Capa de salida: Finalmente, la capa de salida produce la predicción final de la red. Dependiendo del problema, se puede aplicar una función de activación específica en esta capa (por ejemplo, softmax para clasificación múltiple).\n",
    "\n",
    "\n",
    "\n",
    "\n",
    "\n",
    "### 1.3 Pesos y sesgos\n",
    "Los pesos y sesgos son los parámetros ajustables de la red que determinan cómo la red mapea las entradas a las salidas.\n",
    "\n",
    "#### 1.3.1 Pesos\n",
    "Cada conexión entre neuronas tiene un peso asociado. Los pesos se inicializan aleatoriamente al comienzo del entrenamiento y se ajustan durante el proceso de aprendizaje. Un peso positivo indica que la entrada aumenta la activación de la neurona, mientras que un peso negativo indica lo contrario.\n",
    "\n",
    "#### 1.3.2 Sesgos\n",
    "Cada neurona también tiene un sesgo, que es un valor adicional que se suma a la entrada ponderada antes de aplicar la función de activación. El sesgo permite a la red hacer ajustes en la salida independientemente de las entradas, lo que es útil para mejorar el rendimiento del modelo.\n",
    "\n",
    "### 1.4 Retropropagación\n",
    "La retropropagación es el algoritmo utilizado para ajustar los pesos y sesgos de la red. Funciona de la siguiente manera:\n",
    "\n",
    "* Cálculo de la pérdida: Después de realizar la predicción, se calcula la pérdida utilizando una función de pérdida que mide la discrepancia entre las predicciones de la red y las etiquetas verdaderas. Por ejemplo, en clasificación, se puede usar la pérdida de entropía cruzada.\n",
    "\n",
    "* Cálculo de los gradientes: Se calcula el gradiente de la función de pérdida con respecto a los pesos y sesgos de la red. Esto se hace utilizando la regla de la cadena, que permite calcular cómo cambios pequeños en los pesos y sesgos afectan la pérdida total.\n",
    "\n",
    "* Actualización de parámetros: Los pesos y sesgos se actualizan utilizando una técnica de optimización, como el Descenso por Gradiente ($w_{\\text{nuevo}} = w_{\\text{viejo}} - \\alpha \\cdot \\frac{\\partial L}{\\partial w}$ donde $w$ es el peso, $\\alpha$ es la tasa de aprendizaje y $L$ es la función de pérdida).\n",
    "\n",
    "* Repetición: Este proceso se repite para cada ejemplo en el conjunto de datos, y se realizan múltiples iteraciones (épocas) para permitir que la red aprenda patrones en los datos."
   ]
  },
  {
   "cell_type": "markdown",
   "id": "84060d14-4d16-4d20-9600-fb265f88ff00",
   "metadata": {},
   "source": [
    "## 2. El problema del reconocimiento de imágenes\n",
    "\n",
    "### 2.1 Motivación para la creación de las CNNs\n",
    "\n",
    "El reconocimiento de imágenes plantea varios desafíos para las redes neuronales tradicionales (totalmente conectadas), entre los que destacan la alta dimensionalidad de las imágenes y la necesidad de invarianza ante traslaciones. Estos problemas llevaron a la creación de las redes neuronales convolucionales (CNNs), que abordan estas limitaciones de manera eficiente.\n",
    "\n",
    "#### 1. Alta Dimensionalidad de las Imágenes\n",
    "   \n",
    "Una imagen digital es una matriz de píxeles. Una imagen a color típica de tamaño modesto (por ejemplo, 128x128 píxeles) contiene 16,384 píxeles por canal de color, y para imágenes RGB hay tres canales (rojo, verde y azul). Esto lleva a un total de 49,152 entradas en la red neuronal.\n",
    "\n",
    "En una red totalmente conectada (fully connected), cada neurona de una capa está conectada a todas las neuronas de la capa anterior. Este esquema presenta problemas cuando las imágenes de alta resolución son las entradas. Por ejemplo, si usamos una red neuronal tradicional para una imagen de 128x128 píxeles, el número de conexiones (pesos) sería inmanejable:\n",
    "\n",
    "* Número de parámetros: Si tenemos solo una capa oculta con 1,000 neuronas y la imagen tiene 128x128 píxeles en 3 canales, tendríamos 49,152 entradas conectadas a 1,000 neuronas, lo que implica 49,152,000 pesos solo para una capa oculta. Este número aumenta drásticamente con más capas o con imágenes de mayor resolución, lo que hace la red extremadamente difícil de entrenar y propensa al sobreajuste.\n",
    "\n",
    "Esto significa que una red totalmente conectada:\n",
    "\n",
    "* Es computacionalmente muy costosa debido al gran número de parámetros.\n",
    "* Requiere enormes cantidades de memoria y potencia de procesamiento.\n",
    "* Tiene un alto riesgo de sobreajuste, ya que con tantos parámetros es fácil que la red memorice los datos en lugar de generalizar patrones.\n",
    " \n",
    "Para una imagen muy pequeña (32x32), una red neuronal totalmente conectada ya requiere más de 130,000 parámetros. En comparación, una CNN utiliza filtros pequeños que comparten pesos a lo largo de la imagen, lo que reduce drásticamente la cantidad de parámetros y permite que la red sea mucho más eficiente.\n",
    "\n",
    "\n",
    "#### 2. Necesidad de Invarianza ante Traslaciones (Translation Invariance)\n",
    "\n",
    "<img src=\"images/CNN/invarianza_tra.png\" alt=\"Translation Invariance\" width=\"250\">\n",
    "\n",
    "Otro desafío importante al procesar imágenes es que los objetos pueden aparecer en diferentes posiciones dentro de la imagen. En una red totalmente conectada, cada neurona está conectada a un píxel específico de la imagen. Esto significa que si un objeto cambia de posición en la imagen, la red no reconocerá el objeto correctamente.\n",
    "\n",
    "Por ejemplo, si un gato aparece en la esquina superior izquierda de una imagen durante el entrenamiento y luego en la esquina inferior derecha durante la prueba, una red neuronal totalmente conectada no podría reconocer que es el mismo objeto, porque la estructura de conexiones depende de la posición exacta de cada píxel.\n",
    "\n",
    "En el mundo real, necesitamos que las redes sean invariantes a traslaciones, es decir, que puedan reconocer objetos independientemente de dónde aparezcan en la imagen. Las CNNs logran esto al aprender filtros locales que pueden detectar características en cualquier lugar de la imagen."
   ]
  },
  {
   "cell_type": "markdown",
   "id": "68edea4d-7c3b-4fd9-9398-16ce50c57683",
   "metadata": {},
   "source": [
    "## 3. Arquitectura de las Redes Neuronales Convolucionales (CNNs)\n",
    "\n",
    "### 3.1 Capa convolucional:\n",
    "#### 3.1.1 ¿Qué es la Convolución?\n",
    "La convolución es el núcleo de las CNNs. Es una operación matemática que consiste en aplicar un filtro (o kernel) sobre una imagen para extraer características relevantes, como bordes, texturas o formas. \n",
    "En una CNN, este filtro es una matriz pequeña (por ejemplo, 3x3, 5x5 o 7x7) que se desliza sobre la imagen de entrada. En cada posición, el filtro calcula un valor basado en la multiplicación de sus pesos con los valores de los píxeles en la imagen. Este valor se almacena en una nueva representación matricial, llamada mapa de características.\n",
    "\n",
    "Formalmente, para una imagen de entrada $I(x,y)$ y un filtro $F(x,y)$, la convolución se define como:\n",
    "\n",
    "$(I * F)(x, y) = \\sum_{i=-k}^{k} \\sum_{j=-k}^{k} I(x+i, y+j) \\cdot F(i, j)$\n",
    "\n",
    "donde:\n",
    "\n",
    "* $(x,y)$ es la coordenada en la imagen donde se está aplicando el filtro.\n",
    "* $I(x+i,y+j)$ es el valor del píxel en la imagen en la posición desplazada por $i$ y $j$.\n",
    "* $F(i,j)$ es el valor del filtro o kernel en la posición $(i,j)$.\n",
    "* $2k+1$ es el tamaño del filtro (por ejemplo, un filtro $3×3$ tiene $k=1$, y se desliza sobre la imagen).\n",
    "\n",
    "Para cada posición $(x,y)$ en la imagen de entrada $I$, el filtro $F$ se alinea con una pequeña región de la imagen (normalmente del mismo tamaño que el filtro) y se realiza un producto punto entre los valores del filtro y los valores de los píxeles en esa región de la imagen. El resultado de la suma de estos productos se asigna a una nueva matriz de salida (conocida como mapa de características).\n",
    "\n",
    "Entonces las entradas del mapa de características se calculan con la formlua siguiente:\n",
    "\n",
    "$S(x,y) = \\sum_{i=1}^{m} \\sum_{j=1}^{n} I(x+i, y+j) \\cdot F(i, j)$\n",
    "\n",
    "Donde el filtro $F$ se aplica a cada punto $I(x,y)$ de la imagen.\n",
    "\n",
    "#### Ejemplo\n",
    "Si tenemos una imagen $I$ de tamaño 5×5 y un filtro $F$ de tamaño 3×3, la operación de convolución implica tomar la matriz 3×3 del filtro y deslizarla sobre la imagen, multiplicando y sumando valores en cada región como se muestra a continuación.\n",
    "\n",
    "$I = \\begin{bmatrix}\n",
    "1 & 1 & 1 & 0 & 0 \\\\\n",
    "0 & 1 & 1 & 1 & 0 \\\\\n",
    "0 & 0 & 1 & 1 & 1 \\\\\n",
    "0 & 0 & 0 & 1 & 1 \\\\\n",
    "0 & 0 & 0 & 0 & 1\n",
    "\\end{bmatrix}$\n",
    "\n",
    "$F = \\begin{bmatrix}\n",
    "1 & 0 & -1 \\\\\n",
    "1 & 0 & -1 \\\\\n",
    "1 & 0 & -1\n",
    "\\end{bmatrix}$\n",
    "\n",
    "En la primera posición de la imagen, el filtro cubre los primeros 3×3 píxeles:\n",
    "$S(1,1)=(1×1)+(1×0)+(1×−1)+(0×1)+(1×0)+(1×−1)+(0×1)+(0×0)+(1×−1)$\n",
    "\n",
    "$S(1,1)=1+0−1+0+0−1+0+0−1=−2$\n",
    "\n",
    "Este valor se coloca en la posición (1,1) de la nueva matriz resultante (mapa de características).\n",
    "Al finalizar el proceso se obtiene el mapa de características de tamaño 3x3 \n",
    "\n",
    "$Mapa\\ de\\ caracteristicas = \\begin{bmatrix}\n",
    "-2 & 1 & 0 \\\\\n",
    "-1 & 1 & 1 \\\\\n",
    "0 & 1 & 2\n",
    "\\end{bmatrix}$\n",
    "\n",
    "\n",
    "#### 3.1.2 Mapas de Características\n",
    "La matriz resultante de aplicar un filtro a una imagen es conocido como **mapa de características** o **feature map**. Cada mapa de características resalta una propiedad específica de la imagen, como bordes horizontales, verticales, texturas, etc. Las primeras capas convolucionales tienden a aprender características básicas, mientras que las capas más profundas aprenden características más complejas, como formas y patrones completos.\n",
    "\n",
    "#### 3.1.3 Desplazamiento del Filtro\n",
    "A medida que el filtro se desliza (o convoluciona) sobre la imagen, se aplican los mismos pesos en cada posición. Esto genera una propiedad importante: compartición de pesos, lo que significa que el filtro aprende a detectar una característica específica en cualquier parte de la imagen, no solo en una ubicación fija.\n",
    "\n",
    "Conceptos adicionales:\n",
    "* Padding: Añadir ceros alrededor de la imagen para controlar el tamaño de salida y mejorar el procesamiento de bordes.\n",
    "* Stride: Define cuántos píxeles el filtro se mueve sobre la imagen, afectando el tamaño del mapa de características resultante.\n",
    "\n",
    "Para que un filtro sea útil en el contexto de las redes neuronales convolucionales (CNNs), debe cumplir con ciertas propiedades que lo hagan eficaz para extraer características de las imágenes. Las propiedades más importantes son las siguientes:\n",
    "\n",
    "1. Tamaño Pequeño\n",
    "Los filtros generalmente son pequeños, como 3×3, 5×5, o 7×7, para capturar patrones locales en la imagen. Un filtro más pequeño reduce la cantidad de parámetros que se deben aprender, lo que hace el entrenamiento más eficiente. Aunque los filtros pequeños no pueden capturar patrones globales de una imagen, las capas sucesivas de la red pueden aprender representaciones más abstractas y complejas.\n",
    "\n",
    "2. Compartición de Pesos (Weight Sharing)\n",
    "El filtro debe poder aplicarse en cualquier parte de la imagen, lo que significa que los mismos pesos se aplican a diferentes regiones de la imagen. Esta propiedad permite a la red aprender características generales, como bordes, texturas y formas, que son relevantes en cualquier parte de la imagen.\n",
    "\n",
    "3. Profundidad (Depth) del Filtro\n",
    "En imágenes en color (RGB), el filtro debe tener una profundidad que coincida con los canales de la imagen. Por ejemplo, si una imagen tiene 3 canales (rojo, verde y azul), el filtro también debe tener una profundidad de 3 para que pueda operar en todos los canales de la imagen simultáneamente. Para una imagen de entrada con forma 32×32×3, el filtro podría tener forma 3×3×3.\n",
    "\n",
    "4. Valores Iniciales Aleatorios (Random Initialization)\n",
    "Los valores del filtro (los pesos) se inicializan de manera aleatoria al principio del entrenamiento, y luego se ajustan durante el proceso de backpropagation (aplicado a cada entrada) a medida que la red aprende a extraer características útiles. Estos valores son números pequeños, y la inicialización correcta es importante para evitar problemas como el desvanecimiento o explosión del gradiente.\n",
    "\n",
    "5. Estructura de la Matriz del Filtro\n",
    "En términos de su estructura interna, los filtros no tienen restricciones específicas en cuanto a los valores individuales de la matriz, pero ciertos tipos de filtros se especializan en detectar características específicas:\n",
    "\n",
    "* Filtros de detección de bordes: Estos filtros tienden a tener valores que resalten los cambios bruscos en la intensidad de la imagen, como los bordes. Ejemplos incluyen los filtros de Sobel o de Laplaciano, que son comunes en procesamiento de imágenes.\n",
    "* Filtros suavizadores: Se utilizan para desenfocar o eliminar el ruido de la imagen, típicamente contienen valores que suavizan las transiciones en la imagen.\n",
    "* Filtros de detección de patrones: Los filtros en capas más profundas tienden a aprender patrones más complejos, como texturas o formas geométricas.\n",
    "\n",
    "6. Invarianza ante Escala y Rotación (Opcional)\n",
    "Aunque las CNNs no son naturalmente invariante a la escala o rotación, en algunos casos se utilizan filtros que tienen estas propiedades. Para tener invarianza a la escala, algunos enfoques implican el uso de redes convolucionales a diferentes resoluciones o tamaños de filtro, pero esto se logra generalmente en el diseño de la arquitectura de la red en lugar de en la definición del filtro en sí.\n",
    "\n",
    "Ejemplo de Filtros Comunes (Sobel):\n",
    "\n",
    "Filtro de detección de bordes horizontal:\n",
    "$Filtro\\ horizontal = \\begin{bmatrix}\n",
    "-1 & 0 & 1 \\\\\n",
    "-2 & 0 & 2 \\\\\n",
    "-1 & 0 & 1\n",
    "\\end{bmatrix}$\n",
    " \n",
    "Filtro de detección de bordes vertical:\n",
    "$Filtro\\ vertical = \\begin{bmatrix}\n",
    "-1 & -2 & -1 \\\\\n",
    "0 & 0 & 0 \\\\\n",
    "1 & 2 & 1\n",
    "\\end{bmatrix}$\n",
    " \n",
    "Los filtros en CNNs son fundamentales para extraer características locales de las imágenes, y para ser eficaces, deben ser pequeños, tener compartición de pesos, tener una profundidad adecuada, y ser diferenciables, entre otras propiedades.\n",
    "\n",
    "# Ejercicio. \n",
    "Calcular las entradas $S(3,2), S(3,3), S(4,2), S(4,3), S(6,1), S(6,2), S(6,3), S(6,4)$ del mapa de características\n",
    "\n",
    "Imagen:\n",
    "\n",
    "<img src=\"images/CNN/smiley_matrix.png\" alt=\"Ejercicio Smiley\" width=\"500\">\n",
    "\n",
    "Filtro de Sobel de detección de bordes horizontal:\n",
    "$F = \\begin{bmatrix}\n",
    "-1 & 0 & 1 \\\\\n",
    "-2 & 0 & 2 \\\\\n",
    "-1 & 0 & 1\n",
    "\\end{bmatrix}$\n",
    "\n",
    "### 3.2 Función de activación:\n",
    "Después de aplicar la convolución, se usa una función de activación no lineal para introducir complejidad en el modelo. La función más común es la ReLU (Rectified Linear Unit), definida como:\n",
    "\n",
    "$f(x) = \\max(0, x)$\n",
    "\n",
    "#### 3.2.1 ¿Por qué usar ReLU?\n",
    "La función ReLU tiene varias ventajas:\n",
    "\n",
    "* No linealidad: Sin la no linealidad de ReLU, la red solo podría aprender relaciones lineales, lo que limitaría su capacidad para modelar patrones complejos.\n",
    "* Eficiencia: ReLU es computacionalmente barata, ya que solo aplica una comparación simple en cada valor.\n",
    "* Prevención de gradientes vanishing: A diferencia de las funciones sigmoide o tangente hiperbólica, ReLU reduce el problema de los gradientes vanishing, permitiendo que los modelos profundos se entrenen de manera más eficiente.\n",
    "\n",
    "### 3.3 Capa de agrupamiento (pooling):\n",
    "La operación de pooling se utiliza para reducir la dimensionalidad de los mapas de características, manteniendo las características más importantes. Esto hace que la red sea más eficiente y robusta frente a pequeñas traslaciones o distorsiones en la imagen de entrada.\n",
    "\n",
    "#### 3.3.1 Max Pooling\n",
    "La técnica más común es el max pooling, donde se toma el valor máximo de un bloque de píxeles. Por ejemplo, si se aplica un max pooling de 2x2, se divide el mapa de características en bloques de 2x2 y se toma el valor más alto de cada bloque.\n",
    "Ejemplo: Si tenemos un bloque de píxeles:\n",
    "\n",
    "$\\begin{bmatrix}\n",
    "1 & 3 \\\\\n",
    "2 & 5\n",
    "\\end{bmatrix}$\n",
    "\n",
    "El resultado del max pooling sería 5, ya que es el valor más alto en el bloque.\n",
    "\n",
    "**Otro ejemplo chiquito de max pooling**\n",
    "\n",
    "<img src=\"images/CNN/pooling.jpeg\" alt=\"Pooling\" width=\"500\">\n",
    "\n",
    "El agrupamiento reduce el tamaño de los mapas de características y hace que la red sea menos sensible a pequeñas traslaciones.\n",
    "\n",
    "#### 3.3.2 Ventajas del Pooling\n",
    "* Reducción de dimensionalidad: Al reducir el tamaño de los mapas de características, se disminuye la cantidad de datos que la red necesita procesar, lo que mejora la eficiencia.\n",
    "* Invarianza a traslaciones: El pooling introduce una tolerancia a pequeños cambios de posición en la imagen. Si un objeto en una imagen cambia ligeramente de lugar, el max pooling aún puede capturar su presencia al mantener las características clave.\n",
    "\n",
    "# Ejercicio. \n",
    "Aplicar el método de max pooling a la submatriz de tamaño $2x2$ obtenida en el ejercicio anterior del mapa de características.\n",
    "\n",
    "### A continuación se ilustran los dos pasos descritos anteriormente (convolución y pooling)\n",
    "\n",
    "<img src=\"images/CNN/Schematic-representation-of-a-convolution-and-pooling-layer-in-a-CNN.png\" alt=\"Pooling\" width=\"500\">\n",
    "\n",
    "### 3.4 Capa totalmente conectada\n",
    "Una vez que la red ha pasado por varias capas convolucionales y de pooling, las características extraídas son pasadas a una o más capas totalmente conectadas (o densas). Estas capas son responsables de la clasificación o regresión final.\n",
    "\n",
    "#### 3.4.1 Salida\n",
    "En la última capa, que suele ser totalmente conectada, se utiliza una función de activación suave, como softmax para problemas de clasificación. Softmax convierte los valores de salida en probabilidades:\n",
    "\n",
    "$\\sigma(z_i) = \\frac{e^{z_i}}{\\sum_{j=1}^{n} e^{z_j}}$\n",
    "\n",
    "Donde $z_i$  es la salida de la $i$-ésima neurona, y la suma de las probabilidades para todas las clases es igual a 1.\n"
   ]
  },
  {
   "cell_type": "markdown",
   "id": "4cb5d538-f709-4d95-9979-465a5da09e70",
   "metadata": {},
   "source": [
    "### En resumen\n",
    "\n",
    "1. Imagen de Entrada: La imagen entra a la red como una matriz de píxeles (por ejemplo, 32x32x3 para imágenes RGB).\n",
    "2. Capas Convolucionales: Se aplican varios filtros (por ejemplo, 3x3) que crean mapas de características. Cada capa convolucional extrae características cada vez más abstractas de la imagen.\n",
    "3. Función ReLU: Después de cada convolución, se aplica ReLU para introducir no linealidad y mejorar la capacidad de aprendizaje.\n",
    "4. Pooling: Después de la convolución, se aplica pooling (como max pooling) para reducir la dimensionalidad de los mapas de características.\n",
    "5. Capa Totalmente Conectada: Después de varias capas convolucionales y de pooling, las características extraídas se aplanan y se pasan a capas totalmente conectadas.\n",
    "6. Salida: La última capa de la red hace la predicción final (por ejemplo, clasificar la imagen en una de varias categorías).\n",
    "\n",
    "<img src=\"images/CNN/Le_Net.png\" alt=\"Pooling\" width=\"800\">"
   ]
  },
  {
   "cell_type": "markdown",
   "id": "bed3978f-1aff-406b-b4a1-50b92d23cc04",
   "metadata": {},
   "source": [
    "# Ejemplo de una CNN sencilla"
   ]
  },
  {
   "cell_type": "code",
   "execution_count": 28,
   "id": "34dc0602-ec0c-4823-b893-8d2dfd09bff6",
   "metadata": {},
   "outputs": [
    {
     "name": "stdout",
     "output_type": "stream",
     "text": [
      "Epoch 1/5 complete.\n",
      "Epoch 2/5 complete.\n",
      "Epoch 3/5 complete.\n",
      "Epoch 4/5 complete.\n",
      "Epoch 5/5 complete.\n",
      "Predicción de la clase: 3\n"
     ]
    }
   ],
   "source": [
    "# Definición de una red neuronal convolucional sencilla\n",
    "\n",
    "import numpy as np\n",
    "\n",
    "class SimpleCNN:\n",
    "    def __init__(self, input_shape, num_classes, filter_size, num_filters, pool_size):\n",
    "        # Inicializamos la estructura de la CNN\n",
    "        self.input_shape = input_shape  # Dimensiones de entrada (altura, ancho, canales)\n",
    "        self.num_classes = num_classes  # Número de clases de salida\n",
    "        self.filter_size = filter_size    # Tamaño del filtro (por ejemplo 3x3x1)\n",
    "        self.num_filters = num_filters     # Número de filtros\n",
    "        self.pool_size = pool_size         # Tamaño de la ventana de pooling\n",
    "\n",
    "        # Inicializamos los filtros de la capa convolucional\n",
    "        \"\"\"\n",
    "        num_filters: Número de filtros de la capa convolucional.\n",
    "        filter_size: Tamaño de cada filtro (asumido cuadrado en este caso).\n",
    "        input_shape[2]: Número de canales de entrada. Imágenes en escala de grises será 1; imágenes RGB, será 3.\n",
    "        \"\"\"\n",
    "        self.filters = np.random.randn(num_filters, filter_size, filter_size, input_shape[2]) * 0.1\n",
    "\n",
    "        # Calculamos el tamaño de la salida después de la convolución y pooling\n",
    "        \"\"\"\n",
    "        input_shape[0]: Altura de la imagen (en píxeles).\n",
    "        input_shape[1]: Ancho de la imagen (en píxeles).\n",
    "        pool_size: Determina cuántos píxeles se agrupan juntos.\n",
    "        num_filters: Número de filtros de la capa.\n",
    "        \"\"\"\n",
    "        conv_output_size = (input_shape[0] - filter_size + 1) // pool_size * (input_shape[1] - filter_size + 1) // pool_size * num_filters\n",
    "        # Inicializamos los pesos de la capa totalmente conectada\n",
    "        self.fc_weights = np.random.randn(conv_output_size, num_classes) * 0.1 # Se inicializan aleatoriamente\n",
    "\n",
    "    def conv_layer(self, input): # Capa convolucional\n",
    "        # Aplicamos la operación de convolución\n",
    "        self.last_input = input\n",
    "        filter_height, filter_width = self.filter_size, self.filter_size\n",
    "        output_height = input.shape[0] - filter_height + 1\n",
    "        output_width = input.shape[1] - filter_width + 1\n",
    "        output = np.zeros((output_height, output_width, self.num_filters))\n",
    "        \n",
    "        for f in range(self.num_filters):\n",
    "            for i in range(output_height):\n",
    "                for j in range(output_width):\n",
    "                    region = input[i:i + filter_height, j:j + filter_width]\n",
    "                    output[i, j, f] = np.sum(region * self.filters[f])\n",
    "        \n",
    "        return output\n",
    "\n",
    "    def relu(self, input):\n",
    "        # Aplicamos la función de activación ReLU\n",
    "        return np.maximum(0, input)\n",
    "\n",
    "    def pooling(self, input):\n",
    "        # Aplicamos la operación de pooling (max pooling)\n",
    "        pool_height, pool_width = self.pool_size, self.pool_size\n",
    "        output_height = input.shape[0] // pool_height\n",
    "        output_width = input.shape[1] // pool_width\n",
    "        output = np.zeros((output_height, output_width, input.shape[2]))\n",
    "\n",
    "        for f in range(input.shape[2]):\n",
    "            for i in range(output_height):\n",
    "                for j in range(output_width):\n",
    "                    region = input[i*pool_height:(i+1)*pool_height, j*pool_width:(j+1)*pool_width, f]\n",
    "                    output[i, j, f] = np.max(region)\n",
    "        \n",
    "        return output\n",
    "\n",
    "    def flatten(self, input):\n",
    "        # Aplanamos la salida para pasar a la capa totalmente conectada\n",
    "        return input.flatten()\n",
    "\n",
    "    def fc_layer(self, input):\n",
    "        # Aplicamos la capa totalmente conectada\n",
    "        return np.dot(input, self.fc_weights)\n",
    "\n",
    "    def softmax(self, input):\n",
    "        # Aplicamos la función softmax para obtener probabilidades\n",
    "        exp_values = np.exp(input - np.max(input))  # Evita desbordamiento\n",
    "        return exp_values / exp_values.sum(axis=0)\n",
    "\n",
    "    def forward(self, input):\n",
    "        # Pasamos los datos a través de la red\n",
    "        conv_output = self.conv_layer(input)\n",
    "        relu_output = self.relu(conv_output)\n",
    "        pooled_output = self.pooling(relu_output)\n",
    "        flattened_output = self.flatten(pooled_output)\n",
    "        fc_output = self.fc_layer(flattened_output)\n",
    "        probabilities = self.softmax(fc_output)\n",
    "        return probabilities\n",
    "\n",
    "    def fit(self, X_train, y_train, epochs=10, lr=0.01):\n",
    "        # Método de entrenamiento (simplificado, sin backpropagation)\n",
    "        for epoch in range(epochs):\n",
    "            for x, y in zip(X_train, y_train):\n",
    "                # Realizamos una pasada hacia adelante\n",
    "                probabilities = self.forward(x)\n",
    "                # Aquí debería ir el código para la retropropagación\n",
    "                # Pero lo dejamos simplificado en este ejemplo\n",
    "                # Se calcularían los gradientes y se actualizarían los pesos\n",
    "            print(f'Epoch {epoch + 1}/{epochs} complete.')\n",
    "\n",
    "    def predict(self, x):\n",
    "        # Realizamos la predicción para una entrada\n",
    "        probabilities = self.forward(x)\n",
    "        return np.argmax(probabilities)"
   ]
  },
  {
   "cell_type": "code",
   "execution_count": 29,
   "id": "7527a2d0-04f5-4d16-9f7b-4890c4933f05",
   "metadata": {},
   "outputs": [
    {
     "name": "stdout",
     "output_type": "stream",
     "text": [
      "Epoch 1/5 complete.\n",
      "Epoch 2/5 complete.\n",
      "Epoch 3/5 complete.\n",
      "Epoch 4/5 complete.\n",
      "Epoch 5/5 complete.\n",
      "Predicción de la clase: 3\n"
     ]
    }
   ],
   "source": [
    "# Ejemplo de uso\n",
    "if __name__ == \"__main__\":\n",
    "    # Simulamos una imagen de 28x28 con 1 canal\n",
    "    input_shape = (28, 28, 1)\n",
    "    num_classes = 10\n",
    "    filter_size = 3\n",
    "    num_filters = 8\n",
    "    pool_size = 2\n",
    "\n",
    "    cnn = SimpleCNN(input_shape, num_classes, filter_size, num_filters, pool_size)\n",
    "\n",
    "    # Simulamos 100 imágenes de entrenamiento y sus etiquetas\n",
    "    X_train = np.random.rand(100, 28, 28, 1)\n",
    "    y_train = np.random.randint(0, 10, size=100)\n",
    "\n",
    "    # Entrenamos la CNN\n",
    "    cnn.fit(X_train, y_train, epochs=5, lr=0.001)\n",
    "\n",
    "    # Realizamos una predicción sobre una nueva imagen\n",
    "    test_image = np.random.rand(28, 28, 1)  # Imagen de prueba\n",
    "    predicted_class = cnn.predict(test_image)\n",
    "    print(f'Predicción de la clase: {predicted_class}')\n"
   ]
  },
  {
   "cell_type": "markdown",
   "id": "ec5e8941-0d6f-4d1a-8c2a-e1a0cf8e8887",
   "metadata": {},
   "source": [
    "# LeNet-5"
   ]
  },
  {
   "cell_type": "markdown",
   "id": "d1f7115f-8e95-4041-b85e-a508e8e22bfe",
   "metadata": {},
   "source": [
    "Comenzamos importando las bibliotecas necesarias, como NumPy, Matplotlib para la visualización, scikit-learn para las métricas y TensorFlow para crear y entrenar el modelo de red neuronal."
   ]
  },
  {
   "cell_type": "code",
   "execution_count": 1,
   "id": "b602ecf5-a7bd-4e8a-a5bc-0ef41a11d549",
   "metadata": {},
   "outputs": [
    {
     "name": "stderr",
     "output_type": "stream",
     "text": [
      "2024-10-16 13:48:27.940686: I tensorflow/core/util/port.cc:113] oneDNN custom operations are on. You may see slightly different numerical results due to floating-point round-off errors from different computation orders. To turn them off, set the environment variable `TF_ENABLE_ONEDNN_OPTS=0`.\n",
      "2024-10-16 13:48:27.979645: I tensorflow/core/platform/cpu_feature_guard.cc:210] This TensorFlow binary is optimized to use available CPU instructions in performance-critical operations.\n",
      "To enable the following instructions: AVX2 AVX512F AVX512_VNNI FMA, in other operations, rebuild TensorFlow with the appropriate compiler flags.\n",
      "2024-10-16 13:48:28.614845: W tensorflow/compiler/tf2tensorrt/utils/py_utils.cc:38] TF-TRT Warning: Could not find TensorRT\n"
     ]
    }
   ],
   "source": [
    "import numpy as np\n",
    "import matplotlib.pyplot as plt\n",
    "from sklearn.metrics import confusion_matrix, classification_report\n",
    "from tensorflow.keras import datasets, layers, models\n",
    "from tensorflow.keras.utils import to_categorical"
   ]
  },
  {
   "cell_type": "markdown",
   "id": "06d5eb70-fe12-44c8-b9df-378861cf1a4d",
   "metadata": {},
   "source": [
    "## Carga y preprocesamiento del conjunto de datos MNIST\n",
    "Cargamos el conjunto de datos MNIST (Modified National Institute of Standards and Technology) utilizando el módulo integrado de TensorFlow. El conjunto de datos se divide en conjuntos de entrenamiento, validación y prueba. Preprocesamos los datos remodelándolos en el formato requerido y normalizando los valores de píxel para que estén dentro del rango datasets $[0,1]$.\n",
    "\n",
    "<img src=\"images/CNN/mnist_sample.png\" alt=\"Muestra del dataset mnist\" width=\"500\">"
   ]
  },
  {
   "cell_type": "code",
   "execution_count": 2,
   "id": "867044f5-3272-4081-b3b7-c434eb0252fc",
   "metadata": {},
   "outputs": [
    {
     "name": "stdout",
     "output_type": "stream",
     "text": [
      "Downloading data from https://storage.googleapis.com/tensorflow/tf-keras-datasets/mnist.npz\n",
      "\u001b[1m11490434/11490434\u001b[0m \u001b[32m━━━━━━━━━━━━━━━━━━━━\u001b[0m\u001b[37m\u001b[0m \u001b[1m0s\u001b[0m 0us/step\n"
     ]
    }
   ],
   "source": [
    "# Load and preprocess the MNIST dataset\n",
    "(train_images, train_labels), (test_images, test_labels) = datasets.mnist.load_data()\n",
    "\n",
    "# Split the data into train, validation, and test sets\n",
    "validation_split = 0.1\n",
    "validation_size = int(len(train_images) * validation_split)\n",
    "\n",
    "validation_images = train_images[:validation_size]\n",
    "validation_labels = train_labels[:validation_size]\n",
    "train_images = train_images[validation_size:]\n",
    "train_labels = train_labels[validation_size:]\n",
    "\n",
    "# Further preprocessing\n",
    "train_images = train_images.reshape((len(train_images), 28, 28, 1)).astype('float32') / 255\n",
    "validation_images = validation_images.reshape((len(validation_images), 28, 28, 1)).astype('float32') / 255\n",
    "test_images = test_images.reshape((len(test_images), 28, 28, 1)).astype('float32') / 255\n",
    "\n",
    "train_labels = to_categorical(train_labels)\n",
    "validation_labels = to_categorical(validation_labels)\n",
    "test_labels = to_categorical(test_labels)"
   ]
  },
  {
   "cell_type": "code",
   "execution_count": 8,
   "id": "fc7264ca-aec4-42a3-84c5-a4df01cba0eb",
   "metadata": {
    "scrolled": true
   },
   "outputs": [
    {
     "data": {
      "text/plain": [
       "((54000, 28, 28, 1), (10000, 28, 28, 1))"
      ]
     },
     "execution_count": 8,
     "metadata": {},
     "output_type": "execute_result"
    }
   ],
   "source": [
    "train_images.shape, test_images.shape"
   ]
  },
  {
   "cell_type": "markdown",
   "id": "8bc0f331-e798-4b34-926e-c59decd684ed",
   "metadata": {},
   "source": [
    "## Construyendo el modelo LeNet-5\n",
    "La arquitectura del modelo LeNet-5 se construye utilizando la API Keras de TensorFlow. Consta de capas convolucionales con función de activación ReLU, capas de agrupación máxima (max pooling) y capas totalmente conectadas. El modelo se compila con la función de pérdida (cross-entropy), el optimizador (adam) y la métrica de evaluación adecuados (accuracy)."
   ]
  },
  {
   "cell_type": "code",
   "execution_count": 3,
   "id": "a0429dcf-f5b4-4d78-8cc7-94a1e6c6fd61",
   "metadata": {},
   "outputs": [
    {
     "name": "stderr",
     "output_type": "stream",
     "text": [
      "/opt/conda/envs/umap/lib/python3.9/site-packages/keras/src/layers/convolutional/base_conv.py:107: UserWarning: Do not pass an `input_shape`/`input_dim` argument to a layer. When using Sequential models, prefer using an `Input(shape)` object as the first layer in the model instead.\n",
      "  super().__init__(activity_regularizer=activity_regularizer, **kwargs)\n",
      "2024-10-16 13:49:35.684375: W tensorflow/core/common_runtime/gpu/gpu_device.cc:2251] Cannot dlopen some GPU libraries. Please make sure the missing libraries mentioned above are installed properly if you would like to use GPU. Follow the guide at https://www.tensorflow.org/install/gpu for how to download and setup the required libraries for your platform.\n",
      "Skipping registering GPU devices...\n"
     ]
    },
    {
     "data": {
      "text/html": [
       "<pre style=\"white-space:pre;overflow-x:auto;line-height:normal;font-family:Menlo,'DejaVu Sans Mono',consolas,'Courier New',monospace\"><span style=\"font-weight: bold\">Model: \"sequential\"</span>\n",
       "</pre>\n"
      ],
      "text/plain": [
       "\u001b[1mModel: \"sequential\"\u001b[0m\n"
      ]
     },
     "metadata": {},
     "output_type": "display_data"
    },
    {
     "data": {
      "text/html": [
       "<pre style=\"white-space:pre;overflow-x:auto;line-height:normal;font-family:Menlo,'DejaVu Sans Mono',consolas,'Courier New',monospace\">┏━━━━━━━━━━━━━━━━━━━━━━━━━━━━━━━━━┳━━━━━━━━━━━━━━━━━━━━━━━━┳━━━━━━━━━━━━━━━┓\n",
       "┃<span style=\"font-weight: bold\"> Layer (type)                    </span>┃<span style=\"font-weight: bold\"> Output Shape           </span>┃<span style=\"font-weight: bold\">       Param # </span>┃\n",
       "┡━━━━━━━━━━━━━━━━━━━━━━━━━━━━━━━━━╇━━━━━━━━━━━━━━━━━━━━━━━━╇━━━━━━━━━━━━━━━┩\n",
       "│ conv2d (<span style=\"color: #0087ff; text-decoration-color: #0087ff\">Conv2D</span>)                 │ (<span style=\"color: #00d7ff; text-decoration-color: #00d7ff\">None</span>, <span style=\"color: #00af00; text-decoration-color: #00af00\">24</span>, <span style=\"color: #00af00; text-decoration-color: #00af00\">24</span>, <span style=\"color: #00af00; text-decoration-color: #00af00\">6</span>)      │           <span style=\"color: #00af00; text-decoration-color: #00af00\">156</span> │\n",
       "├─────────────────────────────────┼────────────────────────┼───────────────┤\n",
       "│ max_pooling2d (<span style=\"color: #0087ff; text-decoration-color: #0087ff\">MaxPooling2D</span>)    │ (<span style=\"color: #00d7ff; text-decoration-color: #00d7ff\">None</span>, <span style=\"color: #00af00; text-decoration-color: #00af00\">12</span>, <span style=\"color: #00af00; text-decoration-color: #00af00\">12</span>, <span style=\"color: #00af00; text-decoration-color: #00af00\">6</span>)      │             <span style=\"color: #00af00; text-decoration-color: #00af00\">0</span> │\n",
       "├─────────────────────────────────┼────────────────────────┼───────────────┤\n",
       "│ conv2d_1 (<span style=\"color: #0087ff; text-decoration-color: #0087ff\">Conv2D</span>)               │ (<span style=\"color: #00d7ff; text-decoration-color: #00d7ff\">None</span>, <span style=\"color: #00af00; text-decoration-color: #00af00\">8</span>, <span style=\"color: #00af00; text-decoration-color: #00af00\">8</span>, <span style=\"color: #00af00; text-decoration-color: #00af00\">16</span>)       │         <span style=\"color: #00af00; text-decoration-color: #00af00\">2,416</span> │\n",
       "├─────────────────────────────────┼────────────────────────┼───────────────┤\n",
       "│ max_pooling2d_1 (<span style=\"color: #0087ff; text-decoration-color: #0087ff\">MaxPooling2D</span>)  │ (<span style=\"color: #00d7ff; text-decoration-color: #00d7ff\">None</span>, <span style=\"color: #00af00; text-decoration-color: #00af00\">4</span>, <span style=\"color: #00af00; text-decoration-color: #00af00\">4</span>, <span style=\"color: #00af00; text-decoration-color: #00af00\">16</span>)       │             <span style=\"color: #00af00; text-decoration-color: #00af00\">0</span> │\n",
       "├─────────────────────────────────┼────────────────────────┼───────────────┤\n",
       "│ flatten (<span style=\"color: #0087ff; text-decoration-color: #0087ff\">Flatten</span>)               │ (<span style=\"color: #00d7ff; text-decoration-color: #00d7ff\">None</span>, <span style=\"color: #00af00; text-decoration-color: #00af00\">256</span>)            │             <span style=\"color: #00af00; text-decoration-color: #00af00\">0</span> │\n",
       "├─────────────────────────────────┼────────────────────────┼───────────────┤\n",
       "│ dense (<span style=\"color: #0087ff; text-decoration-color: #0087ff\">Dense</span>)                   │ (<span style=\"color: #00d7ff; text-decoration-color: #00d7ff\">None</span>, <span style=\"color: #00af00; text-decoration-color: #00af00\">120</span>)            │        <span style=\"color: #00af00; text-decoration-color: #00af00\">30,840</span> │\n",
       "├─────────────────────────────────┼────────────────────────┼───────────────┤\n",
       "│ dense_1 (<span style=\"color: #0087ff; text-decoration-color: #0087ff\">Dense</span>)                 │ (<span style=\"color: #00d7ff; text-decoration-color: #00d7ff\">None</span>, <span style=\"color: #00af00; text-decoration-color: #00af00\">84</span>)             │        <span style=\"color: #00af00; text-decoration-color: #00af00\">10,164</span> │\n",
       "├─────────────────────────────────┼────────────────────────┼───────────────┤\n",
       "│ dense_2 (<span style=\"color: #0087ff; text-decoration-color: #0087ff\">Dense</span>)                 │ (<span style=\"color: #00d7ff; text-decoration-color: #00d7ff\">None</span>, <span style=\"color: #00af00; text-decoration-color: #00af00\">10</span>)             │           <span style=\"color: #00af00; text-decoration-color: #00af00\">850</span> │\n",
       "└─────────────────────────────────┴────────────────────────┴───────────────┘\n",
       "</pre>\n"
      ],
      "text/plain": [
       "┏━━━━━━━━━━━━━━━━━━━━━━━━━━━━━━━━━┳━━━━━━━━━━━━━━━━━━━━━━━━┳━━━━━━━━━━━━━━━┓\n",
       "┃\u001b[1m \u001b[0m\u001b[1mLayer (type)                   \u001b[0m\u001b[1m \u001b[0m┃\u001b[1m \u001b[0m\u001b[1mOutput Shape          \u001b[0m\u001b[1m \u001b[0m┃\u001b[1m \u001b[0m\u001b[1m      Param #\u001b[0m\u001b[1m \u001b[0m┃\n",
       "┡━━━━━━━━━━━━━━━━━━━━━━━━━━━━━━━━━╇━━━━━━━━━━━━━━━━━━━━━━━━╇━━━━━━━━━━━━━━━┩\n",
       "│ conv2d (\u001b[38;5;33mConv2D\u001b[0m)                 │ (\u001b[38;5;45mNone\u001b[0m, \u001b[38;5;34m24\u001b[0m, \u001b[38;5;34m24\u001b[0m, \u001b[38;5;34m6\u001b[0m)      │           \u001b[38;5;34m156\u001b[0m │\n",
       "├─────────────────────────────────┼────────────────────────┼───────────────┤\n",
       "│ max_pooling2d (\u001b[38;5;33mMaxPooling2D\u001b[0m)    │ (\u001b[38;5;45mNone\u001b[0m, \u001b[38;5;34m12\u001b[0m, \u001b[38;5;34m12\u001b[0m, \u001b[38;5;34m6\u001b[0m)      │             \u001b[38;5;34m0\u001b[0m │\n",
       "├─────────────────────────────────┼────────────────────────┼───────────────┤\n",
       "│ conv2d_1 (\u001b[38;5;33mConv2D\u001b[0m)               │ (\u001b[38;5;45mNone\u001b[0m, \u001b[38;5;34m8\u001b[0m, \u001b[38;5;34m8\u001b[0m, \u001b[38;5;34m16\u001b[0m)       │         \u001b[38;5;34m2,416\u001b[0m │\n",
       "├─────────────────────────────────┼────────────────────────┼───────────────┤\n",
       "│ max_pooling2d_1 (\u001b[38;5;33mMaxPooling2D\u001b[0m)  │ (\u001b[38;5;45mNone\u001b[0m, \u001b[38;5;34m4\u001b[0m, \u001b[38;5;34m4\u001b[0m, \u001b[38;5;34m16\u001b[0m)       │             \u001b[38;5;34m0\u001b[0m │\n",
       "├─────────────────────────────────┼────────────────────────┼───────────────┤\n",
       "│ flatten (\u001b[38;5;33mFlatten\u001b[0m)               │ (\u001b[38;5;45mNone\u001b[0m, \u001b[38;5;34m256\u001b[0m)            │             \u001b[38;5;34m0\u001b[0m │\n",
       "├─────────────────────────────────┼────────────────────────┼───────────────┤\n",
       "│ dense (\u001b[38;5;33mDense\u001b[0m)                   │ (\u001b[38;5;45mNone\u001b[0m, \u001b[38;5;34m120\u001b[0m)            │        \u001b[38;5;34m30,840\u001b[0m │\n",
       "├─────────────────────────────────┼────────────────────────┼───────────────┤\n",
       "│ dense_1 (\u001b[38;5;33mDense\u001b[0m)                 │ (\u001b[38;5;45mNone\u001b[0m, \u001b[38;5;34m84\u001b[0m)             │        \u001b[38;5;34m10,164\u001b[0m │\n",
       "├─────────────────────────────────┼────────────────────────┼───────────────┤\n",
       "│ dense_2 (\u001b[38;5;33mDense\u001b[0m)                 │ (\u001b[38;5;45mNone\u001b[0m, \u001b[38;5;34m10\u001b[0m)             │           \u001b[38;5;34m850\u001b[0m │\n",
       "└─────────────────────────────────┴────────────────────────┴───────────────┘\n"
      ]
     },
     "metadata": {},
     "output_type": "display_data"
    },
    {
     "data": {
      "text/html": [
       "<pre style=\"white-space:pre;overflow-x:auto;line-height:normal;font-family:Menlo,'DejaVu Sans Mono',consolas,'Courier New',monospace\"><span style=\"font-weight: bold\"> Total params: </span><span style=\"color: #00af00; text-decoration-color: #00af00\">44,426</span> (173.54 KB)\n",
       "</pre>\n"
      ],
      "text/plain": [
       "\u001b[1m Total params: \u001b[0m\u001b[38;5;34m44,426\u001b[0m (173.54 KB)\n"
      ]
     },
     "metadata": {},
     "output_type": "display_data"
    },
    {
     "data": {
      "text/html": [
       "<pre style=\"white-space:pre;overflow-x:auto;line-height:normal;font-family:Menlo,'DejaVu Sans Mono',consolas,'Courier New',monospace\"><span style=\"font-weight: bold\"> Trainable params: </span><span style=\"color: #00af00; text-decoration-color: #00af00\">44,426</span> (173.54 KB)\n",
       "</pre>\n"
      ],
      "text/plain": [
       "\u001b[1m Trainable params: \u001b[0m\u001b[38;5;34m44,426\u001b[0m (173.54 KB)\n"
      ]
     },
     "metadata": {},
     "output_type": "display_data"
    },
    {
     "data": {
      "text/html": [
       "<pre style=\"white-space:pre;overflow-x:auto;line-height:normal;font-family:Menlo,'DejaVu Sans Mono',consolas,'Courier New',monospace\"><span style=\"font-weight: bold\"> Non-trainable params: </span><span style=\"color: #00af00; text-decoration-color: #00af00\">0</span> (0.00 B)\n",
       "</pre>\n"
      ],
      "text/plain": [
       "\u001b[1m Non-trainable params: \u001b[0m\u001b[38;5;34m0\u001b[0m (0.00 B)\n"
      ]
     },
     "metadata": {},
     "output_type": "display_data"
    }
   ],
   "source": [
    "# Build LeNet-5 model\n",
    "model = models.Sequential()\n",
    "model.add(layers.Conv2D(6, (5, 5), activation='relu', input_shape=(28, 28, 1)))\n",
    "model.add(layers.MaxPooling2D((2, 2)))\n",
    "model.add(layers.Conv2D(16, (5, 5), activation='relu'))\n",
    "model.add(layers.MaxPooling2D((2, 2)))\n",
    "model.add(layers.Flatten())\n",
    "model.add(layers.Dense(120, activation='relu'))\n",
    "model.add(layers.Dense(84, activation='relu'))\n",
    "model.add(layers.Dense(10, activation='softmax'))\n",
    "\n",
    "# Compile the model\n",
    "model.compile(optimizer='adam', loss='categorical_crossentropy', metrics=['accuracy'])\n",
    "\n",
    "# Display model summary\n",
    "model.summary()"
   ]
  },
  {
   "cell_type": "markdown",
   "id": "90e678c1-a84d-4f23-97aa-05246a0dea9a",
   "metadata": {},
   "source": [
    "## Entrenamiento del modelo\n",
    "El modelo construido se entrena utilizando los datos de entrenamiento con una parte reservada para la validación. El proceso de entrenamiento se visualiza trazando la precisión y la pérdida de entrenamiento y validación a lo largo de las épocas."
   ]
  },
  {
   "cell_type": "code",
   "execution_count": 4,
   "id": "cfb42bd0-9663-4fd7-8df7-aae9445eb5ff",
   "metadata": {},
   "outputs": [
    {
     "name": "stdout",
     "output_type": "stream",
     "text": [
      "Epoch 1/10\n",
      "\u001b[1m844/844\u001b[0m \u001b[32m━━━━━━━━━━━━━━━━━━━━\u001b[0m\u001b[37m\u001b[0m \u001b[1m7s\u001b[0m 7ms/step - accuracy: 0.8306 - loss: 0.5473 - val_accuracy: 0.9713 - val_loss: 0.0908\n",
      "Epoch 2/10\n",
      "\u001b[1m844/844\u001b[0m \u001b[32m━━━━━━━━━━━━━━━━━━━━\u001b[0m\u001b[37m\u001b[0m \u001b[1m5s\u001b[0m 6ms/step - accuracy: 0.9725 - loss: 0.0889 - val_accuracy: 0.9738 - val_loss: 0.0833\n",
      "Epoch 3/10\n",
      "\u001b[1m844/844\u001b[0m \u001b[32m━━━━━━━━━━━━━━━━━━━━\u001b[0m\u001b[37m\u001b[0m \u001b[1m5s\u001b[0m 6ms/step - accuracy: 0.9827 - loss: 0.0539 - val_accuracy: 0.9832 - val_loss: 0.0570\n",
      "Epoch 4/10\n",
      "\u001b[1m844/844\u001b[0m \u001b[32m━━━━━━━━━━━━━━━━━━━━\u001b[0m\u001b[37m\u001b[0m \u001b[1m5s\u001b[0m 6ms/step - accuracy: 0.9863 - loss: 0.0435 - val_accuracy: 0.9870 - val_loss: 0.0469\n",
      "Epoch 5/10\n",
      "\u001b[1m844/844\u001b[0m \u001b[32m━━━━━━━━━━━━━━━━━━━━\u001b[0m\u001b[37m\u001b[0m \u001b[1m5s\u001b[0m 6ms/step - accuracy: 0.9884 - loss: 0.0361 - val_accuracy: 0.9875 - val_loss: 0.0447\n",
      "Epoch 6/10\n",
      "\u001b[1m844/844\u001b[0m \u001b[32m━━━━━━━━━━━━━━━━━━━━\u001b[0m\u001b[37m\u001b[0m \u001b[1m5s\u001b[0m 6ms/step - accuracy: 0.9910 - loss: 0.0288 - val_accuracy: 0.9860 - val_loss: 0.0492\n",
      "Epoch 7/10\n",
      "\u001b[1m844/844\u001b[0m \u001b[32m━━━━━━━━━━━━━━━━━━━━\u001b[0m\u001b[37m\u001b[0m \u001b[1m5s\u001b[0m 6ms/step - accuracy: 0.9914 - loss: 0.0241 - val_accuracy: 0.9868 - val_loss: 0.0473\n",
      "Epoch 8/10\n",
      "\u001b[1m844/844\u001b[0m \u001b[32m━━━━━━━━━━━━━━━━━━━━\u001b[0m\u001b[37m\u001b[0m \u001b[1m5s\u001b[0m 6ms/step - accuracy: 0.9929 - loss: 0.0226 - val_accuracy: 0.9863 - val_loss: 0.0514\n",
      "Epoch 9/10\n",
      "\u001b[1m844/844\u001b[0m \u001b[32m━━━━━━━━━━━━━━━━━━━━\u001b[0m\u001b[37m\u001b[0m \u001b[1m5s\u001b[0m 6ms/step - accuracy: 0.9940 - loss: 0.0182 - val_accuracy: 0.9872 - val_loss: 0.0478\n",
      "Epoch 10/10\n",
      "\u001b[1m844/844\u001b[0m \u001b[32m━━━━━━━━━━━━━━━━━━━━\u001b[0m\u001b[37m\u001b[0m \u001b[1m5s\u001b[0m 6ms/step - accuracy: 0.9956 - loss: 0.0143 - val_accuracy: 0.9892 - val_loss: 0.0427\n"
     ]
    },
    {
     "data": {
      "image/png": "[encoded data removed]",
      "text/plain": [
       "<Figure size 1200x800 with 4 Axes>"
      ]
     },
     "metadata": {},
     "output_type": "display_data"
    }
   ],
   "source": [
    "# Train the model with validation data\n",
    "history = model.fit(train_images, train_labels, epochs=10, batch_size=64, validation_data=(validation_images, validation_labels))\n",
    "\n",
    "# Visualize training plot\n",
    "plt.figure(figsize=(12, 8))\n",
    "\n",
    "# Plot training accuracy values\n",
    "plt.subplot(2, 2, 1)\n",
    "plt.plot(history.history['accuracy'])\n",
    "plt.title('Training Accuracy')\n",
    "plt.xlabel('Epoch')\n",
    "plt.ylabel('Accuracy')\n",
    "\n",
    "# Plot training loss values\n",
    "plt.subplot(2, 2, 2)\n",
    "plt.plot(history.history['loss'])\n",
    "plt.title('Training Loss')\n",
    "plt.xlabel('Epoch')\n",
    "plt.ylabel('Loss')\n",
    "\n",
    "# Plot validation accuracy values\n",
    "plt.subplot(2, 2, 3)\n",
    "plt.plot(history.history['val_accuracy'])\n",
    "plt.title('Validation Accuracy')\n",
    "plt.xlabel('Epoch')\n",
    "plt.ylabel('Accuracy')\n",
    "\n",
    "# Plot validation loss values\n",
    "plt.subplot(2, 2, 4)\n",
    "plt.plot(history.history['val_loss'])\n",
    "plt.title('Validation Loss')\n",
    "plt.xlabel('Epoch')\n",
    "plt.ylabel('Loss')\n",
    "\n",
    "plt.tight_layout()\n",
    "plt.show()"
   ]
  },
  {
   "cell_type": "markdown",
   "id": "a8ee0f5c-3cde-4991-baff-0aeef9bc3247",
   "metadata": {},
   "source": [
    "## Probando el modelo\n",
    "El modelo entrenado se evalúa en el conjunto de datos de prueba para evaluar su rendimiento en datos no vistos. Se calculan la precisión y la pérdida de las pruebas, y se genera un informe de clasificación para analizar en detalle el rendimiento del modelo."
   ]
  },
  {
   "cell_type": "code",
   "execution_count": 5,
   "id": "f12a14ec-87bf-4a9f-903b-0edf47b4873d",
   "metadata": {},
   "outputs": [
    {
     "name": "stdout",
     "output_type": "stream",
     "text": [
      "313/313 - 1s - 3ms/step - accuracy: 0.9892 - loss: 0.0333\n",
      "Test Accuracy: 0.9891999959945679\n",
      "Test Loss: 0.03333462029695511\n",
      "\u001b[1m313/313\u001b[0m \u001b[32m━━━━━━━━━━━━━━━━━━━━\u001b[0m\u001b[37m\u001b[0m \u001b[1m1s\u001b[0m 3ms/step\n",
      "Classification Report:\n",
      "               precision    recall  f1-score   support\n",
      "\n",
      "           0       0.99      0.99      0.99       980\n",
      "           1       0.99      0.99      0.99      1135\n",
      "           2       1.00      0.99      0.99      1032\n",
      "           3       0.99      0.99      0.99      1010\n",
      "           4       0.99      0.99      0.99       982\n",
      "           5       0.99      0.99      0.99       892\n",
      "           6       0.99      0.99      0.99       958\n",
      "           7       0.99      1.00      0.99      1028\n",
      "           8       0.98      0.99      0.99       974\n",
      "           9       0.99      0.98      0.98      1009\n",
      "\n",
      "    accuracy                           0.99     10000\n",
      "   macro avg       0.99      0.99      0.99     10000\n",
      "weighted avg       0.99      0.99      0.99     10000\n",
      "\n"
     ]
    }
   ],
   "source": [
    "# Testing the model on test data\n",
    "test_loss, test_accuracy = model.evaluate(test_images, test_labels, verbose=2)\n",
    "\n",
    "print(f\"Test Accuracy: {test_accuracy}\")\n",
    "print(f\"Test Loss: {test_loss}\")\n",
    "\n",
    "# Predicting labels for test images\n",
    "predicted_labels = np.argmax(model.predict(test_images), axis=-1)\n",
    "\n",
    "# Display classification report\n",
    "print(\"Classification Report:\\n\", classification_report(np.argmax(test_labels, axis=-1), predicted_labels))"
   ]
  },
  {
   "cell_type": "markdown",
   "id": "20528089-2046-4059-ac9c-1da172ec9c06",
   "metadata": {},
   "source": [
    "## Conclusión\n",
    "LeNet-5 revolucionó las redes neuronales convolucionales, particularmente en el reconocimiento de dígitos escritos a mano. Su aprendizaje jerárquico de características y su arquitectura eficiente allanaron el camino para las CNN modernas. A través de la implementación paso a paso, mostramos su practicidad en la clasificación de dígitos MNIST, logrando una alta precisión. El legado de LeNet-5 persiste, dando forma al panorama del aprendizaje profundo e impulsando la innovación en inteligencia artificial."
   ]
  },
  {
   "cell_type": "code",
   "execution_count": null,
   "id": "afb83c57-413d-409f-96c3-1469d6af8f03",
   "metadata": {},
   "outputs": [],
   "source": []
  }
 ],
 "metadata": {
  "kernelspec": {
   "display_name": "umap",
   "language": "python",
   "name": "umap"
  },
  "language_info": {
   "codemirror_mode": {
    "name": "ipython",
    "version": 3
   },
   "file_extension": ".py",
   "mimetype": "text/x-python",
   "name": "python",
   "nbconvert_exporter": "python",
   "pygments_lexer": "ipython3",
   "version": "3.9.19"
  }
 },
 "nbformat": 4,
 "nbformat_minor": 5
}
